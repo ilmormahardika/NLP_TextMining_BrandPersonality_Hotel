{
 "cells": [
  {
   "cell_type": "code",
   "execution_count": 1,
   "id": "cd9ae924",
   "metadata": {},
   "outputs": [],
   "source": [
    "import spacy\n",
    "import gensim\n",
    "nlp = spacy.load('en_core_web_sm')\n",
    "from spacy import displacy\n",
    "import pandas as pd\n",
    "from nltk.corpus import wordnet\n",
    "import nltk\n",
    "from nltk.corpus import stopwords\n",
    "import numpy as np"
   ]
  },
  {
   "cell_type": "code",
   "execution_count": 2,
   "id": "9a5fd919",
   "metadata": {},
   "outputs": [],
   "source": [
    "col_names = [\"user\", \"date\", \"rating\", \"title\", \"content\"]\n",
    "df = pd.read_csv('C:\\\\Users\\ACER\\\\Documents\\\\ta\\\\Review Per Hotel\\\\Bintang 5\\lotte.csv', sep=';')"
   ]
  },
  {
   "cell_type": "code",
   "execution_count": 3,
   "id": "9321ea19",
   "metadata": {},
   "outputs": [],
   "source": [
    "df = df.rename(columns={'user ': 'user'})\n",
    "df = df.rename(columns={'date ': 'date'})\n",
    "df = df.rename(columns={'rating ': 'rating'})\n",
    "df = df.rename(columns={'title ': 'title'})\n",
    "df = df.rename(columns={'content ': 'content'})"
   ]
  },
  {
   "cell_type": "code",
   "execution_count": 4,
   "id": "fd5054c0",
   "metadata": {},
   "outputs": [],
   "source": [
    "df['content']=df['content'].str.lower()\n",
    "df['title']=df['title'].str.lower()"
   ]
  },
  {
   "cell_type": "markdown",
   "id": "b84b98fb",
   "metadata": {},
   "source": [
    "# Dimensi Sincerity"
   ]
  },
  {
   "cell_type": "code",
   "execution_count": 6,
   "id": "d7a04659",
   "metadata": {},
   "outputs": [
    {
     "name": "stdout",
     "output_type": "stream",
     "text": [
      "The text contains 0 words used to describe hotels.\n"
     ]
    }
   ],
   "source": [
    "contentstr = str(df['content'])\n",
    "# Process text data and create a Doc object\n",
    "df['doc'] = df['content'].apply(nlp)\n",
    "\n",
    "# Initialize a counter for hotel-related words\n",
    "hotel_word_count = 0\n",
    "\n",
    "wordsinc1 = [\"involved\", \"alone\", \"after\", \"stated\", \"embarrassing\",\"lost\", \"together\", \"angry\", \"through\", \"continued\", \"honest\", \"reliable\", \"true\", \"fair\"]\n",
    "\n",
    "# Iterate over the tokens in the Doc\n",
    "for review in df['content']:\n",
    "  doc = nlp(review)\n",
    "  for token in doc:\n",
    "    if token.pos_ == \"ADJ\":\n",
    "        if token.text in wordsinc1:\n",
    "            # Check if the head is \"hotel\" and the next token is a verb or auxiliary verb\n",
    "            if token.head.text == \"hotel\" or token.head.text == \"property\" or token.head.text == \"place\" or token.head.text == \"palace\" or token.head.text == \"lotte\" or token.head.text == \"decorations\" or token.head.text == \"exterior\" or token.head.text == \"interior\" or token.head.text == \"gym\" or token.head.text == \"architecture\" or token.head.text == \"room\" or token.head.text == \"bedroom\" or token.head.text == \"bed\" or token.head.text == \"windows\" or token.head.text == \"toiletries\" or token.head.text == \"bathroom\" or token.head.text == \"mattress\" or token.head.text == \"furniture\" or token.head.text == \"rooftop\" or token.head.text == \"guestrooms\" or token.head.text == \"staff\" or token.head.text == \"doormen\" or token.head.text == \"bellmen\" or token.head.text == \"concierge\" or token.head.text == \"members\" or token.head.text == \"employees\" or token.head.text == \"bartenders\" or token.head.text == \"bellman\" or token.head.text == \"doorman\" or token.head.text == \"captain\" or token.head.text == \"maids\" or token.head.text == \"housekeeping\":                   \n",
    "                if (doc[token.i+1].pos_ == \"VERB\" or doc[token.i+1].pos_ == \"AUX\") or (doc[token.i-1].pos_ == \"VERB\" or doc[token.i-1].pos_ == \"AUX\") :\n",
    "                    hotel_word_count += 1\n",
    "                    print(token.text)\n",
    "                    \n",
    "\n",
    "# Print the number of hotel-related words in the text\n",
    "print(f\"The text contains {hotel_word_count} words used to describe hotels.\")"
   ]
  },
  {
   "cell_type": "code",
   "execution_count": 7,
   "id": "f08c3d2c",
   "metadata": {},
   "outputs": [],
   "source": [
    "wordsinc1 = [\"involved\", \"alone\", \"after\", \"stated\", \"embarrassing\",\"lost\", \"together\", \"angry\", \"through\", \"continued\", \"honest\", \"reliable\", \"true\", \"fair\"]\n",
    "\n",
    "for review in df['content']:\n",
    "  doc = nlp(review)\n",
    "  for token in doc:\n",
    "    if token.pos_ == \"ADJ\":\n",
    "        if token.text in wordsinc1:\n",
    "            if token.head.text == \"hotel\" or token.head.text == \"property\" or token.head.text == \"place\" or token.head.text == \"palace\" or token.head.text == \"lotte\" or token.head.text == \"decorations\" or token.head.text == \"exterior\" or token.head.text == \"interior\" or token.head.text == \"gym\" or token.head.text == \"architecture\" or token.head.text == \"room\" or token.head.text == \"bedroom\" or token.head.text == \"bed\" or token.head.text == \"windows\" or token.head.text == \"toiletries\" or token.head.text == \"bathroom\" or token.head.text == \"mattress\" or token.head.text == \"furniture\" or token.head.text == \"rooftop\" or token.head.text == \"guestrooms\" or token.head.text == \"staff\" or token.head.text == \"doormen\" or token.head.text == \"bellmen\" or token.head.text == \"concierge\" or token.head.text == \"members\" or token.head.text == \"employees\" or token.head.text == \"bartenders\" or token.head.text == \"bellman\" or token.head.text == \"doorman\" or token.head.text == \"captain\" or token.head.text == \"maids\" or token.head.text == \"housekeeping\":                   \n",
    "                if (doc[token.i+1].pos_ == \"VERB\" or doc[token.i+1].pos_ == \"AUX\") or (doc[token.i-1].pos_ == \"VERB\" or doc[token.i-1].pos_ == \"AUX\") :\n",
    "                    print(token.sent.text)"
   ]
  },
  {
   "cell_type": "code",
   "execution_count": 7,
   "id": "22b90113",
   "metadata": {},
   "outputs": [
    {
     "name": "stdout",
     "output_type": "stream",
     "text": [
      "The word 'hotel' has 0 adjectives that describe it.\n"
     ]
    }
   ],
   "source": [
    "wordsinc1 = [\"involved\", \"alone\", \"after\", \"stated\", \"embarrassing\",\"lost\", \"together\", \"angry\", \"through\", \"continued\", \"honest\", \"reliable\", \"true\", \"good\", \"fair\"]\n",
    "# Tokenize the sentence\n",
    "doc = nlp(\"it was very close to rock center s i this is a good hotel for sightseeing highly recommend the courtyard outside is a good place to relax and meet friends.\")\n",
    "# Loop through the tokens and count the number of adjectives that describe the \"hotel\" word\n",
    "hotel_word_count = 0\n",
    "for token in doc:\n",
    "    if token.pos_ == \"ADJ\":\n",
    "        if token.text in wordsinc1:\n",
    "            if token.head.text == \"hotel\" or token.head.pos_ == \"VERB\" or token.head.pos_ == \"AUX\" or token.head.text == \"property\" or token.head.text == \"place\" or token.head.text == \"palace\" or token.head.text == \"lotte\" :    \n",
    "                if (doc[token.i+1].pos_ == \"VERB\" or doc[token.i+1].pos_ == \"AUX\") or (doc[token.i-1].pos_ == \"VERB\" or doc[token.i-1].pos_ == \"AUX\") :                    \n",
    "                    hotel_word_count += 1\n",
    "               \n",
    "# Print the final count of adjectives\n",
    "print(f\"The word 'hotel' has {hotel_word_count} adjectives that describe it.\")"
   ]
  },
  {
   "cell_type": "code",
   "execution_count": null,
   "id": "321fffd7",
   "metadata": {},
   "outputs": [],
   "source": [
    "displacy.render(doc, style=\"dep\")"
   ]
  },
  {
   "cell_type": "code",
   "execution_count": 80,
   "id": "245c3184",
   "metadata": {},
   "outputs": [
    {
     "name": "stdout",
     "output_type": "stream",
     "text": [
      "The text contains 0 words used to describe hotels.\n"
     ]
    }
   ],
   "source": [
    "contentstr = str(df['content'])\n",
    "# Process text data and create a Doc object\n",
    "df['doc'] = df['content'].apply(nlp)\n",
    "\n",
    "# Initialize a counter for hotel-related words\n",
    "hotel_word_count = 0\n",
    "\n",
    "wordsinc2 = [\"female\", \"addressed\", \"assisted\", \"required\", \"telling\", \"greek\", \"scheduled\", \"spoken\", \"sorry\", \"individual\", \"sincere\", \"solemn\"]\n",
    "\n",
    "# Iterate over the tokens in the Doc\n",
    "for review in df['content']:\n",
    "  doc = nlp(review)\n",
    "  for token in doc:\n",
    "    if token.pos_ == \"ADJ\":\n",
    "        if token.text in wordsinc2:\n",
    "            # Check if the head is \"hotel\" and the next token is a verb or auxiliary verb\n",
    "            if token.head.text == \"hotel\" or token.head.text == \"property\" or token.head.text == \"place\" or token.head.text == \"palace\" or token.head.text == \"lotte\" or token.head.text == \"decorations\" or token.head.text == \"exterior\" or token.head.text == \"interior\" or token.head.text == \"gym\" or token.head.text == \"architecture\" or token.head.text == \"room\" or token.head.text == \"bedroom\" or token.head.text == \"bed\" or token.head.text == \"windows\" or token.head.text == \"toiletries\" or token.head.text == \"bathroom\" or token.head.text == \"mattress\" or token.head.text == \"furniture\" or token.head.text == \"rooftop\" or token.head.text == \"guestrooms\" or token.head.text == \"staff\" or token.head.text == \"doormen\" or token.head.text == \"bellmen\" or token.head.text == \"concierge\" or token.head.text == \"members\" or token.head.text == \"employees\" or token.head.text == \"bartenders\" or token.head.text == \"bellman\" or token.head.text == \"doorman\" or token.head.text == \"captain\" or token.head.text == \"maids\" or token.head.text == \"housekeeping\":                   \n",
    "                if (doc[token.i+1].pos_ == \"VERB\" or doc[token.i+1].pos_ == \"AUX\") or (doc[token.i-1].pos_ == \"VERB\" or doc[token.i-1].pos_ == \"AUX\") :                    \n",
    "                    hotel_word_count += 1\n",
    "                    print(token.text)\n",
    "                    \n",
    "\n",
    "# Print the number of hotel-related words in the text\n",
    "print(f\"The text contains {hotel_word_count} words used to describe hotels.\")"
   ]
  },
  {
   "cell_type": "code",
   "execution_count": 81,
   "id": "51066892",
   "metadata": {},
   "outputs": [],
   "source": [
    "wordsinc2 = [\"female\", \"addressed\", \"assisted\", \"required\", \"telling\", \"greek\", \"scheduled\", \"spoken\", \"sorry\", \"individual\", \"sincere\", \"solemn\"]\n",
    "\n",
    "for review in df['content']:\n",
    "  doc = nlp(review)\n",
    "  for token in doc:\n",
    "    if token.pos_ == \"ADJ\":\n",
    "        if token.text in wordsinc2:\n",
    "            if token.head.text == \"hotel\" or token.head.text == \"property\" or token.head.text == \"place\" or token.head.text == \"palace\" or token.head.text == \"lotte\" or token.head.text == \"decorations\" or token.head.text == \"exterior\" or token.head.text == \"interior\" or token.head.text == \"gym\" or token.head.text == \"architecture\" or token.head.text == \"room\" or token.head.text == \"bedroom\" or token.head.text == \"bed\" or token.head.text == \"windows\" or token.head.text == \"toiletries\" or token.head.text == \"bathroom\" or token.head.text == \"mattress\" or token.head.text == \"furniture\" or token.head.text == \"rooftop\" or token.head.text == \"guestrooms\" or token.head.text == \"staff\" or token.head.text == \"doormen\" or token.head.text == \"bellmen\" or token.head.text == \"concierge\" or token.head.text == \"members\" or token.head.text == \"employees\" or token.head.text == \"bartenders\" or token.head.text == \"bellman\" or token.head.text == \"doorman\" or token.head.text == \"captain\" or token.head.text == \"maids\" or token.head.text == \"housekeeping\":                   \n",
    "                if (doc[token.i+1].pos_ == \"VERB\" or doc[token.i+1].pos_ == \"AUX\") or (doc[token.i-1].pos_ == \"VERB\" or doc[token.i-1].pos_ == \"AUX\") :                    \n",
    "                    print(token.sent.text)"
   ]
  },
  {
   "cell_type": "code",
   "execution_count": null,
   "id": "8f5e7f51",
   "metadata": {},
   "outputs": [],
   "source": [
    "wordsinc2 = [\"female\", \"addressed\", \"assisted\", \"required\", \"telling\", \"greek\", \"scheduled\", \"spoken\", \"sorry\", \"individual\", \"sincere\", \"solemn\"]\n",
    "# Tokenize the sentence\n",
    "doc = nlp(\"it was very close to rock center s i this is a good hotel for sightseeing highly recommend the courtyard outside is a good place to relax and meet friends.\")\n",
    "# Loop through the tokens and count the number of adjectives that describe the \"hotel\" word\n",
    "hotel_word_count = 0\n",
    "for token in doc:\n",
    "    if token.pos_ == \"ADJ\":\n",
    "        if token.text in wordsinc2:\n",
    "            if token.head.text == \"hotel\" or token.head.pos_ == \"VERB\" or token.head.pos_ == \"AUX\" or token.head.text == \"property\" or token.head.text == \"place\" or token.head.text == \"palace\" or token.head.text == \"lotte\" :    \n",
    "                if (doc[token.i+1].pos_ == \"VERB\" or doc[token.i+1].pos_ == \"AUX\") or (doc[token.i-1].pos_ == \"VERB\" or doc[token.i-1].pos_ == \"AUX\") :                    \n",
    "                    hotel_word_count += 1\n",
    "               \n",
    "# Print the final count of adjectives\n",
    "print(f\"The word 'hotel' has {hotel_word_count} adjectives that describe it.\")"
   ]
  },
  {
   "cell_type": "code",
   "execution_count": null,
   "id": "340d4641",
   "metadata": {},
   "outputs": [],
   "source": [
    "displacy.render(doc, style=\"dep\")"
   ]
  },
  {
   "cell_type": "code",
   "execution_count": 82,
   "id": "4e210fef",
   "metadata": {},
   "outputs": [
    {
     "name": "stdout",
     "output_type": "stream",
     "text": [
      "The text contains 0 words used to describe hotels.\n"
     ]
    }
   ],
   "source": [
    "contentstr = str(df['content'])\n",
    "# Process text data and create a Doc object\n",
    "df['doc'] = df['content'].apply(nlp)\n",
    "\n",
    "# Initialize a counter for hotel-related words\n",
    "hotel_word_count = 0\n",
    "\n",
    "wordsinc3 = [\"solid\", \"unique\", \"advertised\", \"palatial\", \"positive\", \"tremendous\", \"highest\", \"extraordinary\", \"geared\", \"spoiled\", \"real\", \"existent\", \"actual\", \"genuine\", \"substantial\", \"material\"]\n",
    "\n",
    "# Iterate over the tokens in the Doc\n",
    "for review in df['content']:\n",
    "  doc = nlp(review)\n",
    "  for token in doc:\n",
    "    if token.pos_ == \"ADJ\":\n",
    "        if token.text in wordsinc3:\n",
    "            # Check if the head is \"hotel\" and the next token is a verb or auxiliary verb\n",
    "            if token.head.text == \"hotel\" or token.head.text == \"property\" or token.head.text == \"place\" or token.head.text == \"palace\" or token.head.text == \"lotte\" or token.head.text == \"decorations\" or token.head.text == \"exterior\" or token.head.text == \"interior\" or token.head.text == \"gym\" or token.head.text == \"architecture\" or token.head.text == \"room\" or token.head.text == \"bedroom\" or token.head.text == \"bed\" or token.head.text == \"windows\" or token.head.text == \"toiletries\" or token.head.text == \"bathroom\" or token.head.text == \"mattress\" or token.head.text == \"furniture\" or token.head.text == \"rooftop\" or token.head.text == \"guestrooms\" or token.head.text == \"staff\" or token.head.text == \"doormen\" or token.head.text == \"bellmen\" or token.head.text == \"concierge\" or token.head.text == \"members\" or token.head.text == \"employees\" or token.head.text == \"bartenders\" or token.head.text == \"bellman\" or token.head.text == \"doorman\" or token.head.text == \"captain\" or token.head.text == \"maids\" or token.head.text == \"housekeeping\":                   \n",
    "                if (doc[token.i+1].pos_ == \"VERB\" or doc[token.i+1].pos_ == \"AUX\") or (doc[token.i-1].pos_ == \"VERB\" or doc[token.i-1].pos_ == \"AUX\") :                    \n",
    "                    hotel_word_count += 1\n",
    "                    print(token.text)\n",
    "                    \n",
    "\n",
    "# Print the number of hotel-related words in the text\n",
    "print(f\"The text contains {hotel_word_count} words used to describe hotels.\")"
   ]
  },
  {
   "cell_type": "code",
   "execution_count": 83,
   "id": "af087125",
   "metadata": {},
   "outputs": [],
   "source": [
    "wordsinc3 = [\"solid\", \"unique\", \"advertised\", \"palatial\", \"positive\", \"tremendous\", \"highest\", \"extraordinary\", \"geared\", \"spoiled\", \"real\", \"existent\", \"actual\", \"genuine\", \"substantial\", \"material\"]\n",
    "\n",
    "for review in df['content']:\n",
    "  doc = nlp(review)\n",
    "  for token in doc:\n",
    "    if token.pos_ == \"ADJ\":\n",
    "        if token.text in wordsinc3:\n",
    "            if token.head.text == \"hotel\" or token.head.text == \"property\" or token.head.text == \"place\" or token.head.text == \"palace\" or token.head.text == \"lotte\" or token.head.text == \"decorations\" or token.head.text == \"exterior\" or token.head.text == \"interior\" or token.head.text == \"gym\" or token.head.text == \"architecture\" or token.head.text == \"room\" or token.head.text == \"bedroom\" or token.head.text == \"bed\" or token.head.text == \"windows\" or token.head.text == \"toiletries\" or token.head.text == \"bathroom\" or token.head.text == \"mattress\" or token.head.text == \"furniture\" or token.head.text == \"rooftop\" or token.head.text == \"guestrooms\" or token.head.text == \"staff\" or token.head.text == \"doormen\" or token.head.text == \"bellmen\" or token.head.text == \"concierge\" or token.head.text == \"members\" or token.head.text == \"employees\" or token.head.text == \"bartenders\" or token.head.text == \"bellman\" or token.head.text == \"doorman\" or token.head.text == \"captain\" or token.head.text == \"maids\" or token.head.text == \"housekeeping\":                   \n",
    "                if (doc[token.i+1].pos_ == \"VERB\" or doc[token.i+1].pos_ == \"AUX\") or (doc[token.i-1].pos_ == \"VERB\" or doc[token.i-1].pos_ == \"AUX\") :                    \n",
    "                    print(token.sent.text)"
   ]
  },
  {
   "cell_type": "code",
   "execution_count": null,
   "id": "77873863",
   "metadata": {},
   "outputs": [],
   "source": [
    "wordsinc3 = [\"solid\", \"unique\", \"advertised\", \"palatial\", \"positive\", \"tremendous\", \"highest\", \"extraordinary\", \"geared\", \"spoiled\", \"real\", \"existent\", \"actual\", \"genuine\", \"substantial\", \"material\"]\n",
    "# Tokenize the sentence\n",
    "doc = nlp(\"it was very close to rock center s i this is a good hotel for sightseeing highly recommend the courtyard outside is a good place to relax and meet friends.\")\n",
    "# Loop through the tokens and count the number of adjectives that describe the \"hotel\" word\n",
    "hotel_word_count = 0\n",
    "for token in doc:\n",
    "    if token.pos_ == \"ADJ\":\n",
    "        if token.text in wordsinc3:\n",
    "            if token.head.text == \"hotel\" or token.head.pos_ == \"VERB\" or token.head.pos_ == \"AUX\" or token.head.text == \"property\" or token.head.text == \"place\" or token.head.text == \"palace\" or token.head.text == \"lotte\" :    \n",
    "                if (doc[token.i+1].pos_ == \"VERB\" or doc[token.i+1].pos_ == \"AUX\") or (doc[token.i-1].pos_ == \"VERB\" or doc[token.i-1].pos_ == \"AUX\") :                    \n",
    "                    hotel_word_count += 1\n",
    "               \n",
    "# Print the final count of adjectives\n",
    "print(f\"The word 'hotel' has {hotel_word_count} adjectives that describe it.\")"
   ]
  },
  {
   "cell_type": "code",
   "execution_count": null,
   "id": "1c6a89c3",
   "metadata": {},
   "outputs": [],
   "source": [
    "displacy.render(doc, style=\"dep\")"
   ]
  },
  {
   "cell_type": "code",
   "execution_count": 84,
   "id": "23058ed1",
   "metadata": {},
   "outputs": [
    {
     "name": "stdout",
     "output_type": "stream",
     "text": [
      "The text contains 0 words used to describe hotels.\n"
     ]
    }
   ],
   "source": [
    "contentstr = str(df['content'])\n",
    "# Process text data and create a Doc object\n",
    "df['doc'] = df['content'].apply(nlp)\n",
    "\n",
    "# Initialize a counter for hotel-related words\n",
    "hotel_word_count = 0\n",
    "\n",
    "wordsinc4 = [\"golden\", \"built\", \"unbelievable\", \"private\", \"weather\", \"exclusive\", \"closing\", \"blind\", \"asleep\", \"older\", \"original\"]\n",
    "\n",
    "# Iterate over the tokens in the Doc\n",
    "for review in df['content']:\n",
    "  doc = nlp(review)\n",
    "  for token in doc:\n",
    "    if token.pos_ == \"ADJ\":\n",
    "        if token.text in wordsinc4:\n",
    "            # Check if the head is \"hotel\" and the next token is a verb or auxiliary verb\n",
    "            if token.head.text == \"hotel\" or token.head.text == \"property\" or token.head.text == \"place\" or token.head.text == \"palace\" or token.head.text == \"lotte\" or token.head.text == \"decorations\" or token.head.text == \"exterior\" or token.head.text == \"interior\" or token.head.text == \"gym\" or token.head.text == \"architecture\" or token.head.text == \"room\" or token.head.text == \"bedroom\" or token.head.text == \"bed\" or token.head.text == \"windows\" or token.head.text == \"toiletries\" or token.head.text == \"bathroom\" or token.head.text == \"mattress\" or token.head.text == \"furniture\" or token.head.text == \"rooftop\" or token.head.text == \"guestrooms\" or token.head.text == \"staff\" or token.head.text == \"doormen\" or token.head.text == \"bellmen\" or token.head.text == \"concierge\" or token.head.text == \"members\" or token.head.text == \"employees\" or token.head.text == \"bartenders\" or token.head.text == \"bellman\" or token.head.text == \"doorman\" or token.head.text == \"captain\" or token.head.text == \"maids\" or token.head.text == \"housekeeping\":                   \n",
    "                if (doc[token.i+1].pos_ == \"VERB\" or doc[token.i+1].pos_ == \"AUX\") or (doc[token.i-1].pos_ == \"VERB\" or doc[token.i-1].pos_ == \"AUX\") :                    \n",
    "                    hotel_word_count += 1\n",
    "                    print(token.text)\n",
    "                    \n",
    "\n",
    "# Print the number of hotel-related words in the text\n",
    "print(f\"The text contains {hotel_word_count} words used to describe hotels.\")"
   ]
  },
  {
   "cell_type": "code",
   "execution_count": 85,
   "id": "7bd9f091",
   "metadata": {},
   "outputs": [],
   "source": [
    "wordsinc4 = [\"golden\", \"built\", \"unbelievable\", \"private\", \"weather\", \"exclusive\", \"closing\", \"blind\", \"asleep\", \"older\", \"original\"]\n",
    "\n",
    "for review in df['content']:\n",
    "  doc = nlp(review)\n",
    "  for token in doc:\n",
    "    if token.pos_ == \"ADJ\":\n",
    "        if token.text in wordsinc4:\n",
    "            if token.head.text == \"hotel\" or token.head.text == \"property\" or token.head.text == \"place\" or token.head.text == \"palace\" or token.head.text == \"lotte\" or token.head.text == \"decorations\" or token.head.text == \"exterior\" or token.head.text == \"interior\" or token.head.text == \"gym\" or token.head.text == \"architecture\" or token.head.text == \"room\" or token.head.text == \"bedroom\" or token.head.text == \"bed\" or token.head.text == \"windows\" or token.head.text == \"toiletries\" or token.head.text == \"bathroom\" or token.head.text == \"mattress\" or token.head.text == \"furniture\" or token.head.text == \"rooftop\" or token.head.text == \"guestrooms\" or token.head.text == \"staff\" or token.head.text == \"doormen\" or token.head.text == \"bellmen\" or token.head.text == \"concierge\" or token.head.text == \"members\" or token.head.text == \"employees\" or token.head.text == \"bartenders\" or token.head.text == \"bellman\" or token.head.text == \"doorman\" or token.head.text == \"captain\" or token.head.text == \"maids\" or token.head.text == \"housekeeping\":                   \n",
    "                if (doc[token.i+1].pos_ == \"VERB\" or doc[token.i+1].pos_ == \"AUX\") or (doc[token.i-1].pos_ == \"VERB\" or doc[token.i-1].pos_ == \"AUX\") :                    \n",
    "                    print(token.sent.text)"
   ]
  },
  {
   "cell_type": "code",
   "execution_count": null,
   "id": "4cd34cc6",
   "metadata": {},
   "outputs": [],
   "source": [
    "wordsinc4 = [\"golden\", \"built\", \"unbelievable\", \"private\", \"weather\", \"exclusive\", \"closing\", \"blind\", \"asleep\", \"older\", \"original\"]\n",
    "# Tokenize the sentence\n",
    "doc = nlp(\"it was very close to rock center s i this is a good hotel for sightseeing highly recommend the courtyard outside is a good place to relax and meet friends.\")\n",
    "# Loop through the tokens and count the number of adjectives that describe the \"hotel\" word\n",
    "hotel_word_count = 0\n",
    "for token in doc:\n",
    "    if token.pos_ == \"ADJ\":\n",
    "        if token.text in wordsinc4:\n",
    "            if token.head.text == \"hotel\" or token.head.pos_ == \"VERB\" or token.head.pos_ == \"AUX\" or token.head.text == \"property\" or token.head.text == \"place\" or token.head.text == \"palace\" or token.head.text == \"lotte\" :    \n",
    "                if (doc[token.i+1].pos_ == \"VERB\" or doc[token.i+1].pos_ == \"AUX\") or (doc[token.i-1].pos_ == \"VERB\" or doc[token.i-1].pos_ == \"AUX\") :                    \n",
    "                    hotel_word_count += 1\n",
    "               \n",
    "# Print the final count of adjectives\n",
    "print(f\"The word 'hotel' has {hotel_word_count} adjectives that describe it.\")"
   ]
  },
  {
   "cell_type": "code",
   "execution_count": null,
   "id": "374b8256",
   "metadata": {},
   "outputs": [],
   "source": [
    "displacy.render(doc, style=\"dep\")"
   ]
  },
  {
   "cell_type": "code",
   "execution_count": 86,
   "id": "74e5d93b",
   "metadata": {},
   "outputs": [
    {
     "name": "stdout",
     "output_type": "stream",
     "text": [
      "The text contains 0 words used to describe hotels.\n"
     ]
    }
   ],
   "source": [
    "contentstr = str(df['content'])\n",
    "# Process text data and create a Doc object\n",
    "df['doc'] = df['content'].apply(nlp)\n",
    "\n",
    "# Initialize a counter for hotel-related words\n",
    "hotel_word_count = 0\n",
    "\n",
    "wordsinc5 = [\"smiling\", \"hospitable\", \"responsive\", \"thorough\", \"patient\", \"matt\", \"caring\", \"personable\", \"informative\", \"thoughtful\", \"cheerful\", \"upbeat\"]\n",
    "\n",
    "# Iterate over the tokens in the Doc\n",
    "for review in df['content']:\n",
    "  doc = nlp(review)\n",
    "  for token in doc:\n",
    "    if token.pos_ == \"ADJ\":\n",
    "        if token.text in wordsinc5:\n",
    "            # Check if the head is \"hotel\" and the next token is a verb or auxiliary verb\n",
    "            if token.head.text == \"hotel\" or token.head.text == \"property\" or token.head.text == \"place\" or token.head.text == \"palace\" or token.head.text == \"lotte\" or token.head.text == \"decorations\" or token.head.text == \"exterior\" or token.head.text == \"interior\" or token.head.text == \"gym\" or token.head.text == \"architecture\" or token.head.text == \"room\" or token.head.text == \"bedroom\" or token.head.text == \"bed\" or token.head.text == \"windows\" or token.head.text == \"toiletries\" or token.head.text == \"bathroom\" or token.head.text == \"mattress\" or token.head.text == \"furniture\" or token.head.text == \"rooftop\" or token.head.text == \"guestrooms\" or token.head.text == \"staff\" or token.head.text == \"doormen\" or token.head.text == \"bellmen\" or token.head.text == \"concierge\" or token.head.text == \"members\" or token.head.text == \"employees\" or token.head.text == \"bartenders\" or token.head.text == \"bellman\" or token.head.text == \"doorman\" or token.head.text == \"captain\" or token.head.text == \"maids\" or token.head.text == \"housekeeping\":                   \n",
    "                if (doc[token.i+1].pos_ == \"VERB\" or doc[token.i+1].pos_ == \"AUX\") or (doc[token.i-1].pos_ == \"VERB\" or doc[token.i-1].pos_ == \"AUX\") :                    \n",
    "                    hotel_word_count += 1\n",
    "                    print(token.text)\n",
    "                    \n",
    "\n",
    "# Print the number of hotel-related words in the text\n",
    "print(f\"The text contains {hotel_word_count} words used to describe hotels.\")"
   ]
  },
  {
   "cell_type": "code",
   "execution_count": 87,
   "id": "1fb9fb5a",
   "metadata": {},
   "outputs": [],
   "source": [
    "wordsinc5 = [\"smiling\", \"hospitable\", \"responsive\", \"thorough\", \"patient\", \"matt\", \"caring\", \"personable\", \"informative\", \"thoughtful\", \"cheerful\", \"upbeat\"]\n",
    "\n",
    "for review in df['content']:\n",
    "  doc = nlp(review)\n",
    "  for token in doc:\n",
    "    if token.pos_ == \"ADJ\":\n",
    "        if token.text in wordsinc5:\n",
    "            if token.head.text == \"hotel\" or token.head.text == \"property\" or token.head.text == \"place\" or token.head.text == \"palace\" or token.head.text == \"lotte\" or token.head.text == \"decorations\" or token.head.text == \"exterior\" or token.head.text == \"interior\" or token.head.text == \"gym\" or token.head.text == \"architecture\" or token.head.text == \"room\" or token.head.text == \"bedroom\" or token.head.text == \"bed\" or token.head.text == \"windows\" or token.head.text == \"toiletries\" or token.head.text == \"bathroom\" or token.head.text == \"mattress\" or token.head.text == \"furniture\" or token.head.text == \"rooftop\" or token.head.text == \"guestrooms\" or token.head.text == \"staff\" or token.head.text == \"doormen\" or token.head.text == \"bellmen\" or token.head.text == \"concierge\" or token.head.text == \"members\" or token.head.text == \"employees\" or token.head.text == \"bartenders\" or token.head.text == \"bellman\" or token.head.text == \"doorman\" or token.head.text == \"captain\" or token.head.text == \"maids\" or token.head.text == \"housekeeping\":                   \n",
    "                if (doc[token.i+1].pos_ == \"VERB\" or doc[token.i+1].pos_ == \"AUX\") or (doc[token.i-1].pos_ == \"VERB\" or doc[token.i-1].pos_ == \"AUX\") :                    \n",
    "                    print(token.sent.text)"
   ]
  },
  {
   "cell_type": "code",
   "execution_count": null,
   "id": "a1d872db",
   "metadata": {},
   "outputs": [],
   "source": [
    "wordsinc5 = [\"smiling\", \"hospitable\", \"responsive\", \"thorough\", \"patient\", \"matt\", \"caring\", \"personable\", \"informative\", \"thoughtful\", \"cheerful\", \"upbeat\"]\n",
    "# Tokenize the sentence\n",
    "doc = nlp(\"it was very close to rock center s i this is a good hotel for sightseeing highly recommend the courtyard outside is a good place to relax and meet friends.\")\n",
    "# Loop through the tokens and count the number of adjectives that describe the \"hotel\" word\n",
    "hotel_word_count = 0\n",
    "for token in doc:\n",
    "    if token.pos_ == \"ADJ\":\n",
    "        if token.text in wordsinc5:\n",
    "            if token.head.text == \"hotel\" or token.head.pos_ == \"VERB\" or token.head.pos_ == \"AUX\" or token.head.text == \"property\" or token.head.text == \"place\" or token.head.text == \"palace\" or token.head.text == \"lotte\" :    \n",
    "                if (doc[token.i+1].pos_ == \"VERB\" or doc[token.i+1].pos_ == \"AUX\") or (doc[token.i-1].pos_ == \"VERB\" or doc[token.i-1].pos_ == \"AUX\") :                    \n",
    "                    hotel_word_count += 1\n",
    "               \n",
    "# Print the final count of adjectives\n",
    "print(f\"The word 'hotel' has {hotel_word_count} adjectives that describe it.\")"
   ]
  },
  {
   "cell_type": "code",
   "execution_count": null,
   "id": "7f80741d",
   "metadata": {},
   "outputs": [],
   "source": [
    "displacy.render(doc, style=\"dep\")"
   ]
  },
  {
   "cell_type": "code",
   "execution_count": 8,
   "id": "3806e0a0",
   "metadata": {},
   "outputs": [
    {
     "name": "stdout",
     "output_type": "stream",
     "text": [
      "helpful\n",
      "friendly\n",
      "friendly\n",
      "friendly\n",
      "friendly\n",
      "The text contains 5 words used to describe hotels.\n"
     ]
    }
   ],
   "source": [
    "contentstr = str(df['content'])\n",
    "# Process text data and create a Doc object\n",
    "df['doc'] = df['content'].apply(nlp)\n",
    "\n",
    "# Initialize a counter for hotel-related words\n",
    "hotel_word_count = 0\n",
    "\n",
    "wordsinc6 = [\"accommodating\", \"courteous\", \"attentive\", \"helpful\", \"professional\", \"welcoming\", \"pleasant\", \"polite\", \"efficient\", \"knowledgable\", \"friendly\", \"favorable\", \"well-disposed\"]\n",
    "\n",
    "# Iterate over the tokens in the Doc\n",
    "for review in df['content']:\n",
    "  doc = nlp(review)\n",
    "  for token in doc:\n",
    "    if token.pos_ == \"ADJ\":\n",
    "        if token.text in wordsinc6:\n",
    "            # Check if the head is \"hotel\" and the next token is a verb or auxiliary verb\n",
    "            if token.head.text == \"hotel\" or token.head.text == \"property\" or token.head.text == \"place\" or token.head.text == \"palace\" or token.head.text == \"lotte\" or token.head.text == \"decorations\" or token.head.text == \"exterior\" or token.head.text == \"interior\" or token.head.text == \"gym\" or token.head.text == \"architecture\" or token.head.text == \"room\" or token.head.text == \"bedroom\" or token.head.text == \"bed\" or token.head.text == \"windows\" or token.head.text == \"toiletries\" or token.head.text == \"bathroom\" or token.head.text == \"mattress\" or token.head.text == \"furniture\" or token.head.text == \"rooftop\" or token.head.text == \"guestrooms\" or token.head.text == \"staff\" or token.head.text == \"doormen\" or token.head.text == \"bellmen\" or token.head.text == \"concierge\" or token.head.text == \"members\" or token.head.text == \"employees\" or token.head.text == \"bartenders\" or token.head.text == \"bellman\" or token.head.text == \"doorman\" or token.head.text == \"captain\" or token.head.text == \"maids\" or token.head.text == \"housekeeping\":                   \n",
    "                if (doc[token.i+1].pos_ == \"VERB\" or doc[token.i+1].pos_ == \"AUX\") or (doc[token.i-1].pos_ == \"VERB\" or doc[token.i-1].pos_ == \"AUX\") :                    \n",
    "                    hotel_word_count += 1\n",
    "                    print(token.text)\n",
    "                    \n",
    "\n",
    "# Print the number of hotel-related words in the text\n",
    "print(f\"The text contains {hotel_word_count} words used to describe hotels.\")"
   ]
  },
  {
   "cell_type": "code",
   "execution_count": 9,
   "id": "72f08de4",
   "metadata": {},
   "outputs": [
    {
     "name": "stdout",
     "output_type": "stream",
     "text": [
      "reception is helpful and generally an amazing place.\n",
      "all staff friendly and helpful.\n",
      "between the fabulous views of midtown and the friendly accommodating staff there isn't a negative thing to say about lotte ny palace.\n",
      "i have been lucky enough to stay in some great hotels whom offer great services & have friendly staff.\n",
      "it is easy to get to, it has friendly, fast and courteous staff, it is in a great location (right across from the back of st patricks cathedral), it has easy access in and out, fast check in and check out, located right next to a parking garage, the rooms are large, clean and comfortable and the lobby is really nice.\n"
     ]
    }
   ],
   "source": [
    "wordsinc6 = [\"accommodating\", \"courteous\", \"attentive\", \"helpful\", \"professional\", \"welcoming\", \"pleasant\", \"polite\", \"efficient\", \"knowledgable\", \"friendly\", \"favorable\", \"well-disposed\"]\n",
    "\n",
    "for review in df['content']:\n",
    "  doc = nlp(review)\n",
    "  for token in doc:\n",
    "    if token.pos_ == \"ADJ\":\n",
    "        if token.text in wordsinc6:\n",
    "            if token.head.text == \"hotel\" or token.head.text == \"property\" or token.head.text == \"place\" or token.head.text == \"palace\" or token.head.text == \"lotte\" or token.head.text == \"decorations\" or token.head.text == \"exterior\" or token.head.text == \"interior\" or token.head.text == \"gym\" or token.head.text == \"architecture\" or token.head.text == \"room\" or token.head.text == \"bedroom\" or token.head.text == \"bed\" or token.head.text == \"windows\" or token.head.text == \"toiletries\" or token.head.text == \"bathroom\" or token.head.text == \"mattress\" or token.head.text == \"furniture\" or token.head.text == \"rooftop\" or token.head.text == \"guestrooms\" or token.head.text == \"staff\" or token.head.text == \"doormen\" or token.head.text == \"bellmen\" or token.head.text == \"concierge\" or token.head.text == \"members\" or token.head.text == \"employees\" or token.head.text == \"bartenders\" or token.head.text == \"bellman\" or token.head.text == \"doorman\" or token.head.text == \"captain\" or token.head.text == \"maids\" or token.head.text == \"housekeeping\":                   \n",
    "                if (doc[token.i+1].pos_ == \"VERB\" or doc[token.i+1].pos_ == \"AUX\") or (doc[token.i-1].pos_ == \"VERB\" or doc[token.i-1].pos_ == \"AUX\") :                    \n",
    "                    print(token.sent.text)"
   ]
  },
  {
   "cell_type": "code",
   "execution_count": 9,
   "id": "cbac28d6",
   "metadata": {},
   "outputs": [
    {
     "name": "stdout",
     "output_type": "stream",
     "text": [
      "The word 'hotel' has 0 adjectives that describe it.\n"
     ]
    }
   ],
   "source": [
    "wordsinc6 = [\"accommodating\", \"courteous\", \"attentive\", \"professional\", \"welcoming\", \"pleasant\", \"polite\", \"efficient\", \"knowledgable\", \"favorable\", \"well-disposed\"]\n",
    "# Tokenize the sentence\n",
    "doc = nlp(\"reception is helpful and generally an amazing place.\")\n",
    "# Loop through the tokens and count the number of adjectives that describe the \"hotel\" word\n",
    "hotel_word_count = 0\n",
    "for token in doc:\n",
    "    if token.pos_ == \"ADJ\":\n",
    "        if token.text in wordsinc6:\n",
    "            if token.head.text == \"hotel\" or token.head.pos_ == \"VERB\" or token.head.pos_ == \"AUX\" or token.head.text == \"property\" or token.head.text == \"place\" or token.head.text == \"palace\" or token.head.text == \"lotte\" :    \n",
    "                if (doc[token.i+1].pos_ == \"VERB\" or doc[token.i+1].pos_ == \"AUX\") or (doc[token.i-1].pos_ == \"VERB\" or doc[token.i-1].pos_ == \"AUX\") :                    \n",
    "                    hotel_word_count += 1\n",
    "               \n",
    "# Print the final count of adjectives\n",
    "print(f\"The word 'hotel' has {hotel_word_count} adjectives that describe it.\")"
   ]
  },
  {
   "cell_type": "code",
   "execution_count": 10,
   "id": "367188d3",
   "metadata": {},
   "outputs": [
    {
     "data": {
      "text/html": [
       "<span class=\"tex2jax_ignore\"><svg xmlns=\"http://www.w3.org/2000/svg\" xmlns:xlink=\"http://www.w3.org/1999/xlink\" xml:lang=\"en\" id=\"68b2b755090748d5b8aaa304a8d897e4-0\" class=\"displacy\" width=\"1450\" height=\"574.5\" direction=\"ltr\" style=\"max-width: none; height: 574.5px; color: #000000; background: #ffffff; font-family: Arial; direction: ltr\">\n",
       "<text class=\"displacy-token\" fill=\"currentColor\" text-anchor=\"middle\" y=\"484.5\">\n",
       "    <tspan class=\"displacy-word\" fill=\"currentColor\" x=\"50\">reception</tspan>\n",
       "    <tspan class=\"displacy-tag\" dy=\"2em\" fill=\"currentColor\" x=\"50\">NOUN</tspan>\n",
       "</text>\n",
       "\n",
       "<text class=\"displacy-token\" fill=\"currentColor\" text-anchor=\"middle\" y=\"484.5\">\n",
       "    <tspan class=\"displacy-word\" fill=\"currentColor\" x=\"225\">is</tspan>\n",
       "    <tspan class=\"displacy-tag\" dy=\"2em\" fill=\"currentColor\" x=\"225\">AUX</tspan>\n",
       "</text>\n",
       "\n",
       "<text class=\"displacy-token\" fill=\"currentColor\" text-anchor=\"middle\" y=\"484.5\">\n",
       "    <tspan class=\"displacy-word\" fill=\"currentColor\" x=\"400\">helpful</tspan>\n",
       "    <tspan class=\"displacy-tag\" dy=\"2em\" fill=\"currentColor\" x=\"400\">ADJ</tspan>\n",
       "</text>\n",
       "\n",
       "<text class=\"displacy-token\" fill=\"currentColor\" text-anchor=\"middle\" y=\"484.5\">\n",
       "    <tspan class=\"displacy-word\" fill=\"currentColor\" x=\"575\">and</tspan>\n",
       "    <tspan class=\"displacy-tag\" dy=\"2em\" fill=\"currentColor\" x=\"575\">CCONJ</tspan>\n",
       "</text>\n",
       "\n",
       "<text class=\"displacy-token\" fill=\"currentColor\" text-anchor=\"middle\" y=\"484.5\">\n",
       "    <tspan class=\"displacy-word\" fill=\"currentColor\" x=\"750\">generally</tspan>\n",
       "    <tspan class=\"displacy-tag\" dy=\"2em\" fill=\"currentColor\" x=\"750\">ADV</tspan>\n",
       "</text>\n",
       "\n",
       "<text class=\"displacy-token\" fill=\"currentColor\" text-anchor=\"middle\" y=\"484.5\">\n",
       "    <tspan class=\"displacy-word\" fill=\"currentColor\" x=\"925\">an</tspan>\n",
       "    <tspan class=\"displacy-tag\" dy=\"2em\" fill=\"currentColor\" x=\"925\">DET</tspan>\n",
       "</text>\n",
       "\n",
       "<text class=\"displacy-token\" fill=\"currentColor\" text-anchor=\"middle\" y=\"484.5\">\n",
       "    <tspan class=\"displacy-word\" fill=\"currentColor\" x=\"1100\">amazing</tspan>\n",
       "    <tspan class=\"displacy-tag\" dy=\"2em\" fill=\"currentColor\" x=\"1100\">ADJ</tspan>\n",
       "</text>\n",
       "\n",
       "<text class=\"displacy-token\" fill=\"currentColor\" text-anchor=\"middle\" y=\"484.5\">\n",
       "    <tspan class=\"displacy-word\" fill=\"currentColor\" x=\"1275\">place.</tspan>\n",
       "    <tspan class=\"displacy-tag\" dy=\"2em\" fill=\"currentColor\" x=\"1275\">NOUN</tspan>\n",
       "</text>\n",
       "\n",
       "<g class=\"displacy-arrow\">\n",
       "    <path class=\"displacy-arc\" id=\"arrow-68b2b755090748d5b8aaa304a8d897e4-0-0\" stroke-width=\"2px\" d=\"M70,439.5 C70,352.0 205.0,352.0 205.0,439.5\" fill=\"none\" stroke=\"currentColor\"/>\n",
       "    <text dy=\"1.25em\" style=\"font-size: 0.8em; letter-spacing: 1px\">\n",
       "        <textPath xlink:href=\"#arrow-68b2b755090748d5b8aaa304a8d897e4-0-0\" class=\"displacy-label\" startOffset=\"50%\" side=\"left\" fill=\"currentColor\" text-anchor=\"middle\">nsubj</textPath>\n",
       "    </text>\n",
       "    <path class=\"displacy-arrowhead\" d=\"M70,441.5 L62,429.5 78,429.5\" fill=\"currentColor\"/>\n",
       "</g>\n",
       "\n",
       "<g class=\"displacy-arrow\">\n",
       "    <path class=\"displacy-arc\" id=\"arrow-68b2b755090748d5b8aaa304a8d897e4-0-1\" stroke-width=\"2px\" d=\"M420,439.5 C420,89.5 1270.0,89.5 1270.0,439.5\" fill=\"none\" stroke=\"currentColor\"/>\n",
       "    <text dy=\"1.25em\" style=\"font-size: 0.8em; letter-spacing: 1px\">\n",
       "        <textPath xlink:href=\"#arrow-68b2b755090748d5b8aaa304a8d897e4-0-1\" class=\"displacy-label\" startOffset=\"50%\" side=\"left\" fill=\"currentColor\" text-anchor=\"middle\">amod</textPath>\n",
       "    </text>\n",
       "    <path class=\"displacy-arrowhead\" d=\"M420,441.5 L412,429.5 428,429.5\" fill=\"currentColor\"/>\n",
       "</g>\n",
       "\n",
       "<g class=\"displacy-arrow\">\n",
       "    <path class=\"displacy-arc\" id=\"arrow-68b2b755090748d5b8aaa304a8d897e4-0-2\" stroke-width=\"2px\" d=\"M420,439.5 C420,352.0 555.0,352.0 555.0,439.5\" fill=\"none\" stroke=\"currentColor\"/>\n",
       "    <text dy=\"1.25em\" style=\"font-size: 0.8em; letter-spacing: 1px\">\n",
       "        <textPath xlink:href=\"#arrow-68b2b755090748d5b8aaa304a8d897e4-0-2\" class=\"displacy-label\" startOffset=\"50%\" side=\"left\" fill=\"currentColor\" text-anchor=\"middle\">cc</textPath>\n",
       "    </text>\n",
       "    <path class=\"displacy-arrowhead\" d=\"M555.0,441.5 L563.0,429.5 547.0,429.5\" fill=\"currentColor\"/>\n",
       "</g>\n",
       "\n",
       "<g class=\"displacy-arrow\">\n",
       "    <path class=\"displacy-arc\" id=\"arrow-68b2b755090748d5b8aaa304a8d897e4-0-3\" stroke-width=\"2px\" d=\"M770,439.5 C770,177.0 1265.0,177.0 1265.0,439.5\" fill=\"none\" stroke=\"currentColor\"/>\n",
       "    <text dy=\"1.25em\" style=\"font-size: 0.8em; letter-spacing: 1px\">\n",
       "        <textPath xlink:href=\"#arrow-68b2b755090748d5b8aaa304a8d897e4-0-3\" class=\"displacy-label\" startOffset=\"50%\" side=\"left\" fill=\"currentColor\" text-anchor=\"middle\">advmod</textPath>\n",
       "    </text>\n",
       "    <path class=\"displacy-arrowhead\" d=\"M770,441.5 L762,429.5 778,429.5\" fill=\"currentColor\"/>\n",
       "</g>\n",
       "\n",
       "<g class=\"displacy-arrow\">\n",
       "    <path class=\"displacy-arc\" id=\"arrow-68b2b755090748d5b8aaa304a8d897e4-0-4\" stroke-width=\"2px\" d=\"M945,439.5 C945,264.5 1260.0,264.5 1260.0,439.5\" fill=\"none\" stroke=\"currentColor\"/>\n",
       "    <text dy=\"1.25em\" style=\"font-size: 0.8em; letter-spacing: 1px\">\n",
       "        <textPath xlink:href=\"#arrow-68b2b755090748d5b8aaa304a8d897e4-0-4\" class=\"displacy-label\" startOffset=\"50%\" side=\"left\" fill=\"currentColor\" text-anchor=\"middle\">det</textPath>\n",
       "    </text>\n",
       "    <path class=\"displacy-arrowhead\" d=\"M945,441.5 L937,429.5 953,429.5\" fill=\"currentColor\"/>\n",
       "</g>\n",
       "\n",
       "<g class=\"displacy-arrow\">\n",
       "    <path class=\"displacy-arc\" id=\"arrow-68b2b755090748d5b8aaa304a8d897e4-0-5\" stroke-width=\"2px\" d=\"M1120,439.5 C1120,352.0 1255.0,352.0 1255.0,439.5\" fill=\"none\" stroke=\"currentColor\"/>\n",
       "    <text dy=\"1.25em\" style=\"font-size: 0.8em; letter-spacing: 1px\">\n",
       "        <textPath xlink:href=\"#arrow-68b2b755090748d5b8aaa304a8d897e4-0-5\" class=\"displacy-label\" startOffset=\"50%\" side=\"left\" fill=\"currentColor\" text-anchor=\"middle\">amod</textPath>\n",
       "    </text>\n",
       "    <path class=\"displacy-arrowhead\" d=\"M1120,441.5 L1112,429.5 1128,429.5\" fill=\"currentColor\"/>\n",
       "</g>\n",
       "\n",
       "<g class=\"displacy-arrow\">\n",
       "    <path class=\"displacy-arc\" id=\"arrow-68b2b755090748d5b8aaa304a8d897e4-0-6\" stroke-width=\"2px\" d=\"M245,439.5 C245,2.0 1275.0,2.0 1275.0,439.5\" fill=\"none\" stroke=\"currentColor\"/>\n",
       "    <text dy=\"1.25em\" style=\"font-size: 0.8em; letter-spacing: 1px\">\n",
       "        <textPath xlink:href=\"#arrow-68b2b755090748d5b8aaa304a8d897e4-0-6\" class=\"displacy-label\" startOffset=\"50%\" side=\"left\" fill=\"currentColor\" text-anchor=\"middle\">attr</textPath>\n",
       "    </text>\n",
       "    <path class=\"displacy-arrowhead\" d=\"M1275.0,441.5 L1283.0,429.5 1267.0,429.5\" fill=\"currentColor\"/>\n",
       "</g>\n",
       "</svg></span>"
      ],
      "text/plain": [
       "<IPython.core.display.HTML object>"
      ]
     },
     "metadata": {},
     "output_type": "display_data"
    }
   ],
   "source": [
    "displacy.render(doc, style=\"dep\")"
   ]
  },
  {
   "cell_type": "code",
   "execution_count": 1,
   "id": "c40ef997",
   "metadata": {},
   "outputs": [
    {
     "name": "stdout",
     "output_type": "stream",
     "text": [
      "5\n"
     ]
    }
   ],
   "source": [
    "freksincerity = 5\n",
    "print(freksincerity)"
   ]
  },
  {
   "cell_type": "markdown",
   "id": "323c8b80",
   "metadata": {},
   "source": [
    "# Dimensi Excitement"
   ]
  },
  {
   "cell_type": "code",
   "execution_count": 91,
   "id": "5bd62348",
   "metadata": {},
   "outputs": [
    {
     "name": "stdout",
     "output_type": "stream",
     "text": [
      "The text contains 0 words used to describe hotels.\n"
     ]
    }
   ],
   "source": [
    "contentstr = str(df['content'])\n",
    "# Process text data and create a Doc object\n",
    "df['doc'] = df['content'].apply(nlp)\n",
    "\n",
    "# Initialize a counter for hotel-related words\n",
    "hotel_word_count = 0\n",
    "\n",
    "wordexcite1 = [\"most\", \"prestigious\", \"classical\", \"former\", \"chic\", \"firm\", \"global\", \"preferred\", \"picky\", \"tops\", \"trendy\"]\n",
    "\n",
    "# Iterate over the tokens in the Doc\n",
    "for review in df['content']:\n",
    "  doc = nlp(review)\n",
    "  for token in doc:\n",
    "    if token.pos_ == \"ADJ\":\n",
    "        if token.text in wordexcite1:\n",
    "            # Check if the head is \"hotel\" and the next token is a verb or auxiliary verb\n",
    "            if token.head.text == \"hotel\" or token.head.text == \"property\" or token.head.text == \"place\" or token.head.text == \"palace\" or token.head.text == \"lotte\" or token.head.text == \"decorations\" or token.head.text == \"exterior\" or token.head.text == \"interior\" or token.head.text == \"gym\" or token.head.text == \"architecture\" or token.head.text == \"room\" or token.head.text == \"bedroom\" or token.head.text == \"bed\" or token.head.text == \"windows\" or token.head.text == \"toiletries\" or token.head.text == \"bathroom\" or token.head.text == \"mattress\" or token.head.text == \"furniture\" or token.head.text == \"rooftop\" or token.head.text == \"guestrooms\" or token.head.text == \"staff\" or token.head.text == \"doormen\" or token.head.text == \"bellmen\" or token.head.text == \"concierge\" or token.head.text == \"members\" or token.head.text == \"employees\" or token.head.text == \"bartenders\" or token.head.text == \"bellman\" or token.head.text == \"doorman\" or token.head.text == \"captain\" or token.head.text == \"maids\" or token.head.text == \"housekeeping\":                   \n",
    "                if (doc[token.i+1].pos_ == \"VERB\" or doc[token.i+1].pos_ == \"AUX\") or (doc[token.i-1].pos_ == \"VERB\" or doc[token.i-1].pos_ == \"AUX\") :                    \n",
    "                    hotel_word_count += 1\n",
    "                    print(token.text)\n",
    "                    \n",
    "\n",
    "# Print the number of hotel-related words in the text\n",
    "print(f\"The text contains {hotel_word_count} words used to describe hotels.\")"
   ]
  },
  {
   "cell_type": "code",
   "execution_count": 92,
   "id": "e78f122c",
   "metadata": {},
   "outputs": [],
   "source": [
    "wordexcite1 = [\"most\", \"prestigious\", \"classical\", \"former\", \"chic\", \"firm\", \"global\", \"preferred\", \"picky\", \"tops\", \"trendy\"]\n",
    "\n",
    "for review in df['content']:\n",
    "  doc = nlp(review)\n",
    "  for token in doc:\n",
    "    if token.pos_ == \"ADJ\":\n",
    "        if token.text in wordexcite1:\n",
    "            if token.head.text == \"hotel\" or token.head.text == \"property\" or token.head.text == \"place\" or token.head.text == \"palace\" or token.head.text == \"lotte\" or token.head.text == \"decorations\" or token.head.text == \"exterior\" or token.head.text == \"interior\" or token.head.text == \"gym\" or token.head.text == \"architecture\" or token.head.text == \"room\" or token.head.text == \"bedroom\" or token.head.text == \"bed\" or token.head.text == \"windows\" or token.head.text == \"toiletries\" or token.head.text == \"bathroom\" or token.head.text == \"mattress\" or token.head.text == \"furniture\" or token.head.text == \"rooftop\" or token.head.text == \"guestrooms\" or token.head.text == \"staff\" or token.head.text == \"doormen\" or token.head.text == \"bellmen\" or token.head.text == \"concierge\" or token.head.text == \"members\" or token.head.text == \"employees\" or token.head.text == \"bartenders\" or token.head.text == \"bellman\" or token.head.text == \"doorman\" or token.head.text == \"captain\" or token.head.text == \"maids\" or token.head.text == \"housekeeping\":                   \n",
    "                if (doc[token.i+1].pos_ == \"VERB\" or doc[token.i+1].pos_ == \"AUX\") or (doc[token.i-1].pos_ == \"VERB\" or doc[token.i-1].pos_ == \"AUX\") :                    \n",
    "                    print(token.sent.text)"
   ]
  },
  {
   "cell_type": "code",
   "execution_count": null,
   "id": "89389188",
   "metadata": {},
   "outputs": [],
   "source": [
    "wordexcite1 = [\"most\", \"prestigious\", \"classical\", \"former\", \"chic\", \"firm\", \"global\", \"preferred\", \"picky\", \"tops\", \"trendy\"]\n",
    "# Tokenize the sentence\n",
    "doc = nlp(\"it was very close to rock center s i this is a good hotel for sightseeing highly recommend the courtyard outside is a good place to relax and meet friends.\")\n",
    "# Loop through the tokens and count the number of adjectives that describe the \"hotel\" word\n",
    "hotel_word_count = 0\n",
    "for token in doc:\n",
    "    if token.pos_ == \"ADJ\":\n",
    "        if token.text in wordexcite1:\n",
    "            if token.head.text == \"hotel\" or token.head.pos_ == \"VERB\" or token.head.pos_ == \"AUX\" or token.head.text == \"property\" or token.head.text == \"place\" or token.head.text == \"palace\" or token.head.text == \"lotte\" :    \n",
    "                if (doc[token.i+1].pos_ == \"VERB\" or doc[token.i+1].pos_ == \"AUX\") or (doc[token.i-1].pos_ == \"VERB\" or doc[token.i-1].pos_ == \"AUX\") :                    \n",
    "                    hotel_word_count += 1\n",
    "               \n",
    "# Print the final count of adjectives\n",
    "print(f\"The word 'hotel' has {hotel_word_count} adjectives that describe it.\")"
   ]
  },
  {
   "cell_type": "code",
   "execution_count": null,
   "id": "3910c45e",
   "metadata": {},
   "outputs": [],
   "source": [
    "displacy.render(doc, style=\"dep\")"
   ]
  },
  {
   "cell_type": "code",
   "execution_count": 93,
   "id": "be38aad2",
   "metadata": {},
   "outputs": [
    {
     "name": "stdout",
     "output_type": "stream",
     "text": [
      "The text contains 0 words used to describe hotels.\n"
     ]
    }
   ],
   "source": [
    "contentstr = str(df['content'])\n",
    "# Process text data and create a Doc object\n",
    "df['doc'] = df['content'].apply(nlp)\n",
    "\n",
    "# Initialize a counter for hotel-related words\n",
    "hotel_word_count = 0\n",
    "\n",
    "wordexcite2 = [\"rich\", \"seasonal\", \"marvelous\", \"oriental\", \"significant\", \"sad\", \"pet\", \"pro\", \"authentic\", \"picky\", \"exciting\"]\n",
    "\n",
    "# Iterate over the tokens in the Doc\n",
    "for review in df['content']:\n",
    "  doc = nlp(review)\n",
    "  for token in doc:\n",
    "    if token.pos_ == \"ADJ\":\n",
    "        if token.text in wordexcite2:\n",
    "            # Check if the head is \"hotel\" and the next token is a verb or auxiliary verb\n",
    "            if token.head.text == \"hotel\" or token.head.text == \"property\" or token.head.text == \"place\" or token.head.text == \"palace\" or token.head.text == \"lotte\" or token.head.text == \"decorations\" or token.head.text == \"exterior\" or token.head.text == \"interior\" or token.head.text == \"gym\" or token.head.text == \"architecture\" or token.head.text == \"room\" or token.head.text == \"bedroom\" or token.head.text == \"bed\" or token.head.text == \"windows\" or token.head.text == \"toiletries\" or token.head.text == \"bathroom\" or token.head.text == \"mattress\" or token.head.text == \"furniture\" or token.head.text == \"rooftop\" or token.head.text == \"guestrooms\" or token.head.text == \"staff\" or token.head.text == \"doormen\" or token.head.text == \"bellmen\" or token.head.text == \"concierge\" or token.head.text == \"members\" or token.head.text == \"employees\" or token.head.text == \"bartenders\" or token.head.text == \"bellman\" or token.head.text == \"doorman\" or token.head.text == \"captain\" or token.head.text == \"maids\" or token.head.text == \"housekeeping\":                   \n",
    "                if (doc[token.i+1].pos_ == \"VERB\" or doc[token.i+1].pos_ == \"AUX\") or (doc[token.i-1].pos_ == \"VERB\" or doc[token.i-1].pos_ == \"AUX\") :                    \n",
    "                    hotel_word_count += 1\n",
    "                    print(token.text)\n",
    "                    \n",
    "\n",
    "# Print the number of hotel-related words in the text\n",
    "print(f\"The text contains {hotel_word_count} words used to describe hotels.\")"
   ]
  },
  {
   "cell_type": "code",
   "execution_count": 94,
   "id": "fd493fda",
   "metadata": {},
   "outputs": [],
   "source": [
    "wordexcite2 = [\"rich\", \"seasonal\", \"marvelous\", \"oriental\", \"significant\", \"sad\", \"pet\", \"pro\", \"authentic\", \"picky\", \"exciting\"]\n",
    "\n",
    "for review in df['content']:\n",
    "  doc = nlp(review)\n",
    "  for token in doc:\n",
    "    if token.pos_ == \"ADJ\":\n",
    "        if token.text in wordexcite2:\n",
    "            if token.head.text == \"hotel\" or token.head.text == \"property\" or token.head.text == \"place\" or token.head.text == \"palace\" or token.head.text == \"lotte\" or token.head.text == \"decorations\" or token.head.text == \"exterior\" or token.head.text == \"interior\" or token.head.text == \"gym\" or token.head.text == \"architecture\" or token.head.text == \"room\" or token.head.text == \"bedroom\" or token.head.text == \"bed\" or token.head.text == \"windows\" or token.head.text == \"toiletries\" or token.head.text == \"bathroom\" or token.head.text == \"mattress\" or token.head.text == \"furniture\" or token.head.text == \"rooftop\" or token.head.text == \"guestrooms\" or token.head.text == \"staff\" or token.head.text == \"doormen\" or token.head.text == \"bellmen\" or token.head.text == \"concierge\" or token.head.text == \"members\" or token.head.text == \"employees\" or token.head.text == \"bartenders\" or token.head.text == \"bellman\" or token.head.text == \"doorman\" or token.head.text == \"captain\" or token.head.text == \"maids\" or token.head.text == \"housekeeping\":                   \n",
    "                if (doc[token.i+1].pos_ == \"VERB\" or doc[token.i+1].pos_ == \"AUX\") or (doc[token.i-1].pos_ == \"VERB\" or doc[token.i-1].pos_ == \"AUX\") :                    \n",
    "                    print(token.sent.text)"
   ]
  },
  {
   "cell_type": "code",
   "execution_count": null,
   "id": "3d4838ce",
   "metadata": {},
   "outputs": [],
   "source": [
    "wordexcite2 = [\"rich\", \"seasonal\", \"marvelous\", \"oriental\", \"significant\", \"sad\", \"pet\", \"pro\", \"authentic\", \"picky\", \"exciting\"]\n",
    "# Tokenize the sentence\n",
    "doc = nlp(\"it was very close to rock center s i this is a good hotel for sightseeing highly recommend the courtyard outside is a good place to relax and meet friends.\")\n",
    "# Loop through the tokens and count the number of adjectives that describe the \"hotel\" word\n",
    "hotel_word_count = 0\n",
    "for token in doc:\n",
    "    if token.pos_ == \"ADJ\":\n",
    "        if token.text in wordexcite2:\n",
    "            if token.head.text == \"hotel\" or token.head.pos_ == \"VERB\" or token.head.pos_ == \"AUX\" or token.head.text == \"property\" or token.head.text == \"place\" or token.head.text == \"palace\" or token.head.text == \"lotte\" :    \n",
    "                if (doc[token.i+1].pos_ == \"VERB\" or doc[token.i+1].pos_ == \"AUX\") or (doc[token.i-1].pos_ == \"VERB\" or doc[token.i-1].pos_ == \"AUX\") :                    \n",
    "                    hotel_word_count += 1\n",
    "               \n",
    "# Print the final count of adjectives\n",
    "print(f\"The word 'hotel' has {hotel_word_count} adjectives that describe it.\")"
   ]
  },
  {
   "cell_type": "code",
   "execution_count": null,
   "id": "3126894a",
   "metadata": {},
   "outputs": [],
   "source": [
    "displacy.render(doc, style=\"dep\")"
   ]
  },
  {
   "cell_type": "code",
   "execution_count": 95,
   "id": "fa13ce5c",
   "metadata": {},
   "outputs": [
    {
     "name": "stdout",
     "output_type": "stream",
     "text": [
      "The text contains 0 words used to describe hotels.\n"
     ]
    }
   ],
   "source": [
    "contentstr = str(df['content'])\n",
    "# Process text data and create a Doc object\n",
    "df['doc'] = df['content'].apply(nlp)\n",
    "\n",
    "# Initialize a counter for hotel-related words\n",
    "hotel_word_count = 0\n",
    "\n",
    "wordexcite3 = [\"liked\", \"fancy\", \"dark\", \"functional\", \"dim\", \"affordable\", \"outdated\", \"congested\", \"crowded\", \"plentiful\", \"cool\"]\n",
    "\n",
    "# Iterate over the tokens in the Doc\n",
    "for review in df['content']:\n",
    "  doc = nlp(review)\n",
    "  for token in doc:\n",
    "    if token.pos_ == \"ADJ\":\n",
    "        if token.text in wordexcite3:\n",
    "            # Check if the head is \"hotel\" and the next token is a verb or auxiliary verb\n",
    "            if token.head.text == \"hotel\" or token.head.text == \"property\" or token.head.text == \"place\" or token.head.text == \"palace\" or token.head.text == \"lotte\" or token.head.text == \"decorations\" or token.head.text == \"exterior\" or token.head.text == \"interior\" or token.head.text == \"gym\" or token.head.text == \"architecture\" or token.head.text == \"room\" or token.head.text == \"bedroom\" or token.head.text == \"bed\" or token.head.text == \"windows\" or token.head.text == \"toiletries\" or token.head.text == \"bathroom\" or token.head.text == \"mattress\" or token.head.text == \"furniture\" or token.head.text == \"rooftop\" or token.head.text == \"guestrooms\" or token.head.text == \"staff\" or token.head.text == \"doormen\" or token.head.text == \"bellmen\" or token.head.text == \"concierge\" or token.head.text == \"members\" or token.head.text == \"employees\" or token.head.text == \"bartenders\" or token.head.text == \"bellman\" or token.head.text == \"doorman\" or token.head.text == \"captain\" or token.head.text == \"maids\" or token.head.text == \"housekeeping\":                   \n",
    "                if (doc[token.i+1].pos_ == \"VERB\" or doc[token.i+1].pos_ == \"AUX\") or (doc[token.i-1].pos_ == \"VERB\" or doc[token.i-1].pos_ == \"AUX\") :                    \n",
    "                    hotel_word_count += 1\n",
    "                    print(token.text)\n",
    "                    \n",
    "\n",
    "# Print the number of hotel-related words in the text\n",
    "print(f\"The text contains {hotel_word_count} words used to describe hotels.\")"
   ]
  },
  {
   "cell_type": "code",
   "execution_count": 96,
   "id": "a9309e16",
   "metadata": {},
   "outputs": [],
   "source": [
    "wordexcite3 = [\"liked\", \"fancy\", \"dark\", \"functional\", \"dim\", \"affordable\", \"outdated\", \"congested\", \"crowded\", \"plentiful\", \"cool\"]\n",
    "\n",
    "for review in df['content']:\n",
    "  doc = nlp(review)\n",
    "  for token in doc:\n",
    "    if token.pos_ == \"ADJ\":\n",
    "        if token.text in wordexcite3:\n",
    "            if token.head.text == \"hotel\" or token.head.text == \"property\" or token.head.text == \"place\" or token.head.text == \"palace\" or token.head.text == \"lotte\" or token.head.text == \"decorations\" or token.head.text == \"exterior\" or token.head.text == \"interior\" or token.head.text == \"gym\" or token.head.text == \"architecture\" or token.head.text == \"room\" or token.head.text == \"bedroom\" or token.head.text == \"bed\" or token.head.text == \"windows\" or token.head.text == \"toiletries\" or token.head.text == \"bathroom\" or token.head.text == \"mattress\" or token.head.text == \"furniture\" or token.head.text == \"rooftop\" or token.head.text == \"guestrooms\" or token.head.text == \"staff\" or token.head.text == \"doormen\" or token.head.text == \"bellmen\" or token.head.text == \"concierge\" or token.head.text == \"members\" or token.head.text == \"employees\" or token.head.text == \"bartenders\" or token.head.text == \"bellman\" or token.head.text == \"doorman\" or token.head.text == \"captain\" or token.head.text == \"maids\" or token.head.text == \"housekeeping\":                   \n",
    "                if (doc[token.i+1].pos_ == \"VERB\" or doc[token.i+1].pos_ == \"AUX\") or (doc[token.i-1].pos_ == \"VERB\" or doc[token.i-1].pos_ == \"AUX\") :                    \n",
    "                    print(token.sent.text)"
   ]
  },
  {
   "cell_type": "code",
   "execution_count": null,
   "id": "bf1084e9",
   "metadata": {},
   "outputs": [],
   "source": [
    "wordexcite3 = [\"liked\", \"fancy\", \"dark\", \"functional\", \"dim\", \"affordable\", \"outdated\", \"congested\", \"crowded\", \"plentiful\", \"cool\"]\n",
    "# Tokenize the sentence\n",
    "doc = nlp(\"it was very close to rock center s i this is a good hotel for sightseeing highly recommend the courtyard outside is a good place to relax and meet friends.\")\n",
    "# Loop through the tokens and count the number of adjectives that describe the \"hotel\" word\n",
    "hotel_word_count = 0\n",
    "for token in doc:\n",
    "    if token.pos_ == \"ADJ\":\n",
    "        if token.text in wordexcite3:\n",
    "            if token.head.text == \"hotel\" or token.head.pos_ == \"VERB\" or token.head.pos_ == \"AUX\" or token.head.text == \"property\" or token.head.text == \"place\" or token.head.text == \"palace\" or token.head.text == \"lotte\" :    \n",
    "                if (doc[token.i+1].pos_ == \"VERB\" or doc[token.i+1].pos_ == \"AUX\") or (doc[token.i-1].pos_ == \"VERB\" or doc[token.i-1].pos_ == \"AUX\") :                    \n",
    "                    hotel_word_count += 1\n",
    "               \n",
    "# Print the final count of adjectives\n",
    "print(f\"The word 'hotel' has {hotel_word_count} adjectives that describe it.\")"
   ]
  },
  {
   "cell_type": "code",
   "execution_count": null,
   "id": "3b1030e5",
   "metadata": {},
   "outputs": [],
   "source": [
    "displacy.render(doc, style=\"dep\")"
   ]
  },
  {
   "cell_type": "code",
   "execution_count": 10,
   "id": "bf28a4aa",
   "metadata": {},
   "outputs": [
    {
     "name": "stdout",
     "output_type": "stream",
     "text": [
      "The text contains 0 words used to describe hotels.\n"
     ]
    }
   ],
   "source": [
    "contentstr = str(df['content'])\n",
    "# Process text data and create a Doc object\n",
    "df['doc'] = df['content'].apply(nlp)\n",
    "\n",
    "# Initialize a counter for hotel-related words\n",
    "hotel_word_count = 0\n",
    "\n",
    "wordexcite4 = [\"realized\", \"gifted\", \"adult\", \"medical\", \"together\", \"stuffed\", \"confirmed\", \"played\", \"noticed\", \"engaged\", \"young\", \"new\"]\n",
    "\n",
    "# Iterate over the tokens in the Doc\n",
    "for review in df['content']:\n",
    "  doc = nlp(review)\n",
    "  for token in doc:\n",
    "    if token.pos_ == \"ADJ\":\n",
    "        if token.text in wordexcite4:\n",
    "            # Check if the head is \"hotel\" and the next token is a verb or auxiliary verb\n",
    "            if token.head.text == \"hotel\" or token.head.text == \"property\" or token.head.text == \"place\" or token.head.text == \"palace\" or token.head.text == \"lotte\" or token.head.text == \"decorations\" or token.head.text == \"exterior\" or token.head.text == \"interior\" or token.head.text == \"gym\" or token.head.text == \"architecture\" or token.head.text == \"room\" or token.head.text == \"bedroom\" or token.head.text == \"bed\" or token.head.text == \"windows\" or token.head.text == \"toiletries\" or token.head.text == \"bathroom\" or token.head.text == \"mattress\" or token.head.text == \"furniture\" or token.head.text == \"rooftop\" or token.head.text == \"guestrooms\" or token.head.text == \"staff\" or token.head.text == \"doormen\" or token.head.text == \"bellmen\" or token.head.text == \"concierge\" or token.head.text == \"members\" or token.head.text == \"employees\" or token.head.text == \"bartenders\" or token.head.text == \"bellman\" or token.head.text == \"doorman\" or token.head.text == \"captain\" or token.head.text == \"maids\" or token.head.text == \"housekeeping\":                   \n",
    "                if (doc[token.i+1].pos_ == \"VERB\" or doc[token.i+1].pos_ == \"AUX\") or (doc[token.i-1].pos_ == \"VERB\" or doc[token.i-1].pos_ == \"AUX\") :                    \n",
    "                    hotel_word_count += 1\n",
    "                    print(token.text)\n",
    "                    \n",
    "\n",
    "# Print the number of hotel-related words in the text\n",
    "print(f\"The text contains {hotel_word_count} words used to describe hotels.\")"
   ]
  },
  {
   "cell_type": "code",
   "execution_count": 11,
   "id": "ceb960e2",
   "metadata": {},
   "outputs": [],
   "source": [
    "wordexcite4 = [\"realized\", \"gifted\", \"adult\", \"medical\", \"together\", \"stuffed\", \"confirmed\", \"played\", \"noticed\", \"engaged\", \"young\", \"new\"]\n",
    "\n",
    "for review in df['content']:\n",
    "  doc = nlp(review)\n",
    "  for token in doc:\n",
    "    if token.pos_ == \"ADJ\":\n",
    "        if token.text in wordexcite4:\n",
    "            if token.head.text == \"hotel\" or token.head.text == \"property\" or token.head.text == \"place\" or token.head.text == \"palace\" or token.head.text == \"lotte\" or token.head.text == \"decorations\" or token.head.text == \"exterior\" or token.head.text == \"interior\" or token.head.text == \"gym\" or token.head.text == \"architecture\" or token.head.text == \"room\" or token.head.text == \"bedroom\" or token.head.text == \"bed\" or token.head.text == \"windows\" or token.head.text == \"toiletries\" or token.head.text == \"bathroom\" or token.head.text == \"mattress\" or token.head.text == \"furniture\" or token.head.text == \"rooftop\" or token.head.text == \"guestrooms\" or token.head.text == \"staff\" or token.head.text == \"doormen\" or token.head.text == \"bellmen\" or token.head.text == \"concierge\" or token.head.text == \"members\" or token.head.text == \"employees\" or token.head.text == \"bartenders\" or token.head.text == \"bellman\" or token.head.text == \"doorman\" or token.head.text == \"captain\" or token.head.text == \"maids\" or token.head.text == \"housekeeping\":                   \n",
    "                if (doc[token.i+1].pos_ == \"VERB\" or doc[token.i+1].pos_ == \"AUX\") or (doc[token.i-1].pos_ == \"VERB\" or doc[token.i-1].pos_ == \"AUX\") :                    \n",
    "                    print(token.sent.text)"
   ]
  },
  {
   "cell_type": "code",
   "execution_count": null,
   "id": "c66b72ae",
   "metadata": {},
   "outputs": [],
   "source": [
    "wordexcite4 = [\"realized\", \"gifted\", \"adult\", \"medical\", \"together\", \"stuffed\", \"confirmed\", \"played\", \"noticed\", \"engaged\", \"young\", \"new\"]\n",
    "# Tokenize the sentence\n",
    "doc = nlp(\"it was very close to rock center s i this is a good hotel for sightseeing highly recommend the courtyard outside is a good place to relax and meet friends.\")\n",
    "# Loop through the tokens and count the number of adjectives that describe the \"hotel\" word\n",
    "hotel_word_count = 0\n",
    "for token in doc:\n",
    "    if token.pos_ == \"ADJ\":\n",
    "        if token.text in wordexcite4:\n",
    "            if token.head.text == \"hotel\" or token.head.pos_ == \"VERB\" or token.head.pos_ == \"AUX\" or token.head.text == \"property\" or token.head.text == \"place\" or token.head.text == \"palace\" or token.head.text == \"lotte\" :    \n",
    "                if (doc[token.i+1].pos_ == \"VERB\" or doc[token.i+1].pos_ == \"AUX\") or (doc[token.i-1].pos_ == \"VERB\" or doc[token.i-1].pos_ == \"AUX\") :                    \n",
    "                    hotel_word_count += 1\n",
    "               \n",
    "# Print the final count of adjectives\n",
    "print(f\"The word 'hotel' has {hotel_word_count} adjectives that describe it.\")"
   ]
  },
  {
   "cell_type": "code",
   "execution_count": null,
   "id": "12358626",
   "metadata": {},
   "outputs": [],
   "source": [
    "displacy.render(doc, style=\"dep\")"
   ]
  },
  {
   "cell_type": "code",
   "execution_count": 99,
   "id": "1a8f8420",
   "metadata": {},
   "outputs": [
    {
     "name": "stdout",
     "output_type": "stream",
     "text": [
      "The text contains 0 words used to describe hotels.\n"
     ]
    }
   ],
   "source": [
    "contentstr = str(df['content'])\n",
    "# Process text data and create a Doc object\n",
    "df['doc'] = df['content'].apply(nlp)\n",
    "\n",
    "# Initialize a counter for hotel-related words\n",
    "hotel_word_count = 0\n",
    "\n",
    "wordexcite5 = [\"satisfied\", \"highest\", \"tremendous\", \"solid\", \"extraordinary\", \"positive\", \"delightful\", \"absolute\", \"familiar\", \"amazed\", \"alone\", \"unique\", \"unparalleled\"]\n",
    "\n",
    "# Iterate over the tokens in the Doc\n",
    "for review in df['content']:\n",
    "  doc = nlp(review)\n",
    "  for token in doc:\n",
    "    if token.pos_ == \"ADJ\":\n",
    "        if token.text in wordexcite5:\n",
    "            # Check if the head is \"hotel\" and the next token is a verb or auxiliary verb\n",
    "            if token.head.text == \"hotel\" or token.head.text == \"property\" or token.head.text == \"place\" or token.head.text == \"palace\" or token.head.text == \"lotte\" or token.head.text == \"decorations\" or token.head.text == \"exterior\" or token.head.text == \"interior\" or token.head.text == \"gym\" or token.head.text == \"architecture\" or token.head.text == \"room\" or token.head.text == \"bedroom\" or token.head.text == \"bed\" or token.head.text == \"windows\" or token.head.text == \"toiletries\" or token.head.text == \"bathroom\" or token.head.text == \"mattress\" or token.head.text == \"furniture\" or token.head.text == \"rooftop\" or token.head.text == \"guestrooms\" or token.head.text == \"staff\" or token.head.text == \"doormen\" or token.head.text == \"bellmen\" or token.head.text == \"concierge\" or token.head.text == \"members\" or token.head.text == \"employees\" or token.head.text == \"bartenders\" or token.head.text == \"bellman\" or token.head.text == \"doorman\" or token.head.text == \"captain\" or token.head.text == \"maids\" or token.head.text == \"housekeeping\":                   \n",
    "                if (doc[token.i+1].pos_ == \"VERB\" or doc[token.i+1].pos_ == \"AUX\") or (doc[token.i-1].pos_ == \"VERB\" or doc[token.i-1].pos_ == \"AUX\") :                    \n",
    "                    hotel_word_count += 1\n",
    "                    print(token.text)\n",
    "                    \n",
    "\n",
    "# Print the number of hotel-related words in the text\n",
    "print(f\"The text contains {hotel_word_count} words used to describe hotels.\")"
   ]
  },
  {
   "cell_type": "code",
   "execution_count": 100,
   "id": "fba4fa84",
   "metadata": {},
   "outputs": [],
   "source": [
    "wordexcite5 = [\"satisfied\", \"highest\", \"tremendous\", \"solid\", \"extraordinary\", \"positive\", \"delightful\", \"absolute\", \"familiar\", \"amazed\", \"alone\", \"unique\", \"unparalleled\"]\n",
    "\n",
    "for review in df['content']:\n",
    "  doc = nlp(review)\n",
    "  for token in doc:\n",
    "    if token.pos_ == \"ADJ\":\n",
    "        if token.text in wordexcite5:\n",
    "            if token.head.text == \"hotel\" or token.head.text == \"property\" or token.head.text == \"place\" or token.head.text == \"palace\" or token.head.text == \"lotte\" or token.head.text == \"decorations\" or token.head.text == \"exterior\" or token.head.text == \"interior\" or token.head.text == \"gym\" or token.head.text == \"architecture\" or token.head.text == \"room\" or token.head.text == \"bedroom\" or token.head.text == \"bed\" or token.head.text == \"windows\" or token.head.text == \"toiletries\" or token.head.text == \"bathroom\" or token.head.text == \"mattress\" or token.head.text == \"furniture\" or token.head.text == \"rooftop\" or token.head.text == \"guestrooms\" or token.head.text == \"staff\" or token.head.text == \"doormen\" or token.head.text == \"bellmen\" or token.head.text == \"concierge\" or token.head.text == \"members\" or token.head.text == \"employees\" or token.head.text == \"bartenders\" or token.head.text == \"bellman\" or token.head.text == \"doorman\" or token.head.text == \"captain\" or token.head.text == \"maids\" or token.head.text == \"housekeeping\":                   \n",
    "                if (doc[token.i+1].pos_ == \"VERB\" or doc[token.i+1].pos_ == \"AUX\") or (doc[token.i-1].pos_ == \"VERB\" or doc[token.i-1].pos_ == \"AUX\") :                    \n",
    "                    print(token.sent.text)"
   ]
  },
  {
   "cell_type": "code",
   "execution_count": null,
   "id": "814783fd",
   "metadata": {},
   "outputs": [],
   "source": [
    "wordexcite5 = [\"satisfied\", \"highest\", \"tremendous\", \"solid\", \"extraordinary\", \"positive\", \"delightful\", \"absolute\", \"familiar\", \"amazed\", \"alone\", \"unique\", \"unparalleled\"]\n",
    "# Tokenize the sentence\n",
    "doc = nlp(\"it was very close to rock center s i this is a good hotel for sightseeing highly recommend the courtyard outside is a good place to relax and meet friends.\")\n",
    "# Loop through the tokens and count the number of adjectives that describe the \"hotel\" word\n",
    "hotel_word_count = 0\n",
    "for token in doc:\n",
    "    if token.pos_ == \"ADJ\":\n",
    "        if token.text in wordexcite5:\n",
    "            if token.head.text == \"hotel\" or token.head.pos_ == \"VERB\" or token.head.pos_ == \"AUX\" or token.head.text == \"property\" or token.head.text == \"place\" or token.head.text == \"palace\" or token.head.text == \"lotte\" :    \n",
    "                if (doc[token.i+1].pos_ == \"VERB\" or doc[token.i+1].pos_ == \"AUX\") or (doc[token.i-1].pos_ == \"VERB\" or doc[token.i-1].pos_ == \"AUX\") :                    \n",
    "                    hotel_word_count += 1\n",
    "               \n",
    "# Print the final count of adjectives\n",
    "print(f\"The word 'hotel' has {hotel_word_count} adjectives that describe it.\")"
   ]
  },
  {
   "cell_type": "code",
   "execution_count": null,
   "id": "3cb5ded7",
   "metadata": {},
   "outputs": [],
   "source": [
    "displacy.render(doc, style=\"dep\")"
   ]
  },
  {
   "cell_type": "code",
   "execution_count": 101,
   "id": "a4102849",
   "metadata": {},
   "outputs": [
    {
     "name": "stdout",
     "output_type": "stream",
     "text": [
      "The text contains 0 words used to describe hotels.\n"
     ]
    }
   ],
   "source": [
    "contentstr = str(df['content'])\n",
    "# Process text data and create a Doc object\n",
    "df['doc'] = df['content'].apply(nlp)\n",
    "\n",
    "# Initialize a counter for hotel-related words\n",
    "hotel_word_count = 0\n",
    "\n",
    "wordexcite6 = [\"thick\", \"plush\", \"designed\", \"living\", \"attractive\", \"effective\", \"premium\", \"exterior\", \"extensive\", \"lush\", \"contemporary\"]\n",
    "\n",
    "# Iterate over the tokens in the Doc\n",
    "for review in df['content']:\n",
    "  doc = nlp(review)\n",
    "  for token in doc:\n",
    "    if token.pos_ == \"ADJ\":\n",
    "        if token.text in wordexcite6:\n",
    "            # Check if the head is \"hotel\" and the next token is a verb or auxiliary verb\n",
    "            if token.head.text == \"hotel\" or token.head.text == \"property\" or token.head.text == \"place\" or token.head.text == \"palace\" or token.head.text == \"lotte\" or token.head.text == \"decorations\" or token.head.text == \"exterior\" or token.head.text == \"interior\" or token.head.text == \"gym\" or token.head.text == \"architecture\" or token.head.text == \"room\" or token.head.text == \"bedroom\" or token.head.text == \"bed\" or token.head.text == \"windows\" or token.head.text == \"toiletries\" or token.head.text == \"bathroom\" or token.head.text == \"mattress\" or token.head.text == \"furniture\" or token.head.text == \"rooftop\" or token.head.text == \"guestrooms\" or token.head.text == \"staff\" or token.head.text == \"doormen\" or token.head.text == \"bellmen\" or token.head.text == \"concierge\" or token.head.text == \"members\" or token.head.text == \"employees\" or token.head.text == \"bartenders\" or token.head.text == \"bellman\" or token.head.text == \"doorman\" or token.head.text == \"captain\" or token.head.text == \"maids\" or token.head.text == \"housekeeping\":                   \n",
    "                if (doc[token.i+1].pos_ == \"VERB\" or doc[token.i+1].pos_ == \"AUX\") or (doc[token.i-1].pos_ == \"VERB\" or doc[token.i-1].pos_ == \"AUX\") :                    \n",
    "                    hotel_word_count += 1\n",
    "                    print(token.text)\n",
    "                    \n",
    "\n",
    "# Print the number of hotel-related words in the text\n",
    "print(f\"The text contains {hotel_word_count} words used to describe hotels.\")"
   ]
  },
  {
   "cell_type": "code",
   "execution_count": 102,
   "id": "d90af8d4",
   "metadata": {},
   "outputs": [],
   "source": [
    "wordexcite6 = [\"thick\", \"plush\", \"designed\", \"living\", \"attractive\", \"effective\", \"premium\", \"exterior\", \"extensive\", \"lush\", \"contemporary\"]\n",
    "\n",
    "for review in df['content']:\n",
    "  doc = nlp(review)\n",
    "  for token in doc:\n",
    "    if token.pos_ == \"ADJ\":\n",
    "        if token.text in wordexcite6:\n",
    "            if token.head.text == \"hotel\" or token.head.text == \"property\" or token.head.text == \"place\" or token.head.text == \"palace\" or token.head.text == \"lotte\" or token.head.text == \"decorations\" or token.head.text == \"exterior\" or token.head.text == \"interior\" or token.head.text == \"gym\" or token.head.text == \"architecture\" or token.head.text == \"room\" or token.head.text == \"bedroom\" or token.head.text == \"bed\" or token.head.text == \"windows\" or token.head.text == \"toiletries\" or token.head.text == \"bathroom\" or token.head.text == \"mattress\" or token.head.text == \"furniture\" or token.head.text == \"rooftop\" or token.head.text == \"guestrooms\" or token.head.text == \"staff\" or token.head.text == \"doormen\" or token.head.text == \"bellmen\" or token.head.text == \"concierge\" or token.head.text == \"members\" or token.head.text == \"employees\" or token.head.text == \"bartenders\" or token.head.text == \"bellman\" or token.head.text == \"doorman\" or token.head.text == \"captain\" or token.head.text == \"maids\" or token.head.text == \"housekeeping\":                   \n",
    "                if (doc[token.i+1].pos_ == \"VERB\" or doc[token.i+1].pos_ == \"AUX\") or (doc[token.i-1].pos_ == \"VERB\" or doc[token.i-1].pos_ == \"AUX\") :                    \n",
    "                    print(token.sent.text)"
   ]
  },
  {
   "cell_type": "code",
   "execution_count": null,
   "id": "86d3b2eb",
   "metadata": {},
   "outputs": [],
   "source": [
    "wordexcite6 = [\"thick\", \"plush\", \"designed\", \"living\", \"attractive\", \"effective\", \"premium\", \"exterior\", \"extensive\", \"lush\", \"contemporary\"]\n",
    "# Tokenize the sentence\n",
    "doc = nlp(\"it was very close to rock center s i this is a good hotel for sightseeing highly recommend the courtyard outside is a good place to relax and meet friends.\")\n",
    "# Loop through the tokens and count the number of adjectives that describe the \"hotel\" word\n",
    "hotel_word_count = 0\n",
    "for token in doc:\n",
    "    if token.pos_ == \"ADJ\":\n",
    "        if token.text in wordexcite6:\n",
    "            if token.head.text == \"hotel\" or token.head.pos_ == \"VERB\" or token.head.pos_ == \"AUX\" or token.head.text == \"property\" or token.head.text == \"place\" or token.head.text == \"palace\" or token.head.text == \"lotte\" :    \n",
    "                if (doc[token.i+1].pos_ == \"VERB\" or doc[token.i+1].pos_ == \"AUX\") or (doc[token.i-1].pos_ == \"VERB\" or doc[token.i-1].pos_ == \"AUX\") :                    \n",
    "                    hotel_word_count += 1\n",
    "               \n",
    "# Print the final count of adjectives\n",
    "print(f\"The word 'hotel' has {hotel_word_count} adjectives that describe it.\")"
   ]
  },
  {
   "cell_type": "code",
   "execution_count": null,
   "id": "86492f22",
   "metadata": {},
   "outputs": [],
   "source": [
    "displacy.render(doc, style=\"dep\")"
   ]
  },
  {
   "cell_type": "code",
   "execution_count": 2,
   "id": "e83a6166",
   "metadata": {},
   "outputs": [
    {
     "name": "stdout",
     "output_type": "stream",
     "text": [
      "0\n"
     ]
    }
   ],
   "source": [
    "frekexcitement = 0\n",
    "print(frekexcitement)"
   ]
  },
  {
   "cell_type": "markdown",
   "id": "ede1ac43",
   "metadata": {},
   "source": [
    "# Dimensi Competence"
   ]
  },
  {
   "cell_type": "code",
   "execution_count": 103,
   "id": "b5145a38",
   "metadata": {},
   "outputs": [
    {
     "name": "stdout",
     "output_type": "stream",
     "text": [
      "The text contains 0 words used to describe hotels.\n"
     ]
    }
   ],
   "source": [
    "contentstr = str(df['content'])\n",
    "# Process text data and create a Doc object\n",
    "df['doc'] = df['content'].apply(nlp)\n",
    "\n",
    "# Initialize a counter for hotel-related words\n",
    "hotel_word_count = 0\n",
    "\n",
    "wordcomp1 = [\"self\", \"horrible\", \"serious\", \"strong\", \"dingy\", \"weird\", \"terrible\", \"bare\", \"uncomfortable\", \"over\", \"reliable\", \"honest\", \"true\", \"authentic\"]\n",
    "\n",
    "# Iterate over the tokens in the Doc\n",
    "for review in df['content']:\n",
    "  doc = nlp(review)\n",
    "  for token in doc:\n",
    "    if token.pos_ == \"ADJ\":\n",
    "        if token.text in wordcomp1:\n",
    "            # Check if the head is \"hotel\" and the next token is a verb or auxiliary verb\n",
    "            if token.head.text == \"hotel\" or token.head.text == \"property\" or token.head.text == \"place\" or token.head.text == \"palace\" or token.head.text == \"lotte\" or token.head.text == \"decorations\" or token.head.text == \"exterior\" or token.head.text == \"interior\" or token.head.text == \"gym\" or token.head.text == \"architecture\" or token.head.text == \"room\" or token.head.text == \"bedroom\" or token.head.text == \"bed\" or token.head.text == \"windows\" or token.head.text == \"toiletries\" or token.head.text == \"bathroom\" or token.head.text == \"mattress\" or token.head.text == \"furniture\" or token.head.text == \"rooftop\" or token.head.text == \"guestrooms\" or token.head.text == \"staff\" or token.head.text == \"doormen\" or token.head.text == \"bellmen\" or token.head.text == \"concierge\" or token.head.text == \"members\" or token.head.text == \"employees\" or token.head.text == \"bartenders\" or token.head.text == \"bellman\" or token.head.text == \"doorman\" or token.head.text == \"captain\" or token.head.text == \"maids\" or token.head.text == \"housekeeping\":                   \n",
    "                if (doc[token.i+1].pos_ == \"VERB\" or doc[token.i+1].pos_ == \"AUX\") or (doc[token.i-1].pos_ == \"VERB\" or doc[token.i-1].pos_ == \"AUX\") :                    \n",
    "                    hotel_word_count += 1\n",
    "                    print(token.text)\n",
    "                    \n",
    "\n",
    "# Print the number of hotel-related words in the text\n",
    "print(f\"The text contains {hotel_word_count} words used to describe hotels.\")"
   ]
  },
  {
   "cell_type": "code",
   "execution_count": 104,
   "id": "19cbc239",
   "metadata": {},
   "outputs": [],
   "source": [
    "wordcomp1 = [\"self\", \"horrible\", \"serious\", \"strong\", \"dingy\", \"weird\", \"terrible\", \"bare\", \"uncomfortable\", \"over\", \"reliable\", \"honest\", \"true\", \"authentic\"]\n",
    "\n",
    "for review in df['content']:\n",
    "  doc = nlp(review)\n",
    "  for token in doc:\n",
    "    if token.pos_ == \"ADJ\":\n",
    "        if token.text in wordcomp1:\n",
    "            if token.head.text == \"hotel\" or token.head.text == \"property\" or token.head.text == \"place\" or token.head.text == \"palace\" or token.head.text == \"lotte\" or token.head.text == \"decorations\" or token.head.text == \"exterior\" or token.head.text == \"interior\" or token.head.text == \"gym\" or token.head.text == \"architecture\" or token.head.text == \"room\" or token.head.text == \"bedroom\" or token.head.text == \"bed\" or token.head.text == \"windows\" or token.head.text == \"toiletries\" or token.head.text == \"bathroom\" or token.head.text == \"mattress\" or token.head.text == \"furniture\" or token.head.text == \"rooftop\" or token.head.text == \"guestrooms\" or token.head.text == \"staff\" or token.head.text == \"doormen\" or token.head.text == \"bellmen\" or token.head.text == \"concierge\" or token.head.text == \"members\" or token.head.text == \"employees\" or token.head.text == \"bartenders\" or token.head.text == \"bellman\" or token.head.text == \"doorman\" or token.head.text == \"captain\" or token.head.text == \"maids\" or token.head.text == \"housekeeping\":                   \n",
    "                if (doc[token.i+1].pos_ == \"VERB\" or doc[token.i+1].pos_ == \"AUX\") or (doc[token.i-1].pos_ == \"VERB\" or doc[token.i-1].pos_ == \"AUX\") :                    \n",
    "                    print(token.sent.text)"
   ]
  },
  {
   "cell_type": "code",
   "execution_count": null,
   "id": "672bdebb",
   "metadata": {},
   "outputs": [],
   "source": [
    "wordcomp1 = [\"self\", \"horrible\", \"serious\", \"strong\", \"dingy\", \"weird\", \"terrible\", \"bare\", \"uncomfortable\", \"over\", \"reliable\", \"honest\", \"true\", \"authentic\"]\n",
    "# Tokenize the sentence\n",
    "doc = nlp(\"it was very close to rock center s i this is a good hotel for sightseeing highly recommend the courtyard outside is a good place to relax and meet friends.\")\n",
    "# Loop through the tokens and count the number of adjectives that describe the \"hotel\" word\n",
    "hotel_word_count = 0\n",
    "for token in doc:\n",
    "    if token.pos_ == \"ADJ\":\n",
    "        if token.text in wordcomp1:\n",
    "            if token.head.text == \"hotel\" or token.head.pos_ == \"VERB\" or token.head.pos_ == \"AUX\" or token.head.text == \"property\" or token.head.text == \"place\" or token.head.text == \"palace\" or token.head.text == \"lotte\" :    \n",
    "                if (doc[token.i+1].pos_ == \"VERB\" or doc[token.i+1].pos_ == \"AUX\") or (doc[token.i-1].pos_ == \"VERB\" or doc[token.i-1].pos_ == \"AUX\") :                    \n",
    "                    hotel_word_count += 1\n",
    "               \n",
    "# Print the final count of adjectives\n",
    "print(f\"The word 'hotel' has {hotel_word_count} adjectives that describe it.\")"
   ]
  },
  {
   "cell_type": "code",
   "execution_count": null,
   "id": "673c56ab",
   "metadata": {},
   "outputs": [],
   "source": [
    "displacy.render(doc, style=\"dep\")"
   ]
  },
  {
   "cell_type": "code",
   "execution_count": 12,
   "id": "fa3db463",
   "metadata": {},
   "outputs": [
    {
     "name": "stdout",
     "output_type": "stream",
     "text": [
      "good\n",
      "safe\n",
      "good\n",
      "safe\n",
      "good\n",
      "The text contains 5 words used to describe hotels.\n"
     ]
    }
   ],
   "source": [
    "contentstr = str(df['content'])\n",
    "# Process text data and create a Doc object\n",
    "df['doc'] = df['content'].apply(nlp)\n",
    "\n",
    "# Initialize a counter for hotel-related words\n",
    "hotel_word_count = 0\n",
    "\n",
    "wordcomp2 = [\"continued\", \"unexpected\", \"giving\", \"complaining\", \"noted\", \"neither\", \"convinced\", \"dropping\", \"sorted\", \"bothered\", \"secure\", \"strong\", \"good\", \"safe\"]\n",
    "\n",
    "# Iterate over the tokens in the Doc\n",
    "for review in df['content']:\n",
    "  doc = nlp(review)\n",
    "  for token in doc:\n",
    "    if token.pos_ == \"ADJ\":\n",
    "        if token.text in wordcomp2:\n",
    "            # Check if the head is \"hotel\" and the next token is a verb or auxiliary verb\n",
    "            if token.head.text == \"hotel\" or token.head.text == \"property\" or token.head.text == \"place\" or token.head.text == \"palace\" or token.head.text == \"lotte\" or token.head.text == \"decorations\" or token.head.text == \"exterior\" or token.head.text == \"interior\" or token.head.text == \"gym\" or token.head.text == \"architecture\" or token.head.text == \"room\" or token.head.text == \"bedroom\" or token.head.text == \"bed\" or token.head.text == \"windows\" or token.head.text == \"toiletries\" or token.head.text == \"bathroom\" or token.head.text == \"mattress\" or token.head.text == \"furniture\" or token.head.text == \"rooftop\" or token.head.text == \"guestrooms\" or token.head.text == \"staff\" or token.head.text == \"doormen\" or token.head.text == \"bellmen\" or token.head.text == \"concierge\" or token.head.text == \"members\" or token.head.text == \"employees\" or token.head.text == \"bartenders\" or token.head.text == \"bellman\" or token.head.text == \"doorman\" or token.head.text == \"captain\" or token.head.text == \"maids\" or token.head.text == \"housekeeping\":                   \n",
    "                if (doc[token.i+1].pos_ == \"VERB\" or doc[token.i+1].pos_ == \"AUX\") or (doc[token.i-1].pos_ == \"VERB\" or doc[token.i-1].pos_ == \"AUX\") :                    \n",
    "                    hotel_word_count += 1\n",
    "                    print(token.text)\n",
    "                    \n",
    "\n",
    "# Print the number of hotel-related words in the text\n",
    "print(f\"The text contains {hotel_word_count} words used to describe hotels.\")"
   ]
  },
  {
   "cell_type": "code",
   "execution_count": 13,
   "id": "1af117e2",
   "metadata": {},
   "outputs": [
    {
     "name": "stdout",
     "output_type": "stream",
     "text": [
      "yes it is a good looking hotel but water supply is bad and the hotel management is not competent to handle an emergency situation such as this.\n",
      " some of the things we noted on our last visit (in our “upgraded” deluxe room),  - no water bottles in the room - the cold water water faucet was barely more than a fast drip - one of the robes had holes in it (see photo) - the room safe was broken and we had to summon security twice to remove our possessions - one day the maid didn’t leave us any towels - a rather antiquated bath/shower (instead of stall shower) - exorbitantly priced wi-fi for this day and age  the staff are still great and the location is terrific, but unfortunately that’s not enough.\n",
      "it was good sized room with a decent sized bathroom, bigger than most nyc hotel rooms and with a great view of the st. patrick's cathedral.\n",
      "while the room safe didn't work, security was only too glad to open it at a moments notice, cleaning staff friendly and prompt & walk to shops was short & easy!\n",
      "the staff so helpful at recommending good place to eat and see in the city.\n"
     ]
    }
   ],
   "source": [
    "wordcomp2 = [\"continued\", \"unexpected\", \"giving\", \"complaining\", \"noted\", \"neither\", \"convinced\", \"dropping\", \"sorted\", \"bothered\", \"secure\", \"strong\", \"good\", \"safe\"]\n",
    "\n",
    "for review in df['content']:\n",
    "  doc = nlp(review)\n",
    "  for token in doc:\n",
    "    if token.pos_ == \"ADJ\":\n",
    "        if token.text in wordcomp2:\n",
    "            if token.head.text == \"hotel\" or token.head.text == \"property\" or token.head.text == \"place\" or token.head.text == \"palace\" or token.head.text == \"lotte\" or token.head.text == \"decorations\" or token.head.text == \"exterior\" or token.head.text == \"interior\" or token.head.text == \"gym\" or token.head.text == \"architecture\" or token.head.text == \"room\" or token.head.text == \"bedroom\" or token.head.text == \"bed\" or token.head.text == \"windows\" or token.head.text == \"toiletries\" or token.head.text == \"bathroom\" or token.head.text == \"mattress\" or token.head.text == \"furniture\" or token.head.text == \"rooftop\" or token.head.text == \"guestrooms\" or token.head.text == \"staff\" or token.head.text == \"doormen\" or token.head.text == \"bellmen\" or token.head.text == \"concierge\" or token.head.text == \"members\" or token.head.text == \"employees\" or token.head.text == \"bartenders\" or token.head.text == \"bellman\" or token.head.text == \"doorman\" or token.head.text == \"captain\" or token.head.text == \"maids\" or token.head.text == \"housekeeping\":                   \n",
    "                if (doc[token.i+1].pos_ == \"VERB\" or doc[token.i+1].pos_ == \"AUX\") or (doc[token.i-1].pos_ == \"VERB\" or doc[token.i-1].pos_ == \"AUX\") :                    \n",
    "                    print(token.sent.text)"
   ]
  },
  {
   "cell_type": "code",
   "execution_count": null,
   "id": "83517d39",
   "metadata": {},
   "outputs": [],
   "source": [
    "wordcomp2 = [\"continued\", \"unexpected\", \"giving\", \"complaining\", \"noted\", \"neither\", \"convinced\", \"dropping\", \"sorted\", \"bothered\", \"secure\", \"strong\", \"good\", \"safe\"]\n",
    "# Tokenize the sentence\n",
    "doc = nlp(\"it was very close to rock center s i this is a good hotel for sightseeing highly recommend the courtyard outside is a good place to relax and meet friends.\")\n",
    "# Loop through the tokens and count the number of adjectives that describe the \"hotel\" word\n",
    "hotel_word_count = 0\n",
    "for token in doc:\n",
    "    if token.pos_ == \"ADJ\":\n",
    "        if token.text in wordcomp2:\n",
    "            if token.head.text == \"hotel\" or token.head.pos_ == \"VERB\" or token.head.pos_ == \"AUX\" or token.head.text == \"property\" or token.head.text == \"place\" or token.head.text == \"palace\" or token.head.text == \"lotte\" :    \n",
    "                if (doc[token.i+1].pos_ == \"VERB\" or doc[token.i+1].pos_ == \"AUX\") or (doc[token.i-1].pos_ == \"VERB\" or doc[token.i-1].pos_ == \"AUX\") :                    \n",
    "                    hotel_word_count += 1\n",
    "               \n",
    "# Print the final count of adjectives\n",
    "print(f\"The word 'hotel' has {hotel_word_count} adjectives that describe it.\")"
   ]
  },
  {
   "cell_type": "code",
   "execution_count": null,
   "id": "f2a27d81",
   "metadata": {},
   "outputs": [],
   "source": [
    "displacy.render(doc, style=\"dep\")"
   ]
  },
  {
   "cell_type": "code",
   "execution_count": 107,
   "id": "658db8ea",
   "metadata": {},
   "outputs": [
    {
     "name": "stdout",
     "output_type": "stream",
     "text": [
      "The text contains 0 words used to describe hotels.\n"
     ]
    }
   ],
   "source": [
    "contentstr = str(df['content'])\n",
    "# Process text data and create a Doc object\n",
    "df['doc'] = df['content'].apply(nlp)\n",
    "\n",
    "# Initialize a counter for hotel-related words\n",
    "hotel_word_count = 0\n",
    "\n",
    "wordcomp3 = [\"trying\", \"annoyed\", \"fixed\", \"frustated\", \"granted\", \"difficult\", \"off\", \"connected\", \"pointed\", \"pop\", \"technical\", \"expert\"]\n",
    "\n",
    "# Iterate over the tokens in the Doc\n",
    "for review in df['content']:\n",
    "  doc = nlp(review)\n",
    "  for token in doc:\n",
    "    if token.pos_ == \"ADJ\":\n",
    "        if token.text in wordcomp3:\n",
    "            # Check if the head is \"hotel\" and the next token is a verb or auxiliary verb\n",
    "            if token.head.text == \"hotel\" or token.head.text == \"property\" or token.head.text == \"place\" or token.head.text == \"palace\" or token.head.text == \"lotte\" or token.head.text == \"decorations\" or token.head.text == \"exterior\" or token.head.text == \"interior\" or token.head.text == \"gym\" or token.head.text == \"architecture\" or token.head.text == \"room\" or token.head.text == \"bedroom\" or token.head.text == \"bed\" or token.head.text == \"windows\" or token.head.text == \"toiletries\" or token.head.text == \"bathroom\" or token.head.text == \"mattress\" or token.head.text == \"furniture\" or token.head.text == \"rooftop\" or token.head.text == \"guestrooms\" or token.head.text == \"staff\" or token.head.text == \"doormen\" or token.head.text == \"bellmen\" or token.head.text == \"concierge\" or token.head.text == \"members\" or token.head.text == \"employees\" or token.head.text == \"bartenders\" or token.head.text == \"bellman\" or token.head.text == \"doorman\" or token.head.text == \"captain\" or token.head.text == \"maids\" or token.head.text == \"housekeeping\":                   \n",
    "                if (doc[token.i+1].pos_ == \"VERB\" or doc[token.i+1].pos_ == \"AUX\") or (doc[token.i-1].pos_ == \"VERB\" or doc[token.i-1].pos_ == \"AUX\") :                    \n",
    "                    hotel_word_count += 1\n",
    "                    print(token.text)\n",
    "                    \n",
    "\n",
    "# Print the number of hotel-related words in the text\n",
    "print(f\"The text contains {hotel_word_count} words used to describe hotels.\")"
   ]
  },
  {
   "cell_type": "code",
   "execution_count": 108,
   "id": "5531567a",
   "metadata": {},
   "outputs": [],
   "source": [
    "wordcomp3 = [\"trying\", \"annoyed\", \"fixed\", \"frustated\", \"granted\", \"difficult\", \"off\", \"connected\", \"pointed\", \"pop\", \"technical\", \"expert\"]\n",
    "\n",
    "for review in df['content']:\n",
    "  doc = nlp(review)\n",
    "  for token in doc:\n",
    "    if token.pos_ == \"ADJ\":\n",
    "        if token.text in wordcomp3:\n",
    "            if token.head.text == \"hotel\" or token.head.text == \"property\" or token.head.text == \"place\" or token.head.text == \"palace\" or token.head.text == \"lotte\" or token.head.text == \"decorations\" or token.head.text == \"exterior\" or token.head.text == \"interior\" or token.head.text == \"gym\" or token.head.text == \"architecture\" or token.head.text == \"room\" or token.head.text == \"bedroom\" or token.head.text == \"bed\" or token.head.text == \"windows\" or token.head.text == \"toiletries\" or token.head.text == \"bathroom\" or token.head.text == \"mattress\" or token.head.text == \"furniture\" or token.head.text == \"rooftop\" or token.head.text == \"guestrooms\" or token.head.text == \"staff\" or token.head.text == \"doormen\" or token.head.text == \"bellmen\" or token.head.text == \"concierge\" or token.head.text == \"members\" or token.head.text == \"employees\" or token.head.text == \"bartenders\" or token.head.text == \"bellman\" or token.head.text == \"doorman\" or token.head.text == \"captain\" or token.head.text == \"maids\" or token.head.text == \"housekeeping\":                   \n",
    "                if (doc[token.i+1].pos_ == \"VERB\" or doc[token.i+1].pos_ == \"AUX\") or (doc[token.i-1].pos_ == \"VERB\" or doc[token.i-1].pos_ == \"AUX\") :                    \n",
    "                    print(token.sent.text)"
   ]
  },
  {
   "cell_type": "code",
   "execution_count": null,
   "id": "b3c01ecc",
   "metadata": {},
   "outputs": [],
   "source": [
    "wordcomp3 = [\"trying\", \"annoyed\", \"fixed\", \"frustated\", \"granted\", \"difficult\", \"off\", \"connected\", \"pointed\", \"pop\", \"technical\", \"expert\"]\n",
    "# Tokenize the sentence\n",
    "doc = nlp(\"it was very close to rock center s i this is a good hotel for sightseeing highly recommend the courtyard outside is a good place to relax and meet friends.\")\n",
    "# Loop through the tokens and count the number of adjectives that describe the \"hotel\" word\n",
    "hotel_word_count = 0\n",
    "for token in doc:\n",
    "    if token.pos_ == \"ADJ\":\n",
    "        if token.text in wordcomp3:\n",
    "            if token.head.text == \"hotel\" or token.head.pos_ == \"VERB\" or token.head.pos_ == \"AUX\" or token.head.text == \"property\" or token.head.text == \"place\" or token.head.text == \"palace\" or token.head.text == \"lotte\" :    \n",
    "                if (doc[token.i+1].pos_ == \"VERB\" or doc[token.i+1].pos_ == \"AUX\") or (doc[token.i-1].pos_ == \"VERB\" or doc[token.i-1].pos_ == \"AUX\") :                    \n",
    "                    hotel_word_count += 1\n",
    "               \n",
    "# Print the final count of adjectives\n",
    "print(f\"The word 'hotel' has {hotel_word_count} adjectives that describe it.\")"
   ]
  },
  {
   "cell_type": "code",
   "execution_count": null,
   "id": "5eb0594e",
   "metadata": {},
   "outputs": [],
   "source": [
    "displacy.render(doc, style=\"dep\")"
   ]
  },
  {
   "cell_type": "code",
   "execution_count": 109,
   "id": "bcd22346",
   "metadata": {},
   "outputs": [
    {
     "name": "stdout",
     "output_type": "stream",
     "text": [
      "The text contains 0 words used to describe hotels.\n"
     ]
    }
   ],
   "source": [
    "contentstr = str(df['content'])\n",
    "# Process text data and create a Doc object\n",
    "df['doc'] = df['content'].apply(nlp)\n",
    "\n",
    "# Initialize a counter for hotel-related words\n",
    "hotel_word_count = 0\n",
    "\n",
    "wordcomp4 = [\"learned\", \"frequent\", \"gone\", \"cutting\", \"unacceptable\", \"oriental\", \"competitive\", \"worst\", \"significant\", \"aware\", \"corporate\", \"bodied\", \"embodied\", \"incorporated\"]\n",
    "\n",
    "# Iterate over the tokens in the Doc\n",
    "for review in df['content']:\n",
    "  doc = nlp(review)\n",
    "  for token in doc:\n",
    "    if token.pos_ == \"ADJ\":\n",
    "        if token.text in wordcomp4:\n",
    "            # Check if the head is \"hotel\" and the next token is a verb or auxiliary verb\n",
    "            if token.head.text == \"hotel\" or token.head.text == \"property\" or token.head.text == \"place\" or token.head.text == \"palace\" or token.head.text == \"lotte\" or token.head.text == \"decorations\" or token.head.text == \"exterior\" or token.head.text == \"interior\" or token.head.text == \"gym\" or token.head.text == \"architecture\" or token.head.text == \"room\" or token.head.text == \"bedroom\" or token.head.text == \"bed\" or token.head.text == \"windows\" or token.head.text == \"toiletries\" or token.head.text == \"bathroom\" or token.head.text == \"mattress\" or token.head.text == \"furniture\" or token.head.text == \"rooftop\" or token.head.text == \"guestrooms\" or token.head.text == \"staff\" or token.head.text == \"doormen\" or token.head.text == \"bellmen\" or token.head.text == \"concierge\" or token.head.text == \"members\" or token.head.text == \"employees\" or token.head.text == \"bartenders\" or token.head.text == \"bellman\" or token.head.text == \"doorman\" or token.head.text == \"captain\" or token.head.text == \"maids\" or token.head.text == \"housekeeping\":                   \n",
    "                if (doc[token.i+1].pos_ == \"VERB\" or doc[token.i+1].pos_ == \"AUX\") or (doc[token.i-1].pos_ == \"VERB\" or doc[token.i-1].pos_ == \"AUX\") :                    \n",
    "                    hotel_word_count += 1\n",
    "                    print(token.text)\n",
    "                    \n",
    "\n",
    "# Print the number of hotel-related words in the text\n",
    "print(f\"The text contains {hotel_word_count} words used to describe hotels.\")"
   ]
  },
  {
   "cell_type": "code",
   "execution_count": 110,
   "id": "66022c4d",
   "metadata": {},
   "outputs": [],
   "source": [
    "wordcomp4 = [\"learned\", \"frequent\", \"gone\", \"cutting\", \"unacceptable\", \"oriental\", \"competitive\", \"worst\", \"significant\", \"aware\", \"corporate\", \"bodied\", \"embodied\", \"incorporated\"]\n",
    "\n",
    "for review in df['content']:\n",
    "  doc = nlp(review)\n",
    "  for token in doc:\n",
    "    if token.pos_ == \"ADJ\":\n",
    "        if token.text in wordcomp4:\n",
    "            if token.head.text == \"hotel\" or token.head.text == \"property\" or token.head.text == \"place\" or token.head.text == \"palace\" or token.head.text == \"lotte\" or token.head.text == \"decorations\" or token.head.text == \"exterior\" or token.head.text == \"interior\" or token.head.text == \"gym\" or token.head.text == \"architecture\" or token.head.text == \"room\" or token.head.text == \"bedroom\" or token.head.text == \"bed\" or token.head.text == \"windows\" or token.head.text == \"toiletries\" or token.head.text == \"bathroom\" or token.head.text == \"mattress\" or token.head.text == \"furniture\" or token.head.text == \"rooftop\" or token.head.text == \"guestrooms\" or token.head.text == \"staff\" or token.head.text == \"doormen\" or token.head.text == \"bellmen\" or token.head.text == \"concierge\" or token.head.text == \"members\" or token.head.text == \"employees\" or token.head.text == \"bartenders\" or token.head.text == \"bellman\" or token.head.text == \"doorman\" or token.head.text == \"captain\" or token.head.text == \"maids\" or token.head.text == \"housekeeping\":                   \n",
    "                if (doc[token.i+1].pos_ == \"VERB\" or doc[token.i+1].pos_ == \"AUX\") or (doc[token.i-1].pos_ == \"VERB\" or doc[token.i-1].pos_ == \"AUX\") :                    \n",
    "                    print(token.sent.text)"
   ]
  },
  {
   "cell_type": "code",
   "execution_count": null,
   "id": "1b794997",
   "metadata": {},
   "outputs": [],
   "source": [
    "wordcomp4 = [\"learned\", \"frequent\", \"gone\", \"cutting\", \"unacceptable\", \"oriental\", \"competitive\", \"worst\", \"significant\", \"aware\", \"corporate\", \"bodied\", \"embodied\", \"incorporated\"]\n",
    "# Tokenize the sentence\n",
    "doc = nlp(\"it was very close to rock center s i this is a good hotel for sightseeing highly recommend the courtyard outside is a good place to relax and meet friends.\")\n",
    "# Loop through the tokens and count the number of adjectives that describe the \"hotel\" word\n",
    "hotel_word_count = 0\n",
    "for token in doc:\n",
    "    if token.pos_ == \"ADJ\":\n",
    "        if token.text in wordcomp4:\n",
    "            if token.head.text == \"hotel\" or token.head.pos_ == \"VERB\" or token.head.pos_ == \"AUX\" or token.head.text == \"property\" or token.head.text == \"place\" or token.head.text == \"palace\" or token.head.text == \"lotte\" :    \n",
    "                if (doc[token.i+1].pos_ == \"VERB\" or doc[token.i+1].pos_ == \"AUX\") or (doc[token.i-1].pos_ == \"VERB\" or doc[token.i-1].pos_ == \"AUX\") :                    \n",
    "                    hotel_word_count += 1\n",
    "               \n",
    "# Print the final count of adjectives\n",
    "print(f\"The word 'hotel' has {hotel_word_count} adjectives that describe it.\")"
   ]
  },
  {
   "cell_type": "code",
   "execution_count": null,
   "id": "30aa196d",
   "metadata": {},
   "outputs": [],
   "source": [
    "displacy.render(doc, style=\"dep\")"
   ]
  },
  {
   "cell_type": "code",
   "execution_count": 111,
   "id": "9c7fa765",
   "metadata": {},
   "outputs": [
    {
     "name": "stdout",
     "output_type": "stream",
     "text": [
      "The text contains 0 words used to describe hotels.\n"
     ]
    }
   ],
   "source": [
    "contentstr = str(df['content'])\n",
    "# Process text data and create a Doc object\n",
    "df['doc'] = df['content'].apply(nlp)\n",
    "\n",
    "# Initialize a counter for hotel-related words\n",
    "hotel_word_count = 0\n",
    "\n",
    "wordcomp5 = [\"remarkable\", \"grateful\", \"possible\", \"excuted\", \"delighted\", \"spoiled\", \"learned\", \"hasty\", \"meet\", \"settled\", \"successful\"]\n",
    "\n",
    "# Iterate over the tokens in the Doc\n",
    "for review in df['content']:\n",
    "  doc = nlp(review)\n",
    "  for token in doc:\n",
    "    if token.pos_ == \"ADJ\":\n",
    "        if token.text in wordcomp5:\n",
    "            # Check if the head is \"hotel\" and the next token is a verb or auxiliary verb\n",
    "            if token.head.text == \"hotel\" or token.head.text == \"property\" or token.head.text == \"place\" or token.head.text == \"palace\" or token.head.text == \"lotte\" or token.head.text == \"decorations\" or token.head.text == \"exterior\" or token.head.text == \"interior\" or token.head.text == \"gym\" or token.head.text == \"architecture\" or token.head.text == \"room\" or token.head.text == \"bedroom\" or token.head.text == \"bed\" or token.head.text == \"windows\" or token.head.text == \"toiletries\" or token.head.text == \"bathroom\" or token.head.text == \"mattress\" or token.head.text == \"furniture\" or token.head.text == \"rooftop\" or token.head.text == \"guestrooms\" or token.head.text == \"staff\" or token.head.text == \"doormen\" or token.head.text == \"bellmen\" or token.head.text == \"concierge\" or token.head.text == \"members\" or token.head.text == \"employees\" or token.head.text == \"bartenders\" or token.head.text == \"bellman\" or token.head.text == \"doorman\" or token.head.text == \"captain\" or token.head.text == \"maids\" or token.head.text == \"housekeeping\":                   \n",
    "                if (doc[token.i+1].pos_ == \"VERB\" or doc[token.i+1].pos_ == \"AUX\") or (doc[token.i-1].pos_ == \"VERB\" or doc[token.i-1].pos_ == \"AUX\") :                    \n",
    "                    hotel_word_count += 1\n",
    "                    print(token.text)\n",
    "                    \n",
    "\n",
    "# Print the number of hotel-related words in the text\n",
    "print(f\"The text contains {hotel_word_count} words used to describe hotels.\")"
   ]
  },
  {
   "cell_type": "code",
   "execution_count": 112,
   "id": "95e63889",
   "metadata": {},
   "outputs": [],
   "source": [
    "wordcomp5 = [\"remarkable\", \"grateful\", \"possible\", \"excuted\", \"delighted\", \"spoiled\", \"learned\", \"hasty\", \"meet\", \"settled\", \"successful\"]\n",
    "\n",
    "for review in df['content']:\n",
    "  doc = nlp(review)\n",
    "  for token in doc:\n",
    "    if token.pos_ == \"ADJ\":\n",
    "        if token.text in wordcomp5:\n",
    "            if token.head.text == \"hotel\" or token.head.text == \"property\" or token.head.text == \"place\" or token.head.text == \"palace\" or token.head.text == \"lotte\" or token.head.text == \"decorations\" or token.head.text == \"exterior\" or token.head.text == \"interior\" or token.head.text == \"gym\" or token.head.text == \"architecture\" or token.head.text == \"room\" or token.head.text == \"bedroom\" or token.head.text == \"bed\" or token.head.text == \"windows\" or token.head.text == \"toiletries\" or token.head.text == \"bathroom\" or token.head.text == \"mattress\" or token.head.text == \"furniture\" or token.head.text == \"rooftop\" or token.head.text == \"guestrooms\" or token.head.text == \"staff\" or token.head.text == \"doormen\" or token.head.text == \"bellmen\" or token.head.text == \"concierge\" or token.head.text == \"members\" or token.head.text == \"employees\" or token.head.text == \"bartenders\" or token.head.text == \"bellman\" or token.head.text == \"doorman\" or token.head.text == \"captain\" or token.head.text == \"maids\" or token.head.text == \"housekeeping\":                   \n",
    "                if (doc[token.i+1].pos_ == \"VERB\" or doc[token.i+1].pos_ == \"AUX\") or (doc[token.i-1].pos_ == \"VERB\" or doc[token.i-1].pos_ == \"AUX\") :                    \n",
    "                    print(token.sent.text)"
   ]
  },
  {
   "cell_type": "code",
   "execution_count": null,
   "id": "c292a477",
   "metadata": {},
   "outputs": [],
   "source": [
    "wordcomp5 = [\"remarkable\", \"grateful\", \"possible\", \"excuted\", \"delighted\", \"spoiled\", \"learned\", \"hasty\", \"meet\", \"settled\", \"successful\"]\n",
    "# Tokenize the sentence\n",
    "doc = nlp(\"it was very close to rock center s i this is a good hotel for sightseeing highly recommend the courtyard outside is a good place to relax and meet friends.\")\n",
    "# Loop through the tokens and count the number of adjectives that describe the \"hotel\" word\n",
    "hotel_word_count = 0\n",
    "for token in doc:\n",
    "    if token.pos_ == \"ADJ\":\n",
    "        if token.text in wordcomp5:\n",
    "            if token.head.text == \"hotel\" or token.head.pos_ == \"VERB\" or token.head.pos_ == \"AUX\" or token.head.text == \"property\" or token.head.text == \"place\" or token.head.text == \"palace\" or token.head.text == \"lotte\" :    \n",
    "                if (doc[token.i+1].pos_ == \"VERB\" or doc[token.i+1].pos_ == \"AUX\") or (doc[token.i-1].pos_ == \"VERB\" or doc[token.i-1].pos_ == \"AUX\") :                    \n",
    "                    hotel_word_count += 1\n",
    "               \n",
    "# Print the final count of adjectives\n",
    "print(f\"The word 'hotel' has {hotel_word_count} adjectives that describe it.\")"
   ]
  },
  {
   "cell_type": "code",
   "execution_count": null,
   "id": "69be1e1d",
   "metadata": {},
   "outputs": [],
   "source": [
    "displacy.render(doc, style=\"dep\")"
   ]
  },
  {
   "cell_type": "code",
   "execution_count": 3,
   "id": "4ee561d4",
   "metadata": {},
   "outputs": [
    {
     "name": "stdout",
     "output_type": "stream",
     "text": [
      "5\n"
     ]
    }
   ],
   "source": [
    "frekcompetence = 5\n",
    "print(frekcompetence)"
   ]
  },
  {
   "cell_type": "markdown",
   "id": "ddbb4a1a",
   "metadata": {},
   "source": [
    "# Dimensi Sophistication"
   ]
  },
  {
   "cell_type": "code",
   "execution_count": 113,
   "id": "7477a05d",
   "metadata": {},
   "outputs": [
    {
     "name": "stdout",
     "output_type": "stream",
     "text": [
      "The text contains 0 words used to describe hotels.\n"
     ]
    }
   ],
   "source": [
    "contentstr = str(df['content'])\n",
    "# Process text data and create a Doc object\n",
    "df['doc'] = df['content'].apply(nlp)\n",
    "\n",
    "# Initialize a counter for hotel-related words\n",
    "hotel_word_count = 0\n",
    "\n",
    "wordsoph1 = [\"countless\", \"favorite\", \"world\", \"base\", \"based\", \"traveled\", \"iconic\", \"extravagant\", \"annual\", \"different\", \"glamorous\"]\n",
    "\n",
    "# Iterate over the tokens in the Doc\n",
    "for review in df['content']:\n",
    "  doc = nlp(review)\n",
    "  for token in doc:\n",
    "    if token.pos_ == \"ADJ\":\n",
    "        if token.text in wordsoph1:\n",
    "            # Check if the head is \"hotel\" and the next token is a verb or auxiliary verb\n",
    "            if token.head.text == \"hotel\" or token.head.text == \"property\" or token.head.text == \"place\" or token.head.text == \"palace\" or token.head.text == \"lotte\" or token.head.text == \"decorations\" or token.head.text == \"exterior\" or token.head.text == \"interior\" or token.head.text == \"gym\" or token.head.text == \"architecture\" or token.head.text == \"room\" or token.head.text == \"bedroom\" or token.head.text == \"bed\" or token.head.text == \"windows\" or token.head.text == \"toiletries\" or token.head.text == \"bathroom\" or token.head.text == \"mattress\" or token.head.text == \"furniture\" or token.head.text == \"rooftop\" or token.head.text == \"guestrooms\" or token.head.text == \"staff\" or token.head.text == \"doormen\" or token.head.text == \"bellmen\" or token.head.text == \"concierge\" or token.head.text == \"members\" or token.head.text == \"employees\" or token.head.text == \"bartenders\" or token.head.text == \"bellman\" or token.head.text == \"doorman\" or token.head.text == \"captain\" or token.head.text == \"maids\" or token.head.text == \"housekeeping\":                   \n",
    "                if (doc[token.i+1].pos_ == \"VERB\" or doc[token.i+1].pos_ == \"AUX\") or (doc[token.i-1].pos_ == \"VERB\" or doc[token.i-1].pos_ == \"AUX\") :                    \n",
    "                    hotel_word_count += 1\n",
    "                    print(token.text)\n",
    "                    \n",
    "\n",
    "# Print the number of hotel-related words in the text\n",
    "print(f\"The text contains {hotel_word_count} words used to describe hotels.\")"
   ]
  },
  {
   "cell_type": "code",
   "execution_count": 114,
   "id": "5c94c251",
   "metadata": {},
   "outputs": [],
   "source": [
    "wordsoph1 = [\"countless\", \"favorite\", \"world\", \"base\", \"based\", \"traveled\", \"iconic\", \"extravagant\", \"annual\", \"different\", \"glamorous\"]\n",
    "\n",
    "for review in df['content']:\n",
    "  doc = nlp(review)\n",
    "  for token in doc:\n",
    "    if token.pos_ == \"ADJ\":\n",
    "        if token.text in wordsoph1:\n",
    "            if token.head.text == \"hotel\" or token.head.text == \"property\" or token.head.text == \"place\" or token.head.text == \"palace\" or token.head.text == \"lotte\" or token.head.text == \"decorations\" or token.head.text == \"exterior\" or token.head.text == \"interior\" or token.head.text == \"gym\" or token.head.text == \"architecture\" or token.head.text == \"room\" or token.head.text == \"bedroom\" or token.head.text == \"bed\" or token.head.text == \"windows\" or token.head.text == \"toiletries\" or token.head.text == \"bathroom\" or token.head.text == \"mattress\" or token.head.text == \"furniture\" or token.head.text == \"rooftop\" or token.head.text == \"guestrooms\" or token.head.text == \"staff\" or token.head.text == \"doormen\" or token.head.text == \"bellmen\" or token.head.text == \"concierge\" or token.head.text == \"members\" or token.head.text == \"employees\" or token.head.text == \"bartenders\" or token.head.text == \"bellman\" or token.head.text == \"doorman\" or token.head.text == \"captain\" or token.head.text == \"maids\" or token.head.text == \"housekeeping\":                   \n",
    "                if (doc[token.i+1].pos_ == \"VERB\" or doc[token.i+1].pos_ == \"AUX\") or (doc[token.i-1].pos_ == \"VERB\" or doc[token.i-1].pos_ == \"AUX\") :                    \n",
    "                    print(token.sent.text)"
   ]
  },
  {
   "cell_type": "code",
   "execution_count": null,
   "id": "5685aab6",
   "metadata": {},
   "outputs": [],
   "source": [
    "wordsoph1 = [\"countless\", \"favorite\", \"world\", \"base\", \"based\", \"traveled\", \"iconic\", \"extravagant\", \"annual\", \"different\", \"glamorous\"]\n",
    "# Tokenize the sentence\n",
    "doc = nlp(\"it was very close to rock center s i this is a good hotel for sightseeing highly recommend the courtyard outside is a good place to relax and meet friends.\")\n",
    "# Loop through the tokens and count the number of adjectives that describe the \"hotel\" word\n",
    "hotel_word_count = 0\n",
    "for token in doc:\n",
    "    if token.pos_ == \"ADJ\":\n",
    "        if token.text in wordsoph1:\n",
    "            if token.head.text == \"hotel\" or token.head.pos_ == \"VERB\" or token.head.pos_ == \"AUX\" or token.head.text == \"property\" or token.head.text == \"place\" or token.head.text == \"palace\" or token.head.text == \"lotte\" :    \n",
    "                if (doc[token.i+1].pos_ == \"VERB\" or doc[token.i+1].pos_ == \"AUX\") or (doc[token.i-1].pos_ == \"VERB\" or doc[token.i-1].pos_ == \"AUX\") :                    \n",
    "                    hotel_word_count += 1\n",
    "               \n",
    "# Print the final count of adjectives\n",
    "print(f\"The word 'hotel' has {hotel_word_count} adjectives that describe it.\")"
   ]
  },
  {
   "cell_type": "code",
   "execution_count": null,
   "id": "6ba5564e",
   "metadata": {},
   "outputs": [],
   "source": [
    "displacy.render(doc, style=\"dep\")"
   ]
  },
  {
   "cell_type": "code",
   "execution_count": 115,
   "id": "15882395",
   "metadata": {},
   "outputs": [
    {
     "name": "stdout",
     "output_type": "stream",
     "text": [
      "The text contains 0 words used to describe hotels.\n"
     ]
    }
   ],
   "source": [
    "contentstr = str(df['content'])\n",
    "# Process text data and create a Doc object\n",
    "df['doc'] = df['content'].apply(nlp)\n",
    "\n",
    "# Initialize a counter for hotel-related words\n",
    "hotel_word_count = 0\n",
    "\n",
    "wordsoph2 = [\"sophisticated\", \"exterior\", \"exquisite\", \"attractive\", \"impressive\", \"historical\", \"inviting\", \"suspect\", \"brilliant\", \"famed\", \"charming\", \"magic\", \"magical\", \"witching\"]\n",
    "\n",
    "# Iterate over the tokens in the Doc\n",
    "for review in df['content']:\n",
    "  doc = nlp(review)\n",
    "  for token in doc:\n",
    "    if token.pos_ == \"ADJ\":\n",
    "        if token.text in wordsoph2:\n",
    "            # Check if the head is \"hotel\" and the next token is a verb or auxiliary verb\n",
    "            if token.head.text == \"hotel\" or token.head.text == \"property\" or token.head.text == \"place\" or token.head.text == \"palace\" or token.head.text == \"lotte\" or token.head.text == \"decorations\" or token.head.text == \"exterior\" or token.head.text == \"interior\" or token.head.text == \"gym\" or token.head.text == \"architecture\" or token.head.text == \"room\" or token.head.text == \"bedroom\" or token.head.text == \"bed\" or token.head.text == \"windows\" or token.head.text == \"toiletries\" or token.head.text == \"bathroom\" or token.head.text == \"mattress\" or token.head.text == \"furniture\" or token.head.text == \"rooftop\" or token.head.text == \"guestrooms\" or token.head.text == \"staff\" or token.head.text == \"doormen\" or token.head.text == \"bellmen\" or token.head.text == \"concierge\" or token.head.text == \"members\" or token.head.text == \"employees\" or token.head.text == \"bartenders\" or token.head.text == \"bellman\" or token.head.text == \"doorman\" or token.head.text == \"captain\" or token.head.text == \"maids\" or token.head.text == \"housekeeping\":                   \n",
    "                if (doc[token.i+1].pos_ == \"VERB\" or doc[token.i+1].pos_ == \"AUX\") or (doc[token.i-1].pos_ == \"VERB\" or doc[token.i-1].pos_ == \"AUX\") :                    \n",
    "                    hotel_word_count += 1\n",
    "                    print(token.text)\n",
    "                    \n",
    "\n",
    "# Print the number of hotel-related words in the text\n",
    "print(f\"The text contains {hotel_word_count} words used to describe hotels.\")"
   ]
  },
  {
   "cell_type": "code",
   "execution_count": 116,
   "id": "4f29f617",
   "metadata": {},
   "outputs": [],
   "source": [
    "wordsoph2 = [\"sophisticated\", \"exterior\", \"exquisite\", \"attractive\", \"impressive\", \"historical\", \"inviting\", \"suspect\", \"brilliant\", \"famed\", \"charming\", \"magic\", \"magical\", \"witching\"]\n",
    "\n",
    "for review in df['content']:\n",
    "  doc = nlp(review)\n",
    "  for token in doc:\n",
    "    if token.pos_ == \"ADJ\":\n",
    "        if token.text in wordsoph2:\n",
    "            if token.head.text == \"hotel\" or token.head.text == \"property\" or token.head.text == \"place\" or token.head.text == \"palace\" or token.head.text == \"lotte\" or token.head.text == \"decorations\" or token.head.text == \"exterior\" or token.head.text == \"interior\" or token.head.text == \"gym\" or token.head.text == \"architecture\" or token.head.text == \"room\" or token.head.text == \"bedroom\" or token.head.text == \"bed\" or token.head.text == \"windows\" or token.head.text == \"toiletries\" or token.head.text == \"bathroom\" or token.head.text == \"mattress\" or token.head.text == \"furniture\" or token.head.text == \"rooftop\" or token.head.text == \"guestrooms\" or token.head.text == \"staff\" or token.head.text == \"doormen\" or token.head.text == \"bellmen\" or token.head.text == \"concierge\" or token.head.text == \"members\" or token.head.text == \"employees\" or token.head.text == \"bartenders\" or token.head.text == \"bellman\" or token.head.text == \"doorman\" or token.head.text == \"captain\" or token.head.text == \"maids\" or token.head.text == \"housekeeping\":                   \n",
    "                if (doc[token.i+1].pos_ == \"VERB\" or doc[token.i+1].pos_ == \"AUX\") or (doc[token.i-1].pos_ == \"VERB\" or doc[token.i-1].pos_ == \"AUX\") :                    \n",
    "                    print(token.sent.text)"
   ]
  },
  {
   "cell_type": "code",
   "execution_count": null,
   "id": "b5e9fc84",
   "metadata": {},
   "outputs": [],
   "source": [
    "wordsoph2 = [\"sophisticated\", \"exterior\", \"exquisite\", \"attractive\", \"impressive\", \"historical\", \"inviting\", \"suspect\", \"brilliant\", \"famed\", \"charming\", \"magic\", \"magical\", \"witching\"]\n",
    "# Tokenize the sentence\n",
    "doc = nlp(\"it was very close to rock center s i this is a good hotel for sightseeing highly recommend the courtyard outside is a good place to relax and meet friends.\")\n",
    "# Loop through the tokens and count the number of adjectives that describe the \"hotel\" word\n",
    "hotel_word_count = 0\n",
    "for token in doc:\n",
    "    if token.pos_ == \"ADJ\":\n",
    "        if token.text in wordsoph2:\n",
    "            if token.head.text == \"hotel\" or token.head.pos_ == \"VERB\" or token.head.pos_ == \"AUX\" or token.head.text == \"property\" or token.head.text == \"place\" or token.head.text == \"palace\" or token.head.text == \"lotte\" :    \n",
    "                if (doc[token.i+1].pos_ == \"VERB\" or doc[token.i+1].pos_ == \"AUX\") or (doc[token.i-1].pos_ == \"VERB\" or doc[token.i-1].pos_ == \"AUX\") :                    \n",
    "                    hotel_word_count += 1\n",
    "               \n",
    "# Print the final count of adjectives\n",
    "print(f\"The word 'hotel' has {hotel_word_count} adjectives that describe it.\")"
   ]
  },
  {
   "cell_type": "code",
   "execution_count": null,
   "id": "91fa6ed2",
   "metadata": {},
   "outputs": [],
   "source": [
    "displacy.render(doc, style=\"dep\")"
   ]
  },
  {
   "cell_type": "code",
   "execution_count": 117,
   "id": "efddf184",
   "metadata": {},
   "outputs": [
    {
     "name": "stdout",
     "output_type": "stream",
     "text": [
      "quiet\n",
      "quiet\n",
      "The text contains 2 words used to describe hotels.\n"
     ]
    }
   ],
   "source": [
    "contentstr = str(df['content'])\n",
    "# Process text data and create a Doc object\n",
    "df['doc'] = df['content'].apply(nlp)\n",
    "\n",
    "# Initialize a counter for hotel-related words\n",
    "hotel_word_count = 0\n",
    "\n",
    "wordsoph3 = [\"seamless\", \"swift\", \"sandy\", \"frosty\", \"informative\", \"surly\", \"matt\", \"thorough\", \"understaffed\", \"personable\", \"smooth\", \"bland\", \"fluent\", \"quiet\", \"surly\", \"tranquil\"]\n",
    "\n",
    "# Iterate over the tokens in the Doc\n",
    "for review in df['content']:\n",
    "  doc = nlp(review)\n",
    "  for token in doc:\n",
    "    if token.pos_ == \"ADJ\":\n",
    "        if token.text in wordsoph3:\n",
    "            # Check if the head is \"hotel\" and the next token is a verb or auxiliary verb\n",
    "            if token.head.text == \"hotel\" or token.head.text == \"property\" or token.head.text == \"place\" or token.head.text == \"palace\" or token.head.text == \"lotte\" or token.head.text == \"decorations\" or token.head.text == \"exterior\" or token.head.text == \"interior\" or token.head.text == \"gym\" or token.head.text == \"architecture\" or token.head.text == \"room\" or token.head.text == \"bedroom\" or token.head.text == \"bed\" or token.head.text == \"windows\" or token.head.text == \"toiletries\" or token.head.text == \"bathroom\" or token.head.text == \"mattress\" or token.head.text == \"furniture\" or token.head.text == \"rooftop\" or token.head.text == \"guestrooms\" or token.head.text == \"staff\" or token.head.text == \"doormen\" or token.head.text == \"bellmen\" or token.head.text == \"concierge\" or token.head.text == \"members\" or token.head.text == \"employees\" or token.head.text == \"bartenders\" or token.head.text == \"bellman\" or token.head.text == \"doorman\" or token.head.text == \"captain\" or token.head.text == \"maids\" or token.head.text == \"housekeeping\":                   \n",
    "                if (doc[token.i+1].pos_ == \"VERB\" or doc[token.i+1].pos_ == \"AUX\") or (doc[token.i-1].pos_ == \"VERB\" or doc[token.i-1].pos_ == \"AUX\") :                    \n",
    "                    hotel_word_count += 1\n",
    "                    print(token.text)\n",
    "                    \n",
    "\n",
    "# Print the number of hotel-related words in the text\n",
    "print(f\"The text contains {hotel_word_count} words used to describe hotels.\")"
   ]
  },
  {
   "cell_type": "code",
   "execution_count": 118,
   "id": "7fe9b0dd",
   "metadata": {},
   "outputs": [
    {
     "name": "stdout",
     "output_type": "stream",
     "text": [
      "the hotel is quiet, bed comfy, room clean, spacious, views stunning.\n",
      "warm welcoming staff, beautiful well appointed quiet room, great location.\n"
     ]
    }
   ],
   "source": [
    "wordsoph3 = [\"seamless\", \"swift\", \"sandy\", \"frosty\", \"informative\", \"surly\", \"matt\", \"thorough\", \"understaffed\", \"personable\", \"smooth\", \"bland\", \"fluent\", \"quiet\", \"surly\", \"tranquil\"]\n",
    "\n",
    "for review in df['content']:\n",
    "  doc = nlp(review)\n",
    "  for token in doc:\n",
    "    if token.pos_ == \"ADJ\":\n",
    "        if token.text in wordsoph3:\n",
    "            if token.head.text == \"hotel\" or token.head.text == \"property\" or token.head.text == \"place\" or token.head.text == \"palace\" or token.head.text == \"lotte\" or token.head.text == \"decorations\" or token.head.text == \"exterior\" or token.head.text == \"interior\" or token.head.text == \"gym\" or token.head.text == \"architecture\" or token.head.text == \"room\" or token.head.text == \"bedroom\" or token.head.text == \"bed\" or token.head.text == \"windows\" or token.head.text == \"toiletries\" or token.head.text == \"bathroom\" or token.head.text == \"mattress\" or token.head.text == \"furniture\" or token.head.text == \"rooftop\" or token.head.text == \"guestrooms\" or token.head.text == \"staff\" or token.head.text == \"doormen\" or token.head.text == \"bellmen\" or token.head.text == \"concierge\" or token.head.text == \"members\" or token.head.text == \"employees\" or token.head.text == \"bartenders\" or token.head.text == \"bellman\" or token.head.text == \"doorman\" or token.head.text == \"captain\" or token.head.text == \"maids\" or token.head.text == \"housekeeping\":                   \n",
    "                if (doc[token.i+1].pos_ == \"VERB\" or doc[token.i+1].pos_ == \"AUX\") or (doc[token.i-1].pos_ == \"VERB\" or doc[token.i-1].pos_ == \"AUX\") :                    \n",
    "                    print(token.sent.text)"
   ]
  },
  {
   "cell_type": "code",
   "execution_count": 5,
   "id": "ce167239",
   "metadata": {},
   "outputs": [
    {
     "name": "stdout",
     "output_type": "stream",
     "text": [
      "The word 'hotel' has 0 adjectives that describe it.\n"
     ]
    }
   ],
   "source": [
    "wordsoph3 = [\"seamless\", \"swift\", \"sandy\", \"frosty\", \"informative\", \"surly\", \"matt\", \"thorough\", \"understaffed\", \"personable\", \"smooth\", \"bland\", \"fluent\", \"quiet\", \"surly\", \"tranquil\"]\n",
    "# Tokenize the sentence\n",
    "doc = nlp(\"the hotel is quiet, bed comfy, room clean, spacious, views stunning.\")\n",
    "# Loop through the tokens and count the number of adjectives that describe the \"hotel\" word\n",
    "hotel_word_count = 0\n",
    "for token in doc:\n",
    "    if token.pos_ == \"ADJ\":\n",
    "        if token.text in wordsoph3:\n",
    "            if token.head.text == \"hotel\" or token.head.pos_ == \"VERB\" or token.head.pos_ == \"AUX\" or token.head.text == \"property\" or token.head.text == \"place\" or token.head.text == \"palace\" or token.head.text == \"lotte\" :    \n",
    "                if (doc[token.i+1].pos_ == \"VERB\" or doc[token.i+1].pos_ == \"AUX\") or (doc[token.i-1].pos_ == \"VERB\" or doc[token.i-1].pos_ == \"AUX\") :                    \n",
    "                    hotel_word_count += 1\n",
    "               \n",
    "# Print the final count of adjectives\n",
    "print(f\"The word 'hotel' has {hotel_word_count} adjectives that describe it.\")"
   ]
  },
  {
   "cell_type": "code",
   "execution_count": 6,
   "id": "34451047",
   "metadata": {},
   "outputs": [
    {
     "data": {
      "text/html": [
       "<span class=\"tex2jax_ignore\"><svg xmlns=\"http://www.w3.org/2000/svg\" xmlns:xlink=\"http://www.w3.org/1999/xlink\" xml:lang=\"en\" id=\"70d5eda6586044cbae1ce5b9e4d1e8d0-0\" class=\"displacy\" width=\"1975\" height=\"399.5\" direction=\"ltr\" style=\"max-width: none; height: 399.5px; color: #000000; background: #ffffff; font-family: Arial; direction: ltr\">\n",
       "<text class=\"displacy-token\" fill=\"currentColor\" text-anchor=\"middle\" y=\"309.5\">\n",
       "    <tspan class=\"displacy-word\" fill=\"currentColor\" x=\"50\">the</tspan>\n",
       "    <tspan class=\"displacy-tag\" dy=\"2em\" fill=\"currentColor\" x=\"50\">DET</tspan>\n",
       "</text>\n",
       "\n",
       "<text class=\"displacy-token\" fill=\"currentColor\" text-anchor=\"middle\" y=\"309.5\">\n",
       "    <tspan class=\"displacy-word\" fill=\"currentColor\" x=\"225\">hotel</tspan>\n",
       "    <tspan class=\"displacy-tag\" dy=\"2em\" fill=\"currentColor\" x=\"225\">NOUN</tspan>\n",
       "</text>\n",
       "\n",
       "<text class=\"displacy-token\" fill=\"currentColor\" text-anchor=\"middle\" y=\"309.5\">\n",
       "    <tspan class=\"displacy-word\" fill=\"currentColor\" x=\"400\">is</tspan>\n",
       "    <tspan class=\"displacy-tag\" dy=\"2em\" fill=\"currentColor\" x=\"400\">AUX</tspan>\n",
       "</text>\n",
       "\n",
       "<text class=\"displacy-token\" fill=\"currentColor\" text-anchor=\"middle\" y=\"309.5\">\n",
       "    <tspan class=\"displacy-word\" fill=\"currentColor\" x=\"575\">quiet,</tspan>\n",
       "    <tspan class=\"displacy-tag\" dy=\"2em\" fill=\"currentColor\" x=\"575\">ADJ</tspan>\n",
       "</text>\n",
       "\n",
       "<text class=\"displacy-token\" fill=\"currentColor\" text-anchor=\"middle\" y=\"309.5\">\n",
       "    <tspan class=\"displacy-word\" fill=\"currentColor\" x=\"750\">bed</tspan>\n",
       "    <tspan class=\"displacy-tag\" dy=\"2em\" fill=\"currentColor\" x=\"750\">NOUN</tspan>\n",
       "</text>\n",
       "\n",
       "<text class=\"displacy-token\" fill=\"currentColor\" text-anchor=\"middle\" y=\"309.5\">\n",
       "    <tspan class=\"displacy-word\" fill=\"currentColor\" x=\"925\">comfy,</tspan>\n",
       "    <tspan class=\"displacy-tag\" dy=\"2em\" fill=\"currentColor\" x=\"925\">ADJ</tspan>\n",
       "</text>\n",
       "\n",
       "<text class=\"displacy-token\" fill=\"currentColor\" text-anchor=\"middle\" y=\"309.5\">\n",
       "    <tspan class=\"displacy-word\" fill=\"currentColor\" x=\"1100\">room</tspan>\n",
       "    <tspan class=\"displacy-tag\" dy=\"2em\" fill=\"currentColor\" x=\"1100\">NOUN</tspan>\n",
       "</text>\n",
       "\n",
       "<text class=\"displacy-token\" fill=\"currentColor\" text-anchor=\"middle\" y=\"309.5\">\n",
       "    <tspan class=\"displacy-word\" fill=\"currentColor\" x=\"1275\">clean,</tspan>\n",
       "    <tspan class=\"displacy-tag\" dy=\"2em\" fill=\"currentColor\" x=\"1275\">ADJ</tspan>\n",
       "</text>\n",
       "\n",
       "<text class=\"displacy-token\" fill=\"currentColor\" text-anchor=\"middle\" y=\"309.5\">\n",
       "    <tspan class=\"displacy-word\" fill=\"currentColor\" x=\"1450\">spacious,</tspan>\n",
       "    <tspan class=\"displacy-tag\" dy=\"2em\" fill=\"currentColor\" x=\"1450\">ADJ</tspan>\n",
       "</text>\n",
       "\n",
       "<text class=\"displacy-token\" fill=\"currentColor\" text-anchor=\"middle\" y=\"309.5\">\n",
       "    <tspan class=\"displacy-word\" fill=\"currentColor\" x=\"1625\">views</tspan>\n",
       "    <tspan class=\"displacy-tag\" dy=\"2em\" fill=\"currentColor\" x=\"1625\">NOUN</tspan>\n",
       "</text>\n",
       "\n",
       "<text class=\"displacy-token\" fill=\"currentColor\" text-anchor=\"middle\" y=\"309.5\">\n",
       "    <tspan class=\"displacy-word\" fill=\"currentColor\" x=\"1800\">stunning.</tspan>\n",
       "    <tspan class=\"displacy-tag\" dy=\"2em\" fill=\"currentColor\" x=\"1800\">ADJ</tspan>\n",
       "</text>\n",
       "\n",
       "<g class=\"displacy-arrow\">\n",
       "    <path class=\"displacy-arc\" id=\"arrow-70d5eda6586044cbae1ce5b9e4d1e8d0-0-0\" stroke-width=\"2px\" d=\"M70,264.5 C70,177.0 215.0,177.0 215.0,264.5\" fill=\"none\" stroke=\"currentColor\"/>\n",
       "    <text dy=\"1.25em\" style=\"font-size: 0.8em; letter-spacing: 1px\">\n",
       "        <textPath xlink:href=\"#arrow-70d5eda6586044cbae1ce5b9e4d1e8d0-0-0\" class=\"displacy-label\" startOffset=\"50%\" side=\"left\" fill=\"currentColor\" text-anchor=\"middle\">det</textPath>\n",
       "    </text>\n",
       "    <path class=\"displacy-arrowhead\" d=\"M70,266.5 L62,254.5 78,254.5\" fill=\"currentColor\"/>\n",
       "</g>\n",
       "\n",
       "<g class=\"displacy-arrow\">\n",
       "    <path class=\"displacy-arc\" id=\"arrow-70d5eda6586044cbae1ce5b9e4d1e8d0-0-1\" stroke-width=\"2px\" d=\"M245,264.5 C245,177.0 390.0,177.0 390.0,264.5\" fill=\"none\" stroke=\"currentColor\"/>\n",
       "    <text dy=\"1.25em\" style=\"font-size: 0.8em; letter-spacing: 1px\">\n",
       "        <textPath xlink:href=\"#arrow-70d5eda6586044cbae1ce5b9e4d1e8d0-0-1\" class=\"displacy-label\" startOffset=\"50%\" side=\"left\" fill=\"currentColor\" text-anchor=\"middle\">nsubj</textPath>\n",
       "    </text>\n",
       "    <path class=\"displacy-arrowhead\" d=\"M245,266.5 L237,254.5 253,254.5\" fill=\"currentColor\"/>\n",
       "</g>\n",
       "\n",
       "<g class=\"displacy-arrow\">\n",
       "    <path class=\"displacy-arc\" id=\"arrow-70d5eda6586044cbae1ce5b9e4d1e8d0-0-2\" stroke-width=\"2px\" d=\"M595,264.5 C595,177.0 740.0,177.0 740.0,264.5\" fill=\"none\" stroke=\"currentColor\"/>\n",
       "    <text dy=\"1.25em\" style=\"font-size: 0.8em; letter-spacing: 1px\">\n",
       "        <textPath xlink:href=\"#arrow-70d5eda6586044cbae1ce5b9e4d1e8d0-0-2\" class=\"displacy-label\" startOffset=\"50%\" side=\"left\" fill=\"currentColor\" text-anchor=\"middle\">amod</textPath>\n",
       "    </text>\n",
       "    <path class=\"displacy-arrowhead\" d=\"M595,266.5 L587,254.5 603,254.5\" fill=\"currentColor\"/>\n",
       "</g>\n",
       "\n",
       "<g class=\"displacy-arrow\">\n",
       "    <path class=\"displacy-arc\" id=\"arrow-70d5eda6586044cbae1ce5b9e4d1e8d0-0-3\" stroke-width=\"2px\" d=\"M770,264.5 C770,177.0 915.0,177.0 915.0,264.5\" fill=\"none\" stroke=\"currentColor\"/>\n",
       "    <text dy=\"1.25em\" style=\"font-size: 0.8em; letter-spacing: 1px\">\n",
       "        <textPath xlink:href=\"#arrow-70d5eda6586044cbae1ce5b9e4d1e8d0-0-3\" class=\"displacy-label\" startOffset=\"50%\" side=\"left\" fill=\"currentColor\" text-anchor=\"middle\">compound</textPath>\n",
       "    </text>\n",
       "    <path class=\"displacy-arrowhead\" d=\"M770,266.5 L762,254.5 778,254.5\" fill=\"currentColor\"/>\n",
       "</g>\n",
       "\n",
       "<g class=\"displacy-arrow\">\n",
       "    <path class=\"displacy-arc\" id=\"arrow-70d5eda6586044cbae1ce5b9e4d1e8d0-0-4\" stroke-width=\"2px\" d=\"M420,264.5 C420,89.5 920.0,89.5 920.0,264.5\" fill=\"none\" stroke=\"currentColor\"/>\n",
       "    <text dy=\"1.25em\" style=\"font-size: 0.8em; letter-spacing: 1px\">\n",
       "        <textPath xlink:href=\"#arrow-70d5eda6586044cbae1ce5b9e4d1e8d0-0-4\" class=\"displacy-label\" startOffset=\"50%\" side=\"left\" fill=\"currentColor\" text-anchor=\"middle\">acomp</textPath>\n",
       "    </text>\n",
       "    <path class=\"displacy-arrowhead\" d=\"M920.0,266.5 L928.0,254.5 912.0,254.5\" fill=\"currentColor\"/>\n",
       "</g>\n",
       "\n",
       "<g class=\"displacy-arrow\">\n",
       "    <path class=\"displacy-arc\" id=\"arrow-70d5eda6586044cbae1ce5b9e4d1e8d0-0-5\" stroke-width=\"2px\" d=\"M1120,264.5 C1120,177.0 1265.0,177.0 1265.0,264.5\" fill=\"none\" stroke=\"currentColor\"/>\n",
       "    <text dy=\"1.25em\" style=\"font-size: 0.8em; letter-spacing: 1px\">\n",
       "        <textPath xlink:href=\"#arrow-70d5eda6586044cbae1ce5b9e4d1e8d0-0-5\" class=\"displacy-label\" startOffset=\"50%\" side=\"left\" fill=\"currentColor\" text-anchor=\"middle\">npadvmod</textPath>\n",
       "    </text>\n",
       "    <path class=\"displacy-arrowhead\" d=\"M1120,266.5 L1112,254.5 1128,254.5\" fill=\"currentColor\"/>\n",
       "</g>\n",
       "\n",
       "<g class=\"displacy-arrow\">\n",
       "    <path class=\"displacy-arc\" id=\"arrow-70d5eda6586044cbae1ce5b9e4d1e8d0-0-6\" stroke-width=\"2px\" d=\"M1295,264.5 C1295,89.5 1620.0,89.5 1620.0,264.5\" fill=\"none\" stroke=\"currentColor\"/>\n",
       "    <text dy=\"1.25em\" style=\"font-size: 0.8em; letter-spacing: 1px\">\n",
       "        <textPath xlink:href=\"#arrow-70d5eda6586044cbae1ce5b9e4d1e8d0-0-6\" class=\"displacy-label\" startOffset=\"50%\" side=\"left\" fill=\"currentColor\" text-anchor=\"middle\">amod</textPath>\n",
       "    </text>\n",
       "    <path class=\"displacy-arrowhead\" d=\"M1295,266.5 L1287,254.5 1303,254.5\" fill=\"currentColor\"/>\n",
       "</g>\n",
       "\n",
       "<g class=\"displacy-arrow\">\n",
       "    <path class=\"displacy-arc\" id=\"arrow-70d5eda6586044cbae1ce5b9e4d1e8d0-0-7\" stroke-width=\"2px\" d=\"M1295,264.5 C1295,177.0 1440.0,177.0 1440.0,264.5\" fill=\"none\" stroke=\"currentColor\"/>\n",
       "    <text dy=\"1.25em\" style=\"font-size: 0.8em; letter-spacing: 1px\">\n",
       "        <textPath xlink:href=\"#arrow-70d5eda6586044cbae1ce5b9e4d1e8d0-0-7\" class=\"displacy-label\" startOffset=\"50%\" side=\"left\" fill=\"currentColor\" text-anchor=\"middle\">conj</textPath>\n",
       "    </text>\n",
       "    <path class=\"displacy-arrowhead\" d=\"M1440.0,266.5 L1448.0,254.5 1432.0,254.5\" fill=\"currentColor\"/>\n",
       "</g>\n",
       "\n",
       "<g class=\"displacy-arrow\">\n",
       "    <path class=\"displacy-arc\" id=\"arrow-70d5eda6586044cbae1ce5b9e4d1e8d0-0-8\" stroke-width=\"2px\" d=\"M420,264.5 C420,2.0 1625.0,2.0 1625.0,264.5\" fill=\"none\" stroke=\"currentColor\"/>\n",
       "    <text dy=\"1.25em\" style=\"font-size: 0.8em; letter-spacing: 1px\">\n",
       "        <textPath xlink:href=\"#arrow-70d5eda6586044cbae1ce5b9e4d1e8d0-0-8\" class=\"displacy-label\" startOffset=\"50%\" side=\"left\" fill=\"currentColor\" text-anchor=\"middle\">conj</textPath>\n",
       "    </text>\n",
       "    <path class=\"displacy-arrowhead\" d=\"M1625.0,266.5 L1633.0,254.5 1617.0,254.5\" fill=\"currentColor\"/>\n",
       "</g>\n",
       "\n",
       "<g class=\"displacy-arrow\">\n",
       "    <path class=\"displacy-arc\" id=\"arrow-70d5eda6586044cbae1ce5b9e4d1e8d0-0-9\" stroke-width=\"2px\" d=\"M1645,264.5 C1645,177.0 1790.0,177.0 1790.0,264.5\" fill=\"none\" stroke=\"currentColor\"/>\n",
       "    <text dy=\"1.25em\" style=\"font-size: 0.8em; letter-spacing: 1px\">\n",
       "        <textPath xlink:href=\"#arrow-70d5eda6586044cbae1ce5b9e4d1e8d0-0-9\" class=\"displacy-label\" startOffset=\"50%\" side=\"left\" fill=\"currentColor\" text-anchor=\"middle\">amod</textPath>\n",
       "    </text>\n",
       "    <path class=\"displacy-arrowhead\" d=\"M1790.0,266.5 L1798.0,254.5 1782.0,254.5\" fill=\"currentColor\"/>\n",
       "</g>\n",
       "</svg></span>"
      ],
      "text/plain": [
       "<IPython.core.display.HTML object>"
      ]
     },
     "metadata": {},
     "output_type": "display_data"
    }
   ],
   "source": [
    "displacy.render(doc, style=\"dep\")"
   ]
  },
  {
   "cell_type": "code",
   "execution_count": 4,
   "id": "4b4f3d88",
   "metadata": {},
   "outputs": [
    {
     "name": "stdout",
     "output_type": "stream",
     "text": [
      "2\n"
     ]
    }
   ],
   "source": [
    "freksophistication = 2\n",
    "print(freksophistication)"
   ]
  },
  {
   "cell_type": "markdown",
   "id": "57889a6f",
   "metadata": {},
   "source": [
    "# Dimensi Ruggedness"
   ]
  },
  {
   "cell_type": "code",
   "execution_count": 119,
   "id": "ec51a3dc",
   "metadata": {},
   "outputs": [
    {
     "name": "stdout",
     "output_type": "stream",
     "text": [
      "friendlier\n",
      "The text contains 1 words used to describe hotels.\n"
     ]
    }
   ],
   "source": [
    "contentstr = str(df['content'])\n",
    "# Process text data and create a Doc object\n",
    "df['doc'] = df['content'].apply(nlp)\n",
    "\n",
    "# Initialize a counter for hotel-related words\n",
    "hotel_word_count = 0\n",
    "\n",
    "wordrug1 = [\"indifferent\", \"personalized\", \"careful\", \"accurate\", \"boss\", \"friendlier\", \"appropriate\", \"certain\", \"slight\", \"game\", \"tough\", \"rugged\", \"bad\", \"hard\", \"baffling\", \"elusive\", \"problematic\"]\n",
    "\n",
    "# Iterate over the tokens in the Doc\n",
    "for review in df['content']:\n",
    "  doc = nlp(review)\n",
    "  for token in doc:\n",
    "    if token.pos_ == \"ADJ\":\n",
    "        if token.text in wordrug1:\n",
    "            # Check if the head is \"hotel\" and the next token is a verb or auxiliary verb\n",
    "            if token.head.text == \"hotel\" or token.head.text == \"property\" or token.head.text == \"place\" or token.head.text == \"palace\" or token.head.text == \"lotte\" or token.head.text == \"decorations\" or token.head.text == \"exterior\" or token.head.text == \"interior\" or token.head.text == \"gym\" or token.head.text == \"architecture\" or token.head.text == \"room\" or token.head.text == \"bedroom\" or token.head.text == \"bed\" or token.head.text == \"windows\" or token.head.text == \"toiletries\" or token.head.text == \"bathroom\" or token.head.text == \"mattress\" or token.head.text == \"furniture\" or token.head.text == \"rooftop\" or token.head.text == \"guestrooms\" or token.head.text == \"staff\" or token.head.text == \"doormen\" or token.head.text == \"bellmen\" or token.head.text == \"concierge\" or token.head.text == \"members\" or token.head.text == \"employees\" or token.head.text == \"bartenders\" or token.head.text == \"bellman\" or token.head.text == \"doorman\" or token.head.text == \"captain\" or token.head.text == \"maids\" or token.head.text == \"housekeeping\":                   \n",
    "                if (doc[token.i+1].pos_ == \"VERB\" or doc[token.i+1].pos_ == \"AUX\") or (doc[token.i-1].pos_ == \"VERB\" or doc[token.i-1].pos_ == \"AUX\") :                    \n",
    "                    hotel_word_count += 1\n",
    "                    print(token.text)\n",
    "                    \n",
    "\n",
    "# Print the number of hotel-related words in the text\n",
    "print(f\"The text contains {hotel_word_count} words used to describe hotels.\")"
   ]
  },
  {
   "cell_type": "code",
   "execution_count": 120,
   "id": "575f667f",
   "metadata": {},
   "outputs": [
    {
     "name": "stdout",
     "output_type": "stream",
     "text": [
      "the only negative is that it can take a while to get a cab because of the location of the entrance, and there are friendlier doormen in midtown.\n"
     ]
    }
   ],
   "source": [
    "wordrug1 = [\"indifferent\", \"personalized\", \"careful\", \"accurate\", \"boss\", \"friendlier\", \"appropriate\", \"certain\", \"slight\", \"game\", \"tough\", \"rugged\", \"bad\", \"hard\", \"baffling\", \"elusive\", \"problematic\"]\n",
    "\n",
    "for review in df['content']:\n",
    "  doc = nlp(review)\n",
    "  for token in doc:\n",
    "    if token.pos_ == \"ADJ\":\n",
    "        if token.text in wordrug1:\n",
    "            if token.head.text == \"hotel\" or token.head.text == \"property\" or token.head.text == \"place\" or token.head.text == \"palace\" or token.head.text == \"lotte\" or token.head.text == \"decorations\" or token.head.text == \"exterior\" or token.head.text == \"interior\" or token.head.text == \"gym\" or token.head.text == \"architecture\" or token.head.text == \"room\" or token.head.text == \"bedroom\" or token.head.text == \"bed\" or token.head.text == \"windows\" or token.head.text == \"toiletries\" or token.head.text == \"bathroom\" or token.head.text == \"mattress\" or token.head.text == \"furniture\" or token.head.text == \"rooftop\" or token.head.text == \"guestrooms\" or token.head.text == \"staff\" or token.head.text == \"doormen\" or token.head.text == \"bellmen\" or token.head.text == \"concierge\" or token.head.text == \"members\" or token.head.text == \"employees\" or token.head.text == \"bartenders\" or token.head.text == \"bellman\" or token.head.text == \"doorman\" or token.head.text == \"captain\" or token.head.text == \"maids\" or token.head.text == \"housekeeping\":                   \n",
    "                if (doc[token.i+1].pos_ == \"VERB\" or doc[token.i+1].pos_ == \"AUX\") or (doc[token.i-1].pos_ == \"VERB\" or doc[token.i-1].pos_ == \"AUX\") :                    \n",
    "                    print(token.sent.text)"
   ]
  },
  {
   "cell_type": "code",
   "execution_count": 7,
   "id": "b63b6cf0",
   "metadata": {},
   "outputs": [
    {
     "name": "stdout",
     "output_type": "stream",
     "text": [
      "common\n",
      "The text contains 1 words used to describe hotels.\n"
     ]
    }
   ],
   "source": [
    "contentstr = str(df['content'])\n",
    "# Process text data and create a Doc object\n",
    "df['doc'] = df['content'].apply(nlp)\n",
    "\n",
    "# Initialize a counter for hotel-related words\n",
    "hotel_word_count = 0\n",
    "\n",
    "wordrug2 = [\"inside\", \"natural\", \"public\", \"stylish\", \"common\", \"impressive\", \"cool\", \"inviting\", \"fancy\", \"peaceful\", \"crowded\", \"outdoor\", \"outside\", \"gold\", \"sumptuous\", \"galore\"]\n",
    "\n",
    "# Iterate over the tokens in the Doc\n",
    "for review in df['content']:\n",
    "  doc = nlp(review)\n",
    "  for token in doc:\n",
    "    if token.pos_ == \"ADJ\":\n",
    "        if token.text in wordrug2:\n",
    "            # Check if the head is \"hotel\" and the next token is a verb or auxiliary verb\n",
    "            if token.head.text == \"hotel\" or token.head.text == \"property\" or token.head.text == \"place\" or token.head.text == \"palace\" or token.head.text == \"lotte\" or token.head.text == \"decorations\" or token.head.text == \"exterior\" or token.head.text == \"interior\" or token.head.text == \"gym\" or token.head.text == \"architecture\" or token.head.text == \"room\" or token.head.text == \"bedroom\" or token.head.text == \"bed\" or token.head.text == \"windows\" or token.head.text == \"toiletries\" or token.head.text == \"bathroom\" or token.head.text == \"mattress\" or token.head.text == \"furniture\" or token.head.text == \"rooftop\" or token.head.text == \"guestrooms\" or token.head.text == \"staff\" or token.head.text == \"doormen\" or token.head.text == \"bellmen\" or token.head.text == \"concierge\" or token.head.text == \"members\" or token.head.text == \"employees\" or token.head.text == \"bartenders\" or token.head.text == \"bellman\" or token.head.text == \"doorman\" or token.head.text == \"captain\" or token.head.text == \"maids\" or token.head.text == \"housekeeping\":                   \n",
    "                if (doc[token.i+1].pos_ == \"VERB\" or doc[token.i+1].pos_ == \"AUX\") or (doc[token.i-1].pos_ == \"VERB\" or doc[token.i-1].pos_ == \"AUX\") :                    \n",
    "                    hotel_word_count += 1\n",
    "                    print(token.text)\n",
    "                    \n",
    "\n",
    "# Print the number of hotel-related words in the text\n",
    "print(f\"The text contains {hotel_word_count} words used to describe hotels.\")"
   ]
  },
  {
   "cell_type": "code",
   "execution_count": 8,
   "id": "484478a6",
   "metadata": {},
   "outputs": [
    {
     "name": "stdout",
     "output_type": "stream",
     "text": [
      "first and foremost, no complimentary bottled water (seems pretty standard now in high end hotels), a lack of pillows (2 on the bed and only 1 in the closet), no turn down service (at this price and level of hotel should be common place), and the ridiculously low toilet (what does an older person do, or someone with knee problems).\n"
     ]
    }
   ],
   "source": [
    "wordrug2 = [\"inside\", \"natural\", \"public\", \"stylish\", \"common\", \"impressive\", \"cool\", \"inviting\", \"fancy\", \"peaceful\", \"crowded\", \"outdoor\", \"outside\", \"gold\", \"sumptuous\", \"galore\"]\n",
    "\n",
    "for review in df['content']:\n",
    "  doc = nlp(review)\n",
    "  for token in doc:\n",
    "    if token.pos_ == \"ADJ\":\n",
    "        if token.text in wordrug2:\n",
    "            if token.head.text == \"hotel\" or token.head.text == \"property\" or token.head.text == \"place\" or token.head.text == \"palace\" or token.head.text == \"lotte\" or token.head.text == \"decorations\" or token.head.text == \"exterior\" or token.head.text == \"interior\" or token.head.text == \"gym\" or token.head.text == \"architecture\" or token.head.text == \"room\" or token.head.text == \"bedroom\" or token.head.text == \"bed\" or token.head.text == \"windows\" or token.head.text == \"toiletries\" or token.head.text == \"bathroom\" or token.head.text == \"mattress\" or token.head.text == \"furniture\" or token.head.text == \"rooftop\" or token.head.text == \"guestrooms\" or token.head.text == \"staff\" or token.head.text == \"doormen\" or token.head.text == \"bellmen\" or token.head.text == \"concierge\" or token.head.text == \"members\" or token.head.text == \"employees\" or token.head.text == \"bartenders\" or token.head.text == \"bellman\" or token.head.text == \"doorman\" or token.head.text == \"captain\" or token.head.text == \"maids\" or token.head.text == \"housekeeping\":                   \n",
    "                if (doc[token.i+1].pos_ == \"VERB\" or doc[token.i+1].pos_ == \"AUX\") or (doc[token.i-1].pos_ == \"VERB\" or doc[token.i-1].pos_ == \"AUX\") :                    \n",
    "                    print(token.sent.text)"
   ]
  },
  {
   "cell_type": "code",
   "execution_count": null,
   "id": "3e34f0f3",
   "metadata": {},
   "outputs": [],
   "source": [
    "wordrug1 = [\"indifferent\", \"personalized\", \"careful\", \"accurate\", \"boss\", \"friendlier\", \"appropriate\", \"certain\", \"slight\", \"game\", \"tough\", \"rugged\", \"bad\", \"hard\", \"baffling\", \"elusive\", \"problematic\"]\n",
    "# Tokenize the sentence\n",
    "doc = nlp(\"it was very close to rock center s i this is a good hotel for sightseeing highly recommend the courtyard outside is a good place to relax and meet friends.\")\n",
    "# Loop through the tokens and count the number of adjectives that describe the \"hotel\" word\n",
    "hotel_word_count = 0\n",
    "for token in doc:\n",
    "    if token.pos_ == \"ADJ\":\n",
    "        if token.text in wordrug1:\n",
    "            if token.head.text == \"hotel\" or token.head.pos_ == \"VERB\" or token.head.pos_ == \"AUX\" or token.head.text == \"property\" or token.head.text == \"place\" or token.head.text == \"palace\" or token.head.text == \"lotte\" :    \n",
    "                if (doc[token.i+1].pos_ == \"VERB\" or doc[token.i+1].pos_ == \"AUX\") or (doc[token.i-1].pos_ == \"VERB\" or doc[token.i-1].pos_ == \"AUX\") :                    \n",
    "                    hotel_word_count += 1\n",
    "               \n",
    "# Print the final count of adjectives\n",
    "print(f\"The word 'hotel' has {hotel_word_count} adjectives that describe it.\")"
   ]
  },
  {
   "cell_type": "code",
   "execution_count": null,
   "id": "8dc9d076",
   "metadata": {},
   "outputs": [],
   "source": [
    "displacy.render(doc, style=\"dep\")"
   ]
  },
  {
   "cell_type": "code",
   "execution_count": 5,
   "id": "1885cd01",
   "metadata": {},
   "outputs": [
    {
     "name": "stdout",
     "output_type": "stream",
     "text": [
      "2\n"
     ]
    }
   ],
   "source": [
    "frekruggedness = 2\n",
    "print(frekruggedness)"
   ]
  },
  {
   "cell_type": "markdown",
   "id": "23664258",
   "metadata": {},
   "source": [
    "# Dimensi Sustainability"
   ]
  },
  {
   "cell_type": "code",
   "execution_count": 14,
   "id": "548f49f7",
   "metadata": {},
   "outputs": [
    {
     "name": "stdout",
     "output_type": "stream",
     "text": [
      "lovely\n",
      "beautiful\n",
      "beautiful\n",
      "lovely\n",
      "beautiful\n",
      "spacious\n",
      "lovely\n",
      "beautiful\n",
      "beautiful\n",
      "lovely\n",
      "beautiful\n",
      "spacious\n",
      "nice\n",
      "spacious\n",
      "nice\n",
      "nice\n",
      "nice\n",
      "spacious\n",
      "spacious\n",
      "lovely\n",
      "nice\n",
      "lovely\n",
      "nice\n",
      "nice\n",
      "beautiful\n",
      "beautiful\n",
      "nice\n",
      "The text contains 27 words used to describe hotels.\n"
     ]
    }
   ],
   "source": [
    "contentstr = str(df['content'])\n",
    "# Process text data and create a Doc object\n",
    "df['doc'] = df['content'].apply(nlp)\n",
    "\n",
    "# Initialize a counter for hotel-related words\n",
    "hotel_word_count = 0\n",
    "\n",
    "wordsust1 = [\"goregeous\", \"beautiful\", \"decorated\", \"immacurate\", \"incredible\", \"spotless\", \"stunning\", \"spacious\", \"nice\", \"spectacular\", \"lovely\"]\n",
    "\n",
    "# Iterate over the tokens in the Doc\n",
    "for review in df['content']:\n",
    "  doc = nlp(review)\n",
    "  for token in doc:\n",
    "    if token.pos_ == \"ADJ\":\n",
    "        if token.text in wordsust1:\n",
    "            # Check if the head is \"hotel\" and the next token is a verb or auxiliary verb\n",
    "            if token.head.text == \"hotel\" or token.head.text == \"property\" or token.head.text == \"place\" or token.head.text == \"palace\" or token.head.text == \"lotte\" or token.head.text == \"decorations\" or token.head.text == \"exterior\" or token.head.text == \"interior\" or token.head.text == \"gym\" or token.head.text == \"architecture\" or token.head.text == \"room\" or token.head.text == \"bedroom\" or token.head.text == \"bed\" or token.head.text == \"windows\" or token.head.text == \"toiletries\" or token.head.text == \"bathroom\" or token.head.text == \"mattress\" or token.head.text == \"furniture\" or token.head.text == \"rooftop\" or token.head.text == \"guestrooms\" or token.head.text == \"staff\" or token.head.text == \"doormen\" or token.head.text == \"bellmen\" or token.head.text == \"concierge\" or token.head.text == \"members\" or token.head.text == \"employees\" or token.head.text == \"bartenders\" or token.head.text == \"bellman\" or token.head.text == \"doorman\" or token.head.text == \"captain\" or token.head.text == \"maids\" or token.head.text == \"housekeeping\":                   \n",
    "                if (doc[token.i+1].pos_ == \"VERB\" or doc[token.i+1].pos_ == \"AUX\") or (doc[token.i-1].pos_ == \"VERB\" or doc[token.i-1].pos_ == \"AUX\"):\n",
    "                    hotel_word_count += 1\n",
    "                    print(token.text)\n",
    "                    \n",
    "\n",
    "# Print the number of hotel-related words in the text\n",
    "print(f\"The text contains {hotel_word_count} words used to describe hotels.\")"
   ]
  },
  {
   "cell_type": "code",
   "execution_count": 15,
   "id": "c4ad0432",
   "metadata": {},
   "outputs": [
    {
     "name": "stdout",
     "output_type": "stream",
     "text": [
      "we stayed at lotte palace for 4 nights the hotel was lovely staff very friendly and helpful.\n",
      "immaculate beautiful hotel but it’s greatest selling point is that it is centrally located to so many great things in nyc.\n",
      "there were beautiful decorations everywhere and even a hot coco bar.\n",
      "we had a lovely connecting room set up which was great for the kids.\n",
      "beautiful looking hotel,sweeping staircase,chandeliers, nice big bedroom,should be for over $700australian dollars per night, bed only.\n",
      "find the rooms and bathroom spacious and had a great view from the 38th floor!\n",
      "this is lovely hotel although i would question the cost .v.\n",
      "old style new york..beautiful dinning room and marble and wood features.\n",
      "hotel was beautiful and most staff was accommodating, and in a great location.\n",
      "undoubtedly a lovely looking hotel but lacked any personal touches.\n",
      "if you’re catholic (i’m mormon so i appreciate beautiful religious architecture) i’d definitely stay here for the view alone of a beautiful american cathedral.\n",
      "the room was spacious and clean, molten brown toiletries were replenished daily.\n",
      "the room was nice, typical type hotel room with a king size bed, and our room didn't have a view at all.\n",
      " two of the many other positives: excellent room service menu, beautiful & well equipped spacious gym.\n",
      "we went for 5 days as a family and this hotel had the most comfortable of giant beds, clean also, central to all of where we wanted to go, central park 5-10 mins walk away, i would say just go a nice relaxing hotel\n",
      "the shower was great and there were nice toiletries by molton brown.\n",
      " our hotel room was very spacious and had nice toiletries, bedding, towels and robes.\n",
      "rooms were spacious, bed very comfortable, all very clean and the view on the 28th floor was beautiful.\n",
      "i had mailed to say it was a surprise trip for my husbands 40th - they had given us an upgrade to a cathedral view roman 32nd floor room was spacious, huge bed and a nice seating area, bathroom was spacious with lovely towels and toiletries.\n",
      "just back from spending 5 glorious nights at the new york palace.cant praise this hotel enough.room was lovely staff were more than helpful and the small courtyard at the front was a welcome oasis after a long day walking in the new york heat.great venue\n",
      "rooms were nice sized, nice bathroom.\n",
      "great location and good service. had lovely room with great view of st patricks cathedral.\n",
      "room was nice and spacious, comfortable bed which is more than appreciated after a long journey.\n",
      "it is a shame because it is a nice looking hotel with big rooms and a reasonable price but with a little more effort could be much better.\n",
      "hotel is beautiful property with classic public rooms and modern sleeping rooms of good size.\n",
      "we loved our weekend stay at this beautiful remodeled property.\n",
      "if you want the best location in the city ( madison and 50th st), just behind the incredible 5th avenue shops and in front of st patrick's cathedral, if you wand a classy room, if you want nice staff who will be very helpfull, if you want to be like a \" gossip girl\" during your stay in new york, just go to the new york palace!!!!\n"
     ]
    }
   ],
   "source": [
    "wordsust1 = [\"goregeous\", \"beautiful\", \"decorated\", \"immacurate\", \"incredible\", \"spotless\", \"stunning\", \"spacious\", \"nice\", \"spectacular\", \"lovely\"]\n",
    "\n",
    "for review in df['content']:\n",
    "  doc = nlp(review)\n",
    "  for token in doc:\n",
    "    if token.pos_ == \"ADJ\":\n",
    "        if token.text in wordsust1:\n",
    "            if token.head.text == \"hotel\" or token.head.text == \"property\" or token.head.text == \"place\" or token.head.text == \"palace\" or token.head.text == \"lotte\" or token.head.text == \"decorations\" or token.head.text == \"exterior\" or token.head.text == \"interior\" or token.head.text == \"gym\" or token.head.text == \"architecture\" or token.head.text == \"room\" or token.head.text == \"bedroom\" or token.head.text == \"bed\" or token.head.text == \"windows\" or token.head.text == \"toiletries\" or token.head.text == \"bathroom\" or token.head.text == \"mattress\" or token.head.text == \"furniture\" or token.head.text == \"rooftop\" or token.head.text == \"guestrooms\" or token.head.text == \"staff\" or token.head.text == \"doormen\" or token.head.text == \"bellmen\" or token.head.text == \"concierge\" or token.head.text == \"members\" or token.head.text == \"employees\" or token.head.text == \"bartenders\" or token.head.text == \"bellman\" or token.head.text == \"doorman\" or token.head.text == \"captain\" or token.head.text == \"maids\" or token.head.text == \"housekeeping\":                   \n",
    "                if (doc[token.i+1].pos_ == \"VERB\" or doc[token.i+1].pos_ == \"AUX\") or (doc[token.i-1].pos_ == \"VERB\" or doc[token.i-1].pos_ == \"AUX\") :                        \n",
    "                        print(token.sent.text)"
   ]
  },
  {
   "cell_type": "code",
   "execution_count": 90,
   "id": "f97478ba",
   "metadata": {},
   "outputs": [],
   "source": [
    "wordsust1 = [\"goregeous\", \"beautiful\", \"decorated\", \"immacurate\", \"incredible\", \"spotless\", \"stunning\", \"spacious\", \"nice\", \"spectacular\", \"lovely\"]\n",
    "\n",
    "for review in df['content']:\n",
    "  doc = nlp(review)\n",
    "  for token in doc:\n",
    "    if token.pos_ == \"ADJ\":\n",
    "        if token.text in wordsust1:\n",
    "            if token.head.text == \"hotel\" or token.head.text == \"property\" or token.head.text == \"place\" or token.head.text == \"palace\" or token.head.text == \"lotte\" or token.head.text == \"decorations\" or token.head.text == \"exterior\" or token.head.text == \"interior\" or token.head.text == \"gym\" or token.head.text == \"architecture\" or token.head.text == \"room\" or token.head.text == \"bedroom\" or token.head.text == \"bed\" or token.head.text == \"windows\" or token.head.text == \"toiletries\" or token.head.text == \"bathroom\" or token.head.text == \"mattress\" or token.head.text == \"furniture\" or token.head.text == \"rooftop\" or token.head.text == \"guestrooms\" or token.head.text == \"staff\" or token.head.text == \"doormen\" or token.head.text == \"bellmen\" or token.head.text == \"concierge\" or token.head.text == \"members\" or token.head.text == \"employees\" or token.head.text == \"bartenders\" or token.head.text == \"bellman\" or token.head.text == \"doorman\" or token.head.text == \"captain\" or token.head.text == \"maids\" or token.head.text == \"housekeeping\":                   \n",
    "                if (doc[token.i+1].pos_ == \"VERB\" or doc[token.i+1].pos_ == \"AUX\") or (doc[token.i-1].pos_ == \"VERB\" or doc[token.i-1].pos_ == \"AUX\") :                        \n",
    "                    if (doc[token.i+2].pos_ == \"ADJ\" and doc[token.i+2].text in wordsinc1) or (doc[token.i-2].pos_ == \"ADJ\" and doc[token.i-2].text in wordsinc1):                        \n",
    "                        print(token.sent.text)"
   ]
  },
  {
   "cell_type": "code",
   "execution_count": 76,
   "id": "55bfba11",
   "metadata": {},
   "outputs": [
    {
     "name": "stdout",
     "output_type": "stream",
     "text": [
      "The word 'hotel' has 1 adjectives that describe it.\n"
     ]
    }
   ],
   "source": [
    "wordsust1 = [\"goregeous\", \"beautiful\", \"decorated\", \"immacurate\", \"incredible\", \"spotless\", \"stunning\", \"spacious\", \"nice\", \"spectacular\", \"lovely\"]\n",
    "# Tokenize the sentence\n",
    "doc = nlp(\"room was nice and spacious, comfortable bed which is more than appreciated after a long journey.\")\n",
    "# Loop through the tokens and count the number of adjectives that describe the \"hotel\" word\n",
    "hotel_word_count = 0\n",
    "for token in doc:\n",
    "    if token.pos_ == \"ADJ\":\n",
    "        if token.text in wordsust1:\n",
    "            if token.head.text == \"hotel\" or token.head.text == \"property\" or token.head.text == \"place\" or token.head.text == \"palace\" or token.head.text == \"lotte\" or token.head.text == \"decorations\" or token.head.text == \"exterior\" or token.head.text == \"interior\" or token.head.text == \"gym\" or token.head.text == \"architecture\" or token.head.text == \"room\" or token.head.text == \"bedroom\" or token.head.text == \"bed\" or token.head.text == \"windows\" or token.head.text == \"toiletries\" or token.head.text == \"bathroom\" or token.head.text == \"mattress\" or token.head.text == \"furniture\" or token.head.text == \"rooftop\" or token.head.text == \"guestrooms\" or token.head.text == \"staff\" or token.head.text == \"doormen\" or token.head.text == \"bellmen\" or token.head.text == \"concierge\" or token.head.text == \"members\" or token.head.text == \"employees\" or token.head.text == \"bartenders\" or token.head.text == \"bellman\" or token.head.text == \"doorman\" or token.head.text == \"captain\" or token.head.text == \"maids\" or token.head.text == \"housekeeping\":                   \n",
    "                if (doc[token.i+1].pos_ == \"VERB\" or doc[token.i+1].pos_ == \"AUX\") or (doc[token.i-1].pos_ == \"VERB\" or doc[token.i-1].pos_ == \"AUX\"):\n",
    "                        hotel_word_count += 1\n",
    "               \n",
    "# Print the final count of adjectives\n",
    "print(f\"The word 'hotel' has {hotel_word_count} adjectives that describe it.\")"
   ]
  },
  {
   "cell_type": "code",
   "execution_count": 77,
   "id": "20ce3068",
   "metadata": {},
   "outputs": [
    {
     "data": {
      "text/html": [
       "<span class=\"tex2jax_ignore\"><svg xmlns=\"http://www.w3.org/2000/svg\" xmlns:xlink=\"http://www.w3.org/1999/xlink\" xml:lang=\"en\" id=\"aa7148c53d564d228b02f4220d6af909-0\" class=\"displacy\" width=\"2850\" height=\"487.0\" direction=\"ltr\" style=\"max-width: none; height: 487.0px; color: #000000; background: #ffffff; font-family: Arial; direction: ltr\">\n",
       "<text class=\"displacy-token\" fill=\"currentColor\" text-anchor=\"middle\" y=\"397.0\">\n",
       "    <tspan class=\"displacy-word\" fill=\"currentColor\" x=\"50\">room</tspan>\n",
       "    <tspan class=\"displacy-tag\" dy=\"2em\" fill=\"currentColor\" x=\"50\">NOUN</tspan>\n",
       "</text>\n",
       "\n",
       "<text class=\"displacy-token\" fill=\"currentColor\" text-anchor=\"middle\" y=\"397.0\">\n",
       "    <tspan class=\"displacy-word\" fill=\"currentColor\" x=\"225\">was</tspan>\n",
       "    <tspan class=\"displacy-tag\" dy=\"2em\" fill=\"currentColor\" x=\"225\">AUX</tspan>\n",
       "</text>\n",
       "\n",
       "<text class=\"displacy-token\" fill=\"currentColor\" text-anchor=\"middle\" y=\"397.0\">\n",
       "    <tspan class=\"displacy-word\" fill=\"currentColor\" x=\"400\">nice</tspan>\n",
       "    <tspan class=\"displacy-tag\" dy=\"2em\" fill=\"currentColor\" x=\"400\">ADJ</tspan>\n",
       "</text>\n",
       "\n",
       "<text class=\"displacy-token\" fill=\"currentColor\" text-anchor=\"middle\" y=\"397.0\">\n",
       "    <tspan class=\"displacy-word\" fill=\"currentColor\" x=\"575\">and</tspan>\n",
       "    <tspan class=\"displacy-tag\" dy=\"2em\" fill=\"currentColor\" x=\"575\">CCONJ</tspan>\n",
       "</text>\n",
       "\n",
       "<text class=\"displacy-token\" fill=\"currentColor\" text-anchor=\"middle\" y=\"397.0\">\n",
       "    <tspan class=\"displacy-word\" fill=\"currentColor\" x=\"750\">spacious,</tspan>\n",
       "    <tspan class=\"displacy-tag\" dy=\"2em\" fill=\"currentColor\" x=\"750\">ADJ</tspan>\n",
       "</text>\n",
       "\n",
       "<text class=\"displacy-token\" fill=\"currentColor\" text-anchor=\"middle\" y=\"397.0\">\n",
       "    <tspan class=\"displacy-word\" fill=\"currentColor\" x=\"925\">comfortable</tspan>\n",
       "    <tspan class=\"displacy-tag\" dy=\"2em\" fill=\"currentColor\" x=\"925\">ADJ</tspan>\n",
       "</text>\n",
       "\n",
       "<text class=\"displacy-token\" fill=\"currentColor\" text-anchor=\"middle\" y=\"397.0\">\n",
       "    <tspan class=\"displacy-word\" fill=\"currentColor\" x=\"1100\">bed</tspan>\n",
       "    <tspan class=\"displacy-tag\" dy=\"2em\" fill=\"currentColor\" x=\"1100\">NOUN</tspan>\n",
       "</text>\n",
       "\n",
       "<text class=\"displacy-token\" fill=\"currentColor\" text-anchor=\"middle\" y=\"397.0\">\n",
       "    <tspan class=\"displacy-word\" fill=\"currentColor\" x=\"1275\">which</tspan>\n",
       "    <tspan class=\"displacy-tag\" dy=\"2em\" fill=\"currentColor\" x=\"1275\">PRON</tspan>\n",
       "</text>\n",
       "\n",
       "<text class=\"displacy-token\" fill=\"currentColor\" text-anchor=\"middle\" y=\"397.0\">\n",
       "    <tspan class=\"displacy-word\" fill=\"currentColor\" x=\"1450\">is</tspan>\n",
       "    <tspan class=\"displacy-tag\" dy=\"2em\" fill=\"currentColor\" x=\"1450\">AUX</tspan>\n",
       "</text>\n",
       "\n",
       "<text class=\"displacy-token\" fill=\"currentColor\" text-anchor=\"middle\" y=\"397.0\">\n",
       "    <tspan class=\"displacy-word\" fill=\"currentColor\" x=\"1625\">more</tspan>\n",
       "    <tspan class=\"displacy-tag\" dy=\"2em\" fill=\"currentColor\" x=\"1625\">ADJ</tspan>\n",
       "</text>\n",
       "\n",
       "<text class=\"displacy-token\" fill=\"currentColor\" text-anchor=\"middle\" y=\"397.0\">\n",
       "    <tspan class=\"displacy-word\" fill=\"currentColor\" x=\"1800\">than</tspan>\n",
       "    <tspan class=\"displacy-tag\" dy=\"2em\" fill=\"currentColor\" x=\"1800\">ADP</tspan>\n",
       "</text>\n",
       "\n",
       "<text class=\"displacy-token\" fill=\"currentColor\" text-anchor=\"middle\" y=\"397.0\">\n",
       "    <tspan class=\"displacy-word\" fill=\"currentColor\" x=\"1975\">appreciated</tspan>\n",
       "    <tspan class=\"displacy-tag\" dy=\"2em\" fill=\"currentColor\" x=\"1975\">VERB</tspan>\n",
       "</text>\n",
       "\n",
       "<text class=\"displacy-token\" fill=\"currentColor\" text-anchor=\"middle\" y=\"397.0\">\n",
       "    <tspan class=\"displacy-word\" fill=\"currentColor\" x=\"2150\">after</tspan>\n",
       "    <tspan class=\"displacy-tag\" dy=\"2em\" fill=\"currentColor\" x=\"2150\">ADP</tspan>\n",
       "</text>\n",
       "\n",
       "<text class=\"displacy-token\" fill=\"currentColor\" text-anchor=\"middle\" y=\"397.0\">\n",
       "    <tspan class=\"displacy-word\" fill=\"currentColor\" x=\"2325\">a</tspan>\n",
       "    <tspan class=\"displacy-tag\" dy=\"2em\" fill=\"currentColor\" x=\"2325\">DET</tspan>\n",
       "</text>\n",
       "\n",
       "<text class=\"displacy-token\" fill=\"currentColor\" text-anchor=\"middle\" y=\"397.0\">\n",
       "    <tspan class=\"displacy-word\" fill=\"currentColor\" x=\"2500\">long</tspan>\n",
       "    <tspan class=\"displacy-tag\" dy=\"2em\" fill=\"currentColor\" x=\"2500\">ADJ</tspan>\n",
       "</text>\n",
       "\n",
       "<text class=\"displacy-token\" fill=\"currentColor\" text-anchor=\"middle\" y=\"397.0\">\n",
       "    <tspan class=\"displacy-word\" fill=\"currentColor\" x=\"2675\">journey.</tspan>\n",
       "    <tspan class=\"displacy-tag\" dy=\"2em\" fill=\"currentColor\" x=\"2675\">NOUN</tspan>\n",
       "</text>\n",
       "\n",
       "<g class=\"displacy-arrow\">\n",
       "    <path class=\"displacy-arc\" id=\"arrow-aa7148c53d564d228b02f4220d6af909-0-0\" stroke-width=\"2px\" d=\"M70,352.0 C70,264.5 210.0,264.5 210.0,352.0\" fill=\"none\" stroke=\"currentColor\"/>\n",
       "    <text dy=\"1.25em\" style=\"font-size: 0.8em; letter-spacing: 1px\">\n",
       "        <textPath xlink:href=\"#arrow-aa7148c53d564d228b02f4220d6af909-0-0\" class=\"displacy-label\" startOffset=\"50%\" side=\"left\" fill=\"currentColor\" text-anchor=\"middle\">nsubj</textPath>\n",
       "    </text>\n",
       "    <path class=\"displacy-arrowhead\" d=\"M70,354.0 L62,342.0 78,342.0\" fill=\"currentColor\"/>\n",
       "</g>\n",
       "\n",
       "<g class=\"displacy-arrow\">\n",
       "    <path class=\"displacy-arc\" id=\"arrow-aa7148c53d564d228b02f4220d6af909-0-1\" stroke-width=\"2px\" d=\"M420,352.0 C420,89.5 1095.0,89.5 1095.0,352.0\" fill=\"none\" stroke=\"currentColor\"/>\n",
       "    <text dy=\"1.25em\" style=\"font-size: 0.8em; letter-spacing: 1px\">\n",
       "        <textPath xlink:href=\"#arrow-aa7148c53d564d228b02f4220d6af909-0-1\" class=\"displacy-label\" startOffset=\"50%\" side=\"left\" fill=\"currentColor\" text-anchor=\"middle\">amod</textPath>\n",
       "    </text>\n",
       "    <path class=\"displacy-arrowhead\" d=\"M420,354.0 L412,342.0 428,342.0\" fill=\"currentColor\"/>\n",
       "</g>\n",
       "\n",
       "<g class=\"displacy-arrow\">\n",
       "    <path class=\"displacy-arc\" id=\"arrow-aa7148c53d564d228b02f4220d6af909-0-2\" stroke-width=\"2px\" d=\"M420,352.0 C420,264.5 560.0,264.5 560.0,352.0\" fill=\"none\" stroke=\"currentColor\"/>\n",
       "    <text dy=\"1.25em\" style=\"font-size: 0.8em; letter-spacing: 1px\">\n",
       "        <textPath xlink:href=\"#arrow-aa7148c53d564d228b02f4220d6af909-0-2\" class=\"displacy-label\" startOffset=\"50%\" side=\"left\" fill=\"currentColor\" text-anchor=\"middle\">cc</textPath>\n",
       "    </text>\n",
       "    <path class=\"displacy-arrowhead\" d=\"M560.0,354.0 L568.0,342.0 552.0,342.0\" fill=\"currentColor\"/>\n",
       "</g>\n",
       "\n",
       "<g class=\"displacy-arrow\">\n",
       "    <path class=\"displacy-arc\" id=\"arrow-aa7148c53d564d228b02f4220d6af909-0-3\" stroke-width=\"2px\" d=\"M420,352.0 C420,177.0 740.0,177.0 740.0,352.0\" fill=\"none\" stroke=\"currentColor\"/>\n",
       "    <text dy=\"1.25em\" style=\"font-size: 0.8em; letter-spacing: 1px\">\n",
       "        <textPath xlink:href=\"#arrow-aa7148c53d564d228b02f4220d6af909-0-3\" class=\"displacy-label\" startOffset=\"50%\" side=\"left\" fill=\"currentColor\" text-anchor=\"middle\">conj</textPath>\n",
       "    </text>\n",
       "    <path class=\"displacy-arrowhead\" d=\"M740.0,354.0 L748.0,342.0 732.0,342.0\" fill=\"currentColor\"/>\n",
       "</g>\n",
       "\n",
       "<g class=\"displacy-arrow\">\n",
       "    <path class=\"displacy-arc\" id=\"arrow-aa7148c53d564d228b02f4220d6af909-0-4\" stroke-width=\"2px\" d=\"M945,352.0 C945,264.5 1085.0,264.5 1085.0,352.0\" fill=\"none\" stroke=\"currentColor\"/>\n",
       "    <text dy=\"1.25em\" style=\"font-size: 0.8em; letter-spacing: 1px\">\n",
       "        <textPath xlink:href=\"#arrow-aa7148c53d564d228b02f4220d6af909-0-4\" class=\"displacy-label\" startOffset=\"50%\" side=\"left\" fill=\"currentColor\" text-anchor=\"middle\">amod</textPath>\n",
       "    </text>\n",
       "    <path class=\"displacy-arrowhead\" d=\"M945,354.0 L937,342.0 953,342.0\" fill=\"currentColor\"/>\n",
       "</g>\n",
       "\n",
       "<g class=\"displacy-arrow\">\n",
       "    <path class=\"displacy-arc\" id=\"arrow-aa7148c53d564d228b02f4220d6af909-0-5\" stroke-width=\"2px\" d=\"M245,352.0 C245,2.0 1100.0,2.0 1100.0,352.0\" fill=\"none\" stroke=\"currentColor\"/>\n",
       "    <text dy=\"1.25em\" style=\"font-size: 0.8em; letter-spacing: 1px\">\n",
       "        <textPath xlink:href=\"#arrow-aa7148c53d564d228b02f4220d6af909-0-5\" class=\"displacy-label\" startOffset=\"50%\" side=\"left\" fill=\"currentColor\" text-anchor=\"middle\">attr</textPath>\n",
       "    </text>\n",
       "    <path class=\"displacy-arrowhead\" d=\"M1100.0,354.0 L1108.0,342.0 1092.0,342.0\" fill=\"currentColor\"/>\n",
       "</g>\n",
       "\n",
       "<g class=\"displacy-arrow\">\n",
       "    <path class=\"displacy-arc\" id=\"arrow-aa7148c53d564d228b02f4220d6af909-0-6\" stroke-width=\"2px\" d=\"M1295,352.0 C1295,264.5 1435.0,264.5 1435.0,352.0\" fill=\"none\" stroke=\"currentColor\"/>\n",
       "    <text dy=\"1.25em\" style=\"font-size: 0.8em; letter-spacing: 1px\">\n",
       "        <textPath xlink:href=\"#arrow-aa7148c53d564d228b02f4220d6af909-0-6\" class=\"displacy-label\" startOffset=\"50%\" side=\"left\" fill=\"currentColor\" text-anchor=\"middle\">nsubj</textPath>\n",
       "    </text>\n",
       "    <path class=\"displacy-arrowhead\" d=\"M1295,354.0 L1287,342.0 1303,342.0\" fill=\"currentColor\"/>\n",
       "</g>\n",
       "\n",
       "<g class=\"displacy-arrow\">\n",
       "    <path class=\"displacy-arc\" id=\"arrow-aa7148c53d564d228b02f4220d6af909-0-7\" stroke-width=\"2px\" d=\"M1120,352.0 C1120,177.0 1440.0,177.0 1440.0,352.0\" fill=\"none\" stroke=\"currentColor\"/>\n",
       "    <text dy=\"1.25em\" style=\"font-size: 0.8em; letter-spacing: 1px\">\n",
       "        <textPath xlink:href=\"#arrow-aa7148c53d564d228b02f4220d6af909-0-7\" class=\"displacy-label\" startOffset=\"50%\" side=\"left\" fill=\"currentColor\" text-anchor=\"middle\">relcl</textPath>\n",
       "    </text>\n",
       "    <path class=\"displacy-arrowhead\" d=\"M1440.0,354.0 L1448.0,342.0 1432.0,342.0\" fill=\"currentColor\"/>\n",
       "</g>\n",
       "\n",
       "<g class=\"displacy-arrow\">\n",
       "    <path class=\"displacy-arc\" id=\"arrow-aa7148c53d564d228b02f4220d6af909-0-8\" stroke-width=\"2px\" d=\"M1645,352.0 C1645,177.0 1965.0,177.0 1965.0,352.0\" fill=\"none\" stroke=\"currentColor\"/>\n",
       "    <text dy=\"1.25em\" style=\"font-size: 0.8em; letter-spacing: 1px\">\n",
       "        <textPath xlink:href=\"#arrow-aa7148c53d564d228b02f4220d6af909-0-8\" class=\"displacy-label\" startOffset=\"50%\" side=\"left\" fill=\"currentColor\" text-anchor=\"middle\">advmod</textPath>\n",
       "    </text>\n",
       "    <path class=\"displacy-arrowhead\" d=\"M1645,354.0 L1637,342.0 1653,342.0\" fill=\"currentColor\"/>\n",
       "</g>\n",
       "\n",
       "<g class=\"displacy-arrow\">\n",
       "    <path class=\"displacy-arc\" id=\"arrow-aa7148c53d564d228b02f4220d6af909-0-9\" stroke-width=\"2px\" d=\"M1645,352.0 C1645,264.5 1785.0,264.5 1785.0,352.0\" fill=\"none\" stroke=\"currentColor\"/>\n",
       "    <text dy=\"1.25em\" style=\"font-size: 0.8em; letter-spacing: 1px\">\n",
       "        <textPath xlink:href=\"#arrow-aa7148c53d564d228b02f4220d6af909-0-9\" class=\"displacy-label\" startOffset=\"50%\" side=\"left\" fill=\"currentColor\" text-anchor=\"middle\">advmod</textPath>\n",
       "    </text>\n",
       "    <path class=\"displacy-arrowhead\" d=\"M1785.0,354.0 L1793.0,342.0 1777.0,342.0\" fill=\"currentColor\"/>\n",
       "</g>\n",
       "\n",
       "<g class=\"displacy-arrow\">\n",
       "    <path class=\"displacy-arc\" id=\"arrow-aa7148c53d564d228b02f4220d6af909-0-10\" stroke-width=\"2px\" d=\"M1470,352.0 C1470,89.5 1970.0,89.5 1970.0,352.0\" fill=\"none\" stroke=\"currentColor\"/>\n",
       "    <text dy=\"1.25em\" style=\"font-size: 0.8em; letter-spacing: 1px\">\n",
       "        <textPath xlink:href=\"#arrow-aa7148c53d564d228b02f4220d6af909-0-10\" class=\"displacy-label\" startOffset=\"50%\" side=\"left\" fill=\"currentColor\" text-anchor=\"middle\">acomp</textPath>\n",
       "    </text>\n",
       "    <path class=\"displacy-arrowhead\" d=\"M1970.0,354.0 L1978.0,342.0 1962.0,342.0\" fill=\"currentColor\"/>\n",
       "</g>\n",
       "\n",
       "<g class=\"displacy-arrow\">\n",
       "    <path class=\"displacy-arc\" id=\"arrow-aa7148c53d564d228b02f4220d6af909-0-11\" stroke-width=\"2px\" d=\"M1995,352.0 C1995,264.5 2135.0,264.5 2135.0,352.0\" fill=\"none\" stroke=\"currentColor\"/>\n",
       "    <text dy=\"1.25em\" style=\"font-size: 0.8em; letter-spacing: 1px\">\n",
       "        <textPath xlink:href=\"#arrow-aa7148c53d564d228b02f4220d6af909-0-11\" class=\"displacy-label\" startOffset=\"50%\" side=\"left\" fill=\"currentColor\" text-anchor=\"middle\">prep</textPath>\n",
       "    </text>\n",
       "    <path class=\"displacy-arrowhead\" d=\"M2135.0,354.0 L2143.0,342.0 2127.0,342.0\" fill=\"currentColor\"/>\n",
       "</g>\n",
       "\n",
       "<g class=\"displacy-arrow\">\n",
       "    <path class=\"displacy-arc\" id=\"arrow-aa7148c53d564d228b02f4220d6af909-0-12\" stroke-width=\"2px\" d=\"M2345,352.0 C2345,177.0 2665.0,177.0 2665.0,352.0\" fill=\"none\" stroke=\"currentColor\"/>\n",
       "    <text dy=\"1.25em\" style=\"font-size: 0.8em; letter-spacing: 1px\">\n",
       "        <textPath xlink:href=\"#arrow-aa7148c53d564d228b02f4220d6af909-0-12\" class=\"displacy-label\" startOffset=\"50%\" side=\"left\" fill=\"currentColor\" text-anchor=\"middle\">det</textPath>\n",
       "    </text>\n",
       "    <path class=\"displacy-arrowhead\" d=\"M2345,354.0 L2337,342.0 2353,342.0\" fill=\"currentColor\"/>\n",
       "</g>\n",
       "\n",
       "<g class=\"displacy-arrow\">\n",
       "    <path class=\"displacy-arc\" id=\"arrow-aa7148c53d564d228b02f4220d6af909-0-13\" stroke-width=\"2px\" d=\"M2520,352.0 C2520,264.5 2660.0,264.5 2660.0,352.0\" fill=\"none\" stroke=\"currentColor\"/>\n",
       "    <text dy=\"1.25em\" style=\"font-size: 0.8em; letter-spacing: 1px\">\n",
       "        <textPath xlink:href=\"#arrow-aa7148c53d564d228b02f4220d6af909-0-13\" class=\"displacy-label\" startOffset=\"50%\" side=\"left\" fill=\"currentColor\" text-anchor=\"middle\">amod</textPath>\n",
       "    </text>\n",
       "    <path class=\"displacy-arrowhead\" d=\"M2520,354.0 L2512,342.0 2528,342.0\" fill=\"currentColor\"/>\n",
       "</g>\n",
       "\n",
       "<g class=\"displacy-arrow\">\n",
       "    <path class=\"displacy-arc\" id=\"arrow-aa7148c53d564d228b02f4220d6af909-0-14\" stroke-width=\"2px\" d=\"M2170,352.0 C2170,89.5 2670.0,89.5 2670.0,352.0\" fill=\"none\" stroke=\"currentColor\"/>\n",
       "    <text dy=\"1.25em\" style=\"font-size: 0.8em; letter-spacing: 1px\">\n",
       "        <textPath xlink:href=\"#arrow-aa7148c53d564d228b02f4220d6af909-0-14\" class=\"displacy-label\" startOffset=\"50%\" side=\"left\" fill=\"currentColor\" text-anchor=\"middle\">pobj</textPath>\n",
       "    </text>\n",
       "    <path class=\"displacy-arrowhead\" d=\"M2670.0,354.0 L2678.0,342.0 2662.0,342.0\" fill=\"currentColor\"/>\n",
       "</g>\n",
       "</svg></span>"
      ],
      "text/plain": [
       "<IPython.core.display.HTML object>"
      ]
     },
     "metadata": {},
     "output_type": "display_data"
    }
   ],
   "source": [
    "displacy.render(doc, style=\"dep\")"
   ]
  },
  {
   "cell_type": "code",
   "execution_count": 121,
   "id": "fddb5782",
   "metadata": {},
   "outputs": [
    {
     "name": "stdout",
     "output_type": "stream",
     "text": [
      "The text contains 0 words used to describe hotels.\n"
     ]
    }
   ],
   "source": [
    "contentstr = str(df['content'])\n",
    "# Process text data and create a Doc object\n",
    "df['doc'] = df['content'].apply(nlp)\n",
    "\n",
    "# Initialize a counter for hotel-related words\n",
    "hotel_word_count = 0\n",
    "\n",
    "wordsust2 = [\"adorable\", \"expert\", \"continued\", \"kindly\", \"stressful\", \"assisted\", \"sorry\", \"addressed\", \"telling\", \"miserable\", \"direct\", \"big\", \"bountiful\", \"handsome\", \"giving\", \"liberal\"]\n",
    "\n",
    "# Iterate over the tokens in the Doc\n",
    "for review in df['content']:\n",
    "  doc = nlp(review)\n",
    "  for token in doc:\n",
    "    if token.pos_ == \"ADJ\":\n",
    "        if token.text in wordsust2:\n",
    "            # Check if the head is \"hotel\" and the next token is a verb or auxiliary verb\n",
    "            if token.head.text == \"hotel\" or token.head.text == \"property\" or token.head.text == \"place\" or token.head.text == \"palace\" or token.head.text == \"lotte\" or token.head.text == \"decorations\" or token.head.text == \"exterior\" or token.head.text == \"interior\" or token.head.text == \"gym\" or token.head.text == \"architecture\" or token.head.text == \"room\" or token.head.text == \"bedroom\" or token.head.text == \"bed\" or token.head.text == \"windows\" or token.head.text == \"toiletries\" or token.head.text == \"bathroom\" or token.head.text == \"mattress\" or token.head.text == \"furniture\" or token.head.text == \"rooftop\" or token.head.text == \"guestrooms\" or token.head.text == \"staff\" or token.head.text == \"doormen\" or token.head.text == \"bellmen\" or token.head.text == \"concierge\" or token.head.text == \"members\" or token.head.text == \"employees\" or token.head.text == \"bartenders\" or token.head.text == \"bellman\" or token.head.text == \"doorman\" or token.head.text == \"captain\" or token.head.text == \"maids\" or token.head.text == \"housekeeping\":                   \n",
    "                if (doc[token.i+1].pos_ == \"VERB\" or doc[token.i+1].pos_ == \"AUX\") or (doc[token.i-1].pos_ == \"VERB\" or doc[token.i-1].pos_ == \"AUX\") :                    \n",
    "                    hotel_word_count += 1\n",
    "                    print(token.text)\n",
    "                    \n",
    "\n",
    "# Print the number of hotel-related words in the text\n",
    "print(f\"The text contains {hotel_word_count} words used to describe hotels.\")"
   ]
  },
  {
   "cell_type": "code",
   "execution_count": 122,
   "id": "98a228d9",
   "metadata": {},
   "outputs": [],
   "source": [
    "wordsust2 = [\"adorable\", \"expert\", \"continued\", \"kindly\", \"stressful\", \"assisted\", \"sorry\", \"addressed\", \"telling\", \"miserable\", \"direct\", \"big\", \"bountiful\", \"handsome\", \"giving\", \"liberal\"]\n",
    "\n",
    "for review in df['content']:\n",
    "  doc = nlp(review)\n",
    "  for token in doc:\n",
    "    if token.pos_ == \"ADJ\":\n",
    "        if token.text in wordsust2:\n",
    "            if token.head.text == \"hotel\" or token.head.text == \"property\" or token.head.text == \"place\" or token.head.text == \"palace\" or token.head.text == \"lotte\" or token.head.text == \"decorations\" or token.head.text == \"exterior\" or token.head.text == \"interior\" or token.head.text == \"gym\" or token.head.text == \"architecture\" or token.head.text == \"room\" or token.head.text == \"bedroom\" or token.head.text == \"bed\" or token.head.text == \"windows\" or token.head.text == \"toiletries\" or token.head.text == \"bathroom\" or token.head.text == \"mattress\" or token.head.text == \"furniture\" or token.head.text == \"rooftop\" or token.head.text == \"guestrooms\" or token.head.text == \"staff\" or token.head.text == \"doormen\" or token.head.text == \"bellmen\" or token.head.text == \"concierge\" or token.head.text == \"members\" or token.head.text == \"employees\" or token.head.text == \"bartenders\" or token.head.text == \"bellman\" or token.head.text == \"doorman\" or token.head.text == \"captain\" or token.head.text == \"maids\" or token.head.text == \"housekeeping\":                   \n",
    "                if (doc[token.i+1].pos_ == \"VERB\" or doc[token.i+1].pos_ == \"AUX\") or (doc[token.i-1].pos_ == \"VERB\" or doc[token.i-1].pos_ == \"AUX\") :                    \n",
    "                    print(token.sent.text)"
   ]
  },
  {
   "cell_type": "code",
   "execution_count": null,
   "id": "986c0850",
   "metadata": {},
   "outputs": [],
   "source": [
    "wordsust2 = [\"adorable\", \"expert\", \"continued\", \"kindly\", \"stressful\", \"assisted\", \"sorry\", \"addressed\", \"telling\", \"miserable\", \"direct\", \"big\", \"bountiful\", \"handsome\", \"giving\", \"liberal\"]\n",
    "# Tokenize the sentence\n",
    "doc = nlp(\"it was very close to rock center s i this is a good hotel for sightseeing highly recommend the courtyard outside is a good place to relax and meet friends.\")\n",
    "# Loop through the tokens and count the number of adjectives that describe the \"hotel\" word\n",
    "hotel_word_count = 0\n",
    "for token in doc:\n",
    "    if token.pos_ == \"ADJ\":\n",
    "        if token.text in wordsust2:\n",
    "            if token.head.text == \"hotel\" or token.head.pos_ == \"VERB\" or token.head.pos_ == \"AUX\" or token.head.text == \"property\" or token.head.text == \"place\" or token.head.text == \"palace\" or token.head.text == \"lotte\" :    \n",
    "                if (doc[token.i+1].pos_ == \"VERB\" or doc[token.i+1].pos_ == \"AUX\") or (doc[token.i-1].pos_ == \"VERB\" or doc[token.i-1].pos_ == \"AUX\") :                    \n",
    "                    hotel_word_count += 1\n",
    "               \n",
    "# Print the final count of adjectives\n",
    "print(f\"The word 'hotel' has {hotel_word_count} adjectives that describe it.\")"
   ]
  },
  {
   "cell_type": "code",
   "execution_count": null,
   "id": "3a91881d",
   "metadata": {},
   "outputs": [],
   "source": [
    "displacy.render(doc, style=\"dep\")"
   ]
  },
  {
   "cell_type": "code",
   "execution_count": 16,
   "id": "d6d648e8",
   "metadata": {},
   "outputs": [
    {
     "name": "stdout",
     "output_type": "stream",
     "text": [
      "i was there for business and found lotte new york palace to be clean, friendly and attentive staff, awesome location, and excellent courtyard.\n",
      "rooms are clean and spacious, staff is nice and helpful.\n",
      "the bed was comfortable, bathroom clean and modern.\n",
      "hotel is very good .room are clean and great staff.\n",
      "the rooms were clean, luxurious and elegant.the bed was very comfortable and the room was quiet.\n",
      "from the warm welcome at the street by the bell men, to the friendly and efficient check-in, to the beautiful and sparkling clean room with the best view of mid-town, nothing was missing!\n"
     ]
    }
   ],
   "source": [
    "wordsust3 = [\"nightly\", \"strong\", \"same\", \"inclusive\", \"own\", \"acceptable\", \"nuts\", \"considered\", \"surprising\", \"increased\", \"fair\", \"reasonable\", \"bonnie\", \"average\", \"mediocre\", \"clean\", \"honest\"]\n",
    "\n",
    "for review in df['content']:\n",
    "  doc = nlp(review)\n",
    "  for token in doc:\n",
    "    if token.pos_ == \"ADJ\":\n",
    "        if token.text in wordsust3:\n",
    "            if token.head.text == \"hotel\" or token.head.text == \"property\" or token.head.text == \"place\" or token.head.text == \"palace\" or token.head.text == \"lotte\" or token.head.text == \"decorations\" or token.head.text == \"exterior\" or token.head.text == \"interior\" or token.head.text == \"gym\" or token.head.text == \"architecture\" or token.head.text == \"room\" or token.head.text == \"bedroom\" or token.head.text == \"bed\" or token.head.text == \"windows\" or token.head.text == \"toiletries\" or token.head.text == \"bathroom\" or token.head.text == \"mattress\" or token.head.text == \"furniture\" or token.head.text == \"rooftop\" or token.head.text == \"guestrooms\" or token.head.text == \"staff\" or token.head.text == \"doormen\" or token.head.text == \"bellmen\" or token.head.text == \"concierge\" or token.head.text == \"members\" or token.head.text == \"employees\" or token.head.text == \"bartenders\" or token.head.text == \"bellman\" or token.head.text == \"doorman\" or token.head.text == \"captain\" or token.head.text == \"maids\" or token.head.text == \"housekeeping\":                   \n",
    "                if (doc[token.i+1].pos_ == \"VERB\" or doc[token.i+1].pos_ == \"AUX\") or (doc[token.i-1].pos_ == \"VERB\" or doc[token.i-1].pos_ == \"AUX\") :                    \n",
    "                    print(token.sent.text)"
   ]
  },
  {
   "cell_type": "code",
   "execution_count": 17,
   "id": "0ceaa483",
   "metadata": {},
   "outputs": [
    {
     "name": "stdout",
     "output_type": "stream",
     "text": [
      "The word 'hotel' has 0 adjectives that describe it.\n"
     ]
    }
   ],
   "source": [
    "wordsust3 = [\"nightly\", \"strong\", \"same\", \"inclusive\", \"own\", \"acceptable\", \"nuts\", \"considered\", \"surprising\", \"increased\", \"fair\", \"reasonable\", \"bonnie\", \"average\", \"mediocre\", \"clean\", \"honest\"]\n",
    "# Tokenize the sentence\n",
    "doc = nlp(\"it was very close to rock center s i this is a good hotel for sightseeing highly recommend the courtyard outside is a good place to relax and meet friends.\")\n",
    "# Loop through the tokens and count the number of adjectives that describe the \"hotel\" word\n",
    "hotel_word_count = 0\n",
    "for token in doc:\n",
    "    if token.pos_ == \"ADJ\":\n",
    "        if token.text in wordsust3:\n",
    "            if token.head.text == \"hotel\" or token.head.pos_ == \"VERB\" or token.head.pos_ == \"AUX\" or token.head.text == \"property\" or token.head.text == \"place\" or token.head.text == \"palace\" or token.head.text == \"lotte\" :    \n",
    "                if (doc[token.i+1].pos_ == \"VERB\" or doc[token.i+1].pos_ == \"AUX\") or (doc[token.i-1].pos_ == \"VERB\" or doc[token.i-1].pos_ == \"AUX\") :                    \n",
    "                    hotel_word_count += 1\n",
    "               \n",
    "# Print the final count of adjectives\n",
    "print(f\"The word 'hotel' has {hotel_word_count} adjectives that describe it.\")"
   ]
  },
  {
   "cell_type": "code",
   "execution_count": null,
   "id": "767f8951",
   "metadata": {},
   "outputs": [],
   "source": [
    "wordsust3 = [\"nightly\", \"strong\", \"same\", \"inclusive\", \"acceptable\", \"nuts\", \"considered\", \"surprising\", \"increased\", \"fair\", \"reasonable\", \"bonnie\", \"average\", \"mediocre\", \"honest\"]\n",
    "# Tokenize the sentence\n",
    "doc = nlp(\"it was very close to rock center s i this is a good hotel for sightseeing highly recommend the courtyard outside is a good place to relax and meet friends.\")\n",
    "# Loop through the tokens and count the number of adjectives that describe the \"hotel\" word\n",
    "hotel_word_count = 0\n",
    "for token in doc:\n",
    "    if token.pos_ == \"ADJ\":\n",
    "        if token.text in wordsust3:\n",
    "            if token.head.text == \"hotel\" or token.head.pos_ == \"VERB\" or token.head.pos_ == \"AUX\" or token.head.text == \"property\" or token.head.text == \"place\" or token.head.text == \"palace\" or token.head.text == \"lotte\" :    \n",
    "                if (doc[token.i+1].pos_ == \"VERB\" or doc[token.i+1].pos_ == \"AUX\") or (doc[token.i-1].pos_ == \"VERB\" or doc[token.i-1].pos_ == \"AUX\") :                    \n",
    "                    hotel_word_count += 1\n",
    "               \n",
    "# Print the final count of adjectives\n",
    "print(f\"The word 'hotel' has {hotel_word_count} adjectives that describe it.\")"
   ]
  },
  {
   "cell_type": "code",
   "execution_count": null,
   "id": "711e8008",
   "metadata": {},
   "outputs": [],
   "source": [
    "displacy.render(doc, style=\"dep\")"
   ]
  },
  {
   "cell_type": "code",
   "execution_count": 125,
   "id": "601b2e4d",
   "metadata": {},
   "outputs": [
    {
     "name": "stdout",
     "output_type": "stream",
     "text": [
      "The text contains 0 words used to describe hotels.\n"
     ]
    }
   ],
   "source": [
    "contentstr = str(df['content'])\n",
    "# Process text data and create a Doc object\n",
    "df['doc'] = df['content'].apply(nlp)\n",
    "\n",
    "# Initialize a counter for hotel-related words\n",
    "hotel_word_count = 0\n",
    "\n",
    "wordsust4 = [\"same\", \"seasonal\", \"angry\", \"minimum\", \"longer\", \"considered\", \"concerned\", \"cut\", \"needless\", \"significant\", \"aware\", \"mindful\"]\n",
    "\n",
    "# Iterate over the tokens in the Doc\n",
    "for review in df['content']:\n",
    "  doc = nlp(review)\n",
    "  for token in doc:\n",
    "    if token.pos_ == \"ADJ\":\n",
    "        if token.text in wordsust4:\n",
    "            # Check if the head is \"hotel\" and the next token is a verb or auxiliary verb\n",
    "            if token.head.text == \"hotel\" or token.head.text == \"property\" or token.head.text == \"place\" or token.head.text == \"palace\" or token.head.text == \"lotte\" or token.head.text == \"decorations\" or token.head.text == \"exterior\" or token.head.text == \"interior\" or token.head.text == \"gym\" or token.head.text == \"architecture\" or token.head.text == \"room\" or token.head.text == \"bedroom\" or token.head.text == \"bed\" or token.head.text == \"windows\" or token.head.text == \"toiletries\" or token.head.text == \"bathroom\" or token.head.text == \"mattress\" or token.head.text == \"furniture\" or token.head.text == \"rooftop\" or token.head.text == \"guestrooms\" or token.head.text == \"staff\" or token.head.text == \"doormen\" or token.head.text == \"bellmen\" or token.head.text == \"concierge\" or token.head.text == \"members\" or token.head.text == \"employees\" or token.head.text == \"bartenders\" or token.head.text == \"bellman\" or token.head.text == \"doorman\" or token.head.text == \"captain\" or token.head.text == \"maids\" or token.head.text == \"housekeeping\":                   \n",
    "                if (doc[token.i+1].pos_ == \"VERB\" or doc[token.i+1].pos_ == \"AUX\") or (doc[token.i-1].pos_ == \"VERB\" or doc[token.i-1].pos_ == \"AUX\") :                    \n",
    "                    hotel_word_count += 1\n",
    "                    print(token.text)\n",
    "                    \n",
    "\n",
    "# Print the number of hotel-related words in the text\n",
    "print(f\"The text contains {hotel_word_count} words used to describe hotels.\")"
   ]
  },
  {
   "cell_type": "code",
   "execution_count": 126,
   "id": "2aa733bd",
   "metadata": {},
   "outputs": [],
   "source": [
    "wordsust4 = [\"same\", \"seasonal\", \"angry\", \"minimum\", \"longer\", \"considered\", \"concerned\", \"cut\", \"needless\", \"significant\", \"aware\", \"mindful\"]\n",
    "\n",
    "for review in df['content']:\n",
    "  doc = nlp(review)\n",
    "  for token in doc:\n",
    "    if token.pos_ == \"ADJ\":\n",
    "        if token.text in wordsust4:\n",
    "            if token.head.text == \"hotel\" or token.head.text == \"property\" or token.head.text == \"place\" or token.head.text == \"palace\" or token.head.text == \"lotte\" or token.head.text == \"decorations\" or token.head.text == \"exterior\" or token.head.text == \"interior\" or token.head.text == \"gym\" or token.head.text == \"architecture\" or token.head.text == \"room\" or token.head.text == \"bedroom\" or token.head.text == \"bed\" or token.head.text == \"windows\" or token.head.text == \"toiletries\" or token.head.text == \"bathroom\" or token.head.text == \"mattress\" or token.head.text == \"furniture\" or token.head.text == \"rooftop\" or token.head.text == \"guestrooms\" or token.head.text == \"staff\" or token.head.text == \"doormen\" or token.head.text == \"bellmen\" or token.head.text == \"concierge\" or token.head.text == \"members\" or token.head.text == \"employees\" or token.head.text == \"bartenders\" or token.head.text == \"bellman\" or token.head.text == \"doorman\" or token.head.text == \"captain\" or token.head.text == \"maids\" or token.head.text == \"housekeeping\":                   \n",
    "                if (doc[token.i+1].pos_ == \"VERB\" or doc[token.i+1].pos_ == \"AUX\") or (doc[token.i-1].pos_ == \"VERB\" or doc[token.i-1].pos_ == \"AUX\") :                    \n",
    "                    print(token.sent.text)"
   ]
  },
  {
   "cell_type": "code",
   "execution_count": null,
   "id": "616db9d7",
   "metadata": {},
   "outputs": [],
   "source": [
    "wordsust4 = [\"same\", \"seasonal\", \"angry\", \"minimum\", \"longer\", \"considered\", \"concerned\", \"cut\", \"needless\", \"significant\", \"aware\", \"mindful\"]\n",
    "# Tokenize the sentence\n",
    "doc = nlp(\"it was very close to rock center s i this is a good hotel for sightseeing highly recommend the courtyard outside is a good place to relax and meet friends.\")\n",
    "# Loop through the tokens and count the number of adjectives that describe the \"hotel\" word\n",
    "hotel_word_count = 0\n",
    "for token in doc:\n",
    "    if token.pos_ == \"ADJ\":\n",
    "        if token.text in wordsust4:\n",
    "            if token.head.text == \"hotel\" or token.head.pos_ == \"VERB\" or token.head.pos_ == \"AUX\" or token.head.text == \"property\" or token.head.text == \"place\" or token.head.text == \"palace\" or token.head.text == \"lotte\" :    \n",
    "                if (doc[token.i+1].pos_ == \"VERB\" or doc[token.i+1].pos_ == \"AUX\") or (doc[token.i-1].pos_ == \"VERB\" or doc[token.i-1].pos_ == \"AUX\") :                    \n",
    "                    hotel_word_count += 1\n",
    "               \n",
    "# Print the final count of adjectives\n",
    "print(f\"The word 'hotel' has {hotel_word_count} adjectives that describe it.\")"
   ]
  },
  {
   "cell_type": "code",
   "execution_count": null,
   "id": "b2341fae",
   "metadata": {},
   "outputs": [],
   "source": [
    "displacy.render(doc, style=\"dep\")"
   ]
  },
  {
   "cell_type": "code",
   "execution_count": 127,
   "id": "580e1651",
   "metadata": {},
   "outputs": [
    {
     "name": "stdout",
     "output_type": "stream",
     "text": [
      "classy\n",
      "The text contains 1 words used to describe hotels.\n"
     ]
    }
   ],
   "source": [
    "contentstr = str(df['content'])\n",
    "# Process text data and create a Doc object\n",
    "df['doc'] = df['content'].apply(nlp)\n",
    "\n",
    "# Initialize a counter for hotel-related words\n",
    "hotel_word_count = 0\n",
    "\n",
    "wordsust5 = [\"fab\", \"classy\", \"sumptuous\", \"stylish\", \"tidy\", \"tasteful\", \"inviting\", \"opulent\", \"shiny\", \"impressive\", \"peaceful\"]\n",
    "\n",
    "# Iterate over the tokens in the Doc\n",
    "for review in df['content']:\n",
    "  doc = nlp(review)\n",
    "  for token in doc:\n",
    "    if token.pos_ == \"ADJ\":\n",
    "        if token.text in wordsust5:\n",
    "            # Check if the head is \"hotel\" and the next token is a verb or auxiliary verb\n",
    "            if token.head.text == \"hotel\" or token.head.text == \"property\" or token.head.text == \"place\" or token.head.text == \"palace\" or token.head.text == \"lotte\" or token.head.text == \"decorations\" or token.head.text == \"exterior\" or token.head.text == \"interior\" or token.head.text == \"gym\" or token.head.text == \"architecture\" or token.head.text == \"room\" or token.head.text == \"bedroom\" or token.head.text == \"bed\" or token.head.text == \"windows\" or token.head.text == \"toiletries\" or token.head.text == \"bathroom\" or token.head.text == \"mattress\" or token.head.text == \"furniture\" or token.head.text == \"rooftop\" or token.head.text == \"guestrooms\" or token.head.text == \"staff\" or token.head.text == \"doormen\" or token.head.text == \"bellmen\" or token.head.text == \"concierge\" or token.head.text == \"members\" or token.head.text == \"employees\" or token.head.text == \"bartenders\" or token.head.text == \"bellman\" or token.head.text == \"doorman\" or token.head.text == \"captain\" or token.head.text == \"maids\" or token.head.text == \"housekeeping\":                   \n",
    "                if (doc[token.i+1].pos_ == \"VERB\" or doc[token.i+1].pos_ == \"AUX\") or (doc[token.i-1].pos_ == \"VERB\" or doc[token.i-1].pos_ == \"AUX\") :                    \n",
    "                    hotel_word_count += 1\n",
    "                    print(token.text)\n",
    "                    \n",
    "\n",
    "# Print the number of hotel-related words in the text\n",
    "print(f\"The text contains {hotel_word_count} words used to describe hotels.\")"
   ]
  },
  {
   "cell_type": "code",
   "execution_count": 128,
   "id": "e5d622c6",
   "metadata": {},
   "outputs": [
    {
     "name": "stdout",
     "output_type": "stream",
     "text": [
      "my girlfriend and i recently stayed at the new york palace and it was classy, extravagant and overall a beautiful hotel.\n"
     ]
    }
   ],
   "source": [
    "wordsust5 = [\"fab\", \"classy\", \"sumptuous\", \"stylish\", \"tidy\", \"tasteful\", \"inviting\", \"opulent\", \"shiny\", \"impressive\", \"peaceful\"]\n",
    "\n",
    "for review in df['content']:\n",
    "  doc = nlp(review)\n",
    "  for token in doc:\n",
    "    if token.pos_ == \"ADJ\":\n",
    "        if token.text in wordsust5:\n",
    "            if token.head.text == \"hotel\" or token.head.text == \"property\" or token.head.text == \"place\" or token.head.text == \"palace\" or token.head.text == \"lotte\" or token.head.text == \"decorations\" or token.head.text == \"exterior\" or token.head.text == \"interior\" or token.head.text == \"gym\" or token.head.text == \"architecture\" or token.head.text == \"room\" or token.head.text == \"bedroom\" or token.head.text == \"bed\" or token.head.text == \"windows\" or token.head.text == \"toiletries\" or token.head.text == \"bathroom\" or token.head.text == \"mattress\" or token.head.text == \"furniture\" or token.head.text == \"rooftop\" or token.head.text == \"guestrooms\" or token.head.text == \"staff\" or token.head.text == \"doormen\" or token.head.text == \"bellmen\" or token.head.text == \"concierge\" or token.head.text == \"members\" or token.head.text == \"employees\" or token.head.text == \"bartenders\" or token.head.text == \"bellman\" or token.head.text == \"doorman\" or token.head.text == \"captain\" or token.head.text == \"maids\" or token.head.text == \"housekeeping\":                   \n",
    "                if (doc[token.i+1].pos_ == \"VERB\" or doc[token.i+1].pos_ == \"AUX\") or (doc[token.i-1].pos_ == \"VERB\" or doc[token.i-1].pos_ == \"AUX\") :                    \n",
    "                    print(token.sent.text)"
   ]
  },
  {
   "cell_type": "code",
   "execution_count": 7,
   "id": "b4edafa0",
   "metadata": {},
   "outputs": [
    {
     "name": "stdout",
     "output_type": "stream",
     "text": [
      "The word 'hotel' has 1 adjectives that describe it.\n"
     ]
    }
   ],
   "source": [
    "wordsust5 = [\"fab\", \"classy\", \"sumptuous\", \"stylish\", \"tidy\", \"tasteful\", \"inviting\", \"opulent\", \"shiny\", \"impressive\", \"peaceful\"]\n",
    "# Tokenize the sentence\n",
    "doc = nlp(\"my girlfriend and i recently stayed at the new york palace and it was classy, extravagant and overall a beautiful hotel.\")\n",
    "# Loop through the tokens and count the number of adjectives that describe the \"hotel\" word\n",
    "hotel_word_count = 0\n",
    "for token in doc:\n",
    "    if token.pos_ == \"ADJ\":\n",
    "        if token.text in wordsust5:\n",
    "            if token.head.text == \"hotel\" or token.head.pos_ == \"VERB\" or token.head.pos_ == \"AUX\" or token.head.text == \"property\" or token.head.text == \"place\" or token.head.text == \"palace\" or token.head.text == \"lotte\" :    \n",
    "                if (doc[token.i+1].pos_ == \"VERB\" or doc[token.i+1].pos_ == \"AUX\") or (doc[token.i-1].pos_ == \"VERB\" or doc[token.i-1].pos_ == \"AUX\") :                    \n",
    "                    hotel_word_count += 1\n",
    "               \n",
    "# Print the final count of adjectives\n",
    "print(f\"The word 'hotel' has {hotel_word_count} adjectives that describe it.\")"
   ]
  },
  {
   "cell_type": "code",
   "execution_count": 8,
   "id": "b7c73a58",
   "metadata": {},
   "outputs": [
    {
     "data": {
      "text/html": [
       "<span class=\"tex2jax_ignore\"><svg xmlns=\"http://www.w3.org/2000/svg\" xmlns:xlink=\"http://www.w3.org/1999/xlink\" xml:lang=\"en\" id=\"7809e7f26bc349bd99eebb8ee358e9c1-0\" class=\"displacy\" width=\"3725\" height=\"574.5\" direction=\"ltr\" style=\"max-width: none; height: 574.5px; color: #000000; background: #ffffff; font-family: Arial; direction: ltr\">\n",
       "<text class=\"displacy-token\" fill=\"currentColor\" text-anchor=\"middle\" y=\"484.5\">\n",
       "    <tspan class=\"displacy-word\" fill=\"currentColor\" x=\"50\">my</tspan>\n",
       "    <tspan class=\"displacy-tag\" dy=\"2em\" fill=\"currentColor\" x=\"50\">PRON</tspan>\n",
       "</text>\n",
       "\n",
       "<text class=\"displacy-token\" fill=\"currentColor\" text-anchor=\"middle\" y=\"484.5\">\n",
       "    <tspan class=\"displacy-word\" fill=\"currentColor\" x=\"225\">girlfriend</tspan>\n",
       "    <tspan class=\"displacy-tag\" dy=\"2em\" fill=\"currentColor\" x=\"225\">NOUN</tspan>\n",
       "</text>\n",
       "\n",
       "<text class=\"displacy-token\" fill=\"currentColor\" text-anchor=\"middle\" y=\"484.5\">\n",
       "    <tspan class=\"displacy-word\" fill=\"currentColor\" x=\"400\">and</tspan>\n",
       "    <tspan class=\"displacy-tag\" dy=\"2em\" fill=\"currentColor\" x=\"400\">CCONJ</tspan>\n",
       "</text>\n",
       "\n",
       "<text class=\"displacy-token\" fill=\"currentColor\" text-anchor=\"middle\" y=\"484.5\">\n",
       "    <tspan class=\"displacy-word\" fill=\"currentColor\" x=\"575\">i</tspan>\n",
       "    <tspan class=\"displacy-tag\" dy=\"2em\" fill=\"currentColor\" x=\"575\">PRON</tspan>\n",
       "</text>\n",
       "\n",
       "<text class=\"displacy-token\" fill=\"currentColor\" text-anchor=\"middle\" y=\"484.5\">\n",
       "    <tspan class=\"displacy-word\" fill=\"currentColor\" x=\"750\">recently</tspan>\n",
       "    <tspan class=\"displacy-tag\" dy=\"2em\" fill=\"currentColor\" x=\"750\">ADV</tspan>\n",
       "</text>\n",
       "\n",
       "<text class=\"displacy-token\" fill=\"currentColor\" text-anchor=\"middle\" y=\"484.5\">\n",
       "    <tspan class=\"displacy-word\" fill=\"currentColor\" x=\"925\">stayed</tspan>\n",
       "    <tspan class=\"displacy-tag\" dy=\"2em\" fill=\"currentColor\" x=\"925\">VERB</tspan>\n",
       "</text>\n",
       "\n",
       "<text class=\"displacy-token\" fill=\"currentColor\" text-anchor=\"middle\" y=\"484.5\">\n",
       "    <tspan class=\"displacy-word\" fill=\"currentColor\" x=\"1100\">at</tspan>\n",
       "    <tspan class=\"displacy-tag\" dy=\"2em\" fill=\"currentColor\" x=\"1100\">ADP</tspan>\n",
       "</text>\n",
       "\n",
       "<text class=\"displacy-token\" fill=\"currentColor\" text-anchor=\"middle\" y=\"484.5\">\n",
       "    <tspan class=\"displacy-word\" fill=\"currentColor\" x=\"1275\">the</tspan>\n",
       "    <tspan class=\"displacy-tag\" dy=\"2em\" fill=\"currentColor\" x=\"1275\">DET</tspan>\n",
       "</text>\n",
       "\n",
       "<text class=\"displacy-token\" fill=\"currentColor\" text-anchor=\"middle\" y=\"484.5\">\n",
       "    <tspan class=\"displacy-word\" fill=\"currentColor\" x=\"1450\">new</tspan>\n",
       "    <tspan class=\"displacy-tag\" dy=\"2em\" fill=\"currentColor\" x=\"1450\">PROPN</tspan>\n",
       "</text>\n",
       "\n",
       "<text class=\"displacy-token\" fill=\"currentColor\" text-anchor=\"middle\" y=\"484.5\">\n",
       "    <tspan class=\"displacy-word\" fill=\"currentColor\" x=\"1625\">york</tspan>\n",
       "    <tspan class=\"displacy-tag\" dy=\"2em\" fill=\"currentColor\" x=\"1625\">PROPN</tspan>\n",
       "</text>\n",
       "\n",
       "<text class=\"displacy-token\" fill=\"currentColor\" text-anchor=\"middle\" y=\"484.5\">\n",
       "    <tspan class=\"displacy-word\" fill=\"currentColor\" x=\"1800\">palace</tspan>\n",
       "    <tspan class=\"displacy-tag\" dy=\"2em\" fill=\"currentColor\" x=\"1800\">NOUN</tspan>\n",
       "</text>\n",
       "\n",
       "<text class=\"displacy-token\" fill=\"currentColor\" text-anchor=\"middle\" y=\"484.5\">\n",
       "    <tspan class=\"displacy-word\" fill=\"currentColor\" x=\"1975\">and</tspan>\n",
       "    <tspan class=\"displacy-tag\" dy=\"2em\" fill=\"currentColor\" x=\"1975\">CCONJ</tspan>\n",
       "</text>\n",
       "\n",
       "<text class=\"displacy-token\" fill=\"currentColor\" text-anchor=\"middle\" y=\"484.5\">\n",
       "    <tspan class=\"displacy-word\" fill=\"currentColor\" x=\"2150\">it</tspan>\n",
       "    <tspan class=\"displacy-tag\" dy=\"2em\" fill=\"currentColor\" x=\"2150\">PRON</tspan>\n",
       "</text>\n",
       "\n",
       "<text class=\"displacy-token\" fill=\"currentColor\" text-anchor=\"middle\" y=\"484.5\">\n",
       "    <tspan class=\"displacy-word\" fill=\"currentColor\" x=\"2325\">was</tspan>\n",
       "    <tspan class=\"displacy-tag\" dy=\"2em\" fill=\"currentColor\" x=\"2325\">AUX</tspan>\n",
       "</text>\n",
       "\n",
       "<text class=\"displacy-token\" fill=\"currentColor\" text-anchor=\"middle\" y=\"484.5\">\n",
       "    <tspan class=\"displacy-word\" fill=\"currentColor\" x=\"2500\">classy,</tspan>\n",
       "    <tspan class=\"displacy-tag\" dy=\"2em\" fill=\"currentColor\" x=\"2500\">ADJ</tspan>\n",
       "</text>\n",
       "\n",
       "<text class=\"displacy-token\" fill=\"currentColor\" text-anchor=\"middle\" y=\"484.5\">\n",
       "    <tspan class=\"displacy-word\" fill=\"currentColor\" x=\"2675\">extravagant</tspan>\n",
       "    <tspan class=\"displacy-tag\" dy=\"2em\" fill=\"currentColor\" x=\"2675\">ADJ</tspan>\n",
       "</text>\n",
       "\n",
       "<text class=\"displacy-token\" fill=\"currentColor\" text-anchor=\"middle\" y=\"484.5\">\n",
       "    <tspan class=\"displacy-word\" fill=\"currentColor\" x=\"2850\">and</tspan>\n",
       "    <tspan class=\"displacy-tag\" dy=\"2em\" fill=\"currentColor\" x=\"2850\">CCONJ</tspan>\n",
       "</text>\n",
       "\n",
       "<text class=\"displacy-token\" fill=\"currentColor\" text-anchor=\"middle\" y=\"484.5\">\n",
       "    <tspan class=\"displacy-word\" fill=\"currentColor\" x=\"3025\">overall</tspan>\n",
       "    <tspan class=\"displacy-tag\" dy=\"2em\" fill=\"currentColor\" x=\"3025\">ADJ</tspan>\n",
       "</text>\n",
       "\n",
       "<text class=\"displacy-token\" fill=\"currentColor\" text-anchor=\"middle\" y=\"484.5\">\n",
       "    <tspan class=\"displacy-word\" fill=\"currentColor\" x=\"3200\">a</tspan>\n",
       "    <tspan class=\"displacy-tag\" dy=\"2em\" fill=\"currentColor\" x=\"3200\">DET</tspan>\n",
       "</text>\n",
       "\n",
       "<text class=\"displacy-token\" fill=\"currentColor\" text-anchor=\"middle\" y=\"484.5\">\n",
       "    <tspan class=\"displacy-word\" fill=\"currentColor\" x=\"3375\">beautiful</tspan>\n",
       "    <tspan class=\"displacy-tag\" dy=\"2em\" fill=\"currentColor\" x=\"3375\">ADJ</tspan>\n",
       "</text>\n",
       "\n",
       "<text class=\"displacy-token\" fill=\"currentColor\" text-anchor=\"middle\" y=\"484.5\">\n",
       "    <tspan class=\"displacy-word\" fill=\"currentColor\" x=\"3550\">hotel.</tspan>\n",
       "    <tspan class=\"displacy-tag\" dy=\"2em\" fill=\"currentColor\" x=\"3550\">NOUN</tspan>\n",
       "</text>\n",
       "\n",
       "<g class=\"displacy-arrow\">\n",
       "    <path class=\"displacy-arc\" id=\"arrow-7809e7f26bc349bd99eebb8ee358e9c1-0-0\" stroke-width=\"2px\" d=\"M70,439.5 C70,352.0 205.0,352.0 205.0,439.5\" fill=\"none\" stroke=\"currentColor\"/>\n",
       "    <text dy=\"1.25em\" style=\"font-size: 0.8em; letter-spacing: 1px\">\n",
       "        <textPath xlink:href=\"#arrow-7809e7f26bc349bd99eebb8ee358e9c1-0-0\" class=\"displacy-label\" startOffset=\"50%\" side=\"left\" fill=\"currentColor\" text-anchor=\"middle\">poss</textPath>\n",
       "    </text>\n",
       "    <path class=\"displacy-arrowhead\" d=\"M70,441.5 L62,429.5 78,429.5\" fill=\"currentColor\"/>\n",
       "</g>\n",
       "\n",
       "<g class=\"displacy-arrow\">\n",
       "    <path class=\"displacy-arc\" id=\"arrow-7809e7f26bc349bd99eebb8ee358e9c1-0-1\" stroke-width=\"2px\" d=\"M245,439.5 C245,177.0 915.0,177.0 915.0,439.5\" fill=\"none\" stroke=\"currentColor\"/>\n",
       "    <text dy=\"1.25em\" style=\"font-size: 0.8em; letter-spacing: 1px\">\n",
       "        <textPath xlink:href=\"#arrow-7809e7f26bc349bd99eebb8ee358e9c1-0-1\" class=\"displacy-label\" startOffset=\"50%\" side=\"left\" fill=\"currentColor\" text-anchor=\"middle\">nsubj</textPath>\n",
       "    </text>\n",
       "    <path class=\"displacy-arrowhead\" d=\"M245,441.5 L237,429.5 253,429.5\" fill=\"currentColor\"/>\n",
       "</g>\n",
       "\n",
       "<g class=\"displacy-arrow\">\n",
       "    <path class=\"displacy-arc\" id=\"arrow-7809e7f26bc349bd99eebb8ee358e9c1-0-2\" stroke-width=\"2px\" d=\"M245,439.5 C245,352.0 380.0,352.0 380.0,439.5\" fill=\"none\" stroke=\"currentColor\"/>\n",
       "    <text dy=\"1.25em\" style=\"font-size: 0.8em; letter-spacing: 1px\">\n",
       "        <textPath xlink:href=\"#arrow-7809e7f26bc349bd99eebb8ee358e9c1-0-2\" class=\"displacy-label\" startOffset=\"50%\" side=\"left\" fill=\"currentColor\" text-anchor=\"middle\">cc</textPath>\n",
       "    </text>\n",
       "    <path class=\"displacy-arrowhead\" d=\"M380.0,441.5 L388.0,429.5 372.0,429.5\" fill=\"currentColor\"/>\n",
       "</g>\n",
       "\n",
       "<g class=\"displacy-arrow\">\n",
       "    <path class=\"displacy-arc\" id=\"arrow-7809e7f26bc349bd99eebb8ee358e9c1-0-3\" stroke-width=\"2px\" d=\"M595,439.5 C595,264.5 910.0,264.5 910.0,439.5\" fill=\"none\" stroke=\"currentColor\"/>\n",
       "    <text dy=\"1.25em\" style=\"font-size: 0.8em; letter-spacing: 1px\">\n",
       "        <textPath xlink:href=\"#arrow-7809e7f26bc349bd99eebb8ee358e9c1-0-3\" class=\"displacy-label\" startOffset=\"50%\" side=\"left\" fill=\"currentColor\" text-anchor=\"middle\">nsubj</textPath>\n",
       "    </text>\n",
       "    <path class=\"displacy-arrowhead\" d=\"M595,441.5 L587,429.5 603,429.5\" fill=\"currentColor\"/>\n",
       "</g>\n",
       "\n",
       "<g class=\"displacy-arrow\">\n",
       "    <path class=\"displacy-arc\" id=\"arrow-7809e7f26bc349bd99eebb8ee358e9c1-0-4\" stroke-width=\"2px\" d=\"M770,439.5 C770,352.0 905.0,352.0 905.0,439.5\" fill=\"none\" stroke=\"currentColor\"/>\n",
       "    <text dy=\"1.25em\" style=\"font-size: 0.8em; letter-spacing: 1px\">\n",
       "        <textPath xlink:href=\"#arrow-7809e7f26bc349bd99eebb8ee358e9c1-0-4\" class=\"displacy-label\" startOffset=\"50%\" side=\"left\" fill=\"currentColor\" text-anchor=\"middle\">advmod</textPath>\n",
       "    </text>\n",
       "    <path class=\"displacy-arrowhead\" d=\"M770,441.5 L762,429.5 778,429.5\" fill=\"currentColor\"/>\n",
       "</g>\n",
       "\n",
       "<g class=\"displacy-arrow\">\n",
       "    <path class=\"displacy-arc\" id=\"arrow-7809e7f26bc349bd99eebb8ee358e9c1-0-5\" stroke-width=\"2px\" d=\"M945,439.5 C945,352.0 1080.0,352.0 1080.0,439.5\" fill=\"none\" stroke=\"currentColor\"/>\n",
       "    <text dy=\"1.25em\" style=\"font-size: 0.8em; letter-spacing: 1px\">\n",
       "        <textPath xlink:href=\"#arrow-7809e7f26bc349bd99eebb8ee358e9c1-0-5\" class=\"displacy-label\" startOffset=\"50%\" side=\"left\" fill=\"currentColor\" text-anchor=\"middle\">prep</textPath>\n",
       "    </text>\n",
       "    <path class=\"displacy-arrowhead\" d=\"M1080.0,441.5 L1088.0,429.5 1072.0,429.5\" fill=\"currentColor\"/>\n",
       "</g>\n",
       "\n",
       "<g class=\"displacy-arrow\">\n",
       "    <path class=\"displacy-arc\" id=\"arrow-7809e7f26bc349bd99eebb8ee358e9c1-0-6\" stroke-width=\"2px\" d=\"M1295,439.5 C1295,264.5 1785.0,264.5 1785.0,439.5\" fill=\"none\" stroke=\"currentColor\"/>\n",
       "    <text dy=\"1.25em\" style=\"font-size: 0.8em; letter-spacing: 1px\">\n",
       "        <textPath xlink:href=\"#arrow-7809e7f26bc349bd99eebb8ee358e9c1-0-6\" class=\"displacy-label\" startOffset=\"50%\" side=\"left\" fill=\"currentColor\" text-anchor=\"middle\">det</textPath>\n",
       "    </text>\n",
       "    <path class=\"displacy-arrowhead\" d=\"M1295,441.5 L1287,429.5 1303,429.5\" fill=\"currentColor\"/>\n",
       "</g>\n",
       "\n",
       "<g class=\"displacy-arrow\">\n",
       "    <path class=\"displacy-arc\" id=\"arrow-7809e7f26bc349bd99eebb8ee358e9c1-0-7\" stroke-width=\"2px\" d=\"M1470,439.5 C1470,352.0 1605.0,352.0 1605.0,439.5\" fill=\"none\" stroke=\"currentColor\"/>\n",
       "    <text dy=\"1.25em\" style=\"font-size: 0.8em; letter-spacing: 1px\">\n",
       "        <textPath xlink:href=\"#arrow-7809e7f26bc349bd99eebb8ee358e9c1-0-7\" class=\"displacy-label\" startOffset=\"50%\" side=\"left\" fill=\"currentColor\" text-anchor=\"middle\">compound</textPath>\n",
       "    </text>\n",
       "    <path class=\"displacy-arrowhead\" d=\"M1470,441.5 L1462,429.5 1478,429.5\" fill=\"currentColor\"/>\n",
       "</g>\n",
       "\n",
       "<g class=\"displacy-arrow\">\n",
       "    <path class=\"displacy-arc\" id=\"arrow-7809e7f26bc349bd99eebb8ee358e9c1-0-8\" stroke-width=\"2px\" d=\"M1645,439.5 C1645,352.0 1780.0,352.0 1780.0,439.5\" fill=\"none\" stroke=\"currentColor\"/>\n",
       "    <text dy=\"1.25em\" style=\"font-size: 0.8em; letter-spacing: 1px\">\n",
       "        <textPath xlink:href=\"#arrow-7809e7f26bc349bd99eebb8ee358e9c1-0-8\" class=\"displacy-label\" startOffset=\"50%\" side=\"left\" fill=\"currentColor\" text-anchor=\"middle\">compound</textPath>\n",
       "    </text>\n",
       "    <path class=\"displacy-arrowhead\" d=\"M1645,441.5 L1637,429.5 1653,429.5\" fill=\"currentColor\"/>\n",
       "</g>\n",
       "\n",
       "<g class=\"displacy-arrow\">\n",
       "    <path class=\"displacy-arc\" id=\"arrow-7809e7f26bc349bd99eebb8ee358e9c1-0-9\" stroke-width=\"2px\" d=\"M1120,439.5 C1120,177.0 1790.0,177.0 1790.0,439.5\" fill=\"none\" stroke=\"currentColor\"/>\n",
       "    <text dy=\"1.25em\" style=\"font-size: 0.8em; letter-spacing: 1px\">\n",
       "        <textPath xlink:href=\"#arrow-7809e7f26bc349bd99eebb8ee358e9c1-0-9\" class=\"displacy-label\" startOffset=\"50%\" side=\"left\" fill=\"currentColor\" text-anchor=\"middle\">pobj</textPath>\n",
       "    </text>\n",
       "    <path class=\"displacy-arrowhead\" d=\"M1790.0,441.5 L1798.0,429.5 1782.0,429.5\" fill=\"currentColor\"/>\n",
       "</g>\n",
       "\n",
       "<g class=\"displacy-arrow\">\n",
       "    <path class=\"displacy-arc\" id=\"arrow-7809e7f26bc349bd99eebb8ee358e9c1-0-10\" stroke-width=\"2px\" d=\"M945,439.5 C945,89.5 1970.0,89.5 1970.0,439.5\" fill=\"none\" stroke=\"currentColor\"/>\n",
       "    <text dy=\"1.25em\" style=\"font-size: 0.8em; letter-spacing: 1px\">\n",
       "        <textPath xlink:href=\"#arrow-7809e7f26bc349bd99eebb8ee358e9c1-0-10\" class=\"displacy-label\" startOffset=\"50%\" side=\"left\" fill=\"currentColor\" text-anchor=\"middle\">cc</textPath>\n",
       "    </text>\n",
       "    <path class=\"displacy-arrowhead\" d=\"M1970.0,441.5 L1978.0,429.5 1962.0,429.5\" fill=\"currentColor\"/>\n",
       "</g>\n",
       "\n",
       "<g class=\"displacy-arrow\">\n",
       "    <path class=\"displacy-arc\" id=\"arrow-7809e7f26bc349bd99eebb8ee358e9c1-0-11\" stroke-width=\"2px\" d=\"M2170,439.5 C2170,352.0 2305.0,352.0 2305.0,439.5\" fill=\"none\" stroke=\"currentColor\"/>\n",
       "    <text dy=\"1.25em\" style=\"font-size: 0.8em; letter-spacing: 1px\">\n",
       "        <textPath xlink:href=\"#arrow-7809e7f26bc349bd99eebb8ee358e9c1-0-11\" class=\"displacy-label\" startOffset=\"50%\" side=\"left\" fill=\"currentColor\" text-anchor=\"middle\">nsubj</textPath>\n",
       "    </text>\n",
       "    <path class=\"displacy-arrowhead\" d=\"M2170,441.5 L2162,429.5 2178,429.5\" fill=\"currentColor\"/>\n",
       "</g>\n",
       "\n",
       "<g class=\"displacy-arrow\">\n",
       "    <path class=\"displacy-arc\" id=\"arrow-7809e7f26bc349bd99eebb8ee358e9c1-0-12\" stroke-width=\"2px\" d=\"M945,439.5 C945,2.0 2325.0,2.0 2325.0,439.5\" fill=\"none\" stroke=\"currentColor\"/>\n",
       "    <text dy=\"1.25em\" style=\"font-size: 0.8em; letter-spacing: 1px\">\n",
       "        <textPath xlink:href=\"#arrow-7809e7f26bc349bd99eebb8ee358e9c1-0-12\" class=\"displacy-label\" startOffset=\"50%\" side=\"left\" fill=\"currentColor\" text-anchor=\"middle\">conj</textPath>\n",
       "    </text>\n",
       "    <path class=\"displacy-arrowhead\" d=\"M2325.0,441.5 L2333.0,429.5 2317.0,429.5\" fill=\"currentColor\"/>\n",
       "</g>\n",
       "\n",
       "<g class=\"displacy-arrow\">\n",
       "    <path class=\"displacy-arc\" id=\"arrow-7809e7f26bc349bd99eebb8ee358e9c1-0-13\" stroke-width=\"2px\" d=\"M2520,439.5 C2520,177.0 3540.0,177.0 3540.0,439.5\" fill=\"none\" stroke=\"currentColor\"/>\n",
       "    <text dy=\"1.25em\" style=\"font-size: 0.8em; letter-spacing: 1px\">\n",
       "        <textPath xlink:href=\"#arrow-7809e7f26bc349bd99eebb8ee358e9c1-0-13\" class=\"displacy-label\" startOffset=\"50%\" side=\"left\" fill=\"currentColor\" text-anchor=\"middle\">amod</textPath>\n",
       "    </text>\n",
       "    <path class=\"displacy-arrowhead\" d=\"M2520,441.5 L2512,429.5 2528,429.5\" fill=\"currentColor\"/>\n",
       "</g>\n",
       "\n",
       "<g class=\"displacy-arrow\">\n",
       "    <path class=\"displacy-arc\" id=\"arrow-7809e7f26bc349bd99eebb8ee358e9c1-0-14\" stroke-width=\"2px\" d=\"M2520,439.5 C2520,352.0 2655.0,352.0 2655.0,439.5\" fill=\"none\" stroke=\"currentColor\"/>\n",
       "    <text dy=\"1.25em\" style=\"font-size: 0.8em; letter-spacing: 1px\">\n",
       "        <textPath xlink:href=\"#arrow-7809e7f26bc349bd99eebb8ee358e9c1-0-14\" class=\"displacy-label\" startOffset=\"50%\" side=\"left\" fill=\"currentColor\" text-anchor=\"middle\">conj</textPath>\n",
       "    </text>\n",
       "    <path class=\"displacy-arrowhead\" d=\"M2655.0,441.5 L2663.0,429.5 2647.0,429.5\" fill=\"currentColor\"/>\n",
       "</g>\n",
       "\n",
       "<g class=\"displacy-arrow\">\n",
       "    <path class=\"displacy-arc\" id=\"arrow-7809e7f26bc349bd99eebb8ee358e9c1-0-15\" stroke-width=\"2px\" d=\"M2695,439.5 C2695,352.0 2830.0,352.0 2830.0,439.5\" fill=\"none\" stroke=\"currentColor\"/>\n",
       "    <text dy=\"1.25em\" style=\"font-size: 0.8em; letter-spacing: 1px\">\n",
       "        <textPath xlink:href=\"#arrow-7809e7f26bc349bd99eebb8ee358e9c1-0-15\" class=\"displacy-label\" startOffset=\"50%\" side=\"left\" fill=\"currentColor\" text-anchor=\"middle\">cc</textPath>\n",
       "    </text>\n",
       "    <path class=\"displacy-arrowhead\" d=\"M2830.0,441.5 L2838.0,429.5 2822.0,429.5\" fill=\"currentColor\"/>\n",
       "</g>\n",
       "\n",
       "<g class=\"displacy-arrow\">\n",
       "    <path class=\"displacy-arc\" id=\"arrow-7809e7f26bc349bd99eebb8ee358e9c1-0-16\" stroke-width=\"2px\" d=\"M2695,439.5 C2695,264.5 3010.0,264.5 3010.0,439.5\" fill=\"none\" stroke=\"currentColor\"/>\n",
       "    <text dy=\"1.25em\" style=\"font-size: 0.8em; letter-spacing: 1px\">\n",
       "        <textPath xlink:href=\"#arrow-7809e7f26bc349bd99eebb8ee358e9c1-0-16\" class=\"displacy-label\" startOffset=\"50%\" side=\"left\" fill=\"currentColor\" text-anchor=\"middle\">conj</textPath>\n",
       "    </text>\n",
       "    <path class=\"displacy-arrowhead\" d=\"M3010.0,441.5 L3018.0,429.5 3002.0,429.5\" fill=\"currentColor\"/>\n",
       "</g>\n",
       "\n",
       "<g class=\"displacy-arrow\">\n",
       "    <path class=\"displacy-arc\" id=\"arrow-7809e7f26bc349bd99eebb8ee358e9c1-0-17\" stroke-width=\"2px\" d=\"M3220,439.5 C3220,264.5 3535.0,264.5 3535.0,439.5\" fill=\"none\" stroke=\"currentColor\"/>\n",
       "    <text dy=\"1.25em\" style=\"font-size: 0.8em; letter-spacing: 1px\">\n",
       "        <textPath xlink:href=\"#arrow-7809e7f26bc349bd99eebb8ee358e9c1-0-17\" class=\"displacy-label\" startOffset=\"50%\" side=\"left\" fill=\"currentColor\" text-anchor=\"middle\">det</textPath>\n",
       "    </text>\n",
       "    <path class=\"displacy-arrowhead\" d=\"M3220,441.5 L3212,429.5 3228,429.5\" fill=\"currentColor\"/>\n",
       "</g>\n",
       "\n",
       "<g class=\"displacy-arrow\">\n",
       "    <path class=\"displacy-arc\" id=\"arrow-7809e7f26bc349bd99eebb8ee358e9c1-0-18\" stroke-width=\"2px\" d=\"M3395,439.5 C3395,352.0 3530.0,352.0 3530.0,439.5\" fill=\"none\" stroke=\"currentColor\"/>\n",
       "    <text dy=\"1.25em\" style=\"font-size: 0.8em; letter-spacing: 1px\">\n",
       "        <textPath xlink:href=\"#arrow-7809e7f26bc349bd99eebb8ee358e9c1-0-18\" class=\"displacy-label\" startOffset=\"50%\" side=\"left\" fill=\"currentColor\" text-anchor=\"middle\">amod</textPath>\n",
       "    </text>\n",
       "    <path class=\"displacy-arrowhead\" d=\"M3395,441.5 L3387,429.5 3403,429.5\" fill=\"currentColor\"/>\n",
       "</g>\n",
       "\n",
       "<g class=\"displacy-arrow\">\n",
       "    <path class=\"displacy-arc\" id=\"arrow-7809e7f26bc349bd99eebb8ee358e9c1-0-19\" stroke-width=\"2px\" d=\"M2345,439.5 C2345,89.5 3545.0,89.5 3545.0,439.5\" fill=\"none\" stroke=\"currentColor\"/>\n",
       "    <text dy=\"1.25em\" style=\"font-size: 0.8em; letter-spacing: 1px\">\n",
       "        <textPath xlink:href=\"#arrow-7809e7f26bc349bd99eebb8ee358e9c1-0-19\" class=\"displacy-label\" startOffset=\"50%\" side=\"left\" fill=\"currentColor\" text-anchor=\"middle\">attr</textPath>\n",
       "    </text>\n",
       "    <path class=\"displacy-arrowhead\" d=\"M3545.0,441.5 L3553.0,429.5 3537.0,429.5\" fill=\"currentColor\"/>\n",
       "</g>\n",
       "</svg></span>"
      ],
      "text/plain": [
       "<IPython.core.display.HTML object>"
      ]
     },
     "metadata": {},
     "output_type": "display_data"
    }
   ],
   "source": [
    "displacy.render(doc, style=\"dep\")"
   ]
  },
  {
   "cell_type": "code",
   "execution_count": 6,
   "id": "09328094",
   "metadata": {},
   "outputs": [
    {
     "name": "stdout",
     "output_type": "stream",
     "text": [
      "28\n"
     ]
    }
   ],
   "source": [
    "freksustainability = 28\n",
    "print(freksustainability)"
   ]
  },
  {
   "cell_type": "code",
   "execution_count": null,
   "id": "8479c126",
   "metadata": {},
   "outputs": [],
   "source": [
    "import plotly.express as px\n",
    "import pandas as pd\n",
    "df = pd.DataFrame(dict(\n",
    "    r=[99, 66, 64, 104, 4, 527],\n",
    "    theta=[' sincerity','excitement','competence',\n",
    "           'sophistication', 'ruggeddnes', 'sustainability']))\n",
    "fig = px.line_polar(df, r='r', theta='theta', line_close=True)\n",
    "fig.show()"
   ]
  },
  {
   "cell_type": "code",
   "execution_count": null,
   "id": "71659272",
   "metadata": {},
   "outputs": [],
   "source": []
  },
  {
   "cell_type": "code",
   "execution_count": null,
   "id": "7a06185b",
   "metadata": {},
   "outputs": [],
   "source": []
  },
  {
   "cell_type": "code",
   "execution_count": null,
   "id": "7310d658",
   "metadata": {},
   "outputs": [],
   "source": []
  },
  {
   "cell_type": "code",
   "execution_count": null,
   "id": "6f6d34fb",
   "metadata": {},
   "outputs": [],
   "source": []
  },
  {
   "cell_type": "code",
   "execution_count": null,
   "id": "ad29eb35",
   "metadata": {},
   "outputs": [],
   "source": []
  },
  {
   "cell_type": "code",
   "execution_count": null,
   "id": "3b8b2969",
   "metadata": {},
   "outputs": [],
   "source": []
  }
 ],
 "metadata": {
  "kernelspec": {
   "display_name": "Python 3 (ipykernel)",
   "language": "python",
   "name": "python3"
  },
  "language_info": {
   "codemirror_mode": {
    "name": "ipython",
    "version": 3
   },
   "file_extension": ".py",
   "mimetype": "text/x-python",
   "name": "python",
   "nbconvert_exporter": "python",
   "pygments_lexer": "ipython3",
   "version": "3.9.12"
  }
 },
 "nbformat": 4,
 "nbformat_minor": 5
}
