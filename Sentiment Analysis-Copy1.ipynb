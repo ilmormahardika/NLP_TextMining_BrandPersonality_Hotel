{
 "cells": [
  {
   "cell_type": "code",
   "execution_count": 7,
   "id": "2023a2e0",
   "metadata": {},
   "outputs": [],
   "source": [
    "from vaderSentiment.vaderSentiment import SentimentIntensityAnalyzer"
   ]
  },
  {
   "cell_type": "code",
   "execution_count": 8,
   "id": "1bd80cc1",
   "metadata": {},
   "outputs": [],
   "source": [
    "analyzer = SentimentIntensityAnalyzer()"
   ]
  },
  {
   "cell_type": "code",
   "execution_count": 9,
   "id": "0b81e571",
   "metadata": {},
   "outputs": [],
   "source": [
    "import spacy\n",
    "import gensim\n",
    "nlp = spacy.load('en_core_web_sm')\n",
    "from spacy import displacy\n",
    "import pandas as pd\n",
    "from nltk.corpus import wordnet\n",
    "import nltk\n",
    "from nltk.corpus import stopwords\n",
    "import numpy as np"
   ]
  },
  {
   "cell_type": "code",
   "execution_count": 10,
   "id": "ab46aa07",
   "metadata": {},
   "outputs": [],
   "source": [
    "import matplotlib.pyplot as plt"
   ]
  },
  {
   "cell_type": "code",
   "execution_count": null,
   "id": "0e5d85d8",
   "metadata": {},
   "outputs": [],
   "source": [
    "from vaderSentiment.vaderSentiment import SentimentIntensityAnalyzer\n",
    "analyzer = SentimentIntensityAnalyzer()\n",
    "import spacy\n",
    "import gensim\n",
    "nlp = spacy.load('en_core_web_sm')\n",
    "from spacy import displacy\n",
    "import pandas as pd\n",
    "from nltk.corpus import wordnet\n",
    "import nltk\n",
    "from nltk.corpus import stopwords\n",
    "import numpy as np\n",
    "import matplotlib.pyplot as plt"
   ]
  },
  {
   "cell_type": "code",
   "execution_count": 11,
   "id": "7d725c9a",
   "metadata": {},
   "outputs": [],
   "source": [
    "col_names = [\"user\", \"date\", \"rating\", \"title\", \"content\"]\n",
    "df = pd.read_csv('C:\\\\Users\\ACER\\\\Documents\\\\ta\\\\Review Per Hotel\\\\Bintang 5\\lotte.csv', sep=';')\n",
    "df = df.rename(columns={'user ': 'user'})\n",
    "df = df.rename(columns={'date ': 'date'})\n",
    "df = df.rename(columns={'rating ': 'rating'})\n",
    "df = df.rename(columns={'title ': 'title'})\n",
    "df = df.rename(columns={'content ': 'content'})"
   ]
  },
  {
   "cell_type": "code",
   "execution_count": 12,
   "id": "8e06b14e",
   "metadata": {},
   "outputs": [],
   "source": [
    "df['content']=df['content'].str.lower()\n",
    "df['title']=df['title'].str.lower()"
   ]
  },
  {
   "cell_type": "markdown",
   "id": "eb48b771",
   "metadata": {},
   "source": [
    "# Dimensi Sincerity"
   ]
  },
  {
   "cell_type": "code",
   "execution_count": 13,
   "id": "c7aef705",
   "metadata": {},
   "outputs": [
    {
     "name": "stdout",
     "output_type": "stream",
     "text": [
      "a true 5 stars hotel, great location, spacious room with comfortable beds and a great view of saint patrick's church from the windows, wonderful service and they even took us to the 42nd floor suite to see the view . {'neg': 0.0, 'neu': 0.66, 'pos': 0.34, 'compound': 0.9584} positive\n",
      " of course, at a true luxury property, even if there were no rooms available at the next category, because its own reservation website says otherwise, one option would have been to upgrade me to the next room category. {'neg': 0.054, 'neu': 0.878, 'pos': 0.068, 'compound': 0.1531} positive\n",
      "perhaps in 1994 it was a luxury hotel, but if you've stayed in a true luxury hotel you realize quickly that this hotel doesn't qualify. {'neg': 0.0, 'neu': 0.866, 'pos': 0.134, 'compound': 0.5719} positive\n",
      "a true luxury hotel should include this instead of nickel and dimeing for every little thing. {'neg': 0.0, 'neu': 0.843, 'pos': 0.157, 'compound': 0.4215} positive\n",
      "Total positif: 4\n",
      "Total negatif: 0\n",
      "Total neutral: 0\n"
     ]
    }
   ],
   "source": [
    "positive_count = 0\n",
    "negative_count = 0\n",
    "neutral_count = 0\n",
    "wordsinc1 = [\"involved\", \"alone\", \"after\", \"stated\", \"embarrassing\",\"lost\", \"together\", \"angry\", \"through\", \"continued\", \"honest\", \"reliable\", \"true\", \"fair\"]\n",
    "excluded_sentences = [\"lotte new york palace hotel location very good 10 min walk from tome square, lots of close breakfast area around central park is close as well , high end brands is around the corner , several coffee shops around the corner as well as starbucks not bad experience ,entrance not so fancy the staff at the entrance very friendly , crowded, the coffee area regular the higher the room the less is the nose , the room is quite good for 3 room aminities no slippers nor body cream supplys are from moltin brown , i was on hold calling the reception from my room for over 15 min yet they didn’t pick up ,reception is rude very rude check in process good double bed room wide check out process mot bad again the guys at the entrance are very friendly price high\", \"good location but encounter a multitude of problems, that still surprise me for what it seemed a good hotel.\", \"the coffee corner downstairs offers great breakfast treats, and the lounge bar is a good place to sit and relax, although traffic in the hotel is high.\", \" the courtyard outside is a good place to relax and meet friends.\", \"drinks are a little pricey in hotel, as is the menu generally, but on a par with a good london hotel.\"]\n",
    "for review in df['content']:\n",
    "  doc = nlp(review)\n",
    "  for token in doc:\n",
    "    if token.text in wordsinc1:\n",
    "        if token.pos_ == \"ADJ\":\n",
    "            if token.head.text == \"hotel\" or token.head.text == \"property\" or token.head.text == \"place\" or token.head.text == \"palace\" or token.head.text == \"lotte\" or token.head.text == \"decorations\" or token.head.text == \"exterior\" or token.head.text == \"interior\" or token.head.text == \"gym\" or token.head.text == \"architecture\" or token.head.text == \"room\" or token.head.text == \"bedroom\" or token.head.text == \"bed\" or token.head.text == \"windows\" or token.head.text == \"toiletries\" or token.head.text == \"bathroom\" or token.head.text == \"mattress\" or token.head.text == \"furniture\" or token.head.text == \"rooftop\" or token.head.text == \"guestrooms\" or token.head.text == \"staff\" or token.head.text == \"doormen\" or token.head.text == \"bellmen\" or token.head.text == \"concierge\" or token.head.text == \"members\" or token.head.text == \"employees\" or token.head.text == \"bartenders\" or token.head.text == \"bellman\" or token.head.text == \"doorman\" or token.head.text == \"captain\" or token.head.text == \"maids\" or token.head.text == \"housekeeping\":\n",
    "                if token.sent.text not in excluded_sentences:\n",
    "            # Calculate the sentiment scores for the sentence\n",
    "                    scores = analyzer.polarity_scores(token.sent.text)\n",
    "                    if scores['compound'] > 0:\n",
    "                        sentiment = 'positive'\n",
    "                        positive_count += 1\n",
    "                    elif scores['compound'] < 0:\n",
    "                        sentiment = 'negative'\n",
    "                        negative_count += 1\n",
    "                    else:\n",
    "                        sentiment = 'neutral'\n",
    "                        neutral_count += 1\n",
    "            # Print the sentiment scores for the sentence\n",
    "                    print((token.sent.text), (scores), (sentiment))\n",
    "print(f\"Total positif: {positive_count}\")\n",
    "print(f\"Total negatif: {negative_count}\")\n",
    "print(f\"Total neutral: {neutral_count}\")"
   ]
  },
  {
   "cell_type": "code",
   "execution_count": 11,
   "id": "e3bc8e83",
   "metadata": {},
   "outputs": [
    {
     "name": "stdout",
     "output_type": "stream",
     "text": [
      "the internet at a recent greek hotel was free and worked everywhere with superb speed. {'neg': 0.0, 'neu': 0.637, 'pos': 0.363, 'compound': 0.8126} positive\n",
      "Total positif: 1\n",
      "Total negatif: 0\n",
      "Total neutral: 0\n"
     ]
    }
   ],
   "source": [
    "positive_count = 0\n",
    "negative_count = 0\n",
    "neutral_count = 0\n",
    "wordsinc2 = [\"female\", \"addressed\", \"assisted\", \"required\", \"telling\", \"greek\", \"scheduled\", \"spoken\", \"individual\", \"sincere\", \"solemn\"]\n",
    "excluded_sentences = [\"lotte new york palace hotel location very good 10 min walk from tome square, lots of close breakfast area around central park is close as well , high end brands is around the corner , several coffee shops around the corner as well as starbucks not bad experience ,entrance not so fancy the staff at the entrance very friendly , crowded, the coffee area regular the higher the room the less is the nose , the room is quite good for 3 room aminities no slippers nor body cream supplys are from moltin brown , i was on hold calling the reception from my room for over 15 min yet they didn’t pick up ,reception is rude very rude check in process good double bed room wide check out process mot bad again the guys at the entrance are very friendly price high\", \"good location but encounter a multitude of problems, that still surprise me for what it seemed a good hotel.\", \"the coffee corner downstairs offers great breakfast treats, and the lounge bar is a good place to sit and relax, although traffic in the hotel is high.\", \" the courtyard outside is a good place to relax and meet friends.\", \"drinks are a little pricey in hotel, as is the menu generally, but on a par with a good london hotel.\"]\n",
    "for review in df['content']:\n",
    "  doc = nlp(review)\n",
    "  for token in doc:\n",
    "    if token.text in wordsinc2:\n",
    "        if token.pos_ == \"ADJ\":\n",
    "            if token.head.text == \"hotel\" or token.head.text == \"property\" or token.head.text == \"place\" or token.head.text == \"palace\" or token.head.text == \"lotte\" or token.head.text == \"decorations\" or token.head.text == \"exterior\" or token.head.text == \"interior\" or token.head.text == \"gym\" or token.head.text == \"architecture\" or token.head.text == \"room\" or token.head.text == \"bedroom\" or token.head.text == \"bed\" or token.head.text == \"windows\" or token.head.text == \"toiletries\" or token.head.text == \"bathroom\" or token.head.text == \"mattress\" or token.head.text == \"furniture\" or token.head.text == \"rooftop\" or token.head.text == \"guestrooms\" or token.head.text == \"staff\" or token.head.text == \"doormen\" or token.head.text == \"bellmen\" or token.head.text == \"concierge\" or token.head.text == \"members\" or token.head.text == \"employees\" or token.head.text == \"bartenders\" or token.head.text == \"bellman\" or token.head.text == \"doorman\" or token.head.text == \"captain\" or token.head.text == \"maids\" or token.head.text == \"housekeeping\":\n",
    "                if token.sent.text not in excluded_sentences:\n",
    "            # Calculate the sentiment scores for the sentence\n",
    "                    scores = analyzer.polarity_scores(token.sent.text)\n",
    "                    if scores['compound'] > 0:\n",
    "                        sentiment = 'positive'\n",
    "                        positive_count += 1\n",
    "                    elif scores['compound'] < 0:\n",
    "                        sentiment = 'negative'\n",
    "                        negative_count += 1\n",
    "                    else:\n",
    "                        sentiment = 'neutral'\n",
    "                        neutral_count += 1\n",
    "            # Print the sentiment scores for the sentence\n",
    "                    print((token.sent.text), (scores), (sentiment))\n",
    "print(f\"Total positif: {positive_count}\")\n",
    "print(f\"Total negatif: {negative_count}\")\n",
    "print(f\"Total neutral: {neutral_count}\")"
   ]
  },
  {
   "cell_type": "code",
   "execution_count": 14,
   "id": "b3d79236",
   "metadata": {},
   "outputs": [
    {
     "name": "stdout",
     "output_type": "stream",
     "text": [
      "the palace is such an unique property. {'neg': 0.0, 'neu': 1.0, 'pos': 0.0, 'compound': 0.0} neutral\n",
      "this one was in his actual hotel?? {'neg': 0.0, 'neu': 1.0, 'pos': 0.0, 'compound': 0.0} neutral\n",
      "the staff is most professional, friendly and polite.we loved having breakfast in a palatial dining room. {'neg': 0.0, 'neu': 0.655, 'pos': 0.345, 'compound': 0.8115} positive\n",
      "with each stay, we are more endeared to our 'home away from home'...not only because of the beautifully outstanding hotel, but because of the remarkable, genuine, caring staff: becky hubbard, victor caguindagan, franchesca, ray anis, miles gomez, mike murray, louis, fran, george, batan, olga, teresa, michael, albert, manny, salah, nana, maurice and papa. {'neg': 0.0, 'neu': 0.777, 'pos': 0.223, 'compound': 0.9331} positive\n",
      "my one daughter says, \"we see them more than we see some real family members.\" {'neg': 0.0, 'neu': 1.0, 'pos': 0.0, 'compound': 0.0} neutral\n",
      "a real 4 star hotel in nyc. {'neg': 0.0, 'neu': 1.0, 'pos': 0.0, 'compound': 0.0} neutral\n",
      "all what you can expect from a real palace hotel. {'neg': 0.0, 'neu': 1.0, 'pos': 0.0, 'compound': 0.0} neutral\n",
      "no real place to eat. {'neg': 0.355, 'neu': 0.645, 'pos': 0.0, 'compound': -0.296} negative\n",
      "it was a tremendous property. {'neg': 0.0, 'neu': 1.0, 'pos': 0.0, 'compound': 0.0} neutral\n",
      "also this palace is a real palace you can google it. {'neg': 0.0, 'neu': 1.0, 'pos': 0.0, 'compound': 0.0} neutral\n",
      " is this a real five star hotel? {'neg': 0.0, 'neu': 1.0, 'pos': 0.0, 'compound': 0.0} neutral\n",
      "no actual place to eat in the hotel but with all the options in nyc that didn't bother me. {'neg': 0.076, 'neu': 0.804, 'pos': 0.121, 'compound': 0.2392} positive\n",
      "it does lack a real breakfast room and while their \"coffee shop\" is attractive, it is more like an upscale starbucks then a real restaurant. {'neg': 0.077, 'neu': 0.734, 'pos': 0.19, 'compound': 0.5256} positive\n",
      "from the moment we arrived at the lotte new york palace, it was like entering a real palace. {'neg': 0.0, 'neu': 0.872, 'pos': 0.128, 'compound': 0.3612} positive\n",
      "the lobby areas are larger and have assumed more of a generic \"hilton\" or \"marriott\" feel rather than a more unique, upscale hotel. {'neg': 0.0, 'neu': 0.952, 'pos': 0.048, 'compound': 0.0258} positive\n",
      "at 60 with the fan on high the actual room temperature was above 70 which was too warm for my liking for sleeping. {'neg': 0.0, 'neu': 0.743, 'pos': 0.257, 'compound': 0.7096} positive\n",
      "all little things, but things that wouldn't happen in a real 5 star luxury hotel. {'neg': 0.0, 'neu': 1.0, 'pos': 0.0, 'compound': 0.0} neutral\n",
      "this unique hotel has an outstanding service. {'neg': 0.0, 'neu': 0.6, 'pos': 0.4, 'compound': 0.6124} positive\n",
      "overall, this is a solid mid priced hotel in a great location. {'neg': 0.0, 'neu': 0.637, 'pos': 0.363, 'compound': 0.6908} positive\n",
      "the hotel has an iconoclastic entrance, a real palace, be it this time spoiled by a huge nypd force and security personnel white tent, due to the un gathering with high profile guests in the hotel. {'neg': 0.0, 'neu': 0.879, 'pos': 0.121, 'compound': 0.5719} positive\n",
      "we loved our stay at the ny palace...a truly lovely hotel unique in manhattan. {'neg': 0.0, 'neu': 0.509, 'pos': 0.491, 'compound': 0.891} positive\n",
      "the bathroom is not overly large but was adequate and i am glad they used the space for the actual room vs the bathroom. {'neg': 0.0, 'neu': 0.776, 'pos': 0.224, 'compound': 0.7469} positive\n",
      "breakfast is served in a truly palatial room, think mini versailles. {'neg': 0.0, 'neu': 0.775, 'pos': 0.225, 'compound': 0.4404} positive\n",
      "our actual room was gorgeous and the beds were super comfy. {'neg': 0.0, 'neu': 0.533, 'pos': 0.467, 'compound': 0.836} positive\n",
      "Total positif: 14\n",
      "Total negatif: 1\n",
      "Total neutral: 9\n"
     ]
    }
   ],
   "source": [
    "positive_count = 0\n",
    "negative_count = 0\n",
    "neutral_count = 0\n",
    "wordsinc3 = [\"solid\", \"unique\", \"advertised\", \"palatial\", \"positive\", \"tremendous\", \"highest\", \"extraordinary\", \"geared\", \"spoiled\", \"real\", \"existent\", \"actual\", \"genuine\", \"substantial\", \"material\"]\n",
    "excluded_sentences = [\"lotte new york palace hotel location very good 10 min walk from tome square, lots of close breakfast area around central park is close as well , high end brands is around the corner , several coffee shops around the corner as well as starbucks not bad experience ,entrance not so fancy the staff at the entrance very friendly , crowded, the coffee area regular the higher the room the less is the nose , the room is quite good for 3 room aminities no slippers nor body cream supplys are from moltin brown , i was on hold calling the reception from my room for over 15 min yet they didn’t pick up ,reception is rude very rude check in process good double bed room wide check out process mot bad again the guys at the entrance are very friendly price high\", \"good location but encounter a multitude of problems, that still surprise me for what it seemed a good hotel.\", \"the coffee corner downstairs offers great breakfast treats, and the lounge bar is a good place to sit and relax, although traffic in the hotel is high.\", \" the courtyard outside is a good place to relax and meet friends.\", \"drinks are a little pricey in hotel, as is the menu generally, but on a par with a good london hotel.\"]\n",
    "for review in df['content']:\n",
    "  doc = nlp(review)\n",
    "  for token in doc:\n",
    "    if token.text in wordsinc3:\n",
    "        if token.pos_ == \"ADJ\":\n",
    "            if token.head.text == \"hotel\" or token.head.text == \"property\" or token.head.text == \"place\" or token.head.text == \"palace\" or token.head.text == \"lotte\" or token.head.text == \"decorations\" or token.head.text == \"exterior\" or token.head.text == \"interior\" or token.head.text == \"gym\" or token.head.text == \"architecture\" or token.head.text == \"room\" or token.head.text == \"bedroom\" or token.head.text == \"bed\" or token.head.text == \"windows\" or token.head.text == \"toiletries\" or token.head.text == \"bathroom\" or token.head.text == \"mattress\" or token.head.text == \"furniture\" or token.head.text == \"rooftop\" or token.head.text == \"guestrooms\" or token.head.text == \"staff\" or token.head.text == \"doormen\" or token.head.text == \"bellmen\" or token.head.text == \"concierge\" or token.head.text == \"members\" or token.head.text == \"employees\" or token.head.text == \"bartenders\" or token.head.text == \"bellman\" or token.head.text == \"doorman\" or token.head.text == \"captain\" or token.head.text == \"maids\" or token.head.text == \"housekeeping\":\n",
    "                if token.sent.text not in excluded_sentences:\n",
    "            # Calculate the sentiment scores for the sentence\n",
    "                    scores = analyzer.polarity_scores(token.sent.text)\n",
    "                    if scores['compound'] > 0:\n",
    "                        sentiment = 'positive'\n",
    "                        positive_count += 1\n",
    "                    elif scores['compound'] < 0:\n",
    "                        sentiment = 'negative'\n",
    "                        negative_count += 1\n",
    "                    else:\n",
    "                        sentiment = 'neutral'\n",
    "                        neutral_count += 1\n",
    "            # Print the sentiment scores for the sentence\n",
    "                    print((token.sent.text), (scores), (sentiment))\n",
    "print(f\"Total positif: {positive_count}\")\n",
    "print(f\"Total negatif: {negative_count}\")\n",
    "print(f\"Total neutral: {neutral_count}\")"
   ]
  },
  {
   "cell_type": "code",
   "execution_count": 13,
   "id": "78dd0c00",
   "metadata": {},
   "outputs": [
    {
     "name": "stdout",
     "output_type": "stream",
     "text": [
      "he showed us and 2 other couples the original dining room and sitting room as well. {'neg': 0.0, 'neu': 0.761, 'pos': 0.239, 'compound': 0.5267} positive\n",
      "it is an older hotel so if modern is your preference then this isn't the spot but if you love old world charm and quintessential manhattan then this is it. {'neg': 0.0, 'neu': 0.75, 'pos': 0.25, 'compound': 0.8847} positive\n",
      "exhausted from the drive we took the original room. {'neg': 0.212, 'neu': 0.593, 'pos': 0.195, 'compound': -0.0516} negative\n",
      " the reception area was lovely , the bar areas were just lush, esp the golden room and the whiskey room was so tranquil , decor was just spot on but not ott, certainly made you you feel you were in an authentic ny hotel . {'neg': 0.053, 'neu': 0.87, 'pos': 0.077, 'compound': 0.0398} positive\n",
      "stayed at the lotte ny palace as our original hotel cancelled our reservation and placed us here. {'neg': 0.104, 'neu': 0.777, 'pos': 0.119, 'compound': 0.0772} positive\n",
      "the original property is like walking back into time. {'neg': 0.0, 'neu': 0.593, 'pos': 0.407, 'compound': 0.5859} positive\n",
      "unbelievable. room upgraded to beautiful view of st patrick’s cathedral. {'neg': 0.0, 'neu': 0.584, 'pos': 0.416, 'compound': 0.6908} positive\n",
      "so we were given our original room. {'neg': 0.0, 'neu': 0.723, 'pos': 0.277, 'compound': 0.3182} positive\n",
      "older hotel but room looked updated. {'neg': 0.0, 'neu': 1.0, 'pos': 0.0, 'compound': 0.0} neutral\n",
      "it is an older hotel, pretty fancy with some beautiful lights. {'neg': 0.0, 'neu': 0.559, 'pos': 0.441, 'compound': 0.7964} positive\n",
      "yes it is an older hotel but it has been beautifully updated. {'neg': 0.0, 'neu': 0.592, 'pos': 0.408, 'compound': 0.7845} positive\n",
      "bring back the original palace!! {'neg': 0.0, 'neu': 0.581, 'pos': 0.419, 'compound': 0.4374} positive\n",
      "an older hotel in the heart of new york city. {'neg': 0.0, 'neu': 0.682, 'pos': 0.318, 'compound': 0.6369} positive\n",
      "there was an issue with my original room and it was handled immediately and professionally. {'neg': 0.0, 'neu': 0.859, 'pos': 0.141, 'compound': 0.3182} positive\n",
      "now this is an older hotel, and as a result the room itself is in need up of an update as far as furniture. {'neg': 0.0, 'neu': 1.0, 'pos': 0.0, 'compound': 0.0} neutral\n",
      "check in was excellent even given the opportunity to upgrade to a suite on the 36th floor which after seeing the room we stuck with our original room as the suite was far too big for two people. {'neg': 0.045, 'neu': 0.759, 'pos': 0.196, 'compound': 0.7783} positive\n",
      "this is an older hotel that looks like it has had some relatively recent renovations as the carpets, paint, furniture, tv, etc are relatively new. {'neg': 0.0, 'neu': 0.906, 'pos': 0.094, 'compound': 0.3612} positive\n",
      "despite it being an older hotel, i was very happy to have stayed here for a conference. {'neg': 0.0, 'neu': 0.8, 'pos': 0.2, 'compound': 0.6115} positive\n",
      "it's it original place. {'neg': 0.0, 'neu': 0.566, 'pos': 0.434, 'compound': 0.3182} positive\n",
      "michael at the front desk is incredibly competent, informative, and made me feel as if i were in an exclusive boutique hotel, rather than a large hotel in the middle of manhattan. {'neg': 0.0, 'neu': 0.88, 'pos': 0.12, 'compound': 0.4754} positive\n",
      "it is new yorks original 5 star hotel and after the renovation i like it even better. {'neg': 0.0, 'neu': 0.645, 'pos': 0.355, 'compound': 0.7717} positive\n",
      "Total positif: 18\n",
      "Total negatif: 1\n",
      "Total neutral: 2\n"
     ]
    }
   ],
   "source": [
    "positive_count = 0\n",
    "negative_count = 0\n",
    "neutral_count = 0\n",
    "wordsinc4 = [\"golden\", \"built\", \"unbelievable\", \"private\", \"weather\", \"exclusive\", \"closing\", \"blind\", \"asleep\", \"older\", \"original\"]\n",
    "excluded_sentences = [\"especially the bar was a real highlight (golden room) and we had the opportunity to try some of the signature cocktails.\"]\n",
    "for review in df['content']:\n",
    "  doc = nlp(review)\n",
    "  for token in doc:\n",
    "    if token.text in wordsinc4:\n",
    "        if token.pos_ == \"ADJ\":\n",
    "            if token.head.text == \"hotel\" or token.head.text == \"property\" or token.head.text == \"place\" or token.head.text == \"palace\" or token.head.text == \"lotte\" or token.head.text == \"decorations\" or token.head.text == \"exterior\" or token.head.text == \"interior\" or token.head.text == \"gym\" or token.head.text == \"architecture\" or token.head.text == \"room\" or token.head.text == \"bedroom\" or token.head.text == \"bed\" or token.head.text == \"windows\" or token.head.text == \"toiletries\" or token.head.text == \"bathroom\" or token.head.text == \"mattress\" or token.head.text == \"furniture\" or token.head.text == \"rooftop\" or token.head.text == \"guestrooms\" or token.head.text == \"staff\" or token.head.text == \"doormen\" or token.head.text == \"bellmen\" or token.head.text == \"concierge\" or token.head.text == \"members\" or token.head.text == \"employees\" or token.head.text == \"bartenders\" or token.head.text == \"bellman\" or token.head.text == \"doorman\" or token.head.text == \"captain\" or token.head.text == \"maids\" or token.head.text == \"housekeeping\":\n",
    "                if token.sent.text not in excluded_sentences:\n",
    "            # Calculate the sentiment scores for the sentence\n",
    "                    scores = analyzer.polarity_scores(token.sent.text)\n",
    "                    if scores['compound'] > 0:\n",
    "                        sentiment = 'positive'\n",
    "                        positive_count += 1\n",
    "                    elif scores['compound'] < 0:\n",
    "                        sentiment = 'negative'\n",
    "                        negative_count += 1\n",
    "                    else:\n",
    "                        sentiment = 'neutral'\n",
    "                        neutral_count += 1\n",
    "            # Print the sentiment scores for the sentence\n",
    "                    print((token.sent.text), (scores), (sentiment))\n",
    "print(f\"Total positif: {positive_count}\")\n",
    "print(f\"Total negatif: {negative_count}\")\n",
    "print(f\"Total neutral: {neutral_count}\")"
   ]
  },
  {
   "cell_type": "code",
   "execution_count": 14,
   "id": "978877c7",
   "metadata": {},
   "outputs": [
    {
     "name": "stdout",
     "output_type": "stream",
     "text": [
      "thanks very caring staff overall {'neg': 0.0, 'neu': 0.319, 'pos': 0.681, 'compound': 0.7501} positive\n",
      "i appreciate the very personable doormen that are so cheerful & helpful! {'neg': 0.0, 'neu': 0.46, 'pos': 0.54, 'compound': 0.8897} positive\n",
      "very informative staff on the front desk and great service. {'neg': 0.0, 'neu': 0.687, 'pos': 0.313, 'compound': 0.6249} positive\n",
      "with each stay, we are more endeared to our 'home away from home'...not only because of the beautifully outstanding hotel, but because of the remarkable, genuine, caring staff: becky hubbard, victor caguindagan, franchesca, ray anis, miles gomez, mike murray, louis, fran, george, batan, olga, teresa, michael, albert, manny, salah, nana, maurice and papa. {'neg': 0.0, 'neu': 0.777, 'pos': 0.223, 'compound': 0.9331} positive\n",
      "our suite was amazing- grand scale, luxury finishes and attentive, personable staff. {'neg': 0.0, 'neu': 0.595, 'pos': 0.405, 'compound': 0.7783} positive\n",
      "staff exceptionally responsive and professional. {'neg': 0.0, 'neu': 0.589, 'pos': 0.411, 'compound': 0.4201} positive\n",
      "very responsive staff. {'neg': 0.0, 'neu': 0.417, 'pos': 0.583, 'compound': 0.4201} positive\n",
      "if you have expectations of this being a caring and thoughtful hotel, you will be terribly disappointed. {'neg': 0.263, 'neu': 0.51, 'pos': 0.227, 'compound': -0.2263} negative\n",
      "we enjoyed a wonderful stay in new york enhanced by this beautiful hotel, luxury accommodations, and caring staff. {'neg': 0.0, 'neu': 0.486, 'pos': 0.514, 'compound': 0.9416} positive\n",
      "the hospitable concierge is there to help with any of your needs at any time of the day or night. {'neg': 0.0, 'neu': 0.876, 'pos': 0.124, 'compound': 0.4019} positive\n",
      "Total positif: 9\n",
      "Total negatif: 1\n",
      "Total neutral: 0\n"
     ]
    }
   ],
   "source": [
    "positive_count = 0\n",
    "negative_count = 0\n",
    "neutral_count = 0\n",
    "wordsinc5 = [\"smiling\", \"hospitable\", \"responsive\", \"thorough\", \"patient\", \"matt\", \"caring\", \"personable\", \"informative\", \"thoughtful\", \"cheerful\", \"upbeat\"]\n",
    "excluded_sentences = [\"especially the bar was a real highlight (golden room) and we had the opportunity to try some of the signature cocktails.\"]\n",
    "for review in df['content']:\n",
    "  doc = nlp(review)\n",
    "  for token in doc:\n",
    "    if token.text in wordsinc5:\n",
    "        if token.pos_ == \"ADJ\":\n",
    "            if token.head.text == \"hotel\" or token.head.text == \"property\" or token.head.text == \"place\" or token.head.text == \"palace\" or token.head.text == \"lotte\" or token.head.text == \"decorations\" or token.head.text == \"exterior\" or token.head.text == \"interior\" or token.head.text == \"gym\" or token.head.text == \"architecture\" or token.head.text == \"room\" or token.head.text == \"bedroom\" or token.head.text == \"bed\" or token.head.text == \"windows\" or token.head.text == \"toiletries\" or token.head.text == \"bathroom\" or token.head.text == \"mattress\" or token.head.text == \"furniture\" or token.head.text == \"rooftop\" or token.head.text == \"guestrooms\" or token.head.text == \"staff\" or token.head.text == \"doormen\" or token.head.text == \"bellmen\" or token.head.text == \"concierge\" or token.head.text == \"members\" or token.head.text == \"employees\" or token.head.text == \"bartenders\" or token.head.text == \"bellman\" or token.head.text == \"doorman\" or token.head.text == \"captain\" or token.head.text == \"maids\" or token.head.text == \"housekeeping\":\n",
    "                if token.sent.text not in excluded_sentences:\n",
    "            # Calculate the sentiment scores for the sentence\n",
    "                    scores = analyzer.polarity_scores(token.sent.text)\n",
    "                    if scores['compound'] > 0:\n",
    "                        sentiment = 'positive'\n",
    "                        positive_count += 1\n",
    "                    elif scores['compound'] < 0:\n",
    "                        sentiment = 'negative'\n",
    "                        negative_count += 1\n",
    "                    else:\n",
    "                        sentiment = 'neutral'\n",
    "                        neutral_count += 1\n",
    "            # Print the sentiment scores for the sentence\n",
    "                    print((token.sent.text), (scores), (sentiment))\n",
    "print(f\"Total positif: {positive_count}\")\n",
    "print(f\"Total negatif: {negative_count}\")\n",
    "print(f\"Total neutral: {neutral_count}\")"
   ]
  },
  {
   "cell_type": "code",
   "execution_count": 16,
   "id": "4976e3d3",
   "metadata": {},
   "outputs": [
    {
     "name": "stdout",
     "output_type": "stream",
     "text": [
      "pleasant staff offered a friendly greeting on every meeting. {'neg': 0.0, 'neu': 0.397, 'pos': 0.603, 'compound': 0.8442} positive\n",
      "dinner was delicious, beautifully served by attentive staff members. {'neg': 0.0, 'neu': 0.486, 'pos': 0.514, 'compound': 0.8126} positive\n",
      "excellent location, friendly efficient staff, clean, nicely appointed rooms, good amenities, great views from the room. {'neg': 0.0, 'neu': 0.288, 'pos': 0.712, 'compound': 0.9694} positive\n",
      "wonderful location at attentive staff. {'neg': 0.0, 'neu': 0.519, 'pos': 0.481, 'compound': 0.5719} positive\n",
      "outstanding service by attentive staff in every area. {'neg': 0.0, 'neu': 0.636, 'pos': 0.364, 'compound': 0.6124} positive\n",
      "lotte palace always does an amazing job offering a luxurious ambience, very professional staff and breathtaking view from the rooms, each room has its own character and feel. {'neg': 0.0, 'neu': 0.793, 'pos': 0.207, 'compound': 0.7783} positive\n",
      "clean, well appointed and a very professional staff. {'neg': 0.0, 'neu': 0.556, 'pos': 0.444, 'compound': 0.5859} positive\n",
      "beyond professional great location beautiful hotel so convenient to public transportation fun people watching great bar wonderful lounge right near their coffee shop  a special treat to spend time here!!! {'neg': 0.0, 'neu': 0.475, 'pos': 0.525, 'compound': 0.9785} positive\n",
      "a fabulous building, great location, pleasant staff and definitely worth a visit even if you don’t stay there is is open to the public to take a look inside and perhaps go to one of the many bars. {'neg': 0.0, 'neu': 0.682, 'pos': 0.318, 'compound': 0.9371} positive\n",
      "great staff .. very attentive we cannot fault the lotte palace. {'neg': 0.0, 'neu': 0.586, 'pos': 0.414, 'compound': 0.7475} positive\n",
      "very efficient business hotel. {'neg': 0.0, 'neu': 0.492, 'pos': 0.508, 'compound': 0.4754} positive\n",
      "professional staff that is efficient, cordial and accommodating. {'neg': 0.0, 'neu': 0.714, 'pos': 0.286, 'compound': 0.4215} positive\n",
      "the annual dinner event i hosted was a great success because of some of the most professional staff i have ever worked with.i need to complement the staff, kaan esgun,constantine chivu,steve kunz and jessica merk. {'neg': 0.0, 'neu': 0.809, 'pos': 0.191, 'compound': 0.8316} positive\n",
      "karl naim in particular is an attentive and professional concierge. {'neg': 0.0, 'neu': 1.0, 'pos': 0.0, 'compound': 0.0} neutral\n",
      "very good accommodation and very pleasant and helpful staff. {'neg': 0.0, 'neu': 0.379, 'pos': 0.621, 'compound': 0.8705} positive\n",
      "lovely hotel, attentive staff and great coffee shop and bakery so can’t go wrong! {'neg': 0.149, 'neu': 0.488, 'pos': 0.363, 'compound': 0.703} positive\n",
      "professional, helpful, friendly staff. {'neg': 0.0, 'neu': 0.25, 'pos': 0.75, 'compound': 0.7184} positive\n",
      "staff very pleasant and welcoming no matter what time you happen to return, but no in-room coffee maker, even on request. {'neg': 0.152, 'neu': 0.674, 'pos': 0.174, 'compound': 0.1384} positive\n",
      "we arrived in new york on thursday night and immediately greeted by an incredibly pleasant doorman named george who helped us with recommendations for restaurants. {'neg': 0.0, 'neu': 0.802, 'pos': 0.198, 'compound': 0.6901} positive\n",
      "concierge very courteous and helped organise a couple of things for me which was appreciated. {'neg': 0.0, 'neu': 0.653, 'pos': 0.347, 'compound': 0.7841} positive\n",
      "very attentive staff with a lovely relaxed atmosphere, mood lighting and a nice bit of music in the background, it was that morning and that setting that i’d found in new york what i’d waited my whole for life and what i had dreamt new york would be like. {'neg': 0.0, 'neu': 0.785, 'pos': 0.215, 'compound': 0.9062} positive\n",
      "perfectly located for everything you need in new york, attentive staff and fantastic ambience. {'neg': 0.0, 'neu': 0.606, 'pos': 0.394, 'compound': 0.8316} positive\n",
      "staff extremely welcoming and professional in every way {'neg': 0.0, 'neu': 0.687, 'pos': 0.313, 'compound': 0.4927} positive\n",
      "hotel staff very professional. {'neg': 0.0, 'neu': 1.0, 'pos': 0.0, 'compound': 0.0} neutral\n",
      "very professional client oriented hotel. {'neg': 0.0, 'neu': 1.0, 'pos': 0.0, 'compound': 0.0} neutral\n",
      "hotel staff, exceptionally polite and helpful. {'neg': 0.0, 'neu': 0.62, 'pos': 0.38, 'compound': 0.4703} positive\n",
      "lots of pros: superb location, professional staff, 24/7 room service, great room, multiple places for chargers, good tv options, clean, well stocked (good hair dryer, soaps, robes, slippers, safe, minibar, iron etc.) and a bed so comfortable it was hard to get out of it. {'neg': 0.022, 'neu': 0.568, 'pos': 0.41, 'compound': 0.9765} positive\n",
      "if you can get one for the palace, i would definitely recommend booking it as you will be assured a classically elegant lobby, well maintained and appointed room, and you will be well-served by a courteous and professional staff--from those who retrieve your luggage from the car to those who check you in, take your luggage to the room and serve you in the several hotel lounges. {'neg': 0.0, 'neu': 0.776, 'pos': 0.224, 'compound': 0.936} positive\n",
      "located at the center of manhattan with a breathtaking view, amazing decoration and professional staff always ready to take care of their customers. {'neg': 0.0, 'neu': 0.603, 'pos': 0.397, 'compound': 0.91} positive\n",
      "staff very attentive and welcoming, very clean in all areas and beautiful view from the bedroom window of the new york skyline and well situated for walking around town.. will definitely look to book this hotel again when visiting new york, thank you for making it a memorable stay {'neg': 0.0, 'neu': 0.712, 'pos': 0.288, 'compound': 0.9465} positive\n",
      "well yes, but you get what you pay for and in this case it is incredibly attentive, friendly personal staff who really do want to go that extra mile for you all within the absolutely luxiourious setting of a truely beautiful hotel. {'neg': 0.03, 'neu': 0.68, 'pos': 0.29, 'compound': 0.9292} positive\n",
      " great luxury hotel with great amenities and polite staff. {'neg': 0.0, 'neu': 0.461, 'pos': 0.539, 'compound': 0.8481} positive\n",
      "lovely accommodations and attentive staff round out the experience - while there is no dinner restaurant remember you are in nyc and options abound outside. {'neg': 0.076, 'neu': 0.793, 'pos': 0.131, 'compound': 0.3818} positive\n",
      "fantastic beds, very quiet, very professional courteous staff - very polished indeed. {'neg': 0.0, 'neu': 0.582, 'pos': 0.418, 'compound': 0.8008} positive\n",
      "fantastic beds, very quiet, very professional courteous staff - very polished indeed. {'neg': 0.0, 'neu': 0.582, 'pos': 0.418, 'compound': 0.8008} positive\n",
      "lovely ,pleasant staff. {'neg': 0.0, 'neu': 0.123, 'pos': 0.877, 'compound': 0.7964} positive\n",
      "this is a beautiful hotel with wonderful facilities and a very welcoming staff. {'neg': 0.0, 'neu': 0.481, 'pos': 0.519, 'compound': 0.8955} positive\n",
      "chose this hotel based on trip advisor reviews we flew from sf to nyc & arrived at the lotte new york palace on june 28 at about 7:15 pm. extremely attentive doormen, porters & check in staff. {'neg': 0.0, 'neu': 1.0, 'pos': 0.0, 'compound': 0.0} neutral\n",
      "the hotel was beautiful, opulent, clean with very helpful, pleasant staff. {'neg': 0.0, 'neu': 0.345, 'pos': 0.655, 'compound': 0.9227} positive\n",
      "also, the hotel has the most pleasant staff at the front desk especially dahb, who couldn't do enough to help us. {'neg': 0.0, 'neu': 0.751, 'pos': 0.249, 'compound': 0.7425} positive\n",
      "very well appointed hotel with very attentive and helpful staff. {'neg': 0.0, 'neu': 0.594, 'pos': 0.406, 'compound': 0.6659} positive\n",
      "very professional staff, concierge and receptionists. {'neg': 0.0, 'neu': 1.0, 'pos': 0.0, 'compound': 0.0} neutral\n",
      "check in is always a breeze with professional staff like caroline, ava and sandy. {'neg': 0.0, 'neu': 0.839, 'pos': 0.161, 'compound': 0.3612} positive\n",
      " a big thank you to the professional staff at the hotel. {'neg': 0.0, 'neu': 0.8, 'pos': 0.2, 'compound': 0.3612} positive\n",
      "the friendliest most professional staff, especially bellmen brian, matthew and gary. {'neg': 0.0, 'neu': 0.735, 'pos': 0.265, 'compound': 0.5574} positive\n",
      "the hotel is a restored older/historic building two ground level bars, very quiet rooms, attentive staff, ground floor coffee shop, good gym, 3 convenient entrances, on 51st, madison ave, and 50th street. {'neg': 0.0, 'neu': 0.85, 'pos': 0.15, 'compound': 0.6486} positive\n"
     ]
    },
    {
     "name": "stdout",
     "output_type": "stream",
     "text": [
      "the rooms are beautiful, high end bath products, attentive staff and great location without the times square noise. {'neg': 0.0, 'neu': 0.667, 'pos': 0.333, 'compound': 0.8402} positive\n",
      "we had a corner cathedral view double overlooking st patrick's ... wonderfully presented hotel amazing g staff very professional ... would return again.... {'neg': 0.0, 'neu': 0.732, 'pos': 0.268, 'compound': 0.8271} positive\n",
      "a professional staff greeted us, displaying high efficiency, courtesy, and the desire to accommodate. {'neg': 0.0, 'neu': 0.505, 'pos': 0.495, 'compound': 0.8316} positive\n",
      "from the moment i arrived to the time i left, i thoroughly enjoyed all the hotel had to offer, perfect location, professional staff and exquisite amenities (gym, restaurants, courtyard). {'neg': 0.0, 'neu': 0.787, 'pos': 0.213, 'compound': 0.807} positive\n",
      "friendly, attentive staff from the front desk to housekeeping, all excellent. {'neg': 0.0, 'neu': 0.566, 'pos': 0.434, 'compound': 0.7845} positive\n",
      "staff very attentive and knowledgeable concierge. {'neg': 0.0, 'neu': 1.0, 'pos': 0.0, 'compound': 0.0} neutral\n",
      "i would highly recommend the lotte palace and give the highest marks possible to their staff, from the concierge, the desk staff, and, even, the pleasant doorman. {'neg': 0.0, 'neu': 0.804, 'pos': 0.196, 'compound': 0.7264} positive\n",
      "while their room service leaves something to be desired and is outrageously overpriced, the pomme palais on the ground floor provides excellent quality breakfast and some of the most attentive staff in the hotel. {'neg': 0.056, 'neu': 0.795, 'pos': 0.149, 'compound': 0.5574} positive\n",
      "the service was great, the staff very courteous, always smiling and happy to make our trip comfortable. {'neg': 0.0, 'neu': 0.401, 'pos': 0.599, 'compound': 0.9581} positive\n",
      "staff very professional and helpful. {'neg': 0.0, 'neu': 0.566, 'pos': 0.434, 'compound': 0.4703} positive\n",
      "oversized rooms, less than 1000 rooms \"boutique\" elegance, attentive staff. {'neg': 0.0, 'neu': 0.744, 'pos': 0.256, 'compound': 0.4767} positive\n",
      "i find it difficult to define the service or lack of same but it is an efficient hotel and it really suits me. {'neg': 0.125, 'neu': 0.738, 'pos': 0.137, 'compound': 0.3182} positive\n",
      "overall a lovely stay in a beautiful hotel with very attentive staff. {'neg': 0.0, 'neu': 0.565, 'pos': 0.435, 'compound': 0.8271} positive\n",
      "very attentive staff. {'neg': 0.0, 'neu': 1.0, 'pos': 0.0, 'compound': 0.0} neutral\n",
      "excellent service , very professional staff , welcoming, helpful , smiling , totally recommend , lovely rooms , we stayed in a superior king room spacious and very luxurious feel ,  mini bar has sensors on in room so be careful for extra charges if touched and not used ... staff lovely to accept if not consumed... can dis -regard the bill ... .. {'neg': 0.024, 'neu': 0.615, 'pos': 0.36, 'compound': 0.9816} positive\n",
      "courteous staff, fantastic location. {'neg': 0.0, 'neu': 0.225, 'pos': 0.775, 'compound': 0.7845} positive\n",
      "room service great and wondrerful attentive staff willing to please any request. {'neg': 0.0, 'neu': 0.61, 'pos': 0.39, 'compound': 0.7506} positive\n",
      "great location, efficient staff and very good concierge service. {'neg': 0.0, 'neu': 0.373, 'pos': 0.627, 'compound': 0.8777} positive\n",
      " with welcoming staff from the security guards to front desk ...to the cafe,,, to bartender... to doormen... to housekeeper... all polite, all are informative and very help full. {'neg': 0.0, 'neu': 0.751, 'pos': 0.249, 'compound': 0.807} positive\n",
      " with welcoming staff from the security guards to front desk ...to the cafe,,, to bartender... to doormen... to housekeeper... all polite, all are informative and very help full. {'neg': 0.0, 'neu': 0.751, 'pos': 0.249, 'compound': 0.807} positive\n",
      "clean rooms, attentive staff. {'neg': 0.0, 'neu': 0.526, 'pos': 0.474, 'compound': 0.4019} positive\n",
      " the bars and cocktails are terrific with very attentive staff. {'neg': 0.0, 'neu': 0.744, 'pos': 0.256, 'compound': 0.4767} positive\n",
      "this hotel has it all: location, excellent staff, highly efficient concierge. {'neg': 0.0, 'neu': 0.57, 'pos': 0.43, 'compound': 0.7778} positive\n",
      "staff as attentive as usual! {'neg': 0.0, 'neu': 1.0, 'pos': 0.0, 'compound': 0.0} neutral\n",
      " pros: great location, beautiful hotel, nice rooms, polite cleaning and floor staff. {'neg': 0.0, 'neu': 0.455, 'pos': 0.545, 'compound': 0.8957} positive\n",
      "our suite was amazing- grand scale, luxury finishes and attentive, personable staff. {'neg': 0.0, 'neu': 0.595, 'pos': 0.405, 'compound': 0.7783} positive\n",
      "comfortable beds and an efficient bathroom made for a cozy family vacation in the winter. {'neg': 0.0, 'neu': 0.681, 'pos': 0.319, 'compound': 0.7269} positive\n",
      "parking is right next door, easy to find, courteous staff, but it is $60 a day for a car. {'neg': 0.0, 'neu': 0.806, 'pos': 0.194, 'compound': 0.4767} positive\n",
      "we were greeted with lots of smiles from very professional staff. {'neg': 0.0, 'neu': 0.634, 'pos': 0.366, 'compound': 0.6369} positive\n",
      "staff efficient and attentive. {'neg': 0.0, 'neu': 0.517, 'pos': 0.483, 'compound': 0.4215} positive\n",
      "this is a beautiful hotel with a very professional staff that i highly recommend. {'neg': 0.0, 'neu': 0.642, 'pos': 0.358, 'compound': 0.7713} positive\n",
      " professional, friendly, efficient front desk staff knows when you are a returning guest and makes mention of it. {'neg': 0.0, 'neu': 0.727, 'pos': 0.273, 'compound': 0.7184} positive\n",
      " professional, friendly, efficient front desk staff knows when you are a returning guest and makes mention of it. {'neg': 0.0, 'neu': 0.727, 'pos': 0.273, 'compound': 0.7184} positive\n",
      "from the moment we checked in we were welcomed and taken care of by very attentive staff members. {'neg': 0.0, 'neu': 0.741, 'pos': 0.259, 'compound': 0.6808} positive\n",
      "highly professional staff. {'neg': 0.0, 'neu': 1.0, 'pos': 0.0, 'compound': 0.0} neutral\n",
      "efficient staff and an elegant stairway on the way to the elevators. {'neg': 0.0, 'neu': 0.629, 'pos': 0.371, 'compound': 0.7096} positive\n",
      "excellent service, clean rooms, amazing patio and friendly courteous staff at every level. {'neg': 0.0, 'neu': 0.324, 'pos': 0.676, 'compound': 0.9493} positive\n",
      "only complaints are that our room bill was completely wrong on check out but was resolved quickly by very pleasant staff, upon leaving the hotel the door man helped us with our bags, hovered around for a tip, processed to ask for one and then counted it out in front of us. {'neg': 0.069, 'neu': 0.814, 'pos': 0.118, 'compound': 0.5984} positive\n",
      "i'm sorry i don't remember his name - they did make him wear a tail coat, which looked really awful, instead of something befitting a sharp, knowledgable concierge. {'neg': 0.15, 'neu': 0.85, 'pos': 0.0, 'compound': -0.5563} negative\n",
      "the lobby is lovely with attentive staff, interesting artwork, and an amazing chandelier. {'neg': 0.0, 'neu': 0.441, 'pos': 0.559, 'compound': 0.886} positive\n",
      "we arrived at the hotel around 10:30 am and, thanks to the very courteous and professional staff at the reception desk, we were able to get into our room right away. {'neg': 0.0, 'neu': 0.817, 'pos': 0.183, 'compound': 0.7574} positive\n",
      "from the professional, quick yet incredibly friendly bellman to the desk clerk who was committed to get us the early check in we needed to molly, the host in rarities , everyone on staff made us feel like we were the only guests in the hotel. {'neg': 0.0, 'neu': 0.842, 'pos': 0.158, 'compound': 0.796} positive\n",
      "breathtaking views, elegant comfort and a professional and friendly staff. {'neg': 0.0, 'neu': 0.337, 'pos': 0.663, 'compound': 0.8957} positive\n",
      "good knowledgable friendly staff. {'neg': 0.0, 'neu': 0.247, 'pos': 0.753, 'compound': 0.7269} positive\n",
      "though our days were busy, we returned each night to a welcoming hotel. {'neg': 0.0, 'neu': 0.805, 'pos': 0.195, 'compound': 0.4404} positive\n",
      "from the courteous staff on the front desk, to don the porter, the wonderful housekeeping staff and the vibrant and friendly welcome in the pomme palais (hotel bakery) i cannot fault the reception we received. {'neg': 0.0, 'neu': 0.606, 'pos': 0.394, 'compound': 0.9575} positive\n",
      "courteous staff, good food, good location, and lovely room. {'neg': 0.0, 'neu': 0.279, 'pos': 0.721, 'compound': 0.9169} positive\n"
     ]
    },
    {
     "name": "stdout",
     "output_type": "stream",
     "text": [
      "loved everything about it, centrally located, super clean room, very attentive staff. {'neg': 0.0, 'neu': 0.462, 'pos': 0.538, 'compound': 0.8885} positive\n",
      "Total positif: 84\n",
      "Total negatif: 1\n",
      "Total neutral: 9\n"
     ]
    }
   ],
   "source": [
    "positive_count = 0\n",
    "negative_count = 0\n",
    "neutral_count = 0\n",
    "wordsinc6 = [\"accommodating\", \"courteous\", \"attentive\", \"professional\", \"welcoming\", \"pleasant\", \"polite\", \"efficient\", \"knowledgable\", \"favorable\", \"well-disposed\"]\n",
    "excluded_sentences = [\"the outside courtyard facing the backside of the catherdral was lovely and a pleasant place to relax and have coffee.\"]\n",
    "for review in df['content']:\n",
    "  doc = nlp(review)\n",
    "  for token in doc:\n",
    "    if token.text in wordsinc6:\n",
    "        if token.pos_ == \"ADJ\":\n",
    "            if token.head.text == \"hotel\" or token.head.text == \"property\" or token.head.text == \"place\" or token.head.text == \"palace\" or token.head.text == \"lotte\" or token.head.text == \"decorations\" or token.head.text == \"exterior\" or token.head.text == \"interior\" or token.head.text == \"gym\" or token.head.text == \"architecture\" or token.head.text == \"room\" or token.head.text == \"bedroom\" or token.head.text == \"bed\" or token.head.text == \"windows\" or token.head.text == \"toiletries\" or token.head.text == \"bathroom\" or token.head.text == \"mattress\" or token.head.text == \"furniture\" or token.head.text == \"rooftop\" or token.head.text == \"guestrooms\" or token.head.text == \"staff\" or token.head.text == \"doormen\" or token.head.text == \"bellmen\" or token.head.text == \"concierge\" or token.head.text == \"members\" or token.head.text == \"employees\" or token.head.text == \"bartenders\" or token.head.text == \"bellman\" or token.head.text == \"doorman\" or token.head.text == \"captain\" or token.head.text == \"maids\" or token.head.text == \"housekeeping\":\n",
    "                if token.sent.text not in excluded_sentences:\n",
    "            # Calculate the sentiment scores for the sentence\n",
    "                    scores = analyzer.polarity_scores(token.sent.text)\n",
    "                    if scores['compound'] > 0:\n",
    "                        sentiment = 'positive'\n",
    "                        positive_count += 1\n",
    "                    elif scores['compound'] < 0:\n",
    "                        sentiment = 'negative'\n",
    "                        negative_count += 1\n",
    "                    else:\n",
    "                        sentiment = 'neutral'\n",
    "                        neutral_count += 1\n",
    "            # Print the sentiment scores for the sentence\n",
    "                    print((token.sent.text), (scores), (sentiment))\n",
    "print(f\"Total positif: {positive_count}\")\n",
    "print(f\"Total negatif: {negative_count}\")\n",
    "print(f\"Total neutral: {neutral_count}\")"
   ]
  },
  {
   "cell_type": "code",
   "execution_count": 25,
   "id": "68d0865f",
   "metadata": {},
   "outputs": [
    {
     "data": {
      "image/png": "[encoded data removed]",
      "text/plain": [
       "<Figure size 432x288 with 1 Axes>"
      ]
     },
     "metadata": {
      "needs_background": "light"
     },
     "output_type": "display_data"
    }
   ],
   "source": [
    "# Set the labels and values for the bar chart\n",
    "labels = ['Positive', 'Neutral', 'Negative']\n",
    "values = [130, 20, 4]\n",
    "\n",
    "# Create the bar chart\n",
    "plt.bar(labels, values)\n",
    "plt.title(\"Sentiment Analysis of Sincerity Dimension\")\n",
    "plt.xlabel(\"Sentiment\")\n",
    "plt.ylabel(\"Number of Reviews\")\n",
    "\n",
    "# Show the bar chart\n",
    "plt.show()\n"
   ]
  },
  {
   "cell_type": "markdown",
   "id": "3d2ec466",
   "metadata": {},
   "source": [
    "# Dimensi Excitement"
   ]
  },
  {
   "cell_type": "code",
   "execution_count": 17,
   "id": "0f857c04",
   "metadata": {},
   "outputs": [
    {
     "name": "stdout",
     "output_type": "stream",
     "text": [
      "my usual preferred hotel (intercontinental barclay) was fully booked, hence my assistant booked the palace. {'neg': 0.0, 'neu': 1.0, 'pos': 0.0, 'compound': 0.0} neutral\n",
      "most staff however were quite friendly, ani in concierge recommended one of the best restaurants we dined at during our visit. {'neg': 0.0, 'neu': 0.655, 'pos': 0.345, 'compound': 0.8588} positive\n",
      "we chose the lotte new york palace as a preferred hotel for our guests and entire wedding party. {'neg': 0.0, 'neu': 0.863, 'pos': 0.137, 'compound': 0.4019} positive\n",
      "we enjoyed breakfast at the classical lotte's villard room making the morning a very special experience. {'neg': 0.0, 'neu': 0.69, 'pos': 0.31, 'compound': 0.7425} positive\n",
      "service was excellent, from the doormen, to reception, to maid service in the rooms -- much as one would expect at the former helmsley palace. {'neg': 0.0, 'neu': 0.866, 'pos': 0.134, 'compound': 0.5719} positive\n",
      "pros: huge room: huge, comfortable bed: amazing mid-town position: beautiful lobby, courtyard opposite cathedral: great cocktails in the downstairs bar: most staff very friendly and helpful: proximity of prêt so you can get a reasonably priced breakfast (unavailable in hotel) and starbucks for free wi-fi cons: some front desk staff were condescending: bizarrely angled shower was unusable without flooding the bathroom: very odd lighting set up in room: requirement to pay for wi-fi is astonishing given the very expensive room tariff: there is no complimentary kettle, tea or coffee in the room - i can get that at a holiday inn!: on our last night, we considered ordering room service but were put off by no less than four separate charges listed on the menu in addition to the price of the food - this is just exploitation of guests - so we had pringles and m&ms from the mini bar (not a luxury experience) conclusion: i have had the 5* experience elsewhere, and this was not it. {'neg': 0.055, 'neu': 0.823, 'pos': 0.122, 'compound': 0.8574} positive\n",
      "felt a bit money grabbing c) bizarrely short cable on hair drier, making use of it near impossible d) for such a prestigious hotel a complimentary bottle of water (or something) might have been a nice touch. {'neg': 0.0, 'neu': 0.86, 'pos': 0.14, 'compound': 0.6908} positive\n",
      "this was the second year since the dcat moved from the waldorf, and i can tell you that we find the lotte equal to or superior in every way to the former hotel for dcat week. {'neg': 0.0, 'neu': 0.909, 'pos': 0.091, 'compound': 0.5423} positive\n",
      "it is a classical ny palace. {'neg': 0.0, 'neu': 1.0, 'pos': 0.0, 'compound': 0.0} neutral\n",
      "i hosted conferences here twice this past spring and was greatly impressed by the level of customer service at this elegant, chic hotel. {'neg': 0.0, 'neu': 0.687, 'pos': 0.313, 'compound': 0.8449} positive\n",
      "the lotte new york palace has been my preferred place to stay for the last 25 years. {'neg': 0.0, 'neu': 1.0, 'pos': 0.0, 'compound': 0.0} neutral\n",
      "most staff were very friendly and helpful, however a couple of staff at the desk we spoke to were a little rude and snooty. {'neg': 0.089, 'neu': 0.694, 'pos': 0.217, 'compound': 0.5926} positive\n",
      "the room, however, looked very little like the image on hotels.com, which is a shame, because the room in itself wasn't really bad, but compared to the image we had been sold - that pictured a modern, hardwood floored, chic room, this 1980's carpeted, tired, heavy curtain, carpet glue coming off in the corners, used-to-be-white-now-is-kinda-yellow, was a bummer. {'neg': 0.137, 'neu': 0.768, 'pos': 0.095, 'compound': -0.5959} negative\n",
      "two icons of the ny luxury hotel trade, the former helmsly palace now the lotte palace and the waldorf astoria. {'neg': 0.0, 'neu': 1.0, 'pos': 0.0, 'compound': 0.0} neutral\n",
      "magnificent entrance, classical hotel if any. {'neg': 0.0, 'neu': 0.562, 'pos': 0.438, 'compound': 0.5994} positive\n",
      "new york is not exactly full of great or even acceptable hotels ccompared to global standards - lotte is a good exception  pros: - great location - good, practical rooms - nice, spacious meeting rooms  cons: - first room i have feceived was terribly noisy, close to the central air conditioning - but they quickly corrected that - they.charge.for.wifi. {'neg': 0.054, 'neu': 0.759, 'pos': 0.187, 'compound': 0.7845} positive\n",
      "we just love the (former) new york palace and now the lotte new york palace. {'neg': 0.0, 'neu': 0.769, 'pos': 0.231, 'compound': 0.6369} positive\n",
      "the hotel is (former newyork palace hotel) perfectly located in 5th avenue i stayed in hotel building and room was very comfortable and clean. {'neg': 0.0, 'neu': 0.661, 'pos': 0.339, 'compound': 0.8947} positive\n",
      "we traveld to ny for client roadshow in april and stayed at ny palace as usual - client's most preferred hotel in ny ! and experienced comfortable stay again with tremendous benefits as a business hotel. {'neg': 0.0, 'neu': 0.84, 'pos': 0.16, 'compound': 0.7569} positive\n",
      " because my firm is merely steps away, and a preferred property of our travel agent, i booked the palace again for a combination business/personal trip, under a virtuoso rate, which comes with some amenities, including breakfast, and a one-category room upgrade upon availability. {'neg': 0.0, 'neu': 0.933, 'pos': 0.067, 'compound': 0.4588} positive\n",
      "i can't fault the location or service of most staff but i think there are probably better hotels for regular visitors so if i go to nyc again i won't be staying here. {'neg': 0.0, 'neu': 0.85, 'pos': 0.15, 'compound': 0.6683} positive\n",
      "the former helmsley palace is regal, elegant and plush. {'neg': 0.0, 'neu': 0.721, 'pos': 0.279, 'compound': 0.4767} positive\n",
      "although my preferred room was not available when i arrived, we took the time to grab a bite and do some shopping. {'neg': 0.0, 'neu': 1.0, 'pos': 0.0, 'compound': 0.0} neutral\n",
      "Total positif: 17\n",
      "Total negatif: 1\n",
      "Total neutral: 5\n"
     ]
    }
   ],
   "source": [
    "positive_count = 0\n",
    "negative_count = 0\n",
    "neutral_count = 0\n",
    "wordexcite1 = [\"most\", \"prestigious\", \"classical\", \"former\", \"chic\", \"firm\", \"global\", \"preferred\", \"picky\", \"tops\", \"trendy\"]\n",
    "excluded_sentences = [\"the outside courtyard facing the backside of the catherdral was lovely and a pleasant place to relax and have coffee.\"]\n",
    "for review in df['content']:\n",
    "  doc = nlp(review)\n",
    "  for token in doc:\n",
    "    if token.text in wordexcite1:\n",
    "        if token.pos_ == \"ADJ\":\n",
    "            if token.head.text == \"hotel\" or token.head.text == \"property\" or token.head.text == \"place\" or token.head.text == \"palace\" or token.head.text == \"lotte\" or token.head.text == \"decorations\" or token.head.text == \"exterior\" or token.head.text == \"interior\" or token.head.text == \"gym\" or token.head.text == \"architecture\" or token.head.text == \"room\" or token.head.text == \"bedroom\" or token.head.text == \"bed\" or token.head.text == \"windows\" or token.head.text == \"toiletries\" or token.head.text == \"bathroom\" or token.head.text == \"mattress\" or token.head.text == \"furniture\" or token.head.text == \"rooftop\" or token.head.text == \"guestrooms\" or token.head.text == \"staff\" or token.head.text == \"doormen\" or token.head.text == \"bellmen\" or token.head.text == \"concierge\" or token.head.text == \"members\" or token.head.text == \"employees\" or token.head.text == \"bartenders\" or token.head.text == \"bellman\" or token.head.text == \"doorman\" or token.head.text == \"captain\" or token.head.text == \"maids\" or token.head.text == \"housekeeping\":\n",
    "                if token.sent.text not in excluded_sentences:\n",
    "            # Calculate the sentiment scores for the sentence\n",
    "                    scores = analyzer.polarity_scores(token.sent.text)\n",
    "                    if scores['compound'] > 0:\n",
    "                        sentiment = 'positive'\n",
    "                        positive_count += 1\n",
    "                    elif scores['compound'] < 0:\n",
    "                        sentiment = 'negative'\n",
    "                        negative_count += 1\n",
    "                    else:\n",
    "                        sentiment = 'neutral'\n",
    "                        neutral_count += 1\n",
    "            # Print the sentiment scores for the sentence\n",
    "                    print((token.sent.text), (scores), (sentiment))\n",
    "print(f\"Total positif: {positive_count}\")\n",
    "print(f\"Total negatif: {negative_count}\")\n",
    "print(f\"Total neutral: {neutral_count}\")"
   ]
  },
  {
   "cell_type": "code",
   "execution_count": 18,
   "id": "d72fe0a6",
   "metadata": {},
   "outputs": [
    {
     "name": "stdout",
     "output_type": "stream",
     "text": [
      "the palace has always been our choice in ny.. i send my daughters and granddaughters to ny on their 16th birthday... the only place i know where safety, elegance, class and service are without question..but this latest experience exceeded all possible expectations with the assistance form a marvelous concierge by the name of ani......she went well beyond what anyone could expect to insure my daughter and granddaughter had a marvelous experience.. {'neg': 0.0, 'neu': 0.807, 'pos': 0.193, 'compound': 0.9413} positive\n",
      "such a blast at this marvelous hotel. stayed with my family as we booked two rooms at an amazing deal. {'neg': 0.0, 'neu': 0.681, 'pos': 0.319, 'compound': 0.8564} positive\n",
      " the reception area was lovely , the bar areas were just lush, esp the golden room and the whiskey room was so tranquil , decor was just spot on but not ott, certainly made you you feel you were in an authentic ny hotel . {'neg': 0.053, 'neu': 0.87, 'pos': 0.077, 'compound': 0.0398} positive\n",
      "the only thing they need is a key for the elevator so that only guests can enter the floors, otherwise marvelous place and will return {'neg': 0.0, 'neu': 0.86, 'pos': 0.14, 'compound': 0.5994} positive\n",
      "still, this is a hotel rich in history and tradition. {'neg': 0.0, 'neu': 0.714, 'pos': 0.286, 'compound': 0.5574} positive\n",
      "the entire hotel really did feel like a palace - a very exciting place to stay on a very exciting trip. {'neg': 0.0, 'neu': 0.649, 'pos': 0.351, 'compound': 0.8674} positive\n",
      "Total positif: 6\n",
      "Total negatif: 0\n",
      "Total neutral: 0\n"
     ]
    }
   ],
   "source": [
    "positive_count = 0\n",
    "negative_count = 0\n",
    "neutral_count = 0\n",
    "wordexcite2 = [\"rich\", \"seasonal\", \"marvelous\", \"oriental\", \"significant\", \"sad\", \"pet\", \"pro\", \"authentic\", \"picky\", \"exciting\"]\n",
    "excluded_sentences = [\"the outside courtyard facing the backside of the catherdral was lovely and a pleasant place to relax and have coffee.\"]\n",
    "for review in df['content']:\n",
    "  doc = nlp(review)\n",
    "  for token in doc:\n",
    "    if token.text in wordexcite2:\n",
    "        if token.pos_ == \"ADJ\":\n",
    "            if token.head.text == \"hotel\" or token.head.text == \"property\" or token.head.text == \"place\" or token.head.text == \"palace\" or token.head.text == \"lotte\" or token.head.text == \"decorations\" or token.head.text == \"exterior\" or token.head.text == \"interior\" or token.head.text == \"gym\" or token.head.text == \"architecture\" or token.head.text == \"room\" or token.head.text == \"bedroom\" or token.head.text == \"bed\" or token.head.text == \"windows\" or token.head.text == \"toiletries\" or token.head.text == \"bathroom\" or token.head.text == \"mattress\" or token.head.text == \"furniture\" or token.head.text == \"rooftop\" or token.head.text == \"guestrooms\" or token.head.text == \"staff\" or token.head.text == \"doormen\" or token.head.text == \"bellmen\" or token.head.text == \"concierge\" or token.head.text == \"members\" or token.head.text == \"employees\" or token.head.text == \"bartenders\" or token.head.text == \"bellman\" or token.head.text == \"doorman\" or token.head.text == \"captain\" or token.head.text == \"maids\" or token.head.text == \"housekeeping\":\n",
    "                if token.sent.text not in excluded_sentences:\n",
    "            # Calculate the sentiment scores for the sentence\n",
    "                    scores = analyzer.polarity_scores(token.sent.text)\n",
    "                    if scores['compound'] > 0:\n",
    "                        sentiment = 'positive'\n",
    "                        positive_count += 1\n",
    "                    elif scores['compound'] < 0:\n",
    "                        sentiment = 'negative'\n",
    "                        negative_count += 1\n",
    "                    else:\n",
    "                        sentiment = 'neutral'\n",
    "                        neutral_count += 1\n",
    "            # Print the sentiment scores for the sentence\n",
    "                    print((token.sent.text), (scores), (sentiment))\n",
    "print(f\"Total positif: {positive_count}\")\n",
    "print(f\"Total negatif: {negative_count}\")\n",
    "print(f\"Total neutral: {neutral_count}\")"
   ]
  },
  {
   "cell_type": "code",
   "execution_count": 19,
   "id": "0ddd8e20",
   "metadata": {},
   "outputs": [
    {
     "name": "stdout",
     "output_type": "stream",
     "text": [
      "very small outdated bathroom with shower in the tub. {'neg': 0.0, 'neu': 1.0, 'pos': 0.0, 'compound': 0.0} neutral\n",
      "we really are low key so don’t need a fancy room. {'neg': 0.192, 'neu': 0.808, 'pos': 0.0, 'compound': -0.3353} negative\n",
      "there was a pokey small dark room next to it where one was supposed to eat. {'neg': 0.0, 'neu': 1.0, 'pos': 0.0, 'compound': 0.0} neutral\n",
      "very cool place to get a drink before dinner! {'neg': 0.0, 'neu': 0.735, 'pos': 0.265, 'compound': 0.4376} positive\n",
      "and what a fancy hotel, especially for the price. {'neg': 0.0, 'neu': 1.0, 'pos': 0.0, 'compound': 0.0} neutral\n",
      "very well decorated , fancy hotel. {'neg': 0.0, 'neu': 0.676, 'pos': 0.324, 'compound': 0.3384} positive\n",
      "the lotte was such a cool place to stay. {'neg': 0.0, 'neu': 0.777, 'pos': 0.223, 'compound': 0.3182} positive\n",
      "i have to sleep in a cool room (63-67 f) to sleep comfortably. {'neg': 0.0, 'neu': 0.683, 'pos': 0.317, 'compound': 0.6249} positive\n",
      "it is an older hotel, pretty fancy with some beautiful lights. {'neg': 0.0, 'neu': 0.559, 'pos': 0.441, 'compound': 0.7964} positive\n",
      "one of the best hotel in ney york city, amazing location with affordable room rates specially the family grate offer i.e. second room with 50% off which makes my stay in new york amazing. {'neg': 0.0, 'neu': 0.724, 'pos': 0.276, 'compound': 0.9153} positive\n",
      "this is a cool place to stay and hangout. {'neg': 0.0, 'neu': 0.777, 'pos': 0.223, 'compound': 0.3182} positive\n",
      "very fancy hotel with great location. {'neg': 0.0, 'neu': 0.549, 'pos': 0.451, 'compound': 0.6249} positive\n",
      "the room was very nice...but the shades dont keep out the light..so if you must have an all dark room for your sleep..this is not it. {'neg': 0.0, 'neu': 1.0, 'pos': 0.0, 'compound': 0.0} neutral\n",
      "i wanted to pamper myself and stay in a fancy hotel. {'neg': 0.0, 'neu': 1.0, 'pos': 0.0, 'compound': 0.0} neutral\n",
      "Total positif: 8\n",
      "Total negatif: 1\n",
      "Total neutral: 5\n"
     ]
    }
   ],
   "source": [
    "positive_count = 0\n",
    "negative_count = 0\n",
    "neutral_count = 0\n",
    "wordexcite3 = [\"liked\", \"fancy\", \"dark\", \"functional\", \"dim\", \"affordable\", \"outdated\", \"congested\", \"crowded\", \"plentiful\", \"cool\"]\n",
    "excluded_sentences = [\"the outside courtyard facing the backside of the catherdral was lovely and a pleasant place to relax and have coffee.\"]\n",
    "for review in df['content']:\n",
    "  doc = nlp(review)\n",
    "  for token in doc:\n",
    "    if token.text in wordexcite3:\n",
    "        if token.pos_ == \"ADJ\":\n",
    "            if token.head.text == \"hotel\" or token.head.text == \"property\" or token.head.text == \"place\" or token.head.text == \"palace\" or token.head.text == \"lotte\" or token.head.text == \"decorations\" or token.head.text == \"exterior\" or token.head.text == \"interior\" or token.head.text == \"gym\" or token.head.text == \"architecture\" or token.head.text == \"room\" or token.head.text == \"bedroom\" or token.head.text == \"bed\" or token.head.text == \"windows\" or token.head.text == \"toiletries\" or token.head.text == \"bathroom\" or token.head.text == \"mattress\" or token.head.text == \"furniture\" or token.head.text == \"rooftop\" or token.head.text == \"guestrooms\" or token.head.text == \"staff\" or token.head.text == \"doormen\" or token.head.text == \"bellmen\" or token.head.text == \"concierge\" or token.head.text == \"members\" or token.head.text == \"employees\" or token.head.text == \"bartenders\" or token.head.text == \"bellman\" or token.head.text == \"doorman\" or token.head.text == \"captain\" or token.head.text == \"maids\" or token.head.text == \"housekeeping\":\n",
    "                if token.sent.text not in excluded_sentences:\n",
    "            # Calculate the sentiment scores for the sentence\n",
    "                    scores = analyzer.polarity_scores(token.sent.text)\n",
    "                    if scores['compound'] > 0:\n",
    "                        sentiment = 'positive'\n",
    "                        positive_count += 1\n",
    "                    elif scores['compound'] < 0:\n",
    "                        sentiment = 'negative'\n",
    "                        negative_count += 1\n",
    "                    else:\n",
    "                        sentiment = 'neutral'\n",
    "                        neutral_count += 1\n",
    "            # Print the sentiment scores for the sentence\n",
    "                    print((token.sent.text), (scores), (sentiment))\n",
    "print(f\"Total positif: {positive_count}\")\n",
    "print(f\"Total negatif: {negative_count}\")\n",
    "print(f\"Total neutral: {neutral_count}\")"
   ]
  },
  {
   "cell_type": "code",
   "execution_count": 17,
   "id": "c61ffc28",
   "metadata": {},
   "outputs": [
    {
     "name": "stdout",
     "output_type": "stream",
     "text": [
      "Total positif: 0\n",
      "Total negatif: 0\n",
      "Total neutral: 0\n"
     ]
    }
   ],
   "source": [
    "positive_count = 0\n",
    "negative_count = 0\n",
    "neutral_count = 0\n",
    "wordexcite4 = [\"realized\", \"gifted\", \"adult\", \"medical\", \"together\", \"stuffed\", \"confirmed\", \"played\", \"noticed\", \"engaged\", \"young\"]\n",
    "excluded_sentences = [\"the outside courtyard facing the backside of the catherdral was lovely and a pleasant place to relax and have coffee.\"]\n",
    "for review in df['content']:\n",
    "  doc = nlp(review)\n",
    "  for token in doc:\n",
    "    if token.text in wordexcite4:\n",
    "        if token.pos_ == \"ADJ\":\n",
    "            if token.head.text == \"hotel\" or token.head.text == \"property\" or token.head.text == \"place\" or token.head.text == \"palace\" or token.head.text == \"lotte\" or token.head.text == \"decorations\" or token.head.text == \"exterior\" or token.head.text == \"interior\" or token.head.text == \"gym\" or token.head.text == \"architecture\" or token.head.text == \"room\" or token.head.text == \"bedroom\" or token.head.text == \"bed\" or token.head.text == \"windows\" or token.head.text == \"toiletries\" or token.head.text == \"bathroom\" or token.head.text == \"mattress\" or token.head.text == \"furniture\" or token.head.text == \"rooftop\" or token.head.text == \"guestrooms\" or token.head.text == \"staff\" or token.head.text == \"doormen\" or token.head.text == \"bellmen\" or token.head.text == \"concierge\" or token.head.text == \"members\" or token.head.text == \"employees\" or token.head.text == \"bartenders\" or token.head.text == \"bellman\" or token.head.text == \"doorman\" or token.head.text == \"captain\" or token.head.text == \"maids\" or token.head.text == \"housekeeping\":\n",
    "                if token.sent.text not in excluded_sentences:\n",
    "            # Calculate the sentiment scores for the sentence\n",
    "                    scores = analyzer.polarity_scores(token.sent.text)\n",
    "                    if scores['compound'] > 0:\n",
    "                        sentiment = 'positive'\n",
    "                        positive_count += 1\n",
    "                    elif scores['compound'] < 0:\n",
    "                        sentiment = 'negative'\n",
    "                        negative_count += 1\n",
    "                    else:\n",
    "                        sentiment = 'neutral'\n",
    "                        neutral_count += 1\n",
    "            # Print the sentiment scores for the sentence\n",
    "                    print((token.sent.text), (scores), (sentiment))\n",
    "print(f\"Total positif: {positive_count}\")\n",
    "print(f\"Total negatif: {negative_count}\")\n",
    "print(f\"Total neutral: {neutral_count}\")"
   ]
  },
  {
   "cell_type": "code",
   "execution_count": 34,
   "id": "b90dbf13",
   "metadata": {},
   "outputs": [
    {
     "name": "stdout",
     "output_type": "stream",
     "text": [
      "but the hotel and staff continue to to amaze me each and every time .. straight from arrival greetings from the doormen make you feel at home.. the absolute best concierge staff in the world. {'neg': 0.0, 'neu': 0.651, 'pos': 0.349, 'compound': 0.9559} positive\n",
      "our absolute favorite hotel! {'neg': 0.0, 'neu': 0.477, 'pos': 0.523, 'compound': 0.5093} positive\n",
      "the palace is such an unique property. {'neg': 0.0, 'neu': 1.0, 'pos': 0.0, 'compound': 0.0} neutral\n",
      "the rooms are spacious and modern enough with the absolute biggest most comfiest bed i’ve ever seen let alone slept in and there has been quite a few. {'neg': 0.069, 'neu': 0.931, 'pos': 0.0, 'compound': -0.25} negative\n",
      "i've traveled all over the world, and this is the absolute worst hotel i have ever been to. {'neg': 0.194, 'neu': 0.806, 'pos': 0.0, 'compound': -0.6249} negative\n",
      "delightful staff. {'neg': 0.0, 'neu': 0.208, 'pos': 0.792, 'compound': 0.5859} positive\n",
      "an absolute 5 star hotel in every category. {'neg': 0.0, 'neu': 1.0, 'pos': 0.0, 'compound': 0.0} neutral\n",
      "it was a tremendous property. {'neg': 0.0, 'neu': 1.0, 'pos': 0.0, 'compound': 0.0} neutral\n",
      "we are always treated like family….even running into a familiar bellman, papa, with our children during a christmas vacation. {'neg': 0.0, 'neu': 0.878, 'pos': 0.122, 'compound': 0.3612} positive\n",
      "the lobby areas are larger and have assumed more of a generic \"hilton\" or \"marriott\" feel rather than a more unique, upscale hotel. {'neg': 0.0, 'neu': 0.952, 'pos': 0.048, 'compound': 0.0258} positive\n",
      "this unique hotel has an outstanding service. {'neg': 0.0, 'neu': 0.6, 'pos': 0.4, 'compound': 0.6124} positive\n",
      "overall, this is a solid mid priced hotel in a great location. {'neg': 0.0, 'neu': 0.637, 'pos': 0.363, 'compound': 0.6908} positive\n",
      "we loved our stay at the ny palace...a truly lovely hotel unique in manhattan. {'neg': 0.0, 'neu': 0.509, 'pos': 0.491, 'compound': 0.891} positive\n",
      "all in all, a delightful hotel in nyc!! {'neg': 0.0, 'neu': 0.615, 'pos': 0.385, 'compound': 0.658} positive\n",
      "Total positif: 9\n",
      "Total negatif: 2\n",
      "Total neutral: 3\n"
     ]
    }
   ],
   "source": [
    "positive_count = 0\n",
    "negative_count = 0\n",
    "neutral_count = 0\n",
    "wordexcite5 = [\"satisfied\", \"highest\", \"tremendous\", \"solid\", \"extraordinary\", \"positive\", \"delightful\", \"absolute\", \"familiar\", \"amazed\", \"alone\", \"unique\", \"unparalleled\"]\n",
    "excluded_sentences = [\"the outside courtyard facing the backside of the catherdral was lovely and a pleasant place to relax and have coffee.\"]\n",
    "for review in df['content']:\n",
    "  doc = nlp(review)\n",
    "  for token in doc:\n",
    "    if token.text in wordexcite5:\n",
    "        if token.pos_ == \"ADJ\":\n",
    "            if token.head.text == \"hotel\" or token.head.text == \"property\" or token.head.text == \"place\" or token.head.text == \"palace\" or token.head.text == \"lotte\" or token.head.text == \"decorations\" or token.head.text == \"exterior\" or token.head.text == \"interior\" or token.head.text == \"gym\" or token.head.text == \"architecture\" or token.head.text == \"room\" or token.head.text == \"bedroom\" or token.head.text == \"bed\" or token.head.text == \"windows\" or token.head.text == \"toiletries\" or token.head.text == \"bathroom\" or token.head.text == \"mattress\" or token.head.text == \"furniture\" or token.head.text == \"rooftop\" or token.head.text == \"guestrooms\" or token.head.text == \"staff\" or token.head.text == \"doormen\" or token.head.text == \"bellmen\" or token.head.text == \"concierge\" or token.head.text == \"members\" or token.head.text == \"employees\" or token.head.text == \"bartenders\" or token.head.text == \"bellman\" or token.head.text == \"doorman\" or token.head.text == \"captain\" or token.head.text == \"maids\" or token.head.text == \"housekeeping\":\n",
    "                if token.sent.text not in excluded_sentences:\n",
    "            # Calculate the sentiment scores for the sentence\n",
    "                    scores = analyzer.polarity_scores(token.sent.text)\n",
    "                    if scores['compound'] > 0:\n",
    "                        sentiment = 'positive'\n",
    "                        positive_count += 1\n",
    "                    elif scores['compound'] < 0:\n",
    "                        sentiment = 'negative'\n",
    "                        negative_count += 1\n",
    "                    else:\n",
    "                        sentiment = 'neutral'\n",
    "                        neutral_count += 1\n",
    "            # Print the sentiment scores for the sentence\n",
    "                    print((token.sent.text), (scores), (sentiment))\n",
    "print(f\"Total positif: {positive_count}\")\n",
    "print(f\"Total negatif: {negative_count}\")\n",
    "print(f\"Total neutral: {neutral_count}\")"
   ]
  },
  {
   "cell_type": "code",
   "execution_count": 35,
   "id": "da9d1e3a",
   "metadata": {},
   "outputs": [
    {
     "name": "stdout",
     "output_type": "stream",
     "text": [
      "friendly and helpful staff, attractive well-sized room. {'neg': 0.0, 'neu': 0.31, 'pos': 0.69, 'compound': 0.836} positive\n",
      "initial glitch apart, we could not fault this plush hotel and would not hesitate to recommend it as a great new york tourist base. {'neg': 0.07, 'neu': 0.66, 'pos': 0.27, 'compound': 0.7237} positive\n",
      "this is a lovely hotel, in a great location and very attractive exterior and little oasis of an romantically lit outdoor forecourt. {'neg': 0.0, 'neu': 0.564, 'pos': 0.436, 'compound': 0.9312} positive\n",
      "very friendly and helpful staff at this premium property. {'neg': 0.0, 'neu': 0.516, 'pos': 0.484, 'compound': 0.762} positive\n",
      "i requested a renovated room with a view overlooking the famous st patricks cathedral on 5th avenue and while i couldn't wait to join the city outside i found myself equally as happy inside admiring the view, relaxing in their cosy robe, smelling lovely from the molton brown products, and indulging in pure comfort on the beautiful, plush, king size bed (which is the most comfortable hotel bed i have ever slept in)! {'neg': 0.021, 'neu': 0.718, 'pos': 0.261, 'compound': 0.9709} positive\n",
      "i stayed in a premium cathedral view room in oct/nov of 2013. {'neg': 0.0, 'neu': 1.0, 'pos': 0.0, 'compound': 0.0} neutral\n",
      "Total positif: 5\n",
      "Total negatif: 0\n",
      "Total neutral: 1\n"
     ]
    }
   ],
   "source": [
    "positive_count = 0\n",
    "negative_count = 0\n",
    "neutral_count = 0\n",
    "wordexcite6 = [\"thick\", \"plush\", \"designed\", \"living\", \"attractive\", \"effective\", \"premium\", \"exterior\", \"extensive\", \"lush\", \"contemporary\"]\n",
    "excluded_sentences = [\"the outside courtyard facing the backside of the catherdral was lovely and a pleasant place to relax and have coffee.\"]\n",
    "for review in df['content']:\n",
    "  doc = nlp(review)\n",
    "  for token in doc:\n",
    "    if token.text in wordexcite6:\n",
    "        if token.pos_ == \"ADJ\":\n",
    "            if token.head.text == \"hotel\" or token.head.text == \"property\" or token.head.text == \"place\" or token.head.text == \"palace\" or token.head.text == \"lotte\" or token.head.text == \"decorations\" or token.head.text == \"exterior\" or token.head.text == \"interior\" or token.head.text == \"gym\" or token.head.text == \"architecture\" or token.head.text == \"room\" or token.head.text == \"bedroom\" or token.head.text == \"bed\" or token.head.text == \"windows\" or token.head.text == \"toiletries\" or token.head.text == \"bathroom\" or token.head.text == \"mattress\" or token.head.text == \"furniture\" or token.head.text == \"rooftop\" or token.head.text == \"guestrooms\" or token.head.text == \"staff\" or token.head.text == \"doormen\" or token.head.text == \"bellmen\" or token.head.text == \"concierge\" or token.head.text == \"members\" or token.head.text == \"employees\" or token.head.text == \"bartenders\" or token.head.text == \"bellman\" or token.head.text == \"doorman\" or token.head.text == \"captain\" or token.head.text == \"maids\" or token.head.text == \"housekeeping\":\n",
    "                if token.sent.text not in excluded_sentences:\n",
    "            # Calculate the sentiment scores for the sentence\n",
    "                    scores = analyzer.polarity_scores(token.sent.text)\n",
    "                    if scores['compound'] > 0:\n",
    "                        sentiment = 'positive'\n",
    "                        positive_count += 1\n",
    "                    elif scores['compound'] < 0:\n",
    "                        sentiment = 'negative'\n",
    "                        negative_count += 1\n",
    "                    else:\n",
    "                        sentiment = 'neutral'\n",
    "                        neutral_count += 1\n",
    "            # Print the sentiment scores for the sentence\n",
    "                    print((token.sent.text), (scores), (sentiment))\n",
    "print(f\"Total positif: {positive_count}\")\n",
    "print(f\"Total negatif: {negative_count}\")\n",
    "print(f\"Total neutral: {neutral_count}\")"
   ]
  },
  {
   "cell_type": "code",
   "execution_count": 26,
   "id": "6c3e397a",
   "metadata": {},
   "outputs": [
    {
     "data": {
      "image/png": "[encoded data removed]",
      "text/plain": [
       "<Figure size 432x288 with 1 Axes>"
      ]
     },
     "metadata": {
      "needs_background": "light"
     },
     "output_type": "display_data"
    }
   ],
   "source": [
    "# Set the labels and values for the bar chart\n",
    "labels = ['Positive', 'Neutral', 'Negative']\n",
    "values = [45, 14, 4]\n",
    "\n",
    "# Create the bar chart\n",
    "plt.bar(labels, values)\n",
    "plt.title(\"Sentiment Analysis of Excitement Dimension\")\n",
    "plt.xlabel(\"Sentiment\")\n",
    "plt.ylabel(\"Number of Reviews\")\n",
    "\n",
    "# Show the bar chart\n",
    "plt.show()"
   ]
  },
  {
   "cell_type": "markdown",
   "id": "24f49698",
   "metadata": {},
   "source": [
    "# Dimensi Competence"
   ]
  },
  {
   "cell_type": "code",
   "execution_count": 37,
   "id": "a8235441",
   "metadata": {},
   "outputs": [
    {
     "name": "stdout",
     "output_type": "stream",
     "text": [
      "they gave her a terrible room in the back . {'neg': 0.256, 'neu': 0.744, 'pos': 0.0, 'compound': -0.4767} negative\n",
      " the reception area was lovely , the bar areas were just lush, esp the golden room and the whiskey room was so tranquil , decor was just spot on but not ott, certainly made you you feel you were in an authentic ny hotel . {'neg': 0.053, 'neu': 0.87, 'pos': 0.077, 'compound': 0.0398} positive\n",
      "it's not a horrible hotel but when considering the price point and what they're selling themselves as, the lotte does not hold up to its brand and rating. {'neg': 0.0, 'neu': 0.933, 'pos': 0.067, 'compound': 0.2323} positive\n",
      "so we end up staying in this dirty old weird smelly room but looking at the hallway it was so obvious all the room will be in same condition. {'neg': 0.116, 'neu': 0.884, 'pos': 0.0, 'compound': -0.369} negative\n",
      "this is a terrible hotel. {'neg': 0.437, 'neu': 0.563, 'pos': 0.0, 'compound': -0.4767} negative\n",
      "after having a lot of terrible hotel stays in really nice hotels, it was wonderful to find one that focused on customer service. {'neg': 0.098, 'neu': 0.603, 'pos': 0.298, 'compound': 0.7425} positive\n",
      "i chose double queen bedroom: bed uncomfortable, mattress to change absolutely. {'neg': 0.206, 'neu': 0.794, 'pos': 0.0, 'compound': -0.3818} negative\n",
      "a true 5 stars hotel, great location, spacious room with comfortable beds and a great view of saint patrick's church from the windows, wonderful service and they even took us to the 42nd floor suite to see the view . {'neg': 0.0, 'neu': 0.66, 'pos': 0.34, 'compound': 0.9584} positive\n",
      "so i have to stay in this horrible room. {'neg': 0.34, 'neu': 0.66, 'pos': 0.0, 'compound': -0.628} negative\n",
      " of course, at a true luxury property, even if there were no rooms available at the next category, because its own reservation website says otherwise, one option would have been to upgrade me to the next room category. {'neg': 0.054, 'neu': 0.878, 'pos': 0.068, 'compound': 0.1531} positive\n",
      "perhaps in 1994 it was a luxury hotel, but if you've stayed in a true luxury hotel you realize quickly that this hotel doesn't qualify. {'neg': 0.0, 'neu': 0.866, 'pos': 0.134, 'compound': 0.5719} positive\n",
      "a true luxury hotel should include this instead of nickel and dimeing for every little thing. {'neg': 0.0, 'neu': 0.843, 'pos': 0.157, 'compound': 0.4215} positive\n",
      "i spent $350+ to sleep on a terrible bed a few block away at a hotel that's got better reviews... shame on me. {'neg': 0.294, 'neu': 0.613, 'pos': 0.094, 'compound': -0.7351} negative\n",
      "Total positif: 7\n",
      "Total negatif: 6\n",
      "Total neutral: 0\n"
     ]
    }
   ],
   "source": [
    "positive_count = 0\n",
    "negative_count = 0\n",
    "neutral_count = 0\n",
    "wordcomp1 = [\"self\", \"horrible\", \"serious\", \"strong\", \"dingy\", \"weird\", \"terrible\", \"bare\", \"uncomfortable\", \"over\", \"reliable\", \"honest\", \"true\", \"authentic\"]\n",
    "excluded_sentences = [\"the outside courtyard facing the backside of the catherdral was lovely and a pleasant place to relax and have coffee.\"]\n",
    "for review in df['content']:\n",
    "  doc = nlp(review)\n",
    "  for token in doc:\n",
    "    if token.text in wordcomp1:\n",
    "        if token.pos_ == \"ADJ\":\n",
    "            if token.head.text == \"hotel\" or token.head.text == \"property\" or token.head.text == \"place\" or token.head.text == \"palace\" or token.head.text == \"lotte\" or token.head.text == \"decorations\" or token.head.text == \"exterior\" or token.head.text == \"interior\" or token.head.text == \"gym\" or token.head.text == \"architecture\" or token.head.text == \"room\" or token.head.text == \"bedroom\" or token.head.text == \"bed\" or token.head.text == \"windows\" or token.head.text == \"toiletries\" or token.head.text == \"bathroom\" or token.head.text == \"mattress\" or token.head.text == \"furniture\" or token.head.text == \"rooftop\" or token.head.text == \"guestrooms\" or token.head.text == \"staff\" or token.head.text == \"doormen\" or token.head.text == \"bellmen\" or token.head.text == \"concierge\" or token.head.text == \"members\" or token.head.text == \"employees\" or token.head.text == \"bartenders\" or token.head.text == \"bellman\" or token.head.text == \"doorman\" or token.head.text == \"captain\" or token.head.text == \"maids\" or token.head.text == \"housekeeping\":\n",
    "                if token.sent.text not in excluded_sentences:\n",
    "            # Calculate the sentiment scores for the sentence\n",
    "                    scores = analyzer.polarity_scores(token.sent.text)\n",
    "                    if scores['compound'] > 0:\n",
    "                        sentiment = 'positive'\n",
    "                        positive_count += 1\n",
    "                    elif scores['compound'] < 0:\n",
    "                        sentiment = 'negative'\n",
    "                        negative_count += 1\n",
    "                    else:\n",
    "                        sentiment = 'neutral'\n",
    "                        neutral_count += 1\n",
    "            # Print the sentiment scores for the sentence\n",
    "                    print((token.sent.text), (scores), (sentiment))\n",
    "print(f\"Total positif: {positive_count}\")\n",
    "print(f\"Total negatif: {negative_count}\")\n",
    "print(f\"Total neutral: {neutral_count}\")"
   ]
  },
  {
   "cell_type": "code",
   "execution_count": 18,
   "id": "d4aa3209",
   "metadata": {},
   "outputs": [
    {
     "name": "stdout",
     "output_type": "stream",
     "text": [
      "thank you to all the staff for making us feel so welcomed and for the unexpected room upgrade which genuinely made our trip. {'neg': 0.0, 'neu': 0.789, 'pos': 0.211, 'compound': 0.6825} positive\n",
      "the staff is nice and helpful and it is a very safe place to stay. {'neg': 0.0, 'neu': 0.577, 'pos': 0.423, 'compound': 0.8313} positive\n",
      " some of the things we noted on our last visit (in our “upgraded” deluxe room),  - no water bottles in the room - the cold water water faucet was barely more than a fast drip - one of the robes had holes in it (see photo) - the room safe was broken and we had to summon security twice to remove our possessions - one day the maid didn’t leave us any towels - a rather antiquated bath/shower (instead of stall shower) - exorbitantly priced wi-fi for this day and age  the staff are still great and the location is terrific, but unfortunately that’s not enough. {'neg': 0.081, 'neu': 0.847, 'pos': 0.072, 'compound': 0.0} neutral\n",
      "there is also a large room safe. {'neg': 0.0, 'neu': 0.674, 'pos': 0.326, 'compound': 0.4404} positive\n",
      "while the room safe didn't work, security was only too glad to open it at a moments notice, cleaning staff friendly and prompt & walk to shops was short & easy! {'neg': 0.05, 'neu': 0.645, 'pos': 0.305, 'compound': 0.8822} positive\n",
      "nice amenities in the large room (robes & slippers, an umbrella--which we appreciated, a safe) but are there no in-room coffeemakers anywhere in new york? {'neg': 0.094, 'neu': 0.705, 'pos': 0.201, 'compound': 0.296} positive\n",
      "the comm had the usual room safe, an umbrella (came in useful), and a stocked fridge and snack bar. {'neg': 0.0, 'neu': 0.746, 'pos': 0.254, 'compound': 0.7003} positive\n",
      "Total positif: 6\n",
      "Total negatif: 0\n",
      "Total neutral: 1\n"
     ]
    }
   ],
   "source": [
    "positive_count = 0\n",
    "negative_count = 0\n",
    "neutral_count = 0\n",
    "wordcomp2 = [\"continued\", \"unexpected\", \"giving\", \"complaining\", \"noted\", \"neither\", \"convinced\", \"dropping\", \"sorted\", \"bothered\", \"secure\", \"strong\", \"safe\"]\n",
    "excluded_sentences = [\" the courtyard outside is a good place to relax and meet friends.\"]\n",
    "for review in df['content']:\n",
    "  doc = nlp(review)\n",
    "  for token in doc:\n",
    "    if token.text in wordcomp2:\n",
    "        if token.pos_ == \"ADJ\":\n",
    "            if token.head.text == \"hotel\" or token.head.text == \"property\" or token.head.text == \"place\" or token.head.text == \"palace\" or token.head.text == \"lotte\" or token.head.text == \"decorations\" or token.head.text == \"exterior\" or token.head.text == \"interior\" or token.head.text == \"gym\" or token.head.text == \"architecture\" or token.head.text == \"room\" or token.head.text == \"bedroom\" or token.head.text == \"bed\" or token.head.text == \"windows\" or token.head.text == \"toiletries\" or token.head.text == \"bathroom\" or token.head.text == \"mattress\" or token.head.text == \"furniture\" or token.head.text == \"rooftop\" or token.head.text == \"guestrooms\" or token.head.text == \"staff\" or token.head.text == \"doormen\" or token.head.text == \"bellmen\" or token.head.text == \"concierge\" or token.head.text == \"members\" or token.head.text == \"employees\" or token.head.text == \"bartenders\" or token.head.text == \"bellman\" or token.head.text == \"doorman\" or token.head.text == \"captain\" or token.head.text == \"maids\" or token.head.text == \"housekeeping\":\n",
    "                if token.sent.text not in excluded_sentences:\n",
    "            # Calculate the sentiment scores for the sentence\n",
    "                    scores = analyzer.polarity_scores(token.sent.text)\n",
    "                    if scores['compound'] > 0:\n",
    "                        sentiment = 'positive'\n",
    "                        positive_count += 1\n",
    "                    elif scores['compound'] < 0:\n",
    "                        sentiment = 'negative'\n",
    "                        negative_count += 1\n",
    "                    else:\n",
    "                        sentiment = 'neutral'\n",
    "                        neutral_count += 1\n",
    "            # Print the sentiment scores for the sentence\n",
    "                    print((token.sent.text), (scores), (sentiment))\n",
    "print(f\"Total positif: {positive_count}\")\n",
    "print(f\"Total negatif: {negative_count}\")\n",
    "print(f\"Total neutral: {neutral_count}\")"
   ]
  },
  {
   "cell_type": "code",
   "execution_count": 39,
   "id": "4b72505c",
   "metadata": {},
   "outputs": [
    {
     "name": "stdout",
     "output_type": "stream",
     "text": [
      "at check in we were given a variety of room options including a higher floor in a connected room but told that these were noisier than others aka don’t make an issue of this later. {'neg': 0.0, 'neu': 1.0, 'pos': 0.0, 'compound': 0.0} neutral\n",
      "Total positif: 0\n",
      "Total negatif: 0\n",
      "Total neutral: 1\n"
     ]
    }
   ],
   "source": [
    "positive_count = 0\n",
    "negative_count = 0\n",
    "neutral_count = 0\n",
    "wordcomp3 = [\"trying\", \"annoyed\", \"fixed\", \"frustated\", \"granted\", \"difficult\", \"off\", \"connected\", \"pointed\", \"pop\", \"technical\", \"expert\"]\n",
    "excluded_sentences = [\" the courtyard outside is a good place to relax and meet friends.\"]\n",
    "for review in df['content']:\n",
    "  doc = nlp(review)\n",
    "  for token in doc:\n",
    "    if token.text in wordcomp3:\n",
    "        if token.pos_ == \"ADJ\":\n",
    "            if token.head.text == \"hotel\" or token.head.text == \"property\" or token.head.text == \"place\" or token.head.text == \"palace\" or token.head.text == \"lotte\" or token.head.text == \"decorations\" or token.head.text == \"exterior\" or token.head.text == \"interior\" or token.head.text == \"gym\" or token.head.text == \"architecture\" or token.head.text == \"room\" or token.head.text == \"bedroom\" or token.head.text == \"bed\" or token.head.text == \"windows\" or token.head.text == \"toiletries\" or token.head.text == \"bathroom\" or token.head.text == \"mattress\" or token.head.text == \"furniture\" or token.head.text == \"rooftop\" or token.head.text == \"guestrooms\" or token.head.text == \"staff\" or token.head.text == \"doormen\" or token.head.text == \"bellmen\" or token.head.text == \"concierge\" or token.head.text == \"members\" or token.head.text == \"employees\" or token.head.text == \"bartenders\" or token.head.text == \"bellman\" or token.head.text == \"doorman\" or token.head.text == \"captain\" or token.head.text == \"maids\" or token.head.text == \"housekeeping\":\n",
    "                if token.sent.text not in excluded_sentences:\n",
    "            # Calculate the sentiment scores for the sentence\n",
    "                    scores = analyzer.polarity_scores(token.sent.text)\n",
    "                    if scores['compound'] > 0:\n",
    "                        sentiment = 'positive'\n",
    "                        positive_count += 1\n",
    "                    elif scores['compound'] < 0:\n",
    "                        sentiment = 'negative'\n",
    "                        negative_count += 1\n",
    "                    else:\n",
    "                        sentiment = 'neutral'\n",
    "                        neutral_count += 1\n",
    "            # Print the sentiment scores for the sentence\n",
    "                    print((token.sent.text), (scores), (sentiment))\n",
    "print(f\"Total positif: {positive_count}\")\n",
    "print(f\"Total negatif: {negative_count}\")\n",
    "print(f\"Total neutral: {neutral_count}\")"
   ]
  },
  {
   "cell_type": "code",
   "execution_count": 40,
   "id": "f8db89fa",
   "metadata": {},
   "outputs": [
    {
     "name": "stdout",
     "output_type": "stream",
     "text": [
      "she was the worst staff i’ve ever seen before. {'neg': 0.339, 'neu': 0.661, 'pos': 0.0, 'compound': -0.6249} negative\n",
      "i've traveled all over the world, and this is the absolute worst hotel i have ever been to. {'neg': 0.194, 'neu': 0.806, 'pos': 0.0, 'compound': -0.6249} negative\n",
      "this is by far the worst hotel i have ever stayed in manhattan. {'neg': 0.255, 'neu': 0.745, 'pos': 0.0, 'compound': -0.6249} negative\n",
      "as you will intuit from my recent review of the waldorf, it is arguably the worst hotel in the city on the basis of what it delivers for the price, with less real comfort than a motel 6 in des moines could be expected to deliver. {'neg': 0.119, 'neu': 0.838, 'pos': 0.043, 'compound': -0.5965} negative\n",
      " overall, the comparison to the waldorf astoria and other supposed luxury hotels like the affinia midtown (my nomination for the worst luxury hotel in ny until i stayed at the waldorf) is shocking - i would not recommend that anyone stay at either of these hotels, but will stay again at the lotte palace without hesitation for any meetings remotely convenient to its midtown location. {'neg': 0.085, 'neu': 0.858, 'pos': 0.057, 'compound': -0.2462} negative\n",
      "slightly oddly the worst staff seemed to be on the reception desk with the best on the bell desk. {'neg': 0.153, 'neu': 0.679, 'pos': 0.168, 'compound': 0.0935} positive\n",
      "Total positif: 1\n",
      "Total negatif: 5\n",
      "Total neutral: 0\n"
     ]
    }
   ],
   "source": [
    "positive_count = 0\n",
    "negative_count = 0\n",
    "neutral_count = 0\n",
    "wordcomp4 = [\"learned\", \"frequent\", \"gone\", \"cutting\", \"unacceptable\", \"oriental\", \"competitive\", \"worst\", \"significant\", \"aware\", \"corporate\", \"bodied\", \"embodied\", \"incorporated\"]\n",
    "excluded_sentences = [\" the courtyard outside is a good place to relax and meet friends.\"]\n",
    "for review in df['content']:\n",
    "  doc = nlp(review)\n",
    "  for token in doc:\n",
    "    if token.text in wordcomp4:\n",
    "        if token.pos_ == \"ADJ\":\n",
    "            if token.head.text == \"hotel\" or token.head.text == \"property\" or token.head.text == \"place\" or token.head.text == \"palace\" or token.head.text == \"lotte\" or token.head.text == \"decorations\" or token.head.text == \"exterior\" or token.head.text == \"interior\" or token.head.text == \"gym\" or token.head.text == \"architecture\" or token.head.text == \"room\" or token.head.text == \"bedroom\" or token.head.text == \"bed\" or token.head.text == \"windows\" or token.head.text == \"toiletries\" or token.head.text == \"bathroom\" or token.head.text == \"mattress\" or token.head.text == \"furniture\" or token.head.text == \"rooftop\" or token.head.text == \"guestrooms\" or token.head.text == \"staff\" or token.head.text == \"doormen\" or token.head.text == \"bellmen\" or token.head.text == \"concierge\" or token.head.text == \"members\" or token.head.text == \"employees\" or token.head.text == \"bartenders\" or token.head.text == \"bellman\" or token.head.text == \"doorman\" or token.head.text == \"captain\" or token.head.text == \"maids\" or token.head.text == \"housekeeping\":\n",
    "                if token.sent.text not in excluded_sentences:\n",
    "            # Calculate the sentiment scores for the sentence\n",
    "                    scores = analyzer.polarity_scores(token.sent.text)\n",
    "                    if scores['compound'] > 0:\n",
    "                        sentiment = 'positive'\n",
    "                        positive_count += 1\n",
    "                    elif scores['compound'] < 0:\n",
    "                        sentiment = 'negative'\n",
    "                        negative_count += 1\n",
    "                    else:\n",
    "                        sentiment = 'neutral'\n",
    "                        neutral_count += 1\n",
    "            # Print the sentiment scores for the sentence\n",
    "                    print((token.sent.text), (scores), (sentiment))\n",
    "print(f\"Total positif: {positive_count}\")\n",
    "print(f\"Total negatif: {negative_count}\")\n",
    "print(f\"Total neutral: {neutral_count}\")"
   ]
  },
  {
   "cell_type": "code",
   "execution_count": 41,
   "id": "b2240028",
   "metadata": {},
   "outputs": [
    {
     "name": "stdout",
     "output_type": "stream",
     "text": [
      "i stayed at the hotel for one month today.it is a great hotel with remarkable staff that are fully aware that they are in the hospitality industry.you are as such truly treated as a special guest wih all the pfiviliges and perks.i particularly want to make a special mention of kal and ani the wonderful concierge staff who made a big difference to our stay with their attention and kind care of us.professional seamless service.ramzi {'neg': 0.0, 'neu': 0.703, 'pos': 0.297, 'compound': 0.9796} positive\n",
      "- bathrooms are small  in my opinion, this is a successful hotel only because of its location and beautiful building. {'neg': 0.0, 'neu': 0.7, 'pos': 0.3, 'compound': 0.8271} positive\n",
      "with each stay, we are more endeared to our 'home away from home'...not only because of the beautifully outstanding hotel, but because of the remarkable, genuine, caring staff: becky hubbard, victor caguindagan, franchesca, ray anis, miles gomez, mike murray, louis, fran, george, batan, olga, teresa, michael, albert, manny, salah, nana, maurice and papa. {'neg': 0.0, 'neu': 0.777, 'pos': 0.223, 'compound': 0.9331} positive\n",
      "teams of german shepard dogs sniffed their way through every hotel corner ensuring the hotel was the safest place possible for their very important guests. {'neg': 0.0, 'neu': 0.761, 'pos': 0.239, 'compound': 0.7089} positive\n",
      "Total positif: 4\n",
      "Total negatif: 0\n",
      "Total neutral: 0\n"
     ]
    }
   ],
   "source": [
    "positive_count = 0\n",
    "negative_count = 0\n",
    "neutral_count = 0\n",
    "wordcomp5 = [\"remarkable\", \"grateful\", \"possible\", \"excuted\", \"delighted\", \"spoiled\", \"learned\", \"hasty\", \"meet\", \"settled\", \"successful\"]\n",
    "excluded_sentences = [\" the courtyard outside is a good place to relax and meet friends.\"]\n",
    "for review in df['content']:\n",
    "  doc = nlp(review)\n",
    "  for token in doc:\n",
    "    if token.text in wordcomp5:\n",
    "        if token.pos_ == \"ADJ\":\n",
    "            if token.head.text == \"hotel\" or token.head.text == \"property\" or token.head.text == \"place\" or token.head.text == \"palace\" or token.head.text == \"lotte\" or token.head.text == \"decorations\" or token.head.text == \"exterior\" or token.head.text == \"interior\" or token.head.text == \"gym\" or token.head.text == \"architecture\" or token.head.text == \"room\" or token.head.text == \"bedroom\" or token.head.text == \"bed\" or token.head.text == \"windows\" or token.head.text == \"toiletries\" or token.head.text == \"bathroom\" or token.head.text == \"mattress\" or token.head.text == \"furniture\" or token.head.text == \"rooftop\" or token.head.text == \"guestrooms\" or token.head.text == \"staff\" or token.head.text == \"doormen\" or token.head.text == \"bellmen\" or token.head.text == \"concierge\" or token.head.text == \"members\" or token.head.text == \"employees\" or token.head.text == \"bartenders\" or token.head.text == \"bellman\" or token.head.text == \"doorman\" or token.head.text == \"captain\" or token.head.text == \"maids\" or token.head.text == \"housekeeping\":\n",
    "                if token.sent.text not in excluded_sentences:\n",
    "            # Calculate the sentiment scores for the sentence\n",
    "                    scores = analyzer.polarity_scores(token.sent.text)\n",
    "                    if scores['compound'] > 0:\n",
    "                        sentiment = 'positive'\n",
    "                        positive_count += 1\n",
    "                    elif scores['compound'] < 0:\n",
    "                        sentiment = 'negative'\n",
    "                        negative_count += 1\n",
    "                    else:\n",
    "                        sentiment = 'neutral'\n",
    "                        neutral_count += 1\n",
    "            # Print the sentiment scores for the sentence\n",
    "                    print((token.sent.text), (scores), (sentiment))\n",
    "print(f\"Total positif: {positive_count}\")\n",
    "print(f\"Total negatif: {negative_count}\")\n",
    "print(f\"Total neutral: {neutral_count}\")"
   ]
  },
  {
   "cell_type": "code",
   "execution_count": 27,
   "id": "4f565456",
   "metadata": {},
   "outputs": [
    {
     "data": {
      "image/png": "[encoded data removed]",
      "text/plain": [
       "<Figure size 432x288 with 1 Axes>"
      ]
     },
     "metadata": {
      "needs_background": "light"
     },
     "output_type": "display_data"
    }
   ],
   "source": [
    "# Set the labels and values for the bar chart\n",
    "labels = ['Positive', 'Neutral', 'Negative']\n",
    "values = [18, 2, 11]\n",
    "\n",
    "# Create the bar chart\n",
    "plt.bar(labels, values)\n",
    "plt.title(\"Sentiment Analysis of Competence Dimension\")\n",
    "plt.xlabel(\"Sentiment\")\n",
    "plt.ylabel(\"Number of Reviews\")\n",
    "\n",
    "# Show the bar chart\n",
    "plt.show()"
   ]
  },
  {
   "cell_type": "markdown",
   "id": "83a61e25",
   "metadata": {},
   "source": [
    "# Dimensi Sophistication"
   ]
  },
  {
   "cell_type": "code",
   "execution_count": 43,
   "id": "015a2f25",
   "metadata": {},
   "outputs": [
    {
     "name": "stdout",
     "output_type": "stream",
     "text": [
      "i’d try a different hotel though when we go back. {'neg': 0.0, 'neu': 1.0, 'pos': 0.0, 'compound': 0.0} neutral\n",
      "my favorite concierge, kal naim, helped me arrange broadway tickets and dinner reservations before i arrived so when i landed, vacation began. {'neg': 0.0, 'neu': 0.875, 'pos': 0.125, 'compound': 0.4588} positive\n",
      "- gym is small and without proper equipment (again, for a 800$ per night hotel)  long story short, spend your money in a different place. {'neg': 0.0, 'neu': 1.0, 'pos': 0.0, 'compound': 0.0} neutral\n",
      "lotte is my favorite hotel in nyc. {'neg': 0.0, 'neu': 0.667, 'pos': 0.333, 'compound': 0.4588} positive\n",
      "favorite hotel in nyc!! {'neg': 0.0, 'neu': 0.456, 'pos': 0.544, 'compound': 0.555} positive\n",
      "favorite hotel highly recommended. {'neg': 0.0, 'neu': 0.282, 'pos': 0.718, 'compound': 0.624} positive\n",
      "i would urge you to find a different place to stay in new york. {'neg': 0.0, 'neu': 1.0, 'pos': 0.0, 'compound': 0.0} neutral\n",
      "this hotel is definitely our new favorite place to stay!!! {'neg': 0.0, 'neu': 0.549, 'pos': 0.451, 'compound': 0.7633} positive\n",
      "the lotte new york palace is my favorite hotel in new york. {'neg': 0.0, 'neu': 0.786, 'pos': 0.214, 'compound': 0.4588} positive\n",
      "we love this iconic hotel! {'neg': 0.0, 'neu': 0.471, 'pos': 0.529, 'compound': 0.6696} positive\n",
      "this is our second time staying at the lotte new york palace and it is now my favorite place to stay. {'neg': 0.0, 'neu': 0.87, 'pos': 0.13, 'compound': 0.4588} positive\n",
      "this iconic hotel will never disappoint you. {'neg': 0.0, 'neu': 0.727, 'pos': 0.273, 'compound': 0.3089} positive\n",
      " and for the time being we were put into a different room which we were not impressed with as we had paid for a cathedral view. {'neg': 0.093, 'neu': 0.907, 'pos': 0.0, 'compound': -0.3724} negative\n",
      "toilet hardly flushed horrible amenities like you would get at a holiday inn stairs to everything if you have mobility issues go to a different hotel no view and they never offered an upgrade at a price .an inept concierge who reserved dinner at a restaurant under his name instead of ours! {'neg': 0.097, 'neu': 0.815, 'pos': 0.088, 'compound': -0.1315} negative\n",
      "our absolute favorite hotel! {'neg': 0.0, 'neu': 0.477, 'pos': 0.523, 'compound': 0.5093} positive\n",
      "we love new york city and have ventured there many times and stayed in quite a few different places, but the lotte palace has become our favorite place to stay in the past few years, and we stay there anytime we can! {'neg': 0.0, 'neu': 0.853, 'pos': 0.147, 'compound': 0.784} positive\n",
      "another great stay at our favorite new york city hotel. {'neg': 0.0, 'neu': 0.53, 'pos': 0.47, 'compound': 0.7964} positive\n",
      "as always, this is an iconic hotel located in the most beautiful part of new york. {'neg': 0.0, 'neu': 0.782, 'pos': 0.218, 'compound': 0.6361} positive\n",
      "i started visiting the palace back 15 or 16 years ago and it still my favorite hotel. {'neg': 0.0, 'neu': 0.842, 'pos': 0.158, 'compound': 0.4588} positive\n",
      "the lotte new york palace is our new favorite hotel. {'neg': 0.0, 'neu': 0.75, 'pos': 0.25, 'compound': 0.4588} positive\n",
      "it is my favorite hotel. {'neg': 0.0, 'neu': 0.571, 'pos': 0.429, 'compound': 0.4588} positive\n",
      "i cannot say enough about this iconic hotel in the heart of the city. {'neg': 0.0, 'neu': 0.756, 'pos': 0.244, 'compound': 0.6369} positive\n",
      "i highly recommend this hotel, it is now my favorite hotel in new york city. {'neg': 0.0, 'neu': 0.692, 'pos': 0.308, 'compound': 0.6997} positive\n",
      "this is my favorite hotel in new york service is excellent staff is excellent food is excellent  this is where i stay on all my trips for the past nearly 10 years  however recently you no longer have movies in the room you used to have - movies on demand - please bring them back  after a long business day it is very relaxing to watch a movie and all top hotels have that . {'neg': 0.04, 'neu': 0.722, 'pos': 0.237, 'compound': 0.9583} positive\n",
      "my favorite hotel in nyc {'neg': 0.0, 'neu': 0.571, 'pos': 0.429, 'compound': 0.4588} positive\n",
      " still my favorite hotel in manhattan !!! {'neg': 0.0, 'neu': 0.608, 'pos': 0.392, 'compound': 0.5962} positive\n",
      "we look forward to returning in the summer and see our favorite staff again! {'neg': 0.0, 'neu': 0.798, 'pos': 0.202, 'compound': 0.5093} positive\n",
      "i have visited nyc for decades and never found a favorite hotel. {'neg': 0.184, 'neu': 0.816, 'pos': 0.0, 'compound': -0.357} negative\n",
      "this is my favorite hotel during christmas time in new york city. {'neg': 0.0, 'neu': 0.786, 'pos': 0.214, 'compound': 0.4588} positive\n",
      "the lotte new york palace is my favorite place to stay in nyc on business or pleasure. {'neg': 0.0, 'neu': 0.691, 'pos': 0.309, 'compound': 0.7717} positive\n",
      "would go back new york but different hotel left feeling very underwhelmed. {'neg': 0.0, 'neu': 0.863, 'pos': 0.137, 'compound': 0.1901} positive\n",
      "great location, iconic hotel. {'neg': 0.0, 'neu': 0.423, 'pos': 0.577, 'compound': 0.6249} positive\n",
      "the palace is an iconic new york city hotel in a great location. {'neg': 0.0, 'neu': 0.745, 'pos': 0.255, 'compound': 0.6249} positive\n",
      "it is my favorite hotel i've ever stayed at. {'neg': 0.0, 'neu': 0.727, 'pos': 0.273, 'compound': 0.4588} positive\n",
      " p.s. an hour later they brought a different rollaway bed, and i was told that these aren't even their beds and they rent them during busy seasons. {'neg': 0.0, 'neu': 1.0, 'pos': 0.0, 'compound': 0.0} neutral\n",
      "it is now my favorite hotel on nyc! {'neg': 0.0, 'neu': 0.68, 'pos': 0.32, 'compound': 0.5093} positive\n",
      "the hotel has immediate charm upon entry with its iconic and historic exterior and interior. {'neg': 0.0, 'neu': 0.838, 'pos': 0.162, 'compound': 0.4019} positive\n",
      "this is our favorite hotel. {'neg': 0.0, 'neu': 0.571, 'pos': 0.429, 'compound': 0.4588} positive\n",
      "my favorite hotel in nyc. {'neg': 0.0, 'neu': 0.571, 'pos': 0.429, 'compound': 0.4588} positive\n",
      "the palace is a favorite hotel when we are in nyc because of it's location, comfort and cleanliness. {'neg': 0.0, 'neu': 0.744, 'pos': 0.256, 'compound': 0.6705} positive\n",
      "overall my favorite property in nyc. wish every room had a cathedral view...unfortunately on this stay i had a dismal view of the side of an adjacent building with a work crew on scaffolding at eye level. {'neg': 0.092, 'neu': 0.778, 'pos': 0.13, 'compound': 0.1779} positive\n",
      "we've stayed in several hotels in manhattan, and the lotte new york palace is our new favorite place to stay. {'neg': 0.0, 'neu': 0.864, 'pos': 0.136, 'compound': 0.4588} positive\n",
      "we also had to book our spa day at a different hotel because the lotte doesn't have a pool which was a must during the heat wave. {'neg': 0.0, 'neu': 1.0, 'pos': 0.0, 'compound': 0.0} neutral\n",
      "this is my favorite hotel in the city. {'neg': 0.0, 'neu': 0.7, 'pos': 0.3, 'compound': 0.4588} positive\n",
      "we travel to ny frequently and this is by far my favorite hotel. {'neg': 0.0, 'neu': 0.8, 'pos': 0.2, 'compound': 0.4588} positive\n",
      "the lobby had no place to sit, so we stood there awkwardly for over half an hour, finally, they gave up on our room and gave us a different, smaller room. {'neg': 0.134, 'neu': 0.833, 'pos': 0.033, 'compound': -0.5267} negative\n",
      "we usually stay at a different hotel during our annual visit to new york but last year we decided to try the palace hotel (a hotel we always admired when we lived in ny). {'neg': 0.0, 'neu': 0.881, 'pos': 0.119, 'compound': 0.6652} positive\n",
      "i had booked a different hotel only to cancel reservations and book 2 rooms here. {'neg': 0.125, 'neu': 0.875, 'pos': 0.0, 'compound': -0.25} negative\n",
      "we have stayed multiple times at the palace for both business and pleasure travel and it will continue to be our favorite place to stay in new york. {'neg': 0.0, 'neu': 0.795, 'pos': 0.205, 'compound': 0.7717} positive\n",
      "pros: this is an iconic hotel with huge rooms and lovely bathrooms. {'neg': 0.0, 'neu': 0.621, 'pos': 0.379, 'compound': 0.7269} positive\n",
      "matthew was my favorite bellman. {'neg': 0.0, 'neu': 0.571, 'pos': 0.429, 'compound': 0.4588} positive\n",
      " even as the lotte, they're keeping this iconic hotel up to date and beautiful. {'neg': 0.0, 'neu': 0.769, 'pos': 0.231, 'compound': 0.5994} positive\n",
      "this is my favorite hotel in ny. {'neg': 0.0, 'neu': 0.667, 'pos': 0.333, 'compound': 0.4588} positive\n"
     ]
    },
    {
     "name": "stdout",
     "output_type": "stream",
     "text": [
      "it's my husband's favorite hotel. {'neg': 0.0, 'neu': 0.571, 'pos': 0.429, 'compound': 0.4588} positive\n",
      "it's our favorite hotel in nyc due to its convenient location, nice sized and clean rooms, and excellent customer service. {'neg': 0.0, 'neu': 0.567, 'pos': 0.433, 'compound': 0.9042} positive\n",
      "we have been to new york many times and i always like to stay in a different hotel in a different part of the city. {'neg': 0.0, 'neu': 0.906, 'pos': 0.094, 'compound': 0.3612} positive\n",
      "this is my new favorite hotel in nyc. {'neg': 0.0, 'neu': 0.7, 'pos': 0.3, 'compound': 0.4588} positive\n",
      "this is an iconic nyc hotel with lovely rooms and a great location. {'neg': 0.0, 'neu': 0.582, 'pos': 0.418, 'compound': 0.836} positive\n",
      "so we didn't have to wait in the long line in the lobby to check out, but for longer stays, i would look to find a different hotel. {'neg': 0.0, 'neu': 0.963, 'pos': 0.037, 'compound': 0.0129} positive\n",
      "definitely one of my favorite hotel in the world!! {'neg': 0.0, 'neu': 0.527, 'pos': 0.473, 'compound': 0.7418} positive\n",
      "i’ve stayed at the palace multiple times personally and professionally and have always had a great experience, it’s also my boss’s favorite ny hotel. {'neg': 0.0, 'neu': 0.756, 'pos': 0.244, 'compound': 0.7964} positive\n",
      "my wife and i visited nyc for her birthday and stayed at our new \"favorite\" hotel, the new york palace! {'neg': 0.0, 'neu': 0.852, 'pos': 0.148, 'compound': 0.5093} positive\n",
      "this is definitely my favorite hotel i've ever stayed at. {'neg': 0.0, 'neu': 0.584, 'pos': 0.416, 'compound': 0.6908} positive\n",
      "this is our favorite hotel to stay in when we visit nyc. {'neg': 0.0, 'neu': 0.786, 'pos': 0.214, 'compound': 0.4588} positive\n",
      "this is my favorite hotel in nyc! {'neg': 0.0, 'neu': 0.646, 'pos': 0.354, 'compound': 0.5093} positive\n",
      "we decided to visit a different hotel each month, both in new york and boston. {'neg': 0.0, 'neu': 1.0, 'pos': 0.0, 'compound': 0.0} neutral\n",
      "while there are dozens of hotel options in midtown, we specifically chose lotte new york palace after reading countless positive reviews of this iconic hotel (...and were not disappointed!). {'neg': 0.0, 'neu': 0.807, 'pos': 0.193, 'compound': 0.754} positive\n",
      "i think i found my new favorite hotel while in new york. {'neg': 0.0, 'neu': 0.786, 'pos': 0.214, 'compound': 0.4588} positive\n",
      "we've been to ny several times before as a family and this was, by far, our favorite place. {'neg': 0.0, 'neu': 0.85, 'pos': 0.15, 'compound': 0.4588} positive\n",
      "my daughter and i travel into the city often for mother/daughter weekends and i have to say, this was by far our favorite hotel. {'neg': 0.0, 'neu': 0.885, 'pos': 0.115, 'compound': 0.4588} positive\n",
      " several disappointments from previous stays now means we will need to find a new favorite high end hotel for future visits to the big apple. {'neg': 0.103, 'neu': 0.793, 'pos': 0.103, 'compound': 0.0} neutral\n",
      "my favorite hotel of all i have stayed in on trips to nyc. {'neg': 0.0, 'neu': 0.8, 'pos': 0.2, 'compound': 0.4588} positive\n",
      "the new york palace is our favorite hotel in nyc, best location ever! {'neg': 0.0, 'neu': 0.595, 'pos': 0.405, 'compound': 0.8172} positive\n",
      "we stayed in the waldorf astoria when we visited ny last year, and wanted to stay in a different hotel nearby this time. {'neg': 0.0, 'neu': 1.0, 'pos': 0.0, 'compound': 0.0} neutral\n",
      "my favorite place to stay in new york! {'neg': 0.0, 'neu': 0.68, 'pos': 0.32, 'compound': 0.5093} positive\n",
      "my favorite hotel to stay at in nyc... trouble's trust is my destination of choice for an after dinner drink with that special someone. {'neg': 0.0, 'neu': 0.7, 'pos': 0.3, 'compound': 0.8402} positive\n",
      "it's disappointing to see such an iconic hotel take a dip and hope it returns to its grandeur. {'neg': 0.131, 'neu': 0.612, 'pos': 0.257, 'compound': 0.4767} positive\n",
      "on a recent trip for my birthday we went to our favorite hotel in the world. {'neg': 0.0, 'neu': 0.833, 'pos': 0.167, 'compound': 0.4588} positive\n",
      "it was tied with the waldorf towers as my favorite place to stay in new york, ny. {'neg': 0.0, 'neu': 0.842, 'pos': 0.158, 'compound': 0.4588} positive\n",
      "in fact, this used to be my favorite hotel. {'neg': 0.0, 'neu': 0.727, 'pos': 0.273, 'compound': 0.4588} positive\n",
      "we have been to nyc before but stayed in a different hotel previously. {'neg': 0.0, 'neu': 1.0, 'pos': 0.0, 'compound': 0.0} neutral\n",
      "he thought our first room smelled like smoke & insisted on getting us a different room, which he did in no time at all. {'neg': 0.082, 'neu': 0.824, 'pos': 0.094, 'compound': 0.0772} positive\n",
      "clearly the palace is my favorite hotel in nyc. {'neg': 0.0, 'neu': 0.551, 'pos': 0.449, 'compound': 0.6908} positive\n",
      "the renovation has made this my favorite hotel in nyc. {'neg': 0.0, 'neu': 0.75, 'pos': 0.25, 'compound': 0.4588} positive\n",
      "great restaurants near by as well... our favorite place for breakfast was the burger heaven. {'neg': 0.0, 'neu': 0.468, 'pos': 0.532, 'compound': 0.91} positive\n",
      " we can’t say enough kind words about our favorite bellman don n. he took excellent care of us again, as always, going out of his way to be helpful and to make our stay enjoyable. {'neg': 0.0, 'neu': 0.604, 'pos': 0.396, 'compound': 0.9584} positive\n",
      "we go to ny every year and this is our favorite hotel to stay at because of the location. {'neg': 0.0, 'neu': 0.857, 'pos': 0.143, 'compound': 0.4588} positive\n",
      "it is my favorite place to stay in new york. {'neg': 0.0, 'neu': 0.75, 'pos': 0.25, 'compound': 0.4588} positive\n",
      " i would probably look for a different hotel next time around. {'neg': 0.0, 'neu': 1.0, 'pos': 0.0, 'compound': 0.0} neutral\n",
      "there would be no reason not to stay here again other than to try a different hotel in the area, as there are so many. {'neg': 0.084, 'neu': 0.916, 'pos': 0.0, 'compound': -0.296} negative\n",
      "next time when visiting nyc we might consider a different hotel as for this kind of money, there are just too many 'buts' with ny palace. {'neg': 0.0, 'neu': 1.0, 'pos': 0.0, 'compound': 0.0} neutral\n",
      "tha palace has always been my favorite hotel in ny, is going under a renovation process which makes your stay a little disapointing!!! {'neg': 0.0, 'neu': 0.85, 'pos': 0.15, 'compound': 0.5962} positive\n",
      "Total positif: 75\n",
      "Total negatif: 6\n",
      "Total neutral: 11\n"
     ]
    }
   ],
   "source": [
    "positive_count = 0\n",
    "negative_count = 0\n",
    "neutral_count = 0\n",
    "wordsoph1 = [\"countless\", \"favorite\", \"world\", \"base\", \"based\", \"traveled\", \"iconic\", \"extravagant\", \"annual\", \"different\", \"glamorous\"]\n",
    "excluded_sentences = [\"when you walk into the courtyard from the street, you feel like you've been transported to a different place & time.\"]\n",
    "for review in df['content']:\n",
    "  doc = nlp(review)\n",
    "  for token in doc:\n",
    "    if token.text in wordsoph1:\n",
    "        if token.pos_ == \"ADJ\":\n",
    "            if token.head.text == \"hotel\" or token.head.text == \"property\" or token.head.text == \"place\" or token.head.text == \"palace\" or token.head.text == \"lotte\" or token.head.text == \"decorations\" or token.head.text == \"exterior\" or token.head.text == \"interior\" or token.head.text == \"gym\" or token.head.text == \"architecture\" or token.head.text == \"room\" or token.head.text == \"bedroom\" or token.head.text == \"bed\" or token.head.text == \"windows\" or token.head.text == \"toiletries\" or token.head.text == \"bathroom\" or token.head.text == \"mattress\" or token.head.text == \"furniture\" or token.head.text == \"rooftop\" or token.head.text == \"guestrooms\" or token.head.text == \"staff\" or token.head.text == \"doormen\" or token.head.text == \"bellmen\" or token.head.text == \"concierge\" or token.head.text == \"members\" or token.head.text == \"employees\" or token.head.text == \"bartenders\" or token.head.text == \"bellman\" or token.head.text == \"doorman\" or token.head.text == \"captain\" or token.head.text == \"maids\" or token.head.text == \"housekeeping\":\n",
    "                if token.sent.text not in excluded_sentences:\n",
    "            # Calculate the sentiment scores for the sentence\n",
    "                    scores = analyzer.polarity_scores(token.sent.text)\n",
    "                    if scores['compound'] > 0:\n",
    "                        sentiment = 'positive'\n",
    "                        positive_count += 1\n",
    "                    elif scores['compound'] < 0:\n",
    "                        sentiment = 'negative'\n",
    "                        negative_count += 1\n",
    "                    else:\n",
    "                        sentiment = 'neutral'\n",
    "                        neutral_count += 1\n",
    "            # Print the sentiment scores for the sentence\n",
    "                    print((token.sent.text), (scores), (sentiment))\n",
    "print(f\"Total positif: {positive_count}\")\n",
    "print(f\"Total negatif: {negative_count}\")\n",
    "print(f\"Total neutral: {neutral_count}\")"
   ]
  },
  {
   "cell_type": "code",
   "execution_count": 44,
   "id": "f099b601",
   "metadata": {},
   "outputs": [
    {
     "name": "stdout",
     "output_type": "stream",
     "text": [
      "known for its magical christmas decorations we had to book here. {'neg': 0.0, 'neu': 1.0, 'pos': 0.0, 'compound': 0.0} neutral\n",
      "friendly and helpful staff, attractive well-sized room. {'neg': 0.0, 'neu': 0.31, 'pos': 0.69, 'compound': 0.836} positive\n",
      "very sophisticated hotel with all the services that comes with it. {'neg': 0.0, 'neu': 0.72, 'pos': 0.28, 'compound': 0.5984} positive\n",
      "fancy charming hotel, nice public spaces, nice rooms. {'neg': 0.0, 'neu': 0.347, 'pos': 0.653, 'compound': 0.8555} positive\n",
      "new york city at christmas is a magical place and we enjoyed so many activities from ice skating in bryant park, to touring the statue of liberty, a walk in central park, broadway musicals and of course shopping. {'neg': 0.0, 'neu': 0.843, 'pos': 0.157, 'compound': 0.7717} positive\n",
      "it is a magical place to stay during the holiday season. {'neg': 0.0, 'neu': 0.787, 'pos': 0.213, 'compound': 0.4019} positive\n",
      "very impressive hotel, gorgeous xmas decorations. {'neg': 0.0, 'neu': 0.337, 'pos': 0.663, 'compound': 0.8341} positive\n",
      "views over the cathedral and superb, the architecture of the main hotel is super, very impressive, staff very friendly. {'neg': 0.0, 'neu': 0.499, 'pos': 0.501, 'compound': 0.944} positive\n",
      "the charming breakfast room and ambient bar/lounge are also amenities conveniently located in house. {'neg': 0.0, 'neu': 0.774, 'pos': 0.226, 'compound': 0.5859} positive\n",
      "amazing service brilliant staff, lovely big rooms the doorman mike was funny and friendly and gave great directions. {'neg': 0.0, 'neu': 0.357, 'pos': 0.643, 'compound': 0.9705} positive\n",
      "my friend and i visited for our 30th birthdays, and were very keen to stay in the famed palace. {'neg': 0.0, 'neu': 0.739, 'pos': 0.261, 'compound': 0.7178} positive\n",
      "from a curbside greeting by a charming irish bellman, through check-in and check-out (our guest service agent for the latter was bitan...who could not have been more helpful). {'neg': 0.0, 'neu': 0.725, 'pos': 0.275, 'compound': 0.8588} positive\n",
      "the palace is a magical place to stay for the holidays. {'neg': 0.0, 'neu': 0.794, 'pos': 0.206, 'compound': 0.3818} positive\n",
      " ps, get the cathedral view room....just brilliant. {'neg': 0.0, 'neu': 0.612, 'pos': 0.388, 'compound': 0.5859} positive\n",
      "great location, impressive hotel with inner beauty and a photographer's dream in entry and courtyard. {'neg': 0.0, 'neu': 0.455, 'pos': 0.545, 'compound': 0.9217} positive\n",
      "brilliant hotel in a superb spot. {'neg': 0.0, 'neu': 0.336, 'pos': 0.664, 'compound': 0.836} positive\n",
      "this is a lovely hotel, in a great location and very attractive exterior and little oasis of an romantically lit outdoor forecourt. {'neg': 0.0, 'neu': 0.564, 'pos': 0.436, 'compound': 0.9312} positive\n",
      "i seriously can't say enough about this exquisite hotel! {'neg': 0.199, 'neu': 0.801, 'pos': 0.0, 'compound': -0.2481} negative\n",
      "lotte new york palace is an exquisite hotel. {'neg': 0.0, 'neu': 1.0, 'pos': 0.0, 'compound': 0.0} neutral\n",
      "this was truly an exquisite hotel. {'neg': 0.0, 'neu': 0.633, 'pos': 0.367, 'compound': 0.4404} positive\n",
      "very charming hotel. {'neg': 0.0, 'neu': 0.328, 'pos': 0.672, 'compound': 0.624} positive\n",
      "very impressive hotel, classical style and big rooms with comfortable beds and quality linen. {'neg': 0.0, 'neu': 0.635, 'pos': 0.365, 'compound': 0.7841} positive\n",
      "a super location, walking distance of most places, but the charming door staff would always get a taxi quickly. {'neg': 0.0, 'neu': 0.69, 'pos': 0.31, 'compound': 0.8248} positive\n",
      "pomme palais is the lobby eatery which offers delicious food over the counter and some of the most charming staff, including cindy and her co-workers. {'neg': 0.0, 'neu': 0.712, 'pos': 0.288, 'compound': 0.8357} positive\n",
      "the new york palace is truly a magical and memorable place for a wedding. {'neg': 0.0, 'neu': 0.818, 'pos': 0.182, 'compound': 0.4404} positive\n",
      "i enjoyed everything, from the interior to the experience which i have got, while staying in this historical place. {'neg': 0.0, 'neu': 0.845, 'pos': 0.155, 'compound': 0.5106} positive\n",
      "the renovations are nice as well adding a touch of modern to a charming hotel. {'neg': 0.0, 'neu': 0.58, 'pos': 0.42, 'compound': 0.8271} positive\n",
      "Total positif: 24\n",
      "Total negatif: 1\n",
      "Total neutral: 2\n"
     ]
    }
   ],
   "source": [
    "positive_count = 0\n",
    "negative_count = 0\n",
    "neutral_count = 0\n",
    "wordsoph2 = [\"sophisticated\", \"exterior\", \"exquisite\", \"attractive\", \"impressive\", \"historical\", \"inviting\", \"suspect\", \"brilliant\", \"famed\", \"charming\", \"magic\", \"magical\", \"witching\"]\n",
    "excluded_sentences = [\"when you walk into the courtyard from the street, you feel like you've been transported to a different place & time.\"]\n",
    "for review in df['content']:\n",
    "  doc = nlp(review)\n",
    "  for token in doc:\n",
    "    if token.text in wordsoph2:\n",
    "        if token.pos_ == \"ADJ\":\n",
    "            if token.head.text == \"hotel\" or token.head.text == \"property\" or token.head.text == \"place\" or token.head.text == \"palace\" or token.head.text == \"lotte\" or token.head.text == \"decorations\" or token.head.text == \"exterior\" or token.head.text == \"interior\" or token.head.text == \"gym\" or token.head.text == \"architecture\" or token.head.text == \"room\" or token.head.text == \"bedroom\" or token.head.text == \"bed\" or token.head.text == \"windows\" or token.head.text == \"toiletries\" or token.head.text == \"bathroom\" or token.head.text == \"mattress\" or token.head.text == \"furniture\" or token.head.text == \"rooftop\" or token.head.text == \"guestrooms\" or token.head.text == \"staff\" or token.head.text == \"doormen\" or token.head.text == \"bellmen\" or token.head.text == \"concierge\" or token.head.text == \"members\" or token.head.text == \"employees\" or token.head.text == \"bartenders\" or token.head.text == \"bellman\" or token.head.text == \"doorman\" or token.head.text == \"captain\" or token.head.text == \"maids\" or token.head.text == \"housekeeping\":\n",
    "                if token.sent.text not in excluded_sentences:\n",
    "            # Calculate the sentiment scores for the sentence\n",
    "                    scores = analyzer.polarity_scores(token.sent.text)\n",
    "                    if scores['compound'] > 0:\n",
    "                        sentiment = 'positive'\n",
    "                        positive_count += 1\n",
    "                    elif scores['compound'] < 0:\n",
    "                        sentiment = 'negative'\n",
    "                        negative_count += 1\n",
    "                    else:\n",
    "                        sentiment = 'neutral'\n",
    "                        neutral_count += 1\n",
    "            # Print the sentiment scores for the sentence\n",
    "                    print((token.sent.text), (scores), (sentiment))\n",
    "print(f\"Total positif: {positive_count}\")\n",
    "print(f\"Total negatif: {negative_count}\")\n",
    "print(f\"Total neutral: {neutral_count}\")"
   ]
  },
  {
   "cell_type": "code",
   "execution_count": 45,
   "id": "70542c6c",
   "metadata": {},
   "outputs": [
    {
     "name": "stdout",
     "output_type": "stream",
     "text": [
      "many positives - quiet, excellent staff, large room. {'neg': 0.0, 'neu': 0.458, 'pos': 0.542, 'compound': 0.7964} positive\n",
      "very nice room and quiet. {'neg': 0.0, 'neu': 0.564, 'pos': 0.436, 'compound': 0.4754} positive\n",
      "we mostly were in the room to get ready or sleep, so everything that we care about--quiet room and a comfortable bed, this hotel had! {'neg': 0.0, 'neu': 0.703, 'pos': 0.297, 'compound': 0.8516} positive\n",
      "i appreciate the very personable doormen that are so cheerful & helpful! {'neg': 0.0, 'neu': 0.46, 'pos': 0.54, 'compound': 0.8897} positive\n",
      "very informative staff on the front desk and great service. {'neg': 0.0, 'neu': 0.687, 'pos': 0.313, 'compound': 0.6249} positive\n",
      "beautiful corner room, comfortable, surprisingly quiet in a busy hotel in a busy city. {'neg': 0.0, 'neu': 0.539, 'pos': 0.461, 'compound': 0.8555} positive\n",
      "quiet room. {'neg': 0.0, 'neu': 1.0, 'pos': 0.0, 'compound': 0.0} neutral\n",
      "special thanks to taylor, who helped me prior to the stay by arranging a quiet room on a high floor (i am a light sleeper). {'neg': 0.0, 'neu': 0.804, 'pos': 0.196, 'compound': 0.6808} positive\n",
      "quiet room, lovely view, great staff. {'neg': 0.0, 'neu': 0.336, 'pos': 0.664, 'compound': 0.836} positive\n",
      "super quiet room from the traffic. {'neg': 0.0, 'neu': 0.562, 'pos': 0.438, 'compound': 0.5994} positive\n",
      "magnificent hotel, large room, quiet. {'neg': 0.0, 'neu': 0.506, 'pos': 0.494, 'compound': 0.5994} positive\n",
      "i asked for a high floor, quiet room, and i got it! {'neg': 0.0, 'neu': 1.0, 'pos': 0.0, 'compound': 0.0} neutral\n",
      "the hotel is quiet, bed comfy, room clean, spacious, views stunning. {'neg': 0.0, 'neu': 0.629, 'pos': 0.371, 'compound': 0.6486} positive\n",
      "they abided, but charged us additional money for the view and quiet room. {'neg': 0.155, 'neu': 0.845, 'pos': 0.0, 'compound': -0.296} negative\n",
      "family of 7, for 3 nights, early dec. 17, nothing too much trouble, great spacious bedrooms, totally quiet, hotel . {'neg': 0.0, 'neu': 0.739, 'pos': 0.261, 'compound': 0.7475} positive\n",
      "surly staff. {'neg': 0.0, 'neu': 1.0, 'pos': 0.0, 'compound': 0.0} neutral\n",
      "warm welcoming staff, beautiful well appointed quiet room, great location. {'neg': 0.0, 'neu': 0.251, 'pos': 0.749, 'compound': 0.9313} positive\n",
      "clean quiet, friendly staff, extremely well locted in manhattan, hard to beat this. {'neg': 0.075, 'neu': 0.481, 'pos': 0.444, 'compound': 0.7841} positive\n",
      "generally quiet and comfy room. {'neg': 0.0, 'neu': 1.0, 'pos': 0.0, 'compound': 0.0} neutral\n",
      "fantastic beds, very quiet, very professional courteous staff - very polished indeed. {'neg': 0.0, 'neu': 0.582, 'pos': 0.418, 'compound': 0.8008} positive\n",
      "a very quiet hotel, so no disturbances whatsoever. {'neg': 0.0, 'neu': 0.62, 'pos': 0.38, 'compound': 0.3981} positive\n",
      "rooms were nice- not cramped great view of the cathedral from our room and quiet. {'neg': 0.173, 'neu': 0.681, 'pos': 0.147, 'compound': -0.1265} negative\n",
      "myself and my son visited new york for our birthdays (myself 50th my son 13th bday).with it being a very special holiday we saved up for a long time so we could stay somewhere top class,also somewhere safe for a mum and son,and we certainly picked the right hotel..beautiful room,view of cathedral,really quiet room,great beds,no waiting long for lifts,desk and check in and out quick,staff really helpful and caring (angel was really nice) very clean also.this is my 4th visit to ny and my sons first,he has fell in love with ny and wants to visit every year! {'neg': 0.0, 'neu': 0.723, 'pos': 0.277, 'compound': 0.9852} positive\n",
      "nice quiet room. {'neg': 0.0, 'neu': 0.417, 'pos': 0.583, 'compound': 0.4215} positive\n",
      " i asked for a quiet room so i had one facing the air conditioner and non street which was perfect. {'neg': 0.0, 'neu': 0.837, 'pos': 0.163, 'compound': 0.5719} positive\n",
      "slepy very well all 3 nights, room extremely quiet & bed comfortable. {'neg': 0.0, 'neu': 0.637, 'pos': 0.363, 'compound': 0.6901} positive\n",
      "i asked for a quiet room and was given a fantastic one up on the 34th floor, which also happened to have a great view. {'neg': 0.0, 'neu': 0.749, 'pos': 0.251, 'compound': 0.8271} positive\n",
      "great view, very quiet and very large bed in a good sized room. {'neg': 0.0, 'neu': 0.611, 'pos': 0.389, 'compound': 0.7906} positive\n",
      "our suite was amazing- grand scale, luxury finishes and attentive, personable staff. {'neg': 0.0, 'neu': 0.595, 'pos': 0.405, 'compound': 0.7783} positive\n",
      "very comfortable bed and quiet room. {'neg': 0.0, 'neu': 0.582, 'pos': 0.418, 'compound': 0.5563} positive\n",
      "we paid top rate for the room and should expect a relatively quiet room, i don't expect a totally soundless environment but do expect to be able to sleep at night. {'neg': 0.0, 'neu': 0.955, 'pos': 0.045, 'compound': 0.1027} positive\n",
      "front-house staff generally surly and unfriendly. {'neg': 0.333, 'neu': 0.667, 'pos': 0.0, 'compound': -0.3612} negative\n",
      " to this point, i'll take an extremely quiet room over speedy wireless service any day -- especially when the ethernet is high quality. {'neg': 0.0, 'neu': 1.0, 'pos': 0.0, 'compound': 0.0} neutral\n",
      "i stayed in the main building,16th floor in a quiet room and, surprise for ny, very spacious! {'neg': 0.0, 'neu': 0.87, 'pos': 0.13, 'compound': 0.3382} positive\n",
      "fabulous views over st. patricks cathedral and a very spacious, quiet room with great black out curtains. {'neg': 0.0, 'neu': 0.667, 'pos': 0.333, 'compound': 0.8176} positive\n",
      "we had no view but that is good come sleepy time - super quiet room. {'neg': 0.07, 'neu': 0.526, 'pos': 0.404, 'compound': 0.8625} positive\n",
      "nothing but five star treatment during our 3 day two night stay at this amazing comfortable quiet hotel. {'neg': 0.0, 'neu': 0.599, 'pos': 0.401, 'compound': 0.9136} positive\n",
      "room relatively quiet. {'neg': 0.0, 'neu': 1.0, 'pos': 0.0, 'compound': 0.0} neutral\n",
      "beautiful hotel, large room for ny and quiet when requested a quiet room. {'neg': 0.0, 'neu': 0.755, 'pos': 0.245, 'compound': 0.5994} positive\n",
      "beautiful hotel, large room for ny and quiet when requested a quiet room. {'neg': 0.0, 'neu': 0.755, 'pos': 0.245, 'compound': 0.5994} positive\n",
      "very comfortable room, quiet on 19th floor. {'neg': 0.0, 'neu': 0.625, 'pos': 0.375, 'compound': 0.5563} positive\n",
      "Total positif: 32\n",
      "Total negatif: 3\n",
      "Total neutral: 6\n"
     ]
    }
   ],
   "source": [
    "positive_count = 0\n",
    "negative_count = 0\n",
    "neutral_count = 0\n",
    "wordsoph3 = [\"seamless\", \"swift\", \"sandy\", \"frosty\", \"informative\", \"surly\", \"matt\", \"thorough\", \"understaffed\", \"personable\", \"smooth\", \"bland\", \"fluent\", \"quiet\", \"surly\", \"tranquil\"]\n",
    "excluded_sentences = [\"when you walk into the courtyard from the street, you feel like you've been transported to a different place & time.\"]\n",
    "for review in df['content']:\n",
    "  doc = nlp(review)\n",
    "  for token in doc:\n",
    "    if token.text in wordsoph3:\n",
    "        if token.pos_ == \"ADJ\":\n",
    "            if token.head.text == \"hotel\" or token.head.text == \"property\" or token.head.text == \"place\" or token.head.text == \"palace\" or token.head.text == \"lotte\" or token.head.text == \"decorations\" or token.head.text == \"exterior\" or token.head.text == \"interior\" or token.head.text == \"gym\" or token.head.text == \"architecture\" or token.head.text == \"room\" or token.head.text == \"bedroom\" or token.head.text == \"bed\" or token.head.text == \"windows\" or token.head.text == \"toiletries\" or token.head.text == \"bathroom\" or token.head.text == \"mattress\" or token.head.text == \"furniture\" or token.head.text == \"rooftop\" or token.head.text == \"guestrooms\" or token.head.text == \"staff\" or token.head.text == \"doormen\" or token.head.text == \"bellmen\" or token.head.text == \"concierge\" or token.head.text == \"members\" or token.head.text == \"employees\" or token.head.text == \"bartenders\" or token.head.text == \"bellman\" or token.head.text == \"doorman\" or token.head.text == \"captain\" or token.head.text == \"maids\" or token.head.text == \"housekeeping\":\n",
    "                if token.sent.text not in excluded_sentences:\n",
    "            # Calculate the sentiment scores for the sentence\n",
    "                    scores = analyzer.polarity_scores(token.sent.text)\n",
    "                    if scores['compound'] > 0:\n",
    "                        sentiment = 'positive'\n",
    "                        positive_count += 1\n",
    "                    elif scores['compound'] < 0:\n",
    "                        sentiment = 'negative'\n",
    "                        negative_count += 1\n",
    "                    else:\n",
    "                        sentiment = 'neutral'\n",
    "                        neutral_count += 1\n",
    "            # Print the sentiment scores for the sentence\n",
    "                    print((token.sent.text), (scores), (sentiment))\n",
    "print(f\"Total positif: {positive_count}\")\n",
    "print(f\"Total negatif: {negative_count}\")\n",
    "print(f\"Total neutral: {neutral_count}\")"
   ]
  },
  {
   "cell_type": "code",
   "execution_count": 46,
   "id": "fbea47fe",
   "metadata": {},
   "outputs": [
    {
     "data": {
      "image/png": "[encoded data removed]",
      "text/plain": [
       "<Figure size 432x288 with 1 Axes>"
      ]
     },
     "metadata": {
      "needs_background": "light"
     },
     "output_type": "display_data"
    }
   ],
   "source": [
    "# Set the labels and values for the bar chart\n",
    "labels = ['Positive', 'Neutral', 'Negative']\n",
    "values = [131, 19, 10]\n",
    "\n",
    "# Create the bar chart\n",
    "plt.bar(labels, values)\n",
    "plt.title(\"Sentiment Analysis of Sophistication Dimension\")\n",
    "plt.xlabel(\"Sentiment\")\n",
    "plt.ylabel(\"Number of Reviews\")\n",
    "\n",
    "# Show the bar chart\n",
    "plt.show()"
   ]
  },
  {
   "cell_type": "markdown",
   "id": "a5b34e8f",
   "metadata": {},
   "source": [
    "# Dimensi Ruggedness"
   ]
  },
  {
   "cell_type": "code",
   "execution_count": 47,
   "id": "e773e684",
   "metadata": {},
   "outputs": [
    {
     "name": "stdout",
     "output_type": "stream",
     "text": [
      "thanks lotte and thanks dan the only thing that could be nicer is a bit more friendlier and smiling front desk staff! {'neg': 0.0, 'neu': 0.522, 'pos': 0.478, 'compound': 0.9387} positive\n",
      "the front desk agent, norma tabora, was extremely helpful in helping us secure an appropriate room. {'neg': 0.0, 'neu': 0.62, 'pos': 0.38, 'compound': 0.788} positive\n",
      "again, not a bad hotel, just not a great one! {'neg': 0.248, 'neu': 0.554, 'pos': 0.197, 'compound': -0.1867} negative\n",
      "clean quiet, friendly staff, extremely well locted in manhattan, hard to beat this. {'neg': 0.075, 'neu': 0.481, 'pos': 0.444, 'compound': 0.7841} positive\n",
      "staff a bit indifferent but it's nyc, right? {'neg': 0.167, 'neu': 0.833, 'pos': 0.0, 'compound': -0.1027} negative\n",
      "this is not a bad hotel. {'neg': 0.0, 'neu': 0.637, 'pos': 0.363, 'compound': 0.431} positive\n",
      " bottom line: i should have stayed where i have stayed before at the hampton inn manhattan @ 35th street/empire state building for a nicer, larger room with two queen size beds, better/more amenities, a friendlier, more competent staff @ 1/5 the price! {'neg': 0.0, 'neu': 0.816, 'pos': 0.184, 'compound': 0.831} positive\n",
      "the room was well appointed, very comfortable 6' bed, luxury linens, definitely hard to get out of! {'neg': 0.061, 'neu': 0.563, 'pos': 0.376, 'compound': 0.8066} positive\n",
      " so overall, not a bad hotel, but we have stayed at better for cheaper and with friendlier service. {'neg': 0.0, 'neu': 0.605, 'pos': 0.395, 'compound': 0.8682} positive\n",
      "cannot say anything bad room was spotless and bed extremely comfortable. {'neg': 0.0, 'neu': 0.583, 'pos': 0.417, 'compound': 0.7538} positive\n",
      "i have to say, i have never ever experienced such a bad housekeeping in my entire life. {'neg': 0.179, 'neu': 0.821, 'pos': 0.0, 'compound': -0.5423} negative\n",
      "the only negative is that it can take a while to get a cab because of the location of the entrance, and there are friendlier doormen in midtown. {'neg': 0.113, 'neu': 0.795, 'pos': 0.092, 'compound': -0.1779} negative\n",
      "the renovations at the palace where appropriate by modernizing the amenities without disrupting the rich history, architecture and charm of the hotel. {'neg': 0.114, 'neu': 0.781, 'pos': 0.105, 'compound': -0.0577} negative\n",
      "Total positif: 8\n",
      "Total negatif: 5\n",
      "Total neutral: 0\n"
     ]
    }
   ],
   "source": [
    "positive_count = 0\n",
    "negative_count = 0\n",
    "neutral_count = 0\n",
    "wordrug1 = [\"indifferent\", \"personalized\", \"careful\", \"accurate\", \"boss\", \"friendlier\", \"appropriate\", \"certain\", \"slight\", \"game\", \"tough\", \"rugged\", \"bad\", \"hard\", \"baffling\", \"elusive\", \"problematic\"]\n",
    "excluded_sentences = [\"when you walk into the courtyard from the street, you feel like you've been transported to a different place & time.\"]\n",
    "for review in df['content']:\n",
    "  doc = nlp(review)\n",
    "  for token in doc:\n",
    "    if token.text in wordrug1:\n",
    "        if token.pos_ == \"ADJ\":\n",
    "            if token.head.text == \"hotel\" or token.head.text == \"property\" or token.head.text == \"place\" or token.head.text == \"palace\" or token.head.text == \"lotte\" or token.head.text == \"decorations\" or token.head.text == \"exterior\" or token.head.text == \"interior\" or token.head.text == \"gym\" or token.head.text == \"architecture\" or token.head.text == \"room\" or token.head.text == \"bedroom\" or token.head.text == \"bed\" or token.head.text == \"windows\" or token.head.text == \"toiletries\" or token.head.text == \"bathroom\" or token.head.text == \"mattress\" or token.head.text == \"furniture\" or token.head.text == \"rooftop\" or token.head.text == \"guestrooms\" or token.head.text == \"staff\" or token.head.text == \"doormen\" or token.head.text == \"bellmen\" or token.head.text == \"concierge\" or token.head.text == \"members\" or token.head.text == \"employees\" or token.head.text == \"bartenders\" or token.head.text == \"bellman\" or token.head.text == \"doorman\" or token.head.text == \"captain\" or token.head.text == \"maids\" or token.head.text == \"housekeeping\":\n",
    "                if token.sent.text not in excluded_sentences:\n",
    "            # Calculate the sentiment scores for the sentence\n",
    "                    scores = analyzer.polarity_scores(token.sent.text)\n",
    "                    if scores['compound'] > 0:\n",
    "                        sentiment = 'positive'\n",
    "                        positive_count += 1\n",
    "                    elif scores['compound'] < 0:\n",
    "                        sentiment = 'negative'\n",
    "                        negative_count += 1\n",
    "                    else:\n",
    "                        sentiment = 'neutral'\n",
    "                        neutral_count += 1\n",
    "            # Print the sentiment scores for the sentence\n",
    "                    print((token.sent.text), (scores), (sentiment))\n",
    "print(f\"Total positif: {positive_count}\")\n",
    "print(f\"Total negatif: {negative_count}\")\n",
    "print(f\"Total neutral: {neutral_count}\")"
   ]
  },
  {
   "cell_type": "code",
   "execution_count": 23,
   "id": "15857824",
   "metadata": {},
   "outputs": [
    {
     "name": "stdout",
     "output_type": "stream",
     "text": [
      "we really are low key so don’t need a fancy room. {'neg': 0.192, 'neu': 0.808, 'pos': 0.0, 'compound': -0.3353} negative\n",
      "the views from our big, bright beautiful room were amazing and it was such a peaceful and super comfortable place to return to after the buzz!! {'neg': 0.0, 'neu': 0.481, 'pos': 0.519, 'compound': 0.9705} positive\n",
      "very cool place to get a drink before dinner! {'neg': 0.0, 'neu': 0.735, 'pos': 0.265, 'compound': 0.4376} positive\n",
      "if you are a mlb baseball fan you may even catch your favorite team staying in this hotel as it is a common place for mlb teams to stay at when playing the yankees. {'neg': 0.0, 'neu': 0.814, 'pos': 0.186, 'compound': 0.7269} positive\n",
      "we were in town for a large conference and the experience we had at the palace made a huge difference for us, after exhausting days at the javits, we came back to the most peaceful, comfortable room and an incredibly warm, caring, and obliging staff. {'neg': 0.044, 'neu': 0.69, 'pos': 0.266, 'compound': 0.9108} positive\n",
      "very impressive hotel, gorgeous xmas decorations. {'neg': 0.0, 'neu': 0.337, 'pos': 0.663, 'compound': 0.8341} positive\n",
      "views over the cathedral and superb, the architecture of the main hotel is super, very impressive, staff very friendly. {'neg': 0.0, 'neu': 0.499, 'pos': 0.501, 'compound': 0.944} positive\n",
      "and what a fancy hotel, especially for the price. {'neg': 0.0, 'neu': 1.0, 'pos': 0.0, 'compound': 0.0} neutral\n",
      "great location, impressive hotel with inner beauty and a photographer's dream in entry and courtyard. {'neg': 0.0, 'neu': 0.455, 'pos': 0.545, 'compound': 0.9217} positive\n",
      "first and foremost, no complimentary bottled water (seems pretty standard now in high end hotels), a lack of pillows (2 on the bed and only 1 in the closet), no turn down service (at this price and level of hotel should be common place), and the ridiculously low toilet (what does an older person do, or someone with knee problems). {'neg': 0.201, 'neu': 0.754, 'pos': 0.046, 'compound': -0.8362} negative\n",
      "very well decorated , fancy hotel. {'neg': 0.0, 'neu': 0.676, 'pos': 0.324, 'compound': 0.3384} positive\n",
      "the lotte was such a cool place to stay. {'neg': 0.0, 'neu': 0.777, 'pos': 0.223, 'compound': 0.3182} positive\n",
      "i have to sleep in a cool room (63-67 f) to sleep comfortably. {'neg': 0.0, 'neu': 0.683, 'pos': 0.317, 'compound': 0.6249} positive\n",
      "a really stylish well run hotel and the location cannot be faulted especially if, like us, you were visiting for st patricks day. {'neg': 0.0, 'neu': 0.735, 'pos': 0.265, 'compound': 0.7346} positive\n",
      "it is an older hotel, pretty fancy with some beautiful lights. {'neg': 0.0, 'neu': 0.559, 'pos': 0.441, 'compound': 0.7964} positive\n",
      "this is a cool place to stay and hangout. {'neg': 0.0, 'neu': 0.777, 'pos': 0.223, 'compound': 0.3182} positive\n",
      "very impressive hotel, classical style and big rooms with comfortable beds and quality linen. {'neg': 0.0, 'neu': 0.635, 'pos': 0.365, 'compound': 0.7841} positive\n",
      "they have some tables and outdoor furniture, but they could do so much more with it to be a terrific stop to have a drink or a bite to eat. {'neg': 0.08, 'neu': 0.801, 'pos': 0.119, 'compound': 0.3291} positive\n",
      "the real saving grace were the staff at the concierge desk, they were really well informed, helpful and very approachable as were the outside doormen. {'neg': 0.0, 'neu': 0.727, 'pos': 0.273, 'compound': 0.8051} positive\n",
      "very fancy hotel with great location. {'neg': 0.0, 'neu': 0.549, 'pos': 0.451, 'compound': 0.6249} positive\n",
      "i wanted to pamper myself and stay in a fancy hotel. {'neg': 0.0, 'neu': 1.0, 'pos': 0.0, 'compound': 0.0} neutral\n",
      "Total positif: 17\n",
      "Total negatif: 2\n",
      "Total neutral: 2\n"
     ]
    }
   ],
   "source": [
    "positive_count = 0\n",
    "negative_count = 0\n",
    "neutral_count = 0\n",
    "wordrug2 = [\"inside\", \"natural\", \"public\", \"stylish\", \"common\", \"impressive\", \"cool\", \"inviting\", \"fancy\", \"peaceful\", \"crowded\", \"outdoor\", \"outside\", \"gold\", \"sumptuous\", \"galore\"]\n",
    "excluded_sentences = [\"we had a great time staying here - the hotel has a lovely courtyard that is a really peaceful and comfortable place to relax and unwind after a busy day.\"]\n",
    "for review in df['content']:\n",
    "  doc = nlp(review)\n",
    "  for token in doc:\n",
    "    if token.text in wordrug2:\n",
    "        if token.pos_ == \"ADJ\":\n",
    "            if token.head.text == \"hotel\" or token.head.text == \"property\" or token.head.text == \"place\" or token.head.text == \"palace\" or token.head.text == \"lotte\" or token.head.text == \"decorations\" or token.head.text == \"exterior\" or token.head.text == \"interior\" or token.head.text == \"gym\" or token.head.text == \"architecture\" or token.head.text == \"room\" or token.head.text == \"bedroom\" or token.head.text == \"bed\" or token.head.text == \"windows\" or token.head.text == \"toiletries\" or token.head.text == \"bathroom\" or token.head.text == \"mattress\" or token.head.text == \"furniture\" or token.head.text == \"rooftop\" or token.head.text == \"guestrooms\" or token.head.text == \"staff\" or token.head.text == \"doormen\" or token.head.text == \"bellmen\" or token.head.text == \"concierge\" or token.head.text == \"members\" or token.head.text == \"employees\" or token.head.text == \"bartenders\" or token.head.text == \"bellman\" or token.head.text == \"doorman\" or token.head.text == \"captain\" or token.head.text == \"maids\" or token.head.text == \"housekeeping\":\n",
    "                if token.sent.text not in excluded_sentences:\n",
    "            # Calculate the sentiment scores for the sentence\n",
    "                    scores = analyzer.polarity_scores(token.sent.text)\n",
    "                    if scores['compound'] > 0:\n",
    "                        sentiment = 'positive'\n",
    "                        positive_count += 1\n",
    "                    elif scores['compound'] < 0:\n",
    "                        sentiment = 'negative'\n",
    "                        negative_count += 1\n",
    "                    else:\n",
    "                        sentiment = 'neutral'\n",
    "                        neutral_count += 1\n",
    "            # Print the sentiment scores for the sentence\n",
    "                    print((token.sent.text), (scores), (sentiment))\n",
    "print(f\"Total positif: {positive_count}\")\n",
    "print(f\"Total negatif: {negative_count}\")\n",
    "print(f\"Total neutral: {neutral_count}\")"
   ]
  },
  {
   "cell_type": "code",
   "execution_count": 28,
   "id": "80d1713e",
   "metadata": {},
   "outputs": [
    {
     "data": {
      "image/png": "[encoded data removed]",
      "text/plain": [
       "<Figure size 720x360 with 1 Axes>"
      ]
     },
     "metadata": {
      "needs_background": "light"
     },
     "output_type": "display_data"
    }
   ],
   "source": [
    "plt.figure(figsize=(10, 5))\n",
    "# Set the labels and values for the bar chart\n",
    "labels = ['Positive', 'Neutral', 'Negative']\n",
    "values = [25, 2, 7]\n",
    "\n",
    "# Create the bar chart\n",
    "plt.bar(labels, values)\n",
    "plt.title(\"Sentiment Analysis of Ruggedness Dimension\")\n",
    "plt.xlabel(\"Sentiment\")\n",
    "plt.ylabel(\"Number of Reviews\")\n",
    "\n",
    "# Show the bar chart\n",
    "plt.show()"
   ]
  },
  {
   "cell_type": "markdown",
   "id": "929464e2",
   "metadata": {},
   "source": [
    "# Dimensi Sustainability"
   ]
  },
  {
   "cell_type": "code",
   "execution_count": 19,
   "id": "7aa46c46",
   "metadata": {},
   "outputs": [
    {
     "name": "stdout",
     "output_type": "stream",
     "text": [
      "not only is it the most stunning place but it has the kindest staff. {'neg': 0.0, 'neu': 0.87, 'pos': 0.13, 'compound': 0.2374} positive\n",
      "i have to say, though, that the highlight was our visit to the stunning gold room. {'neg': 0.0, 'neu': 0.737, 'pos': 0.263, 'compound': 0.6124} positive\n",
      "all this tremendous personal leadership and service in a stunning hotel that is a visual feast for any guest. {'neg': 0.0, 'neu': 0.874, 'pos': 0.126, 'compound': 0.3818} positive\n",
      "so was everyone else, including the spectacular bellmen, the maids, and everyone else with whom we came into contact. {'neg': 0.0, 'neu': 1.0, 'pos': 0.0, 'compound': 0.0} neutral\n",
      "it feels very welcoming here - a stunning place yet feeling like a home away from home due to everyone’s professional and very friendly approach. {'neg': 0.0, 'neu': 0.601, 'pos': 0.399, 'compound': 0.9059} positive\n",
      "did my check in by a lovely lady (rebecca v.) who got me the most incredible room with a cathedral view. {'neg': 0.0, 'neu': 0.84, 'pos': 0.16, 'compound': 0.5859} positive\n",
      "this is a stunning hotel in a fabulous location. {'neg': 0.0, 'neu': 0.538, 'pos': 0.462, 'compound': 0.7184} positive\n",
      "it’s a stunning hotel with amazing staff and service, i have not seen or experienced anything like it before. {'neg': 0.0, 'neu': 0.643, 'pos': 0.357, 'compound': 0.836} positive\n",
      "what a stunning hotel - i've stayed here a number of times for work and i can't fault the staff, amenities or location. {'neg': 0.0, 'neu': 0.765, 'pos': 0.235, 'compound': 0.6319} positive\n",
      "if you ever get a chance to visit or stay this stunning hotel you have to meet maurice, such a great guy x {'neg': 0.0, 'neu': 0.687, 'pos': 0.313, 'compound': 0.8442} positive\n",
      "we highly recommend this incredible hotel and can't wait to come back (hopefully not because i'll be getting surgery). {'neg': 0.0, 'neu': 0.756, 'pos': 0.244, 'compound': 0.6697} positive\n",
      " a stunning hotel with all the trimmings. {'neg': 0.0, 'neu': 0.698, 'pos': 0.302, 'compound': 0.3818} positive\n",
      "not only were our guests amazed by the stunning architecture, but the service by the staff was incredible. {'neg': 0.0, 'neu': 0.804, 'pos': 0.196, 'compound': 0.4404} positive\n",
      "upgraded to a cathedral view room on the 39th floor - stunning. {'neg': 0.0, 'neu': 0.809, 'pos': 0.191, 'compound': 0.3818} positive\n",
      "stunning interior and staff all take pride in their jobs and cannot do enough to help you and really make you feel welcome, will be back next year and would recommend to anyone to give it a try . {'neg': 0.0, 'neu': 0.72, 'pos': 0.28, 'compound': 0.9042} positive\n",
      "what a stunning hotel! was only there for 2 nights, but i wanted to stay longer. {'neg': 0.0, 'neu': 0.878, 'pos': 0.122, 'compound': 0.2714} positive\n",
      "absolutely stunning hotel with a view to die for. don’t choose anything less than a cathedral view room. {'neg': 0.171, 'neu': 0.702, 'pos': 0.127, 'compound': -0.2516} negative\n",
      "i can't say enough good things about the stunning hotel and the terrific staff. {'neg': 0.126, 'neu': 0.576, 'pos': 0.298, 'compound': 0.5096} positive\n",
      "a friend and i spent 2 nights at this stunning hotel in april. {'neg': 0.0, 'neu': 0.64, 'pos': 0.36, 'compound': 0.7351} positive\n",
      "the lotte place is a stunning, comfortable and very accommodating hotel. {'neg': 0.0, 'neu': 0.604, 'pos': 0.396, 'compound': 0.7096} positive\n",
      "the old part of the hotel is of the most stunning architecture. {'neg': 0.0, 'neu': 0.792, 'pos': 0.208, 'compound': 0.4391} positive\n",
      "absolutely stunning hotel. {'neg': 0.0, 'neu': 0.409, 'pos': 0.591, 'compound': 0.4391} positive\n",
      "near 5th avenue and with great food, service and incredible helpful and friendly staff. {'neg': 0.0, 'neu': 0.508, 'pos': 0.492, 'compound': 0.8923} positive\n",
      "it is a stunning hotel with exquisite common spaces. {'neg': 0.0, 'neu': 0.755, 'pos': 0.245, 'compound': 0.3818} positive\n",
      "what a beautiful, stunning hotel, great location, a very good sized room (no.3120) situated on the 31st floor, great ac, 2 double beds, large tv ,3 chairs , safe, well stocked bathroom of molton brown toiletries replenished everyday,with a added bonus of an incredible view looking over st patrick's church . {'neg': 0.0, 'neu': 0.62, 'pos': 0.38, 'compound': 0.9785} positive\n",
      "absolutely stunning property and a centralized location. {'neg': 0.0, 'neu': 0.675, 'pos': 0.325, 'compound': 0.4391} positive\n",
      "stunning hotel with plenty of amenities and the perfect location for a first visit to new york city! {'neg': 0.0, 'neu': 0.708, 'pos': 0.292, 'compound': 0.7644} positive\n",
      "what an incredible room! {'neg': 0.0, 'neu': 1.0, 'pos': 0.0, 'compound': 0.0} neutral\n",
      "it's a stunning property and one that the city of ny should be proud to call its own. {'neg': 0.0, 'neu': 0.737, 'pos': 0.263, 'compound': 0.6908} positive\n",
      "we had two rooms high above madison avenue, overlooking the incredible rooftop and facade of st. patrick's cathedral. {'neg': 0.0, 'neu': 1.0, 'pos': 0.0, 'compound': 0.0} neutral\n",
      "a flawless stay in a spectacular room overlooking rockefeller center and st. patrick's cathedral. {'neg': 0.0, 'neu': 0.798, 'pos': 0.202, 'compound': 0.5106} positive\n",
      "thank you to the incredible staff at lotte new york palace for such an unforgettable stay. {'neg': 0.0, 'neu': 0.857, 'pos': 0.143, 'compound': 0.3612} positive\n",
      "we took advantage of a promotion and originally got the room for $199 and upgraded to a spectacular cathedral-view room for a little more (i'm not usually one to pay for views, but i thought this was worth it). {'neg': 0.029, 'neu': 0.877, 'pos': 0.094, 'compound': 0.3919} positive\n",
      "another wonderful experience at this spectacular hotel. took my family for a weekend trip. {'neg': 0.0, 'neu': 0.778, 'pos': 0.222, 'compound': 0.5719} positive\n",
      "but the most astounding aspect of this stunning property is the level of customer service. {'neg': 0.0, 'neu': 0.615, 'pos': 0.385, 'compound': 0.8458} positive\n",
      "overall this is a spectacular place to stay i would definitely recommend this to others. {'neg': 0.0, 'neu': 0.714, 'pos': 0.286, 'compound': 0.6369} positive\n",
      "what a spectacular hotel. {'neg': 0.0, 'neu': 1.0, 'pos': 0.0, 'compound': 0.0} neutral\n",
      "what a stunning hotel! {'neg': 0.0, 'neu': 0.509, 'pos': 0.491, 'compound': 0.4389} positive\n",
      "definitely a 5 star for this stunning hotel in the centre of new york city.this hotel lives up to its name. {'neg': 0.0, 'neu': 0.769, 'pos': 0.231, 'compound': 0.6908} positive\n",
      "we were absolutely blown away by this stunning hotel. {'neg': 0.0, 'neu': 0.727, 'pos': 0.273, 'compound': 0.4588} positive\n",
      "the location is ideal, hotel is spectacular, picture perfect views, but the most important thing is the incredible staff. {'neg': 0.0, 'neu': 0.69, 'pos': 0.31, 'compound': 0.7343} positive\n",
      "beautiful former mansion with incredible architecture and detail. {'neg': 0.0, 'neu': 0.642, 'pos': 0.358, 'compound': 0.5994} positive\n",
      "incredible hotel! {'neg': 0.0, 'neu': 1.0, 'pos': 0.0, 'compound': 0.0} neutral\n",
      "if you are looking for a spectacular hotel this is it! {'neg': 0.0, 'neu': 1.0, 'pos': 0.0, 'compound': 0.0} neutral\n",
      "you will not be disappointed with the fabulous service at this spectacular hotel! {'neg': 0.0, 'neu': 0.638, 'pos': 0.362, 'compound': 0.7388} positive\n",
      "we received a spectacular room overlooking st patricks cathedral. {'neg': 0.0, 'neu': 1.0, 'pos': 0.0, 'compound': 0.0} neutral\n",
      "the room was amazing, it had huge beds, and incredible bathroom with awesome shampoos, and conditioners and soaps, however it didn't have the nicest view ever, but it was a cozy room overall. {'neg': 0.048, 'neu': 0.772, 'pos': 0.179, 'compound': 0.6017} positive\n",
      "Total positif: 39\n",
      "Total negatif: 1\n",
      "Total neutral: 7\n"
     ]
    }
   ],
   "source": [
    "positive_count = 0\n",
    "negative_count = 0\n",
    "neutral_count = 0\n",
    "wordsust1 = [\"goregeous\", \"decorated\", \"immacurate\", \"incredible\", \"spotless\", \"stunning\", \"spectacular\"]\n",
    "excluded_sentences = [\"the courtyard offers a lovely place to sit and enjoy a drink outside.\"]\n",
    "for review in df['content']:\n",
    "  doc = nlp(review)\n",
    "  for token in doc:\n",
    "    if token.text in wordsust1:\n",
    "        if token.pos_ == \"ADJ\":\n",
    "            if token.head.text == \"hotel\" or token.head.text == \"property\" or token.head.text == \"place\" or token.head.text == \"palace\" or token.head.text == \"lotte\" or token.head.text == \"decorations\" or token.head.text == \"exterior\" or token.head.text == \"interior\" or token.head.text == \"gym\" or token.head.text == \"architecture\" or token.head.text == \"room\" or token.head.text == \"bedroom\" or token.head.text == \"bed\" or token.head.text == \"windows\" or token.head.text == \"toiletries\" or token.head.text == \"bathroom\" or token.head.text == \"mattress\" or token.head.text == \"furniture\" or token.head.text == \"rooftop\" or token.head.text == \"guestrooms\" or token.head.text == \"staff\" or token.head.text == \"doormen\" or token.head.text == \"bellmen\" or token.head.text == \"concierge\" or token.head.text == \"members\" or token.head.text == \"employees\" or token.head.text == \"bartenders\" or token.head.text == \"bellman\" or token.head.text == \"doorman\" or token.head.text == \"captain\" or token.head.text == \"maids\" or token.head.text == \"housekeeping\":\n",
    "                if token.sent.text not in excluded_sentences:\n",
    "            # Calculate the sentiment scores for the sentence\n",
    "                    scores = analyzer.polarity_scores(token.sent.text)\n",
    "                    if scores['compound'] > 0:\n",
    "                        sentiment = 'positive'\n",
    "                        positive_count += 1\n",
    "                    elif scores['compound'] < 0:\n",
    "                        sentiment = 'negative'\n",
    "                        negative_count += 1\n",
    "                    else:\n",
    "                        sentiment = 'neutral'\n",
    "                        neutral_count += 1\n",
    "            # Print the sentiment scores for the sentence\n",
    "                    print((token.sent.text), (scores), (sentiment))\n",
    "print(f\"Total positif: {positive_count}\")\n",
    "print(f\"Total negatif: {negative_count}\")\n",
    "print(f\"Total neutral: {neutral_count}\")"
   ]
  },
  {
   "cell_type": "code",
   "execution_count": 51,
   "id": "9d65c568",
   "metadata": {},
   "outputs": [
    {
     "name": "stdout",
     "output_type": "stream",
     "text": [
      "firstly what a hotel, great rooms, great staff, great stay, we stayed for 8 nights in december in a big room with a cathedral view and what a view, we didn’t try any of the restaurants as tried different breakfast joints every morning and there the obvious restaurants galore in manhattan. {'neg': 0.0, 'neu': 0.796, 'pos': 0.204, 'compound': 0.9231} positive\n",
      "this is a big hotel with one working elevator, it would be wrong during normal times, but during a pandemic it’s unacceptable. {'neg': 0.232, 'neu': 0.768, 'pos': 0.0, 'compound': -0.7227} negative\n",
      "large hotel, rooms are big for nyc, location excellent, is how it is described no disappointments here a big busy hotel that runs fairly well. {'neg': 0.0, 'neu': 0.727, 'pos': 0.273, 'compound': 0.8063} positive\n",
      "big room, well furnished with one of the most amazing view on st. patrick cathedral and the 5th avenue. {'neg': 0.0, 'neu': 0.733, 'pos': 0.267, 'compound': 0.7346} positive\n",
      "the views from our big, bright beautiful room were amazing and it was such a peaceful and super comfortable place to return to after the buzz!! {'neg': 0.0, 'neu': 0.481, 'pos': 0.519, 'compound': 0.9705} positive\n",
      "beautiful looking hotel,sweeping staircase,chandeliers, nice big bedroom,should be for over $700australian dollars per night, bed only. {'neg': 0.0, 'neu': 0.676, 'pos': 0.324, 'compound': 0.7717} positive\n",
      "really big size room with a stunning view of st. patrick s, a large soft bed, also a big table with comfortable chairs. {'neg': 0.0, 'neu': 0.781, 'pos': 0.219, 'compound': 0.7096} positive\n",
      "really big size room with a stunning view of st patricks, (i can already see some photos here so will not add mine), a bed you could just sink in and never get up from, and the service one comes to expect from a 5-star property. {'neg': 0.0, 'neu': 0.945, 'pos': 0.055, 'compound': 0.3818} positive\n",
      "this is a big property so there really wasn’t any personalized service. {'neg': 0.0, 'neu': 1.0, 'pos': 0.0, 'compound': 0.0} neutral\n",
      "very big room with superb view of st patrick’s cathedral and the empire state beyond and worth the extra money. {'neg': 0.0, 'neu': 0.75, 'pos': 0.25, 'compound': 0.7184} positive\n",
      "a family room with two doubles, easily big enough for us plus our two children (14 & 11). {'neg': 0.0, 'neu': 0.876, 'pos': 0.124, 'compound': 0.34} positive\n",
      "we just returned home after our stay a the lotte palace on madison avenue new york it lived up to everything we read and heard about the hotel .from check in greeted by nice team at reception lovely big room fab bed wonderful view of the cathedral and the amazing skyline .we could not fault this hotel for value and best of all,is the location. {'neg': 0.0, 'neu': 0.666, 'pos': 0.334, 'compound': 0.98} positive\n",
      "i got an excellent deal due to the low season but will not hesitate to stay here again, service was impecable, nice room, big, comfortable bed, the location can not be better, right in the middle of everything. {'neg': 0.094, 'neu': 0.648, 'pos': 0.258, 'compound': 0.8427} positive\n",
      "we had a lovely, big room on the 37th floor of the palace. {'neg': 0.0, 'neu': 0.759, 'pos': 0.241, 'compound': 0.5859} positive\n",
      "the room is perfect for a family (2 adults and 2 kids) but the hotel is very busy because is a very big hotel. {'neg': 0.0, 'neu': 0.907, 'pos': 0.093, 'compound': 0.3291} positive\n",
      "she made sure our stay was extra special, trying to get us a big room with the best view which she did! {'neg': 0.0, 'neu': 0.667, 'pos': 0.333, 'compound': 0.8588} positive\n",
      "how many times have i walked by the palace, and thought-'probably a big mass hotel, just a good brand name.' {'neg': 0.0, 'neu': 0.868, 'pos': 0.132, 'compound': 0.4404} positive\n",
      "the suite was very spacious it had a big walk in closet, big living room with wonderful views of the rockefeller center (the skating and the christmas tree) {'neg': 0.0, 'neu': 0.879, 'pos': 0.121, 'compound': 0.5719} positive\n",
      "we stayed here last week, the hotel was beautifully decorated and festive, people were coming in to check out the tree etc and take photos  the hotel itself is really nice, nice big room, comfiest bed ever, we wanted to take it home!! {'neg': 0.0, 'neu': 0.743, 'pos': 0.257, 'compound': 0.9254} positive\n",
      "nicely decorated , big room and wonderful service. {'neg': 0.0, 'neu': 0.476, 'pos': 0.524, 'compound': 0.765} positive\n",
      "big room, incredible view from window. {'neg': 0.0, 'neu': 1.0, 'pos': 0.0, 'compound': 0.0} neutral\n",
      " the room was okay, it was a good size for new york, a big bed and a rollaway bed was provided, both were comfortable. {'neg': 0.0, 'neu': 0.722, 'pos': 0.278, 'compound': 0.7964} positive\n",
      "this is a very big hotel that impresses with first impressions. {'neg': 0.0, 'neu': 0.643, 'pos': 0.357, 'compound': 0.6124} positive\n",
      "as i said its a big hotel so the reception can get very busy, but the staff clear the lines remakably fast. {'neg': 0.0, 'neu': 0.861, 'pos': 0.139, 'compound': 0.5267} positive\n",
      "good location, helpful staff, big room,. {'neg': 0.0, 'neu': 0.412, 'pos': 0.588, 'compound': 0.6908} positive\n",
      "clean, big bed. {'neg': 0.0, 'neu': 0.426, 'pos': 0.574, 'compound': 0.4019} positive\n",
      " the room was quite large for nyc, with high quality bedding, a big bathroom and work desk. {'neg': 0.0, 'neu': 1.0, 'pos': 0.0, 'compound': 0.0} neutral\n",
      "this is a grand new york hotel, big and busy, with a stunning lobby, especially during christmas. {'neg': 0.0, 'neu': 0.676, 'pos': 0.324, 'compound': 0.6908} positive\n",
      "big enough bathroom with molton brown toiletries, bathtub and plenty towels. {'neg': 0.0, 'neu': 1.0, 'pos': 0.0, 'compound': 0.0} neutral\n",
      "lovely big bed with crisp white linens. {'neg': 0.0, 'neu': 0.612, 'pos': 0.388, 'compound': 0.5859} positive\n",
      "big bed, comfortable shower (bathroom tiny). {'neg': 0.0, 'neu': 0.602, 'pos': 0.398, 'compound': 0.5106} positive\n",
      "had a huge, beautiful room with a nice view and big windows. {'neg': 0.0, 'neu': 0.5, 'pos': 0.5, 'compound': 0.8402} positive\n",
      "none the less we were given a lovely room on the 37 floor , big and spacious however the bathroom was a little cramped and dated. {'neg': 0.0, 'neu': 0.868, 'pos': 0.132, 'compound': 0.5859} positive\n",
      "even b&bs serve breakfast, and this is a big hotel which has pretentions to being a luxury hotel  wifi is very bad - slow, frequently drops out, and costs $15/day. {'neg': 0.116, 'neu': 0.884, 'pos': 0.0, 'compound': -0.5849} negative\n",
      "relatively big room (2dbl) with a nice view overlooking st. patrick's cathedral & rockefeller center. {'neg': 0.0, 'neu': 0.833, 'pos': 0.167, 'compound': 0.4215} positive\n",
      " it is a big hotel with large crowds so expect delays at check in/out {'neg': 0.0, 'neu': 1.0, 'pos': 0.0, 'compound': 0.0} neutral\n",
      "the reason i booked the hotel was location and big windows. {'neg': 0.0, 'neu': 1.0, 'pos': 0.0, 'compound': 0.0} neutral\n",
      "clean, big room. {'neg': 0.0, 'neu': 0.426, 'pos': 0.574, 'compound': 0.4019} positive\n",
      "but i can't stay anywhere else because i'm in love with that big bright comfy room. {'neg': 0.0, 'neu': 0.592, 'pos': 0.408, 'compound': 0.8922} positive\n",
      "a hotel that would have the same big bright comfy room like the palace and also some real hotel service. {'neg': 0.0, 'neu': 0.769, 'pos': 0.231, 'compound': 0.6597} positive\n",
      "nice big room, clean, warm and reasonably quiet. {'neg': 0.0, 'neu': 0.403, 'pos': 0.597, 'compound': 0.7506} positive\n",
      "this is a pretty big hotel, and i felt that the front desk is understaffed, especially around 3pm when everybody is trying to check in. {'neg': 0.0, 'neu': 0.882, 'pos': 0.118, 'compound': 0.4939} positive\n",
      "it gets crowded and is a big hotel. {'neg': 0.0, 'neu': 1.0, 'pos': 0.0, 'compound': 0.0} neutral\n",
      "we just spent the night, but had a beautiful cityscape view and a big comfy bed. {'neg': 0.0, 'neu': 0.737, 'pos': 0.263, 'compound': 0.7469} positive\n",
      "one very tall doorman (sorry that i don't recall his name) was incredibly helpful and funny. {'neg': 0.075, 'neu': 0.624, 'pos': 0.301, 'compound': 0.6901} positive\n",
      "beautiful hotel in a great location, big room compare to other hotels friendly and helpful staff parking is not cheap - $70.00 for 24 hours, this is midtown manhattan after all....... i definitely recommend this hotel ! {'neg': 0.0, 'neu': 0.614, 'pos': 0.386, 'compound': 0.9612} positive\n"
     ]
    },
    {
     "name": "stdout",
     "output_type": "stream",
     "text": [
      "i've never stayed in a room that big in nyc before. {'neg': 0.0, 'neu': 1.0, 'pos': 0.0, 'compound': 0.0} neutral\n",
      "all in all a nice quite big hotel. {'neg': 0.0, 'neu': 0.714, 'pos': 0.286, 'compound': 0.4215} positive\n",
      "great big, comfortable bed and big, clean bathroom. {'neg': 0.0, 'neu': 0.331, 'pos': 0.669, 'compound': 0.8779} positive\n",
      "great big, comfortable bed and big, clean bathroom. {'neg': 0.0, 'neu': 0.331, 'pos': 0.669, 'compound': 0.8779} positive\n",
      "big room. {'neg': 0.0, 'neu': 1.0, 'pos': 0.0, 'compound': 0.0} neutral\n",
      "big windows with great views. {'neg': 0.0, 'neu': 0.494, 'pos': 0.506, 'compound': 0.6249} positive\n",
      "big room. {'neg': 0.0, 'neu': 1.0, 'pos': 0.0, 'compound': 0.0} neutral\n",
      "we preferred a midtown location, and when i found a terrific (non-refundable) rate from the new york palace, i called the hotel direct to book. {'neg': 0.0, 'neu': 0.886, 'pos': 0.114, 'compound': 0.4767} positive\n",
      "Total positif: 42\n",
      "Total negatif: 2\n",
      "Total neutral: 10\n"
     ]
    }
   ],
   "source": [
    "positive_count = 0\n",
    "negative_count = 0\n",
    "neutral_count = 0\n",
    "wordsust2 = [\"adorable\", \"expert\", \"continued\", \"kindly\", \"stressful\", \"assisted\", \"sorry\", \"addressed\", \"telling\", \"miserable\", \"direct\", \"big\", \"bountiful\", \"handsome\", \"giving\", \"liberal\"]\n",
    "excluded_sentences = [\"when you walk into the courtyard from the street, you feel like you've been transported to a different place & time.\"]\n",
    "for review in df['content']:\n",
    "  doc = nlp(review)\n",
    "  for token in doc:\n",
    "    if token.text in wordsust2:\n",
    "        if token.pos_ == \"ADJ\":\n",
    "            if token.head.text == \"hotel\" or token.head.text == \"property\" or token.head.text == \"place\" or token.head.text == \"palace\" or token.head.text == \"lotte\" or token.head.text == \"decorations\" or token.head.text == \"exterior\" or token.head.text == \"interior\" or token.head.text == \"gym\" or token.head.text == \"architecture\" or token.head.text == \"room\" or token.head.text == \"bedroom\" or token.head.text == \"bed\" or token.head.text == \"windows\" or token.head.text == \"toiletries\" or token.head.text == \"bathroom\" or token.head.text == \"mattress\" or token.head.text == \"furniture\" or token.head.text == \"rooftop\" or token.head.text == \"guestrooms\" or token.head.text == \"staff\" or token.head.text == \"doormen\" or token.head.text == \"bellmen\" or token.head.text == \"concierge\" or token.head.text == \"members\" or token.head.text == \"employees\" or token.head.text == \"bartenders\" or token.head.text == \"bellman\" or token.head.text == \"doorman\" or token.head.text == \"captain\" or token.head.text == \"maids\" or token.head.text == \"housekeeping\":\n",
    "                if token.sent.text not in excluded_sentences:\n",
    "            # Calculate the sentiment scores for the sentence\n",
    "                    scores = analyzer.polarity_scores(token.sent.text)\n",
    "                    if scores['compound'] > 0:\n",
    "                        sentiment = 'positive'\n",
    "                        positive_count += 1\n",
    "                    elif scores['compound'] < 0:\n",
    "                        sentiment = 'negative'\n",
    "                        negative_count += 1\n",
    "                    else:\n",
    "                        sentiment = 'neutral'\n",
    "                        neutral_count += 1\n",
    "            # Print the sentiment scores for the sentence\n",
    "                    print((token.sent.text), (scores), (sentiment))\n",
    "print(f\"Total positif: {positive_count}\")\n",
    "print(f\"Total negatif: {negative_count}\")\n",
    "print(f\"Total neutral: {neutral_count}\")"
   ]
  },
  {
   "cell_type": "code",
   "execution_count": 22,
   "id": "e236ee85",
   "metadata": {},
   "outputs": [
    {
     "name": "stdout",
     "output_type": "stream",
     "text": [
      "then an asian lady brought us a key that was to the same room we were trying to get out of. {'neg': 0.0, 'neu': 1.0, 'pos': 0.0, 'compound': 0.0} neutral\n",
      "my normal 10 day trip was now 15 days and i was a little nervous...how would i feel about being “stuck” in the same hotel for more than 2 weeks. {'neg': 0.0, 'neu': 1.0, 'pos': 0.0, 'compound': 0.0} neutral\n",
      "the front desk attendant gave us the same room at a great rate. {'neg': 0.0, 'neu': 0.745, 'pos': 0.255, 'compound': 0.6249} positive\n",
      "i wanted to make sure she had no issues staying in the same room and also not haggled for payment when cc was in my name. {'neg': 0.077, 'neu': 0.842, 'pos': 0.081, 'compound': 0.0258} positive\n",
      " the rooms are much larger than the average ny hotel room, but feel a little dated compared to some of the hotels in the area that have had recent renovations. {'neg': 0.0, 'neu': 1.0, 'pos': 0.0, 'compound': 0.0} neutral\n",
      "new room - same moldy bathroom smell 5. {'neg': 0.0, 'neu': 1.0, 'pos': 0.0, 'compound': 0.0} neutral\n",
      "however(!), the room was very much an average hotel room or even worse in some aspects. {'neg': 0.184, 'neu': 0.816, 'pos': 0.0, 'compound': -0.5255} negative\n",
      "the room is much larger than the average ny hotel room. {'neg': 0.0, 'neu': 1.0, 'pos': 0.0, 'compound': 0.0} neutral\n",
      "when we extended our stay for a third night, miles made it possible for us to stay in the same room and avoid any disruption to our already packed schedule. {'neg': 0.144, 'neu': 0.856, 'pos': 0.0, 'compound': -0.5719} negative\n",
      "take that away, and you have a mediocre hotel. {'neg': 0.0, 'neu': 1.0, 'pos': 0.0, 'compound': 0.0} neutral\n",
      "outrageously over-priced, on the edge of shabby, barely functioning television and heat, carpets edging on threadbare and scraped and scratched walls...engineer who came up to room to try to fix tv (remote didn't work) actually apologized and said there was nothing he could do, all the tvs needed to be upgraded...would have been an acceptable hotel for 200 dollars a night, but (including tax) over 600? profoundly over priced and over hyped...and we actually got one of the \"nice\" rooms! {'neg': 0.036, 'neu': 0.897, 'pos': 0.067, 'compound': 0.5516} positive\n",
      "i realized after we arrived that i did not book the same room that i booked the last time. {'neg': 0.0, 'neu': 1.0, 'pos': 0.0, 'compound': 0.0} neutral\n",
      "this is a great hotel with one of the best location in nyc city , the rooms are pretty big considering nyc average room size. {'neg': 0.0, 'neu': 0.657, 'pos': 0.343, 'compound': 0.91} positive\n",
      "we moved up to the 29th floor to the same room, a brief apology was given but we were made to feel that we were more of a hindrance to the hotel for complaining and no real apology was given, no explanation on how the room was allowed to be in that condition. {'neg': 0.212, 'neu': 0.77, 'pos': 0.018, 'compound': -0.8972} negative\n",
      "the rooms are larger than the average nyc room, and have been refurbished in the past few years so that they are bright and airy now. {'neg': 0.0, 'neu': 0.896, 'pos': 0.104, 'compound': 0.4404} positive\n",
      "we miss the restaurant was at this hotel gilt close few year ago in the same place now the servings only breakfast {'neg': 0.071, 'neu': 0.929, 'pos': 0.0, 'compound': -0.1531} negative\n",
      "i had a room with an adjoining door for another room and the neighbours had a party and we could hear everything as if in the same room by 12:30 am my kids needed to sleep and security took care of it super fast! {'neg': 0.0, 'neu': 0.762, 'pos': 0.238, 'compound': 0.9098} positive\n",
      "courtney came to my rescue when the blizzard on the east end of long island necessitated my staying an additional night (yay) and i was able to stay in the same room. {'neg': 0.0, 'neu': 0.817, 'pos': 0.183, 'compound': 0.7717} positive\n",
      "minuses for an average bathroom which vompares to what you find in any four stars hotel as well, and another minus for the lack of a coffe machine in the room .... . {'neg': 0.065, 'neu': 0.876, 'pos': 0.059, 'compound': -0.0516} negative\n",
      "my wife is now saying that, because of their incredible experience and wonderful hospitality, it will be very difficult to take our daughter to an average hotel. {'neg': 0.088, 'neu': 0.787, 'pos': 0.125, 'compound': 0.2893} positive\n",
      "so last year we stayed in the same room as we did our first year, located in the towers, because again we wanted to keep up with the tradition. {'neg': 0.0, 'neu': 1.0, 'pos': 0.0, 'compound': 0.0} neutral\n",
      "i have stayed in hotels for over 100 nights this year and never has a hotel charged me to store bags in between stays at the same hotel. {'neg': 0.062, 'neu': 0.938, 'pos': 0.0, 'compound': -0.2023} negative\n",
      "definitely not your average touristy place. {'neg': 0.0, 'neu': 0.649, 'pos': 0.351, 'compound': 0.4019} positive\n",
      " i've seen many of the same staff over the 18 years and i appreciate that they see new faces every day, but i have yet to be offered a welcoming and warm greeting \"oh hello sir, so nice to see you back\". {'neg': 0.0, 'neu': 0.693, 'pos': 0.307, 'compound': 0.9466} positive\n",
      "a hotel that would have the same big bright comfy room like the palace and also some real hotel service. {'neg': 0.0, 'neu': 0.769, 'pos': 0.231, 'compound': 0.6597} positive\n",
      "this is unacceptable from a supposed \"above average\" hotel. {'neg': 0.273, 'neu': 0.727, 'pos': 0.0, 'compound': -0.4588} negative\n",
      "i've been 10 days at the hotel, and in that time nobody ever asked me anything, or even pay attention to me, usually when you stay that long in the same hotel you start getting some \"relationship\" with the staff... not here. {'neg': 0.033, 'neu': 0.967, 'pos': 0.0, 'compound': -0.1027} negative\n",
      "you could hear the next door occupant raising or lowering their blinds as if they were in the same room. {'neg': 0.095, 'neu': 0.905, 'pos': 0.0, 'compound': -0.25} negative\n",
      "in total, 5 of my colleagues stayed in the same hotel over the course of a week for meetings we were having nearby. {'neg': 0.0, 'neu': 1.0, 'pos': 0.0, 'compound': 0.0} neutral\n",
      " i guess this was an average hotel. {'neg': 0.0, 'neu': 1.0, 'pos': 0.0, 'compound': 0.0} neutral\n",
      "Total positif: 11\n",
      "Total negatif: 9\n",
      "Total neutral: 10\n"
     ]
    }
   ],
   "source": [
    "positive_count = 0\n",
    "negative_count = 0\n",
    "neutral_count = 0\n",
    "wordsust3 = [\"nightly\", \"strong\", \"same\", \"inclusive\", \"acceptable\", \"nuts\", \"considered\", \"surprising\", \"increased\", \"fair\", \"reasonable\", \"bonnie\", \"average\", \"mediocre\", \"honest\"]\n",
    "excluded_sentences = [\"when you walk into the courtyard from the street, you feel like you've been transported to a different place & time.\"]\n",
    "for review in df['content']:\n",
    "  doc = nlp(review)\n",
    "  for token in doc:\n",
    "    if token.text in wordsust3:\n",
    "        if token.pos_ == \"ADJ\":\n",
    "            if token.head.text == \"hotel\" or token.head.text == \"property\" or token.head.text == \"place\" or token.head.text == \"palace\" or token.head.text == \"lotte\" or token.head.text == \"decorations\" or token.head.text == \"exterior\" or token.head.text == \"interior\" or token.head.text == \"gym\" or token.head.text == \"architecture\" or token.head.text == \"room\" or token.head.text == \"bedroom\" or token.head.text == \"bed\" or token.head.text == \"windows\" or token.head.text == \"toiletries\" or token.head.text == \"bathroom\" or token.head.text == \"mattress\" or token.head.text == \"furniture\" or token.head.text == \"rooftop\" or token.head.text == \"guestrooms\" or token.head.text == \"staff\" or token.head.text == \"doormen\" or token.head.text == \"bellmen\" or token.head.text == \"concierge\" or token.head.text == \"members\" or token.head.text == \"employees\" or token.head.text == \"bartenders\" or token.head.text == \"bellman\" or token.head.text == \"doorman\" or token.head.text == \"captain\" or token.head.text == \"maids\" or token.head.text == \"housekeeping\":\n",
    "                if token.sent.text not in excluded_sentences:\n",
    "            # Calculate the sentiment scores for the sentence\n",
    "                    scores = analyzer.polarity_scores(token.sent.text)\n",
    "                    if scores['compound'] > 0:\n",
    "                        sentiment = 'positive'\n",
    "                        positive_count += 1\n",
    "                    elif scores['compound'] < 0:\n",
    "                        sentiment = 'negative'\n",
    "                        negative_count += 1\n",
    "                    else:\n",
    "                        sentiment = 'neutral'\n",
    "                        neutral_count += 1\n",
    "            # Print the sentiment scores for the sentence\n",
    "                    print((token.sent.text), (scores), (sentiment))\n",
    "print(f\"Total positif: {positive_count}\")\n",
    "print(f\"Total negatif: {negative_count}\")\n",
    "print(f\"Total neutral: {neutral_count}\")"
   ]
  },
  {
   "cell_type": "code",
   "execution_count": 53,
   "id": "e676800c",
   "metadata": {},
   "outputs": [
    {
     "name": "stdout",
     "output_type": "stream",
     "text": [
      "then an asian lady brought us a key that was to the same room we were trying to get out of. {'neg': 0.0, 'neu': 1.0, 'pos': 0.0, 'compound': 0.0} neutral\n",
      "my normal 10 day trip was now 15 days and i was a little nervous...how would i feel about being “stuck” in the same hotel for more than 2 weeks. {'neg': 0.0, 'neu': 1.0, 'pos': 0.0, 'compound': 0.0} neutral\n",
      "the front desk attendant gave us the same room at a great rate. {'neg': 0.0, 'neu': 0.745, 'pos': 0.255, 'compound': 0.6249} positive\n",
      "i wanted to make sure she had no issues staying in the same room and also not haggled for payment when cc was in my name. {'neg': 0.077, 'neu': 0.842, 'pos': 0.081, 'compound': 0.0258} positive\n",
      "new room - same moldy bathroom smell 5. {'neg': 0.0, 'neu': 1.0, 'pos': 0.0, 'compound': 0.0} neutral\n",
      "when we extended our stay for a third night, miles made it possible for us to stay in the same room and avoid any disruption to our already packed schedule. {'neg': 0.144, 'neu': 0.856, 'pos': 0.0, 'compound': -0.5719} negative\n",
      "i realized after we arrived that i did not book the same room that i booked the last time. {'neg': 0.0, 'neu': 1.0, 'pos': 0.0, 'compound': 0.0} neutral\n",
      "we moved up to the 29th floor to the same room, a brief apology was given but we were made to feel that we were more of a hindrance to the hotel for complaining and no real apology was given, no explanation on how the room was allowed to be in that condition. {'neg': 0.212, 'neu': 0.77, 'pos': 0.018, 'compound': -0.8972} negative\n",
      "we miss the restaurant was at this hotel gilt close few year ago in the same place now the servings only breakfast {'neg': 0.071, 'neu': 0.929, 'pos': 0.0, 'compound': -0.1531} negative\n",
      "i had a room with an adjoining door for another room and the neighbours had a party and we could hear everything as if in the same room by 12:30 am my kids needed to sleep and security took care of it super fast! {'neg': 0.0, 'neu': 0.762, 'pos': 0.238, 'compound': 0.9098} positive\n",
      " staff not concerned about breaking promises. {'neg': 0.0, 'neu': 0.658, 'pos': 0.342, 'compound': 0.3818} positive\n",
      "courtney came to my rescue when the blizzard on the east end of long island necessitated my staying an additional night (yay) and i was able to stay in the same room. {'neg': 0.0, 'neu': 0.817, 'pos': 0.183, 'compound': 0.7717} positive\n",
      "so last year we stayed in the same room as we did our first year, located in the towers, because again we wanted to keep up with the tradition. {'neg': 0.0, 'neu': 1.0, 'pos': 0.0, 'compound': 0.0} neutral\n",
      "i have stayed in hotels for over 100 nights this year and never has a hotel charged me to store bags in between stays at the same hotel. {'neg': 0.062, 'neu': 0.938, 'pos': 0.0, 'compound': -0.2023} negative\n",
      " i've seen many of the same staff over the 18 years and i appreciate that they see new faces every day, but i have yet to be offered a welcoming and warm greeting \"oh hello sir, so nice to see you back\". {'neg': 0.0, 'neu': 0.693, 'pos': 0.307, 'compound': 0.9466} positive\n",
      "a hotel that would have the same big bright comfy room like the palace and also some real hotel service. {'neg': 0.0, 'neu': 0.769, 'pos': 0.231, 'compound': 0.6597} positive\n",
      "i've been 10 days at the hotel, and in that time nobody ever asked me anything, or even pay attention to me, usually when you stay that long in the same hotel you start getting some \"relationship\" with the staff... not here. {'neg': 0.033, 'neu': 0.967, 'pos': 0.0, 'compound': -0.1027} negative\n",
      "you could hear the next door occupant raising or lowering their blinds as if they were in the same room. {'neg': 0.095, 'neu': 0.905, 'pos': 0.0, 'compound': -0.25} negative\n",
      "in total, 5 of my colleagues stayed in the same hotel over the course of a week for meetings we were having nearby. {'neg': 0.0, 'neu': 1.0, 'pos': 0.0, 'compound': 0.0} neutral\n",
      "it was actually the same minimum room price that expedia was offering, but the hotel website offered a guaranteed upgrade (“elevate your stay” deal) to a skyline view room, which turned out to be worthwhile. {'neg': 0.0, 'neu': 0.916, 'pos': 0.084, 'compound': 0.4767} positive\n",
      "Total positif: 8\n",
      "Total negatif: 6\n",
      "Total neutral: 6\n"
     ]
    }
   ],
   "source": [
    "positive_count = 0\n",
    "negative_count = 0\n",
    "neutral_count = 0\n",
    "wordsust4 = [\"same\", \"seasonal\", \"angry\", \"minimum\", \"longer\", \"considered\", \"concerned\", \"cut\", \"needless\", \"significant\", \"aware\", \"mindful\"]\n",
    "excluded_sentences = [\"when you walk into the courtyard from the street, you feel like you've been transported to a different place & time.\"]\n",
    "for review in df['content']:\n",
    "  doc = nlp(review)\n",
    "  for token in doc:\n",
    "    if token.text in wordsust4: \n",
    "        if token.pos_ == \"ADJ\":\n",
    "            if token.head.text == \"hotel\" or token.head.text == \"property\" or token.head.text == \"place\" or token.head.text == \"palace\" or token.head.text == \"lotte\" or token.head.text == \"decorations\" or token.head.text == \"exterior\" or token.head.text == \"interior\" or token.head.text == \"gym\" or token.head.text == \"architecture\" or token.head.text == \"room\" or token.head.text == \"bedroom\" or token.head.text == \"bed\" or token.head.text == \"windows\" or token.head.text == \"toiletries\" or token.head.text == \"bathroom\" or token.head.text == \"mattress\" or token.head.text == \"furniture\" or token.head.text == \"rooftop\" or token.head.text == \"guestrooms\" or token.head.text == \"staff\" or token.head.text == \"doormen\" or token.head.text == \"bellmen\" or token.head.text == \"concierge\" or token.head.text == \"members\" or token.head.text == \"employees\" or token.head.text == \"bartenders\" or token.head.text == \"bellman\" or token.head.text == \"doorman\" or token.head.text == \"captain\" or token.head.text == \"maids\" or token.head.text == \"housekeeping\":\n",
    "                if token.sent.text not in excluded_sentences:\n",
    "            # Calculate the sentiment scores for the sentence\n",
    "                    scores = analyzer.polarity_scores(token.sent.text)\n",
    "                    if scores['compound'] > 0:\n",
    "                        sentiment = 'positive'\n",
    "                        positive_count += 1\n",
    "                    elif scores['compound'] < 0:\n",
    "                        sentiment = 'negative'\n",
    "                        negative_count += 1\n",
    "                    else:\n",
    "                        sentiment = 'neutral'\n",
    "                        neutral_count += 1\n",
    "            # Print the sentiment scores for the sentence\n",
    "                    print((token.sent.text), (scores), (sentiment))\n",
    "print(f\"Total positif: {positive_count}\")\n",
    "print(f\"Total negatif: {negative_count}\")\n",
    "print(f\"Total neutral: {neutral_count}\")"
   ]
  },
  {
   "cell_type": "code",
   "execution_count": 24,
   "id": "8173dab2",
   "metadata": {},
   "outputs": [
    {
     "name": "stdout",
     "output_type": "stream",
     "text": [
      "the views from our big, bright beautiful room were amazing and it was such a peaceful and super comfortable place to return to after the buzz!! {'neg': 0.0, 'neu': 0.481, 'pos': 0.519, 'compound': 0.9705} positive\n",
      "the fabulous coffee, a perfect blueberry no-jito, and lovely libations would have been enough to bring us back but nicola and melissa made us feel as though we were dining among old friends in this magnificently opulent gold room. {'neg': 0.0, 'neu': 0.664, 'pos': 0.336, 'compound': 0.9531} positive\n",
      "we were in town for a large conference and the experience we had at the palace made a huge difference for us, after exhausting days at the javits, we came back to the most peaceful, comfortable room and an incredibly warm, caring, and obliging staff. {'neg': 0.044, 'neu': 0.69, 'pos': 0.266, 'compound': 0.9108} positive\n",
      "very impressive hotel, gorgeous xmas decorations. {'neg': 0.0, 'neu': 0.337, 'pos': 0.663, 'compound': 0.8341} positive\n",
      "views over the cathedral and superb, the architecture of the main hotel is super, very impressive, staff very friendly. {'neg': 0.0, 'neu': 0.499, 'pos': 0.501, 'compound': 0.944} positive\n",
      "great view of st patricks cathedral beautiful classy hotel  in the heart of the greatest city in the world  we had a wonderful time treated like a king and a queen would definitely go back  first class operation dignitaries there at the time we were there {'neg': 0.0, 'neu': 0.554, 'pos': 0.446, 'compound': 0.9831} positive\n",
      "this is a classy and discreet hotel that will meet all your needs in the city. {'neg': 0.0, 'neu': 0.838, 'pos': 0.162, 'compound': 0.4404} positive\n",
      " the only problem i have with the hotel is the charge for wifi in such a hotel, we were called before we checked out to say any use was comped but @ $100 for 5 days we didn’t bother, i don’t understand why a classy hotel would feel like it needs to charge for guest wifi. {'neg': 0.077, 'neu': 0.812, 'pos': 0.111, 'compound': 0.4854} positive\n",
      "great location, impressive hotel with inner beauty and a photographer's dream in entry and courtyard. {'neg': 0.0, 'neu': 0.455, 'pos': 0.545, 'compound': 0.9217} positive\n",
      " this is a fairly common category of hotel: a formerly grand, opulent hotel that is trading off past reputation and seeking to revenue maximise with limited investment. {'neg': 0.064, 'neu': 0.836, 'pos': 0.1, 'compound': 0.2732} positive\n",
      "finally, i find it utterly ridiculous for such a classy hotel to charge for wi-fi and especially per day. {'neg': 0.123, 'neu': 0.749, 'pos': 0.128, 'compound': 0.0276} positive\n",
      "a really stylish well run hotel and the location cannot be faulted especially if, like us, you were visiting for st patricks day. {'neg': 0.0, 'neu': 0.735, 'pos': 0.265, 'compound': 0.7346} positive\n",
      "our window shade also stopped working at some point it got stuck all the way down and we couldn't have a fab room w/ a view but really no view.. {'neg': 0.234, 'neu': 0.766, 'pos': 0.0, 'compound': -0.7122} negative\n",
      "great clean tidy room , awesome room service and fabulous little cafe. {'neg': 0.0, 'neu': 0.359, 'pos': 0.641, 'compound': 0.936} positive\n",
      "very impressive hotel, classical style and big rooms with comfortable beds and quality linen. {'neg': 0.0, 'neu': 0.635, 'pos': 0.365, 'compound': 0.7841} positive\n",
      "also, formerly there were tables set at the foot of the stairs, ideal for sitting and having a drink and nibble while admiring the tasteful interior decorations. {'neg': 0.0, 'neu': 0.806, 'pos': 0.194, 'compound': 0.7184} positive\n",
      "each time we'd leave to be out and about, upon our return we were greeted with a tidy room with fresh toiletries and linens. {'neg': 0.045, 'neu': 0.789, 'pos': 0.165, 'compound': 0.4939} positive\n",
      "beautiful, classy hotel with a little bit of history. {'neg': 0.0, 'neu': 0.507, 'pos': 0.493, 'compound': 0.7783} positive\n",
      "the hotel is a classy place with spacious rooms and lovely sitting areas and all the facilities you would expect from a five star, including the prices. {'neg': 0.0, 'neu': 0.789, 'pos': 0.211, 'compound': 0.7717} positive\n",
      "my girlfriend and i recently stayed at the new york palace and it was classy, extravagant and overall a beautiful hotel. {'neg': 0.0, 'neu': 0.736, 'pos': 0.264, 'compound': 0.7783} positive\n",
      "oddly enough, i actually prefer the rooms that haven't yet been fully updated with all of the shiny new furniture, but i suppose it's just because i have a soft spot for \"that era\" of nyc and it allows me to pretend i'm living in it as i luxuriate in the bathrobe and slippers they provide and swath myself in the lovely molton brown products from the bathroom and stare out the window at the midtown skyline. {'neg': 0.02, 'neu': 0.917, 'pos': 0.064, 'compound': 0.6808} positive\n",
      "if you want the best location in the city ( madison and 50th st), just behind the incredible 5th avenue shops and in front of st patrick's cathedral, if you wand a classy room, if you want nice staff who will be very helpfull, if you want to be like a \" gossip girl\" during your stay in new york, just go to the new york palace!!!! {'neg': 0.022, 'neu': 0.755, 'pos': 0.223, 'compound': 0.9296} positive\n",
      "Total positif: 21\n",
      "Total negatif: 1\n",
      "Total neutral: 0\n"
     ]
    }
   ],
   "source": [
    "positive_count = 0\n",
    "negative_count = 0\n",
    "neutral_count = 0\n",
    "wordsust5 = [\"fab\", \"classy\", \"sumptuous\", \"stylish\", \"tidy\", \"tasteful\", \"inviting\", \"opulent\", \"shiny\", \"impressive\", \"peaceful\"]\n",
    "excluded_sentences = [\"we had a great time staying here - the hotel has a lovely courtyard that is a really peaceful and comfortable place to relax and unwind after a busy day.\"]\n",
    "for review in df['content']:\n",
    "  doc = nlp(review)\n",
    "  for token in doc:\n",
    "    if token.text in wordsust5:\n",
    "        if token.pos_ == \"ADJ\":\n",
    "            if token.head.text == \"hotel\" or token.head.text == \"property\" or token.head.text == \"place\" or token.head.text == \"palace\" or token.head.text == \"lotte\" or token.head.text == \"decorations\" or token.head.text == \"exterior\" or token.head.text == \"interior\" or token.head.text == \"gym\" or token.head.text == \"architecture\" or token.head.text == \"room\" or token.head.text == \"bedroom\" or token.head.text == \"bed\" or token.head.text == \"windows\" or token.head.text == \"toiletries\" or token.head.text == \"bathroom\" or token.head.text == \"mattress\" or token.head.text == \"furniture\" or token.head.text == \"rooftop\" or token.head.text == \"guestrooms\" or token.head.text == \"staff\" or token.head.text == \"doormen\" or token.head.text == \"bellmen\" or token.head.text == \"concierge\" or token.head.text == \"members\" or token.head.text == \"employees\" or token.head.text == \"bartenders\" or token.head.text == \"bellman\" or token.head.text == \"doorman\" or token.head.text == \"captain\" or token.head.text == \"maids\" or token.head.text == \"housekeeping\":\n",
    "                if token.sent.text not in excluded_sentences:\n",
    "            # Calculate the sentiment scores for the sentence\n",
    "                    scores = analyzer.polarity_scores(token.sent.text)\n",
    "                    if scores['compound'] > 0:\n",
    "                        sentiment = 'positive'\n",
    "                        positive_count += 1\n",
    "                    elif scores['compound'] < 0:\n",
    "                        sentiment = 'negative'\n",
    "                        negative_count += 1\n",
    "                    else:\n",
    "                        sentiment = 'neutral'\n",
    "                        neutral_count += 1\n",
    "            # Print the sentiment scores for the sentence\n",
    "                    print((token.sent.text), (scores), (sentiment))\n",
    "print(f\"Total positif: {positive_count}\")\n",
    "print(f\"Total negatif: {negative_count}\")\n",
    "print(f\"Total neutral: {neutral_count}\")"
   ]
  },
  {
   "cell_type": "code",
   "execution_count": 29,
   "id": "6fee0539",
   "metadata": {},
   "outputs": [
    {
     "data": {
      "image/png": "[encoded data removed]",
      "text/plain": [
       "<Figure size 432x288 with 1 Axes>"
      ]
     },
     "metadata": {
      "needs_background": "light"
     },
     "output_type": "display_data"
    }
   ],
   "source": [
    "# Set the labels and values for the bar chart\n",
    "labels = ['Positive', 'Neutral', 'Negative']\n",
    "values = [121, 33, 19]\n",
    "\n",
    "# Create the bar chart\n",
    "plt.bar(labels, values)\n",
    "plt.title(\"Sentiment Analysis of Sustainability Dimension\")\n",
    "plt.xlabel(\"Sentiment\")\n",
    "plt.ylabel(\"Number of Reviews\")\n",
    "\n",
    "# Show the bar chart\n",
    "plt.show()"
   ]
  },
  {
   "cell_type": "markdown",
   "id": "4d1b2599",
   "metadata": {},
   "source": [
    "# Frekuensi Rekapan Seluruh Dimensi"
   ]
  },
  {
   "cell_type": "code",
   "execution_count": 30,
   "id": "26b47816",
   "metadata": {},
   "outputs": [
    {
     "data": {
      "image/png": "[encoded data removed]",
      "text/plain": [
       "<Figure size 720x360 with 1 Axes>"
      ]
     },
     "metadata": {
      "needs_background": "light"
     },
     "output_type": "display_data"
    }
   ],
   "source": [
    "plt.figure(figsize=(10, 5))\n",
    "\n",
    "# Set the labels and values for the bar chart\n",
    "labels = ['Sincerity', 'Excitement', 'Competence', 'Sophistication', 'Ruggedness', 'Sustainability']\n",
    "values = [130, 45, 18, 131, 25, 121]\n",
    "\n",
    "# Create the bar chart\n",
    "plt.bar(labels, values)\n",
    "plt.title(\"Positive Sentiment Analysis of All Dimension\")\n",
    "plt.xlabel(\"Sentiment\")\n",
    "plt.ylabel(\"Number of Reviews\")\n",
    "\n",
    "# Show the bar chart\n",
    "plt.show()"
   ]
  },
  {
   "cell_type": "code",
   "execution_count": 60,
   "id": "ba35adae",
   "metadata": {},
   "outputs": [
    {
     "data": {
      "image/png": "[encoded data removed]",
      "text/plain": [
       "<Figure size 720x360 with 1 Axes>"
      ]
     },
     "metadata": {
      "needs_background": "light"
     },
     "output_type": "display_data"
    }
   ],
   "source": [
    "plt.figure(figsize=(10, 5))\n",
    "\n",
    "# Set the labels and values for the bar chart\n",
    "labels = ['Sincerity', 'Excitement', 'Competence', 'Sophistication', 'Ruggedness', 'Sustainability']\n",
    "values = [14, 9, 16, 10, 7, 36]\n",
    "\n",
    "# Create the bar chart\n",
    "plt.bar(labels, values)\n",
    "plt.title(\"Negative Sentiment Analysis of All Dimension\")\n",
    "plt.xlabel(\"Sentiment\")\n",
    "plt.ylabel(\"Number of Reviews\")\n",
    "\n",
    "# Show the bar chart\n",
    "plt.show()"
   ]
  },
  {
   "cell_type": "code",
   "execution_count": null,
   "id": "5826ecb1",
   "metadata": {},
   "outputs": [],
   "source": [
    "plt.figure(figsize=(10, 5))\n",
    "\n",
    "# Set the labels and values for the bar chart\n",
    "labels = ['Sincerity', 'Excitement', 'Competence', 'Sophistication', 'Ruggedness', 'Sustainability']\n",
    "values = [10897, 4826, 3729, 2624, 1967, 2646]\n",
    "\n",
    "# Create the bar chart\n",
    "plt.bar(labels, values)\n",
    "plt.title(\"Negative Sentiment Analysis of All Dimension\")\n",
    "plt.xlabel(\"Sentiment\")\n",
    "plt.ylabel(\"Number of Reviews\")\n",
    "\n",
    "# Show the bar chart\n",
    "plt.show()"
   ]
  },
  {
   "cell_type": "code",
   "execution_count": 61,
   "id": "d766be82",
   "metadata": {},
   "outputs": [
    {
     "data": {
      "image/png": "[encoded data removed]",
      "text/plain": [
       "<Figure size 720x360 with 1 Axes>"
      ]
     },
     "metadata": {
      "needs_background": "light"
     },
     "output_type": "display_data"
    }
   ],
   "source": [
    "plt.figure(figsize=(10, 5))\n",
    "\n",
    "# Set the labels and values for the bar chart\n",
    "labels = ['Sincerity', 'Excitement', 'Competence', 'Sophistication', 'Ruggedness', 'Sustainability']\n",
    "values = [20, 30, 2, 19, 2, 52]\n",
    "\n",
    "# Create the bar chart\n",
    "plt.bar(labels, values)\n",
    "plt.title(\"Neutral Sentiment Analysis of All Dimension\")\n",
    "plt.xlabel(\"Sentiment\")\n",
    "plt.ylabel(\"Number of Reviews\")\n",
    "\n",
    "# Show the bar chart\n",
    "plt.show()"
   ]
  },
  {
   "cell_type": "code",
   "execution_count": null,
   "id": "ddbb6f22",
   "metadata": {},
   "outputs": [],
   "source": []
  }
 ],
 "metadata": {
  "kernelspec": {
   "display_name": "Python 3 (ipykernel)",
   "language": "python",
   "name": "python3"
  },
  "language_info": {
   "codemirror_mode": {
    "name": "ipython",
    "version": 3
   },
   "file_extension": ".py",
   "mimetype": "text/x-python",
   "name": "python",
   "nbconvert_exporter": "python",
   "pygments_lexer": "ipython3",
   "version": "3.9.12"
  }
 },
 "nbformat": 4,
 "nbformat_minor": 5
}
